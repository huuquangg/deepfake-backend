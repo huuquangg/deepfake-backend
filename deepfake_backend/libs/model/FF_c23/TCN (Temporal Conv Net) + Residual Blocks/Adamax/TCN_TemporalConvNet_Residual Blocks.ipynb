{
 "cells": [
  {
   "cell_type": "code",
   "execution_count": 1,
   "id": "ecb6a351",
   "metadata": {},
   "outputs": [],
   "source": [
    "# %pip install -r /home/huuquangdang/huu.quang.dang/thesis/deepfake/deepfake_backend/libs/model/CelebV2/requirements.txt\n",
    "\n",
    "# # Step 1: Uninstall incompatible NumPy version\n",
    "# %pip uninstall numpy -y\n",
    "# # Step 2: Install compatible NumPy version (< 2.0.0)\n",
    "# %pip install \"numpy>=1.21.0,<2.0.0\"\n",
    "# # Step 3: Verify NumPy version\n",
    "# import numpy as np\n",
    "# print(f\"✅ NumPy version: {np.__version__}\")\n",
    "# print(f\"Expected: < 2.0.0 (you should see 1.x.x)\")"
   ]
  },
  {
   "cell_type": "code",
   "execution_count": 2,
   "id": "149fd0c1",
   "metadata": {
    "ExecuteTime": {
     "end_time": "2025-08-13T09:44:38.582738Z",
     "start_time": "2025-08-13T09:44:38.568745Z"
    }
   },
   "outputs": [
    {
     "name": "stderr",
     "output_type": "stream",
     "text": [
      "2025-10-18 22:36:28.814417: I tensorflow/core/util/port.cc:111] oneDNN custom operations are on. You may see slightly different numerical results due to floating-point round-off errors from different computation orders. To turn them off, set the environment variable `TF_ENABLE_ONEDNN_OPTS=0`.\n",
      "2025-10-18 22:36:28.858731: I tensorflow/tsl/cuda/cudart_stub.cc:28] Could not find cuda drivers on your machine, GPU will not be used.\n",
      "2025-10-18 22:36:29.219094: E tensorflow/compiler/xla/stream_executor/cuda/cuda_dnn.cc:9342] Unable to register cuDNN factory: Attempting to register factory for plugin cuDNN when one has already been registered\n",
      "2025-10-18 22:36:29.219142: E tensorflow/compiler/xla/stream_executor/cuda/cuda_fft.cc:609] Unable to register cuFFT factory: Attempting to register factory for plugin cuFFT when one has already been registered\n",
      "2025-10-18 22:36:29.220477: E tensorflow/compiler/xla/stream_executor/cuda/cuda_blas.cc:1518] Unable to register cuBLAS factory: Attempting to register factory for plugin cuBLAS when one has already been registered\n",
      "2025-10-18 22:36:29.448037: I tensorflow/tsl/cuda/cudart_stub.cc:28] Could not find cuda drivers on your machine, GPU will not be used.\n",
      "2025-10-18 22:36:29.450475: I tensorflow/core/platform/cpu_feature_guard.cc:182] This TensorFlow binary is optimized to use available CPU instructions in performance-critical operations.\n",
      "To enable the following instructions: AVX2 AVX_VNNI FMA, in other operations, rebuild TensorFlow with the appropriate compiler flags.\n",
      "2025-10-18 22:36:30.180497: W tensorflow/compiler/tf2tensorrt/utils/py_utils.cc:38] TF-TRT Warning: Could not find TensorRT\n"
     ]
    }
   ],
   "source": [
    "# Built-in\n",
    "import os\n",
    "import cv2\n",
    "import numpy as np\n",
    "import pandas as pd\n",
    "import matplotlib.pyplot as plt\n",
    "\n",
    "# TensorFlow / Keras\n",
    "import tensorflow as tf\n",
    "from tensorflow.keras.models import Model\n",
    "from tensorflow.keras.layers import (\n",
    "    Input, TimeDistributed, GlobalAveragePooling2D, LSTM, Dense, Dropout\n",
    ")\n",
    "from tensorflow.keras.applications import MobileNetV2\n",
    "from tensorflow.keras.optimizers.legacy import Adam\n",
    "from tensorflow.keras.callbacks import EarlyStopping, ModelCheckpoint, ReduceLROnPlateau\n",
    "from tensorflow.keras.preprocessing.image import ImageDataGenerator\n",
    "\n",
    "# Scikit-learn\n",
    "from sklearn.model_selection import StratifiedKFold, train_test_split\n",
    "from sklearn.metrics import (\n",
    "    accuracy_score, precision_score, recall_score, f1_score, roc_auc_score\n",
    ")"
   ]
  },
  {
   "cell_type": "code",
   "execution_count": 3,
   "id": "46ecf6429cdc7d99",
   "metadata": {
    "ExecuteTime": {
     "end_time": "2025-06-16T15:06:51.462172Z",
     "start_time": "2025-06-16T15:06:51.281795Z"
    }
   },
   "outputs": [],
   "source": [
    "# Define the path to the dataset\n",
    "base_path = '/home/huuquangdang/huu.quang.dang/thesis/Dataset/celeb_df_crop'\n",
    "categories = ['fake', 'real']\n",
    "\n",
    "# Initialize a list to hold data\n",
    "data = []\n",
    "\n",
    "# Process each category\n",
    "for category in categories:\n",
    "    category_path = os.path.join(base_path, category)\n",
    "    for filename in os.listdir(category_path):\n",
    "        if filename.endswith('.jpg'):\n",
    "            try:\n",
    "                id_part, frame_part = filename.split('_frame_')\n",
    "                id_ = id_part.split('_')[0]\n",
    "                frame = frame_part.split('.')[0]\n",
    "                data.append({\n",
    "                    'filename': filename,\n",
    "                    'path': os.path.join(category_path, filename),\n",
    "                    'id': int(id_),\n",
    "                    'frame': int(frame),\n",
    "                    'label': category\n",
    "                })\n",
    "            except ValueError:\n",
    "                continue\n",
    "\n",
    "# Convert the data to a DataFrame\n",
    "df = pd.DataFrame(data)"
   ]
  },
  {
   "cell_type": "code",
   "execution_count": 4,
   "id": "fc17e5b3",
   "metadata": {
    "ExecuteTime": {
     "end_time": "2025-06-16T15:06:53.591689Z",
     "start_time": "2025-06-16T15:06:53.575495Z"
    }
   },
   "outputs": [
    {
     "data": {
      "text/html": [
       "<div>\n",
       "<style scoped>\n",
       "    .dataframe tbody tr th:only-of-type {\n",
       "        vertical-align: middle;\n",
       "    }\n",
       "\n",
       "    .dataframe tbody tr th {\n",
       "        vertical-align: top;\n",
       "    }\n",
       "\n",
       "    .dataframe thead th {\n",
       "        text-align: right;\n",
       "    }\n",
       "</style>\n",
       "<table border=\"1\" class=\"dataframe\">\n",
       "  <thead>\n",
       "    <tr style=\"text-align: right;\">\n",
       "      <th></th>\n",
       "      <th>filename</th>\n",
       "      <th>path</th>\n",
       "      <th>id</th>\n",
       "      <th>frame</th>\n",
       "      <th>label</th>\n",
       "      <th>label_id</th>\n",
       "    </tr>\n",
       "  </thead>\n",
       "  <tbody>\n",
       "    <tr>\n",
       "      <th>0</th>\n",
       "      <td>264_id37_0009_frame_0001.jpg</td>\n",
       "      <td>/home/huuquangdang/huu.quang.dang/thesis/Datas...</td>\n",
       "      <td>264</td>\n",
       "      <td>1</td>\n",
       "      <td>fake</td>\n",
       "      <td>0</td>\n",
       "    </tr>\n",
       "    <tr>\n",
       "      <th>1</th>\n",
       "      <td>271_id38_0006_frame_0014.jpg</td>\n",
       "      <td>/home/huuquangdang/huu.quang.dang/thesis/Datas...</td>\n",
       "      <td>271</td>\n",
       "      <td>14</td>\n",
       "      <td>fake</td>\n",
       "      <td>0</td>\n",
       "    </tr>\n",
       "    <tr>\n",
       "      <th>2</th>\n",
       "      <td>015_id10_0006_frame_0027.jpg</td>\n",
       "      <td>/home/huuquangdang/huu.quang.dang/thesis/Datas...</td>\n",
       "      <td>15</td>\n",
       "      <td>27</td>\n",
       "      <td>fake</td>\n",
       "      <td>0</td>\n",
       "    </tr>\n",
       "    <tr>\n",
       "      <th>3</th>\n",
       "      <td>392_id4_0007_frame_0028.jpg</td>\n",
       "      <td>/home/huuquangdang/huu.quang.dang/thesis/Datas...</td>\n",
       "      <td>392</td>\n",
       "      <td>28</td>\n",
       "      <td>fake</td>\n",
       "      <td>0</td>\n",
       "    </tr>\n",
       "    <tr>\n",
       "      <th>4</th>\n",
       "      <td>029_id11_0010_frame_0004.jpg</td>\n",
       "      <td>/home/huuquangdang/huu.quang.dang/thesis/Datas...</td>\n",
       "      <td>29</td>\n",
       "      <td>4</td>\n",
       "      <td>fake</td>\n",
       "      <td>0</td>\n",
       "    </tr>\n",
       "    <tr>\n",
       "      <th>...</th>\n",
       "      <td>...</td>\n",
       "      <td>...</td>\n",
       "      <td>...</td>\n",
       "      <td>...</td>\n",
       "      <td>...</td>\n",
       "      <td>...</td>\n",
       "    </tr>\n",
       "    <tr>\n",
       "      <th>32367</th>\n",
       "      <td>475_id58_0004_frame_0012.jpg</td>\n",
       "      <td>/home/huuquangdang/huu.quang.dang/thesis/Datas...</td>\n",
       "      <td>475</td>\n",
       "      <td>12</td>\n",
       "      <td>real</td>\n",
       "      <td>1</td>\n",
       "    </tr>\n",
       "    <tr>\n",
       "      <th>32368</th>\n",
       "      <td>014_id10_0005_frame_0012.jpg</td>\n",
       "      <td>/home/huuquangdang/huu.quang.dang/thesis/Datas...</td>\n",
       "      <td>14</td>\n",
       "      <td>12</td>\n",
       "      <td>real</td>\n",
       "      <td>1</td>\n",
       "    </tr>\n",
       "    <tr>\n",
       "      <th>32369</th>\n",
       "      <td>365_id48_0000_frame_0023.jpg</td>\n",
       "      <td>/home/huuquangdang/huu.quang.dang/thesis/Datas...</td>\n",
       "      <td>365</td>\n",
       "      <td>23</td>\n",
       "      <td>real</td>\n",
       "      <td>1</td>\n",
       "    </tr>\n",
       "    <tr>\n",
       "      <th>32370</th>\n",
       "      <td>091_id20_0000_frame_0026.jpg</td>\n",
       "      <td>/home/huuquangdang/huu.quang.dang/thesis/Datas...</td>\n",
       "      <td>91</td>\n",
       "      <td>26</td>\n",
       "      <td>real</td>\n",
       "      <td>1</td>\n",
       "    </tr>\n",
       "    <tr>\n",
       "      <th>32371</th>\n",
       "      <td>356_id47_0001_frame_0019.jpg</td>\n",
       "      <td>/home/huuquangdang/huu.quang.dang/thesis/Datas...</td>\n",
       "      <td>356</td>\n",
       "      <td>19</td>\n",
       "      <td>real</td>\n",
       "      <td>1</td>\n",
       "    </tr>\n",
       "  </tbody>\n",
       "</table>\n",
       "<p>32372 rows × 6 columns</p>\n",
       "</div>"
      ],
      "text/plain": [
       "                           filename  \\\n",
       "0      264_id37_0009_frame_0001.jpg   \n",
       "1      271_id38_0006_frame_0014.jpg   \n",
       "2      015_id10_0006_frame_0027.jpg   \n",
       "3       392_id4_0007_frame_0028.jpg   \n",
       "4      029_id11_0010_frame_0004.jpg   \n",
       "...                             ...   \n",
       "32367  475_id58_0004_frame_0012.jpg   \n",
       "32368  014_id10_0005_frame_0012.jpg   \n",
       "32369  365_id48_0000_frame_0023.jpg   \n",
       "32370  091_id20_0000_frame_0026.jpg   \n",
       "32371  356_id47_0001_frame_0019.jpg   \n",
       "\n",
       "                                                    path   id  frame label  \\\n",
       "0      /home/huuquangdang/huu.quang.dang/thesis/Datas...  264      1  fake   \n",
       "1      /home/huuquangdang/huu.quang.dang/thesis/Datas...  271     14  fake   \n",
       "2      /home/huuquangdang/huu.quang.dang/thesis/Datas...   15     27  fake   \n",
       "3      /home/huuquangdang/huu.quang.dang/thesis/Datas...  392     28  fake   \n",
       "4      /home/huuquangdang/huu.quang.dang/thesis/Datas...   29      4  fake   \n",
       "...                                                  ...  ...    ...   ...   \n",
       "32367  /home/huuquangdang/huu.quang.dang/thesis/Datas...  475     12  real   \n",
       "32368  /home/huuquangdang/huu.quang.dang/thesis/Datas...   14     12  real   \n",
       "32369  /home/huuquangdang/huu.quang.dang/thesis/Datas...  365     23  real   \n",
       "32370  /home/huuquangdang/huu.quang.dang/thesis/Datas...   91     26  real   \n",
       "32371  /home/huuquangdang/huu.quang.dang/thesis/Datas...  356     19  real   \n",
       "\n",
       "       label_id  \n",
       "0             0  \n",
       "1             0  \n",
       "2             0  \n",
       "3             0  \n",
       "4             0  \n",
       "...         ...  \n",
       "32367         1  \n",
       "32368         1  \n",
       "32369         1  \n",
       "32370         1  \n",
       "32371         1  \n",
       "\n",
       "[32372 rows x 6 columns]"
      ]
     },
     "execution_count": 4,
     "metadata": {},
     "output_type": "execute_result"
    }
   ],
   "source": [
    "# Đảm bảo đã có df_cropped.csv chứa đường dẫn ảnh đã crop\n",
    "df['label_id'] = df['label'].map({'fake': 0, 'real': 1})\n",
    "df\n"
   ]
  },
  {
   "cell_type": "code",
   "execution_count": 5,
   "id": "c24e6874-6fe8-4dff-9f0d-5c7d94337ca7",
   "metadata": {
    "ExecuteTime": {
     "end_time": "2025-06-16T15:06:56.671685Z",
     "start_time": "2025-06-16T15:06:55.874053Z"
    }
   },
   "outputs": [],
   "source": [
    "df['video_key'] = df['id'].astype(str) + \"_\" + df['label']\n",
    "\n",
    "from collections import defaultdict\n",
    "\n",
    "video_dict = defaultdict(list)\n",
    "labels = {}\n",
    "\n",
    "for _, row in df.iterrows():\n",
    "    key = row['video_key']\n",
    "    video_dict[key].append(row['path'])\n",
    "    labels[key] = row['label_id']\n"
   ]
  },
  {
   "cell_type": "code",
   "execution_count": 6,
   "id": "fc8891d0-4a1f-4bcd-97f2-0b9577706cb5",
   "metadata": {
    "ExecuteTime": {
     "end_time": "2025-06-16T06:50:19.887250Z",
     "start_time": "2025-06-16T06:50:19.279020Z"
    }
   },
   "outputs": [],
   "source": [
    "# !pip install opencv-python"
   ]
  },
  {
   "cell_type": "code",
   "execution_count": 7,
   "id": "016d786b",
   "metadata": {},
   "outputs": [
    {
     "name": "stdout",
     "output_type": "stream",
     "text": [
      "📂 Loading pre-extracted OpenFace features from CSV files...\n",
      "✅ Loaded 16223 feature vectors\n",
      "✅ Each vector has 674 dimensions\n",
      "✅ Feature dictionary ready for 1-to-1 frame mapping\n"
     ]
    }
   ],
   "source": [
    "# Load pre-extracted CSV features for feature fusion\n",
    "print(\"📂 Loading pre-extracted OpenFace features from CSV files...\")\n",
    "csv_fake_path = '/home/huuquangdang/huu.quang.dang/thesis/deepfake/deepfake_backend/libs/tools/fake/op_vectors_fake_v1.csv'\n",
    "csv_real_path = '/home/huuquangdang/huu.quang.dang/thesis/deepfake/deepfake_backend/libs/tools/real/op_vectors_real_v1.csv'\n",
    "\n",
    "df_fake_features = pd.read_csv(csv_fake_path, header=None)\n",
    "df_real_features = pd.read_csv(csv_real_path, header=None)\n",
    "\n",
    "# Combine both dataframes\n",
    "df_all_features = pd.concat([df_fake_features, df_real_features], ignore_index=True)\n",
    "df_all_features.columns = ['filename'] + [f'feat_{i}' for i in range(df_all_features.shape[1] - 1)]\n",
    "\n",
    "# Create a dictionary for fast lookup: filename -> features\n",
    "openface_features = {}\n",
    "for _, row in df_all_features.iterrows():\n",
    "    filename = row['filename']\n",
    "    features = row.iloc[1:].values.astype('float32')\n",
    "    openface_features[filename] = features\n",
    "\n",
    "csv_feature_dim = len(features)\n",
    "print(f\"✅ Loaded {len(openface_features)} feature vectors\")\n",
    "print(f\"✅ Each vector has {csv_feature_dim} dimensions\")\n",
    "print(f\"✅ Feature dictionary ready for 1-to-1 frame mapping\")"
   ]
  },
  {
   "cell_type": "markdown",
   "id": "8dfba17a",
   "metadata": {},
   "source": [
    "# 🔬 Model: TCN (Temporal Conv Net) + Residual Blocks + KAN\n",
    "\n",
    "This cell implements **TCN (dilated 1D CNN) with Residual Blocks** for sequence modeling, while maintaining:\n",
    "\n",
    "- ✅ Same function names (`VideoSequence`, `build_model`, `hmm_postprocess`)\n",
    "\n",
    "- ✅ Same 1-to-1 feature fusion (MobileNet + CSV)\n",
    "\n",
    "- ✅ Same normalization strategy\n",
    "\n",
    "- ✅ Enhanced with TCN and Residual Blocks"
   ]
  },
  {
   "cell_type": "code",
   "execution_count": 8,
   "id": "c93d1567",
   "metadata": {},
   "outputs": [
    {
     "name": "stdout",
     "output_type": "stream",
     "text": [
      "🔧 Computing CSV feature statistics for normalization...\n",
      "✅ CSV feature normalization fitted on 10840 samples\n",
      "\n",
      "🚀 Starting TCN + Residual Blocks Training (NO KAN):\n",
      "   ✅ TCN (dilated 1D CNN, residual blocks)\n",
      "   ✅ Normalized CSV features (1-to-1 mapping)\n",
      "   ✅ MobileNet (last 20 layers trainable)\n",
      "   ✅ HMM post-processing\n",
      "\n",
      "\n",
      "============================================================\n",
      "📊 Fold 1/5 - TCN_Residual\n",
      "============================================================\n",
      "\n",
      "📈 Model Architecture:\n",
      "   - Model: TCN + Residual Blocks (NO KAN)\n",
      "   - Total params: 3,623,881\n",
      "   - Trainable params: 2,568,069\n",
      "   - TCN: 4 blocks, dilations 1/2/4/8\n",
      "   - Learning rate: 3e-4\n",
      "Epoch 1/50\n",
      "25/25 [==============================] - ETA: 0s - loss: 0.7882 - accuracy: 0.5782\n",
      "Epoch 1: val_accuracy improved from -inf to 0.56322, saving model to best_model_fold1_tcn_res.h5\n",
      "25/25 [==============================] - 88s 3s/step - loss: 0.7882 - accuracy: 0.5782 - val_loss: 0.6772 - val_accuracy: 0.5632 - lr: 3.0000e-04\n",
      "Epoch 2/50\n"
     ]
    },
    {
     "name": "stderr",
     "output_type": "stream",
     "text": [
      "/home/huuquangdang/.local/lib/python3.10/site-packages/keras/src/engine/training.py:3079: UserWarning: You are saving your model as an HDF5 file via `model.save()`. This file format is considered legacy. We recommend using instead the native Keras format, e.g. `model.save('my_model.keras')`.\n",
      "  saving_api.save_model(\n"
     ]
    },
    {
     "name": "stdout",
     "output_type": "stream",
     "text": [
      "25/25 [==============================] - ETA: 0s - loss: 0.6342 - accuracy: 0.6705\n",
      "Epoch 2: val_accuracy improved from 0.56322 to 0.67816, saving model to best_model_fold1_tcn_res.h5\n",
      "25/25 [==============================] - 77s 3s/step - loss: 0.6342 - accuracy: 0.6705 - val_loss: 0.6142 - val_accuracy: 0.6782 - lr: 3.0000e-04\n",
      "Epoch 3/50\n"
     ]
    },
    {
     "name": "stderr",
     "output_type": "stream",
     "text": [
      "/home/huuquangdang/.local/lib/python3.10/site-packages/keras/src/engine/training.py:3079: UserWarning: You are saving your model as an HDF5 file via `model.save()`. This file format is considered legacy. We recommend using instead the native Keras format, e.g. `model.save('my_model.keras')`.\n",
      "  saving_api.save_model(\n"
     ]
    },
    {
     "name": "stdout",
     "output_type": "stream",
     "text": [
      "25/25 [==============================] - ETA: 0s - loss: 0.4975 - accuracy: 0.7615\n",
      "Epoch 3: val_accuracy did not improve from 0.67816\n",
      "25/25 [==============================] - 78s 3s/step - loss: 0.4975 - accuracy: 0.7615 - val_loss: 0.7298 - val_accuracy: 0.5747 - lr: 3.0000e-04\n",
      "Epoch 4/50\n",
      "25/25 [==============================] - ETA: 0s - loss: 0.4231 - accuracy: 0.7962\n",
      "Epoch 4: val_accuracy did not improve from 0.67816\n",
      "25/25 [==============================] - 78s 3s/step - loss: 0.4231 - accuracy: 0.7962 - val_loss: 0.9655 - val_accuracy: 0.5517 - lr: 3.0000e-04\n",
      "Epoch 5/50\n",
      "25/25 [==============================] - ETA: 0s - loss: 0.3272 - accuracy: 0.8590\n",
      "Epoch 5: val_accuracy did not improve from 0.67816\n",
      "\n",
      "Epoch 5: ReduceLROnPlateau reducing learning rate to 0.0001500000071246177.\n",
      "25/25 [==============================] - 78s 3s/step - loss: 0.3272 - accuracy: 0.8590 - val_loss: 1.1611 - val_accuracy: 0.5632 - lr: 3.0000e-04\n",
      "Epoch 6/50\n",
      "25/25 [==============================] - ETA: 0s - loss: 0.2721 - accuracy: 0.8859\n",
      "Epoch 6: val_accuracy did not improve from 0.67816\n",
      "25/25 [==============================] - 78s 3s/step - loss: 0.2721 - accuracy: 0.8859 - val_loss: 1.2397 - val_accuracy: 0.6207 - lr: 1.5000e-04\n",
      "Epoch 7/50\n",
      "25/25 [==============================] - ETA: 0s - loss: 0.2397 - accuracy: 0.9090\n",
      "Epoch 7: val_accuracy did not improve from 0.67816\n",
      "25/25 [==============================] - 78s 3s/step - loss: 0.2397 - accuracy: 0.9090 - val_loss: 1.5877 - val_accuracy: 0.6207 - lr: 1.5000e-04\n",
      "7/7 [==============================] - 9s 1s/step\n",
      "\n",
      "✅ Fold 1 Results (TCN_Residual):\n",
      "   Accuracy:  0.9724\n",
      "   Precision: 0.9811\n",
      "   Recall:    0.9630\n",
      "   F1 Score:  0.9720\n",
      "   AUC:       0.7647\n",
      "\n",
      "============================================================\n",
      "📊 Fold 2/5 - TCN_Residual\n",
      "============================================================\n",
      "\n",
      "📈 Model Architecture:\n",
      "   - Model: TCN + Residual Blocks (NO KAN)\n",
      "   - Total params: 3,623,881\n",
      "   - Trainable params: 2,568,069\n",
      "   - TCN: 4 blocks, dilations 1/2/4/8\n",
      "   - Learning rate: 3e-4\n",
      "Epoch 1/50\n",
      "25/25 [==============================] - ETA: 0s - loss: 1.1113 - accuracy: 0.5256\n",
      "Epoch 1: val_accuracy improved from -inf to 0.49425, saving model to best_model_fold2_tcn_res.h5\n",
      "25/25 [==============================] - 82s 3s/step - loss: 1.1113 - accuracy: 0.5256 - val_loss: 0.7385 - val_accuracy: 0.4943 - lr: 3.0000e-04\n",
      "Epoch 2/50\n"
     ]
    },
    {
     "name": "stderr",
     "output_type": "stream",
     "text": [
      "/home/huuquangdang/.local/lib/python3.10/site-packages/keras/src/engine/training.py:3079: UserWarning: You are saving your model as an HDF5 file via `model.save()`. This file format is considered legacy. We recommend using instead the native Keras format, e.g. `model.save('my_model.keras')`.\n",
      "  saving_api.save_model(\n"
     ]
    },
    {
     "name": "stdout",
     "output_type": "stream",
     "text": [
      "25/25 [==============================] - ETA: 0s - loss: 0.6336 - accuracy: 0.6705\n",
      "Epoch 2: val_accuracy did not improve from 0.49425\n",
      "25/25 [==============================] - 78s 3s/step - loss: 0.6336 - accuracy: 0.6705 - val_loss: 0.8662 - val_accuracy: 0.4943 - lr: 3.0000e-04\n",
      "Epoch 3/50\n",
      "25/25 [==============================] - ETA: 0s - loss: 0.5308 - accuracy: 0.7359\n",
      "Epoch 3: val_accuracy improved from 0.49425 to 0.51724, saving model to best_model_fold2_tcn_res.h5\n",
      "25/25 [==============================] - 78s 3s/step - loss: 0.5308 - accuracy: 0.7359 - val_loss: 1.0837 - val_accuracy: 0.5172 - lr: 3.0000e-04\n",
      "Epoch 4/50\n"
     ]
    },
    {
     "name": "stderr",
     "output_type": "stream",
     "text": [
      "/home/huuquangdang/.local/lib/python3.10/site-packages/keras/src/engine/training.py:3079: UserWarning: You are saving your model as an HDF5 file via `model.save()`. This file format is considered legacy. We recommend using instead the native Keras format, e.g. `model.save('my_model.keras')`.\n",
      "  saving_api.save_model(\n"
     ]
    },
    {
     "name": "stdout",
     "output_type": "stream",
     "text": [
      "25/25 [==============================] - ETA: 0s - loss: 0.4565 - accuracy: 0.7846\n",
      "Epoch 4: val_accuracy did not improve from 0.51724\n",
      "\n",
      "Epoch 4: ReduceLROnPlateau reducing learning rate to 0.0001500000071246177.\n",
      "25/25 [==============================] - 79s 3s/step - loss: 0.4565 - accuracy: 0.7846 - val_loss: 1.5505 - val_accuracy: 0.5057 - lr: 3.0000e-04\n",
      "Epoch 5/50\n",
      "25/25 [==============================] - ETA: 0s - loss: 0.4001 - accuracy: 0.8179\n",
      "Epoch 5: val_accuracy did not improve from 0.51724\n",
      "25/25 [==============================] - 78s 3s/step - loss: 0.4001 - accuracy: 0.8179 - val_loss: 1.7062 - val_accuracy: 0.5172 - lr: 1.5000e-04\n",
      "Epoch 6/50\n",
      "25/25 [==============================] - ETA: 0s - loss: 0.3520 - accuracy: 0.8333\n",
      "Epoch 6: val_accuracy did not improve from 0.51724\n",
      "25/25 [==============================] - 78s 3s/step - loss: 0.3520 - accuracy: 0.8333 - val_loss: 1.6796 - val_accuracy: 0.5172 - lr: 1.5000e-04\n",
      "Epoch 7/50\n",
      "25/25 [==============================] - ETA: 0s - loss: 0.3188 - accuracy: 0.8667\n",
      "Epoch 7: val_accuracy improved from 0.51724 to 0.54023, saving model to best_model_fold2_tcn_res.h5\n",
      "\n",
      "Epoch 7: ReduceLROnPlateau reducing learning rate to 7.500000356230885e-05.\n",
      "25/25 [==============================] - 78s 3s/step - loss: 0.3188 - accuracy: 0.8667 - val_loss: 1.6650 - val_accuracy: 0.5402 - lr: 1.5000e-04\n",
      "Epoch 8/50\n"
     ]
    },
    {
     "name": "stderr",
     "output_type": "stream",
     "text": [
      "/home/huuquangdang/.local/lib/python3.10/site-packages/keras/src/engine/training.py:3079: UserWarning: You are saving your model as an HDF5 file via `model.save()`. This file format is considered legacy. We recommend using instead the native Keras format, e.g. `model.save('my_model.keras')`.\n",
      "  saving_api.save_model(\n"
     ]
    },
    {
     "name": "stdout",
     "output_type": "stream",
     "text": [
      "25/25 [==============================] - ETA: 0s - loss: 0.2837 - accuracy: 0.8833\n",
      "Epoch 8: val_accuracy improved from 0.54023 to 0.55172, saving model to best_model_fold2_tcn_res.h5\n",
      "25/25 [==============================] - 78s 3s/step - loss: 0.2837 - accuracy: 0.8833 - val_loss: 1.5079 - val_accuracy: 0.5517 - lr: 7.5000e-05\n",
      "Epoch 9/50\n"
     ]
    },
    {
     "name": "stderr",
     "output_type": "stream",
     "text": [
      "/home/huuquangdang/.local/lib/python3.10/site-packages/keras/src/engine/training.py:3079: UserWarning: You are saving your model as an HDF5 file via `model.save()`. This file format is considered legacy. We recommend using instead the native Keras format, e.g. `model.save('my_model.keras')`.\n",
      "  saving_api.save_model(\n"
     ]
    },
    {
     "name": "stdout",
     "output_type": "stream",
     "text": [
      "25/25 [==============================] - ETA: 0s - loss: 0.2748 - accuracy: 0.8795\n",
      "Epoch 9: val_accuracy did not improve from 0.55172\n",
      "25/25 [==============================] - 78s 3s/step - loss: 0.2748 - accuracy: 0.8795 - val_loss: 1.5553 - val_accuracy: 0.5517 - lr: 7.5000e-05\n",
      "Epoch 10/50\n",
      "25/25 [==============================] - ETA: 0s - loss: 0.2722 - accuracy: 0.8795\n",
      "Epoch 10: val_accuracy improved from 0.55172 to 0.58621, saving model to best_model_fold2_tcn_res.h5\n",
      "\n",
      "Epoch 10: ReduceLROnPlateau reducing learning rate to 3.7500001781154424e-05.\n",
      "25/25 [==============================] - 78s 3s/step - loss: 0.2722 - accuracy: 0.8795 - val_loss: 1.5293 - val_accuracy: 0.5862 - lr: 7.5000e-05\n",
      "Epoch 11/50\n"
     ]
    },
    {
     "name": "stderr",
     "output_type": "stream",
     "text": [
      "/home/huuquangdang/.local/lib/python3.10/site-packages/keras/src/engine/training.py:3079: UserWarning: You are saving your model as an HDF5 file via `model.save()`. This file format is considered legacy. We recommend using instead the native Keras format, e.g. `model.save('my_model.keras')`.\n",
      "  saving_api.save_model(\n"
     ]
    },
    {
     "name": "stdout",
     "output_type": "stream",
     "text": [
      "25/25 [==============================] - ETA: 0s - loss: 0.2398 - accuracy: 0.9128\n",
      "Epoch 11: val_accuracy did not improve from 0.58621\n",
      "25/25 [==============================] - 78s 3s/step - loss: 0.2398 - accuracy: 0.9128 - val_loss: 1.5408 - val_accuracy: 0.5862 - lr: 3.7500e-05\n",
      "Epoch 12/50\n",
      "25/25 [==============================] - ETA: 0s - loss: 0.2496 - accuracy: 0.8962\n",
      "Epoch 12: val_accuracy improved from 0.58621 to 0.59770, saving model to best_model_fold2_tcn_res.h5\n",
      "25/25 [==============================] - 78s 3s/step - loss: 0.2496 - accuracy: 0.8962 - val_loss: 1.4611 - val_accuracy: 0.5977 - lr: 3.7500e-05\n",
      "Epoch 13/50\n"
     ]
    },
    {
     "name": "stderr",
     "output_type": "stream",
     "text": [
      "/home/huuquangdang/.local/lib/python3.10/site-packages/keras/src/engine/training.py:3079: UserWarning: You are saving your model as an HDF5 file via `model.save()`. This file format is considered legacy. We recommend using instead the native Keras format, e.g. `model.save('my_model.keras')`.\n",
      "  saving_api.save_model(\n"
     ]
    },
    {
     "name": "stdout",
     "output_type": "stream",
     "text": [
      "25/25 [==============================] - ETA: 0s - loss: 0.2369 - accuracy: 0.8974\n",
      "Epoch 13: val_accuracy did not improve from 0.59770\n",
      "\n",
      "Epoch 13: ReduceLROnPlateau reducing learning rate to 1.8750000890577212e-05.\n",
      "25/25 [==============================] - 78s 3s/step - loss: 0.2369 - accuracy: 0.8974 - val_loss: 1.3740 - val_accuracy: 0.5977 - lr: 3.7500e-05\n",
      "Epoch 14/50\n",
      "25/25 [==============================] - ETA: 0s - loss: 0.2307 - accuracy: 0.9064\n",
      "Epoch 14: val_accuracy improved from 0.59770 to 0.63218, saving model to best_model_fold2_tcn_res.h5\n",
      "25/25 [==============================] - 78s 3s/step - loss: 0.2307 - accuracy: 0.9064 - val_loss: 1.2916 - val_accuracy: 0.6322 - lr: 1.8750e-05\n",
      "Epoch 15/50\n"
     ]
    },
    {
     "name": "stderr",
     "output_type": "stream",
     "text": [
      "/home/huuquangdang/.local/lib/python3.10/site-packages/keras/src/engine/training.py:3079: UserWarning: You are saving your model as an HDF5 file via `model.save()`. This file format is considered legacy. We recommend using instead the native Keras format, e.g. `model.save('my_model.keras')`.\n",
      "  saving_api.save_model(\n"
     ]
    },
    {
     "name": "stdout",
     "output_type": "stream",
     "text": [
      "25/25 [==============================] - ETA: 0s - loss: 0.2294 - accuracy: 0.9077\n",
      "Epoch 15: val_accuracy improved from 0.63218 to 0.66667, saving model to best_model_fold2_tcn_res.h5\n",
      "25/25 [==============================] - 78s 3s/step - loss: 0.2294 - accuracy: 0.9077 - val_loss: 1.2489 - val_accuracy: 0.6667 - lr: 1.8750e-05\n",
      "Epoch 16/50\n"
     ]
    },
    {
     "name": "stderr",
     "output_type": "stream",
     "text": [
      "/home/huuquangdang/.local/lib/python3.10/site-packages/keras/src/engine/training.py:3079: UserWarning: You are saving your model as an HDF5 file via `model.save()`. This file format is considered legacy. We recommend using instead the native Keras format, e.g. `model.save('my_model.keras')`.\n",
      "  saving_api.save_model(\n"
     ]
    },
    {
     "name": "stdout",
     "output_type": "stream",
     "text": [
      "25/25 [==============================] - ETA: 0s - loss: 0.2289 - accuracy: 0.9013\n",
      "Epoch 16: val_accuracy improved from 0.66667 to 0.67816, saving model to best_model_fold2_tcn_res.h5\n",
      "\n",
      "Epoch 16: ReduceLROnPlateau reducing learning rate to 9.375000445288606e-06.\n",
      "25/25 [==============================] - 78s 3s/step - loss: 0.2289 - accuracy: 0.9013 - val_loss: 1.1934 - val_accuracy: 0.6782 - lr: 1.8750e-05\n",
      "Epoch 17/50\n"
     ]
    },
    {
     "name": "stderr",
     "output_type": "stream",
     "text": [
      "/home/huuquangdang/.local/lib/python3.10/site-packages/keras/src/engine/training.py:3079: UserWarning: You are saving your model as an HDF5 file via `model.save()`. This file format is considered legacy. We recommend using instead the native Keras format, e.g. `model.save('my_model.keras')`.\n",
      "  saving_api.save_model(\n"
     ]
    },
    {
     "name": "stdout",
     "output_type": "stream",
     "text": [
      "25/25 [==============================] - ETA: 0s - loss: 0.2170 - accuracy: 0.9218\n",
      "Epoch 17: val_accuracy did not improve from 0.67816\n",
      "25/25 [==============================] - 78s 3s/step - loss: 0.2170 - accuracy: 0.9218 - val_loss: 1.1477 - val_accuracy: 0.6782 - lr: 9.3750e-06\n",
      "Epoch 18/50\n",
      "25/25 [==============================] - ETA: 0s - loss: 0.2054 - accuracy: 0.9218\n",
      "Epoch 18: val_accuracy did not improve from 0.67816\n",
      "25/25 [==============================] - 78s 3s/step - loss: 0.2054 - accuracy: 0.9218 - val_loss: 1.1156 - val_accuracy: 0.6782 - lr: 9.3750e-06\n",
      "Epoch 19/50\n",
      "25/25 [==============================] - ETA: 0s - loss: 0.2154 - accuracy: 0.9115\n",
      "Epoch 19: val_accuracy improved from 0.67816 to 0.68966, saving model to best_model_fold2_tcn_res.h5\n",
      "\n",
      "Epoch 19: ReduceLROnPlateau reducing learning rate to 4.687500222644303e-06.\n",
      "25/25 [==============================] - 79s 3s/step - loss: 0.2154 - accuracy: 0.9115 - val_loss: 1.0735 - val_accuracy: 0.6897 - lr: 9.3750e-06\n",
      "Epoch 20/50\n"
     ]
    },
    {
     "name": "stderr",
     "output_type": "stream",
     "text": [
      "/home/huuquangdang/.local/lib/python3.10/site-packages/keras/src/engine/training.py:3079: UserWarning: You are saving your model as an HDF5 file via `model.save()`. This file format is considered legacy. We recommend using instead the native Keras format, e.g. `model.save('my_model.keras')`.\n",
      "  saving_api.save_model(\n"
     ]
    },
    {
     "name": "stdout",
     "output_type": "stream",
     "text": [
      "25/25 [==============================] - ETA: 0s - loss: 0.2204 - accuracy: 0.9038\n",
      "Epoch 20: val_accuracy did not improve from 0.68966\n",
      "25/25 [==============================] - 78s 3s/step - loss: 0.2204 - accuracy: 0.9038 - val_loss: 1.0397 - val_accuracy: 0.6897 - lr: 4.6875e-06\n",
      "Epoch 21/50\n",
      "25/25 [==============================] - ETA: 0s - loss: 0.2053 - accuracy: 0.9167\n",
      "Epoch 21: val_accuracy did not improve from 0.68966\n",
      "25/25 [==============================] - 78s 3s/step - loss: 0.2053 - accuracy: 0.9167 - val_loss: 1.0109 - val_accuracy: 0.6897 - lr: 4.6875e-06\n",
      "Epoch 22/50\n",
      "25/25 [==============================] - ETA: 0s - loss: 0.2090 - accuracy: 0.9218\n",
      "Epoch 22: val_accuracy improved from 0.68966 to 0.70115, saving model to best_model_fold2_tcn_res.h5\n",
      "\n",
      "Epoch 22: ReduceLROnPlateau reducing learning rate to 2.3437501113221515e-06.\n",
      "25/25 [==============================] - 78s 3s/step - loss: 0.2090 - accuracy: 0.9218 - val_loss: 0.9815 - val_accuracy: 0.7011 - lr: 4.6875e-06\n",
      "Epoch 23/50\n"
     ]
    },
    {
     "name": "stderr",
     "output_type": "stream",
     "text": [
      "/home/huuquangdang/.local/lib/python3.10/site-packages/keras/src/engine/training.py:3079: UserWarning: You are saving your model as an HDF5 file via `model.save()`. This file format is considered legacy. We recommend using instead the native Keras format, e.g. `model.save('my_model.keras')`.\n",
      "  saving_api.save_model(\n"
     ]
    },
    {
     "name": "stdout",
     "output_type": "stream",
     "text": [
      "25/25 [==============================] - ETA: 0s - loss: 0.2104 - accuracy: 0.9154\n",
      "Epoch 23: val_accuracy improved from 0.70115 to 0.71264, saving model to best_model_fold2_tcn_res.h5\n",
      "25/25 [==============================] - 78s 3s/step - loss: 0.2104 - accuracy: 0.9154 - val_loss: 0.9579 - val_accuracy: 0.7126 - lr: 2.3438e-06\n",
      "Epoch 24/50\n"
     ]
    },
    {
     "name": "stderr",
     "output_type": "stream",
     "text": [
      "/home/huuquangdang/.local/lib/python3.10/site-packages/keras/src/engine/training.py:3079: UserWarning: You are saving your model as an HDF5 file via `model.save()`. This file format is considered legacy. We recommend using instead the native Keras format, e.g. `model.save('my_model.keras')`.\n",
      "  saving_api.save_model(\n"
     ]
    },
    {
     "name": "stdout",
     "output_type": "stream",
     "text": [
      "25/25 [==============================] - ETA: 0s - loss: 0.2135 - accuracy: 0.9167\n",
      "Epoch 24: val_accuracy did not improve from 0.71264\n",
      "25/25 [==============================] - 78s 3s/step - loss: 0.2135 - accuracy: 0.9167 - val_loss: 0.9314 - val_accuracy: 0.7126 - lr: 2.3438e-06\n",
      "Epoch 25/50\n",
      "25/25 [==============================] - ETA: 0s - loss: 0.2200 - accuracy: 0.9064\n",
      "Epoch 25: val_accuracy did not improve from 0.71264\n",
      "\n",
      "Epoch 25: ReduceLROnPlateau reducing learning rate to 1.1718750556610757e-06.\n",
      "25/25 [==============================] - 77s 3s/step - loss: 0.2200 - accuracy: 0.9064 - val_loss: 0.9047 - val_accuracy: 0.7126 - lr: 2.3438e-06\n",
      "Epoch 26/50\n",
      "25/25 [==============================] - ETA: 0s - loss: 0.2112 - accuracy: 0.9167\n",
      "Epoch 26: val_accuracy improved from 0.71264 to 0.72414, saving model to best_model_fold2_tcn_res.h5\n",
      "25/25 [==============================] - 78s 3s/step - loss: 0.2112 - accuracy: 0.9167 - val_loss: 0.8811 - val_accuracy: 0.7241 - lr: 1.1719e-06\n",
      "Epoch 27/50\n"
     ]
    },
    {
     "name": "stderr",
     "output_type": "stream",
     "text": [
      "/home/huuquangdang/.local/lib/python3.10/site-packages/keras/src/engine/training.py:3079: UserWarning: You are saving your model as an HDF5 file via `model.save()`. This file format is considered legacy. We recommend using instead the native Keras format, e.g. `model.save('my_model.keras')`.\n",
      "  saving_api.save_model(\n"
     ]
    },
    {
     "name": "stdout",
     "output_type": "stream",
     "text": [
      "25/25 [==============================] - ETA: 0s - loss: 0.2095 - accuracy: 0.9077\n",
      "Epoch 27: val_accuracy improved from 0.72414 to 0.73563, saving model to best_model_fold2_tcn_res.h5\n",
      "25/25 [==============================] - 78s 3s/step - loss: 0.2095 - accuracy: 0.9077 - val_loss: 0.8562 - val_accuracy: 0.7356 - lr: 1.1719e-06\n",
      "Epoch 28/50\n"
     ]
    },
    {
     "name": "stderr",
     "output_type": "stream",
     "text": [
      "/home/huuquangdang/.local/lib/python3.10/site-packages/keras/src/engine/training.py:3079: UserWarning: You are saving your model as an HDF5 file via `model.save()`. This file format is considered legacy. We recommend using instead the native Keras format, e.g. `model.save('my_model.keras')`.\n",
      "  saving_api.save_model(\n"
     ]
    },
    {
     "name": "stdout",
     "output_type": "stream",
     "text": [
      "25/25 [==============================] - ETA: 0s - loss: 0.1938 - accuracy: 0.9167\n",
      "Epoch 28: val_accuracy improved from 0.73563 to 0.74713, saving model to best_model_fold2_tcn_res.h5\n",
      "\n",
      "Epoch 28: ReduceLROnPlateau reducing learning rate to 1e-06.\n",
      "25/25 [==============================] - 78s 3s/step - loss: 0.1938 - accuracy: 0.9167 - val_loss: 0.8355 - val_accuracy: 0.7471 - lr: 1.1719e-06\n",
      "Epoch 29/50\n"
     ]
    },
    {
     "name": "stderr",
     "output_type": "stream",
     "text": [
      "/home/huuquangdang/.local/lib/python3.10/site-packages/keras/src/engine/training.py:3079: UserWarning: You are saving your model as an HDF5 file via `model.save()`. This file format is considered legacy. We recommend using instead the native Keras format, e.g. `model.save('my_model.keras')`.\n",
      "  saving_api.save_model(\n"
     ]
    },
    {
     "name": "stdout",
     "output_type": "stream",
     "text": [
      "25/25 [==============================] - ETA: 0s - loss: 0.2217 - accuracy: 0.9026\n",
      "Epoch 29: val_accuracy did not improve from 0.74713\n",
      "25/25 [==============================] - 78s 3s/step - loss: 0.2217 - accuracy: 0.9026 - val_loss: 0.8136 - val_accuracy: 0.7471 - lr: 1.0000e-06\n",
      "Epoch 30/50\n",
      "25/25 [==============================] - ETA: 0s - loss: 0.2183 - accuracy: 0.9141\n",
      "Epoch 30: val_accuracy improved from 0.74713 to 0.75862, saving model to best_model_fold2_tcn_res.h5\n",
      "25/25 [==============================] - 78s 3s/step - loss: 0.2183 - accuracy: 0.9141 - val_loss: 0.7937 - val_accuracy: 0.7586 - lr: 1.0000e-06\n",
      "Epoch 31/50\n"
     ]
    },
    {
     "name": "stderr",
     "output_type": "stream",
     "text": [
      "/home/huuquangdang/.local/lib/python3.10/site-packages/keras/src/engine/training.py:3079: UserWarning: You are saving your model as an HDF5 file via `model.save()`. This file format is considered legacy. We recommend using instead the native Keras format, e.g. `model.save('my_model.keras')`.\n",
      "  saving_api.save_model(\n"
     ]
    },
    {
     "name": "stdout",
     "output_type": "stream",
     "text": [
      "25/25 [==============================] - ETA: 0s - loss: 0.1833 - accuracy: 0.9256\n",
      "Epoch 31: val_accuracy did not improve from 0.75862\n",
      "25/25 [==============================] - 78s 3s/step - loss: 0.1833 - accuracy: 0.9256 - val_loss: 0.7755 - val_accuracy: 0.7586 - lr: 1.0000e-06\n",
      "Epoch 32/50\n",
      "25/25 [==============================] - ETA: 0s - loss: 0.2140 - accuracy: 0.9154\n",
      "Epoch 32: val_accuracy improved from 0.75862 to 0.78161, saving model to best_model_fold2_tcn_res.h5\n",
      "25/25 [==============================] - 78s 3s/step - loss: 0.2140 - accuracy: 0.9154 - val_loss: 0.7564 - val_accuracy: 0.7816 - lr: 1.0000e-06\n",
      "Epoch 33/50\n"
     ]
    },
    {
     "name": "stderr",
     "output_type": "stream",
     "text": [
      "/home/huuquangdang/.local/lib/python3.10/site-packages/keras/src/engine/training.py:3079: UserWarning: You are saving your model as an HDF5 file via `model.save()`. This file format is considered legacy. We recommend using instead the native Keras format, e.g. `model.save('my_model.keras')`.\n",
      "  saving_api.save_model(\n"
     ]
    },
    {
     "name": "stdout",
     "output_type": "stream",
     "text": [
      "25/25 [==============================] - ETA: 0s - loss: 0.1960 - accuracy: 0.9256\n",
      "Epoch 33: val_accuracy did not improve from 0.78161\n",
      "25/25 [==============================] - 78s 3s/step - loss: 0.1960 - accuracy: 0.9256 - val_loss: 0.7380 - val_accuracy: 0.7816 - lr: 1.0000e-06\n",
      "Epoch 34/50\n",
      "25/25 [==============================] - ETA: 0s - loss: 0.1936 - accuracy: 0.9282\n",
      "Epoch 34: val_accuracy did not improve from 0.78161\n",
      "25/25 [==============================] - 78s 3s/step - loss: 0.1936 - accuracy: 0.9282 - val_loss: 0.7218 - val_accuracy: 0.7701 - lr: 1.0000e-06\n",
      "Epoch 35/50\n",
      "25/25 [==============================] - ETA: 0s - loss: 0.2118 - accuracy: 0.9167\n",
      "Epoch 35: val_accuracy did not improve from 0.78161\n",
      "25/25 [==============================] - 78s 3s/step - loss: 0.2118 - accuracy: 0.9167 - val_loss: 0.7070 - val_accuracy: 0.7701 - lr: 1.0000e-06\n",
      "Epoch 36/50\n",
      "25/25 [==============================] - ETA: 0s - loss: 0.2010 - accuracy: 0.9231\n",
      "Epoch 36: val_accuracy did not improve from 0.78161\n",
      "25/25 [==============================] - 78s 3s/step - loss: 0.2010 - accuracy: 0.9231 - val_loss: 0.6933 - val_accuracy: 0.7701 - lr: 1.0000e-06\n",
      "Epoch 37/50\n",
      "25/25 [==============================] - ETA: 0s - loss: 0.2203 - accuracy: 0.9141\n",
      "Epoch 37: val_accuracy did not improve from 0.78161\n",
      "25/25 [==============================] - 78s 3s/step - loss: 0.2203 - accuracy: 0.9141 - val_loss: 0.6790 - val_accuracy: 0.7701 - lr: 1.0000e-06\n",
      "7/7 [==============================] - 9s 1s/step\n",
      "\n",
      "✅ Fold 2 Results (TCN_Residual):\n",
      "   Accuracy:  0.8433\n",
      "   Precision: 0.8627\n",
      "   Recall:    0.8148\n",
      "   F1 Score:  0.8381\n",
      "   AUC:       0.9117\n",
      "\n",
      "============================================================\n",
      "📊 Fold 3/5 - TCN_Residual\n",
      "============================================================\n",
      "\n",
      "📈 Model Architecture:\n",
      "   - Model: TCN + Residual Blocks (NO KAN)\n",
      "   - Total params: 3,623,881\n",
      "   - Trainable params: 2,568,069\n",
      "   - TCN: 4 blocks, dilations 1/2/4/8\n",
      "   - Learning rate: 3e-4\n",
      "Epoch 1/50\n",
      "25/25 [==============================] - ETA: 0s - loss: 0.9114 - accuracy: 0.5859\n",
      "Epoch 1: val_accuracy improved from -inf to 0.54023, saving model to best_model_fold3_tcn_res.h5\n",
      "25/25 [==============================] - 82s 3s/step - loss: 0.9114 - accuracy: 0.5859 - val_loss: 0.7325 - val_accuracy: 0.5402 - lr: 3.0000e-04\n",
      "Epoch 2/50\n"
     ]
    },
    {
     "name": "stderr",
     "output_type": "stream",
     "text": [
      "/home/huuquangdang/.local/lib/python3.10/site-packages/keras/src/engine/training.py:3079: UserWarning: You are saving your model as an HDF5 file via `model.save()`. This file format is considered legacy. We recommend using instead the native Keras format, e.g. `model.save('my_model.keras')`.\n",
      "  saving_api.save_model(\n"
     ]
    },
    {
     "name": "stdout",
     "output_type": "stream",
     "text": [
      "25/25 [==============================] - ETA: 0s - loss: 0.6605 - accuracy: 0.6897\n",
      "Epoch 2: val_accuracy improved from 0.54023 to 0.56322, saving model to best_model_fold3_tcn_res.h5\n",
      "25/25 [==============================] - 78s 3s/step - loss: 0.6605 - accuracy: 0.6897 - val_loss: 0.6705 - val_accuracy: 0.5632 - lr: 3.0000e-04\n",
      "Epoch 3/50\n"
     ]
    },
    {
     "name": "stderr",
     "output_type": "stream",
     "text": [
      "/home/huuquangdang/.local/lib/python3.10/site-packages/keras/src/engine/training.py:3079: UserWarning: You are saving your model as an HDF5 file via `model.save()`. This file format is considered legacy. We recommend using instead the native Keras format, e.g. `model.save('my_model.keras')`.\n",
      "  saving_api.save_model(\n"
     ]
    },
    {
     "name": "stdout",
     "output_type": "stream",
     "text": [
      "25/25 [==============================] - ETA: 0s - loss: 0.4856 - accuracy: 0.7603\n",
      "Epoch 3: val_accuracy improved from 0.56322 to 0.58621, saving model to best_model_fold3_tcn_res.h5\n",
      "25/25 [==============================] - 78s 3s/step - loss: 0.4856 - accuracy: 0.7603 - val_loss: 0.6768 - val_accuracy: 0.5862 - lr: 3.0000e-04\n",
      "Epoch 4/50\n"
     ]
    },
    {
     "name": "stderr",
     "output_type": "stream",
     "text": [
      "/home/huuquangdang/.local/lib/python3.10/site-packages/keras/src/engine/training.py:3079: UserWarning: You are saving your model as an HDF5 file via `model.save()`. This file format is considered legacy. We recommend using instead the native Keras format, e.g. `model.save('my_model.keras')`.\n",
      "  saving_api.save_model(\n"
     ]
    },
    {
     "name": "stdout",
     "output_type": "stream",
     "text": [
      "25/25 [==============================] - ETA: 0s - loss: 0.3935 - accuracy: 0.8141\n",
      "Epoch 4: val_accuracy did not improve from 0.58621\n",
      "25/25 [==============================] - 78s 3s/step - loss: 0.3935 - accuracy: 0.8141 - val_loss: 1.0679 - val_accuracy: 0.5172 - lr: 3.0000e-04\n",
      "Epoch 5/50\n",
      "25/25 [==============================] - ETA: 0s - loss: 0.3214 - accuracy: 0.8641\n",
      "Epoch 5: val_accuracy did not improve from 0.58621\n",
      "\n",
      "Epoch 5: ReduceLROnPlateau reducing learning rate to 0.0001500000071246177.\n",
      "25/25 [==============================] - 79s 3s/step - loss: 0.3214 - accuracy: 0.8641 - val_loss: 0.9220 - val_accuracy: 0.5747 - lr: 3.0000e-04\n",
      "Epoch 6/50\n",
      "25/25 [==============================] - ETA: 0s - loss: 0.2651 - accuracy: 0.8859\n",
      "Epoch 6: val_accuracy improved from 0.58621 to 0.60920, saving model to best_model_fold3_tcn_res.h5\n",
      "25/25 [==============================] - 79s 3s/step - loss: 0.2651 - accuracy: 0.8859 - val_loss: 0.8700 - val_accuracy: 0.6092 - lr: 1.5000e-04\n",
      "Epoch 7/50\n"
     ]
    },
    {
     "name": "stderr",
     "output_type": "stream",
     "text": [
      "/home/huuquangdang/.local/lib/python3.10/site-packages/keras/src/engine/training.py:3079: UserWarning: You are saving your model as an HDF5 file via `model.save()`. This file format is considered legacy. We recommend using instead the native Keras format, e.g. `model.save('my_model.keras')`.\n",
      "  saving_api.save_model(\n"
     ]
    },
    {
     "name": "stdout",
     "output_type": "stream",
     "text": [
      "25/25 [==============================] - ETA: 0s - loss: 0.2366 - accuracy: 0.8936\n",
      "Epoch 7: val_accuracy did not improve from 0.60920\n",
      "25/25 [==============================] - 79s 3s/step - loss: 0.2366 - accuracy: 0.8936 - val_loss: 1.0905 - val_accuracy: 0.5747 - lr: 1.5000e-04\n",
      "Epoch 8/50\n",
      "25/25 [==============================] - ETA: 0s - loss: 0.1952 - accuracy: 0.9141\n",
      "Epoch 8: val_accuracy did not improve from 0.60920\n",
      "\n",
      "Epoch 8: ReduceLROnPlateau reducing learning rate to 7.500000356230885e-05.\n",
      "25/25 [==============================] - 78s 3s/step - loss: 0.1952 - accuracy: 0.9141 - val_loss: 1.1810 - val_accuracy: 0.5862 - lr: 1.5000e-04\n",
      "Epoch 9/50\n",
      "25/25 [==============================] - ETA: 0s - loss: 0.1857 - accuracy: 0.9321\n",
      "Epoch 9: val_accuracy did not improve from 0.60920\n",
      "25/25 [==============================] - 78s 3s/step - loss: 0.1857 - accuracy: 0.9321 - val_loss: 1.1542 - val_accuracy: 0.5977 - lr: 7.5000e-05\n",
      "Epoch 10/50\n",
      "25/25 [==============================] - ETA: 0s - loss: 0.1555 - accuracy: 0.9500\n",
      "Epoch 10: val_accuracy improved from 0.60920 to 0.65517, saving model to best_model_fold3_tcn_res.h5\n",
      "25/25 [==============================] - 78s 3s/step - loss: 0.1555 - accuracy: 0.9500 - val_loss: 1.0502 - val_accuracy: 0.6552 - lr: 7.5000e-05\n",
      "Epoch 11/50\n"
     ]
    },
    {
     "name": "stderr",
     "output_type": "stream",
     "text": [
      "/home/huuquangdang/.local/lib/python3.10/site-packages/keras/src/engine/training.py:3079: UserWarning: You are saving your model as an HDF5 file via `model.save()`. This file format is considered legacy. We recommend using instead the native Keras format, e.g. `model.save('my_model.keras')`.\n",
      "  saving_api.save_model(\n"
     ]
    },
    {
     "name": "stdout",
     "output_type": "stream",
     "text": [
      "25/25 [==============================] - ETA: 0s - loss: 0.1242 - accuracy: 0.9487\n",
      "Epoch 11: val_accuracy did not improve from 0.65517\n",
      "\n",
      "Epoch 11: ReduceLROnPlateau reducing learning rate to 3.7500001781154424e-05.\n",
      "25/25 [==============================] - 78s 3s/step - loss: 0.1242 - accuracy: 0.9487 - val_loss: 1.1385 - val_accuracy: 0.6322 - lr: 7.5000e-05\n",
      "Epoch 12/50\n",
      "25/25 [==============================] - ETA: 0s - loss: 0.1384 - accuracy: 0.9487\n",
      "Epoch 12: val_accuracy did not improve from 0.65517\n",
      "25/25 [==============================] - 78s 3s/step - loss: 0.1384 - accuracy: 0.9487 - val_loss: 1.1395 - val_accuracy: 0.6322 - lr: 3.7500e-05\n",
      "Epoch 13/50\n",
      "25/25 [==============================] - ETA: 0s - loss: 0.1144 - accuracy: 0.9564\n",
      "Epoch 13: val_accuracy did not improve from 0.65517\n",
      "25/25 [==============================] - 78s 3s/step - loss: 0.1144 - accuracy: 0.9564 - val_loss: 1.1238 - val_accuracy: 0.6552 - lr: 3.7500e-05\n",
      "Epoch 14/50\n",
      "25/25 [==============================] - ETA: 0s - loss: 0.1414 - accuracy: 0.9500\n",
      "Epoch 14: val_accuracy improved from 0.65517 to 0.66667, saving model to best_model_fold3_tcn_res.h5\n",
      "\n",
      "Epoch 14: ReduceLROnPlateau reducing learning rate to 1.8750000890577212e-05.\n",
      "25/25 [==============================] - 77s 3s/step - loss: 0.1414 - accuracy: 0.9500 - val_loss: 1.1526 - val_accuracy: 0.6667 - lr: 3.7500e-05\n",
      "Epoch 15/50\n"
     ]
    },
    {
     "name": "stderr",
     "output_type": "stream",
     "text": [
      "/home/huuquangdang/.local/lib/python3.10/site-packages/keras/src/engine/training.py:3079: UserWarning: You are saving your model as an HDF5 file via `model.save()`. This file format is considered legacy. We recommend using instead the native Keras format, e.g. `model.save('my_model.keras')`.\n",
      "  saving_api.save_model(\n"
     ]
    },
    {
     "name": "stdout",
     "output_type": "stream",
     "text": [
      "25/25 [==============================] - ETA: 0s - loss: 0.1108 - accuracy: 0.9577\n",
      "Epoch 15: val_accuracy improved from 0.66667 to 0.67816, saving model to best_model_fold3_tcn_res.h5\n",
      "25/25 [==============================] - 78s 3s/step - loss: 0.1108 - accuracy: 0.9577 - val_loss: 1.0919 - val_accuracy: 0.6782 - lr: 1.8750e-05\n",
      "Epoch 16/50\n"
     ]
    },
    {
     "name": "stderr",
     "output_type": "stream",
     "text": [
      "/home/huuquangdang/.local/lib/python3.10/site-packages/keras/src/engine/training.py:3079: UserWarning: You are saving your model as an HDF5 file via `model.save()`. This file format is considered legacy. We recommend using instead the native Keras format, e.g. `model.save('my_model.keras')`.\n",
      "  saving_api.save_model(\n"
     ]
    },
    {
     "name": "stdout",
     "output_type": "stream",
     "text": [
      "25/25 [==============================] - ETA: 0s - loss: 0.1146 - accuracy: 0.9603\n",
      "Epoch 16: val_accuracy improved from 0.67816 to 0.71264, saving model to best_model_fold3_tcn_res.h5\n",
      "25/25 [==============================] - 78s 3s/step - loss: 0.1146 - accuracy: 0.9603 - val_loss: 1.0444 - val_accuracy: 0.7126 - lr: 1.8750e-05\n",
      "Epoch 17/50\n"
     ]
    },
    {
     "name": "stderr",
     "output_type": "stream",
     "text": [
      "/home/huuquangdang/.local/lib/python3.10/site-packages/keras/src/engine/training.py:3079: UserWarning: You are saving your model as an HDF5 file via `model.save()`. This file format is considered legacy. We recommend using instead the native Keras format, e.g. `model.save('my_model.keras')`.\n",
      "  saving_api.save_model(\n"
     ]
    },
    {
     "name": "stdout",
     "output_type": "stream",
     "text": [
      "25/25 [==============================] - ETA: 0s - loss: 0.1161 - accuracy: 0.9577\n",
      "Epoch 17: val_accuracy improved from 0.71264 to 0.72414, saving model to best_model_fold3_tcn_res.h5\n",
      "\n",
      "Epoch 17: ReduceLROnPlateau reducing learning rate to 9.375000445288606e-06.\n",
      "25/25 [==============================] - 78s 3s/step - loss: 0.1161 - accuracy: 0.9577 - val_loss: 0.9894 - val_accuracy: 0.7241 - lr: 1.8750e-05\n",
      "Epoch 18/50\n"
     ]
    },
    {
     "name": "stderr",
     "output_type": "stream",
     "text": [
      "/home/huuquangdang/.local/lib/python3.10/site-packages/keras/src/engine/training.py:3079: UserWarning: You are saving your model as an HDF5 file via `model.save()`. This file format is considered legacy. We recommend using instead the native Keras format, e.g. `model.save('my_model.keras')`.\n",
      "  saving_api.save_model(\n"
     ]
    },
    {
     "name": "stdout",
     "output_type": "stream",
     "text": [
      "25/25 [==============================] - ETA: 0s - loss: 0.1114 - accuracy: 0.9628\n",
      "Epoch 18: val_accuracy improved from 0.72414 to 0.73563, saving model to best_model_fold3_tcn_res.h5\n",
      "25/25 [==============================] - 78s 3s/step - loss: 0.1114 - accuracy: 0.9628 - val_loss: 0.9370 - val_accuracy: 0.7356 - lr: 9.3750e-06\n",
      "Epoch 19/50\n"
     ]
    },
    {
     "name": "stderr",
     "output_type": "stream",
     "text": [
      "/home/huuquangdang/.local/lib/python3.10/site-packages/keras/src/engine/training.py:3079: UserWarning: You are saving your model as an HDF5 file via `model.save()`. This file format is considered legacy. We recommend using instead the native Keras format, e.g. `model.save('my_model.keras')`.\n",
      "  saving_api.save_model(\n"
     ]
    },
    {
     "name": "stdout",
     "output_type": "stream",
     "text": [
      "25/25 [==============================] - ETA: 0s - loss: 0.1090 - accuracy: 0.9641\n",
      "Epoch 19: val_accuracy did not improve from 0.73563\n",
      "25/25 [==============================] - 78s 3s/step - loss: 0.1090 - accuracy: 0.9641 - val_loss: 0.8919 - val_accuracy: 0.7356 - lr: 9.3750e-06\n",
      "Epoch 20/50\n",
      "25/25 [==============================] - ETA: 0s - loss: 0.1048 - accuracy: 0.9590\n",
      "Epoch 20: val_accuracy did not improve from 0.73563\n",
      "\n",
      "Epoch 20: ReduceLROnPlateau reducing learning rate to 4.687500222644303e-06.\n",
      "25/25 [==============================] - 78s 3s/step - loss: 0.1048 - accuracy: 0.9590 - val_loss: 0.8676 - val_accuracy: 0.7356 - lr: 9.3750e-06\n",
      "Epoch 21/50\n",
      "25/25 [==============================] - ETA: 0s - loss: 0.1079 - accuracy: 0.9615\n",
      "Epoch 21: val_accuracy did not improve from 0.73563\n",
      "25/25 [==============================] - 78s 3s/step - loss: 0.1079 - accuracy: 0.9615 - val_loss: 0.8373 - val_accuracy: 0.7356 - lr: 4.6875e-06\n",
      "Epoch 22/50\n",
      "25/25 [==============================] - ETA: 0s - loss: 0.1124 - accuracy: 0.9590\n",
      "Epoch 22: val_accuracy improved from 0.73563 to 0.75862, saving model to best_model_fold3_tcn_res.h5\n",
      "25/25 [==============================] - 78s 3s/step - loss: 0.1124 - accuracy: 0.9590 - val_loss: 0.7928 - val_accuracy: 0.7586 - lr: 4.6875e-06\n",
      "Epoch 23/50\n"
     ]
    },
    {
     "name": "stderr",
     "output_type": "stream",
     "text": [
      "/home/huuquangdang/.local/lib/python3.10/site-packages/keras/src/engine/training.py:3079: UserWarning: You are saving your model as an HDF5 file via `model.save()`. This file format is considered legacy. We recommend using instead the native Keras format, e.g. `model.save('my_model.keras')`.\n",
      "  saving_api.save_model(\n"
     ]
    },
    {
     "name": "stdout",
     "output_type": "stream",
     "text": [
      "25/25 [==============================] - ETA: 0s - loss: 0.1221 - accuracy: 0.9538\n",
      "Epoch 23: val_accuracy did not improve from 0.75862\n",
      "\n",
      "Epoch 23: ReduceLROnPlateau reducing learning rate to 2.3437501113221515e-06.\n",
      "25/25 [==============================] - 78s 3s/step - loss: 0.1221 - accuracy: 0.9538 - val_loss: 0.7558 - val_accuracy: 0.7586 - lr: 4.6875e-06\n",
      "Epoch 24/50\n",
      "25/25 [==============================] - ETA: 0s - loss: 0.1231 - accuracy: 0.9551\n",
      "Epoch 24: val_accuracy improved from 0.75862 to 0.77011, saving model to best_model_fold3_tcn_res.h5\n",
      "25/25 [==============================] - 78s 3s/step - loss: 0.1231 - accuracy: 0.9551 - val_loss: 0.7225 - val_accuracy: 0.7701 - lr: 2.3438e-06\n",
      "Epoch 25/50\n"
     ]
    },
    {
     "name": "stderr",
     "output_type": "stream",
     "text": [
      "/home/huuquangdang/.local/lib/python3.10/site-packages/keras/src/engine/training.py:3079: UserWarning: You are saving your model as an HDF5 file via `model.save()`. This file format is considered legacy. We recommend using instead the native Keras format, e.g. `model.save('my_model.keras')`.\n",
      "  saving_api.save_model(\n"
     ]
    },
    {
     "name": "stdout",
     "output_type": "stream",
     "text": [
      "25/25 [==============================] - ETA: 0s - loss: 0.1049 - accuracy: 0.9692\n",
      "Epoch 25: val_accuracy did not improve from 0.77011\n",
      "25/25 [==============================] - 78s 3s/step - loss: 0.1049 - accuracy: 0.9692 - val_loss: 0.6910 - val_accuracy: 0.7701 - lr: 2.3438e-06\n",
      "Epoch 26/50\n",
      "25/25 [==============================] - ETA: 0s - loss: 0.1213 - accuracy: 0.9603\n",
      "Epoch 26: val_accuracy improved from 0.77011 to 0.79310, saving model to best_model_fold3_tcn_res.h5\n",
      "25/25 [==============================] - 78s 3s/step - loss: 0.1213 - accuracy: 0.9603 - val_loss: 0.6620 - val_accuracy: 0.7931 - lr: 2.3438e-06\n",
      "Epoch 27/50\n"
     ]
    },
    {
     "name": "stderr",
     "output_type": "stream",
     "text": [
      "/home/huuquangdang/.local/lib/python3.10/site-packages/keras/src/engine/training.py:3079: UserWarning: You are saving your model as an HDF5 file via `model.save()`. This file format is considered legacy. We recommend using instead the native Keras format, e.g. `model.save('my_model.keras')`.\n",
      "  saving_api.save_model(\n"
     ]
    },
    {
     "name": "stdout",
     "output_type": "stream",
     "text": [
      "25/25 [==============================] - ETA: 0s - loss: 0.1048 - accuracy: 0.9654\n",
      "Epoch 27: val_accuracy improved from 0.79310 to 0.81609, saving model to best_model_fold3_tcn_res.h5\n",
      "25/25 [==============================] - 78s 3s/step - loss: 0.1048 - accuracy: 0.9654 - val_loss: 0.6342 - val_accuracy: 0.8161 - lr: 2.3438e-06\n",
      "Epoch 28/50\n"
     ]
    },
    {
     "name": "stderr",
     "output_type": "stream",
     "text": [
      "/home/huuquangdang/.local/lib/python3.10/site-packages/keras/src/engine/training.py:3079: UserWarning: You are saving your model as an HDF5 file via `model.save()`. This file format is considered legacy. We recommend using instead the native Keras format, e.g. `model.save('my_model.keras')`.\n",
      "  saving_api.save_model(\n"
     ]
    },
    {
     "name": "stdout",
     "output_type": "stream",
     "text": [
      "25/25 [==============================] - ETA: 0s - loss: 0.1034 - accuracy: 0.9692\n",
      "Epoch 28: val_accuracy improved from 0.81609 to 0.82759, saving model to best_model_fold3_tcn_res.h5\n",
      "25/25 [==============================] - 78s 3s/step - loss: 0.1034 - accuracy: 0.9692 - val_loss: 0.6098 - val_accuracy: 0.8276 - lr: 2.3438e-06\n",
      "Epoch 29/50\n"
     ]
    },
    {
     "name": "stderr",
     "output_type": "stream",
     "text": [
      "/home/huuquangdang/.local/lib/python3.10/site-packages/keras/src/engine/training.py:3079: UserWarning: You are saving your model as an HDF5 file via `model.save()`. This file format is considered legacy. We recommend using instead the native Keras format, e.g. `model.save('my_model.keras')`.\n",
      "  saving_api.save_model(\n"
     ]
    },
    {
     "name": "stdout",
     "output_type": "stream",
     "text": [
      "25/25 [==============================] - ETA: 0s - loss: 0.1153 - accuracy: 0.9628\n",
      "Epoch 29: val_accuracy did not improve from 0.82759\n",
      "25/25 [==============================] - 78s 3s/step - loss: 0.1153 - accuracy: 0.9628 - val_loss: 0.5890 - val_accuracy: 0.8276 - lr: 2.3438e-06\n",
      "Epoch 30/50\n",
      "25/25 [==============================] - ETA: 0s - loss: 0.1102 - accuracy: 0.9551\n",
      "Epoch 30: val_accuracy improved from 0.82759 to 0.83908, saving model to best_model_fold3_tcn_res.h5\n",
      "25/25 [==============================] - 78s 3s/step - loss: 0.1102 - accuracy: 0.9551 - val_loss: 0.5688 - val_accuracy: 0.8391 - lr: 2.3438e-06\n",
      "Epoch 31/50\n"
     ]
    },
    {
     "name": "stderr",
     "output_type": "stream",
     "text": [
      "/home/huuquangdang/.local/lib/python3.10/site-packages/keras/src/engine/training.py:3079: UserWarning: You are saving your model as an HDF5 file via `model.save()`. This file format is considered legacy. We recommend using instead the native Keras format, e.g. `model.save('my_model.keras')`.\n",
      "  saving_api.save_model(\n"
     ]
    },
    {
     "name": "stdout",
     "output_type": "stream",
     "text": [
      "25/25 [==============================] - ETA: 0s - loss: 0.1150 - accuracy: 0.9538\n",
      "Epoch 31: val_accuracy did not improve from 0.83908\n",
      "25/25 [==============================] - 78s 3s/step - loss: 0.1150 - accuracy: 0.9538 - val_loss: 0.5494 - val_accuracy: 0.8391 - lr: 2.3438e-06\n",
      "Epoch 32/50\n",
      "25/25 [==============================] - ETA: 0s - loss: 0.1011 - accuracy: 0.9641\n",
      "Epoch 32: val_accuracy did not improve from 0.83908\n",
      "25/25 [==============================] - 78s 3s/step - loss: 0.1011 - accuracy: 0.9641 - val_loss: 0.5292 - val_accuracy: 0.8391 - lr: 2.3438e-06\n",
      "Epoch 33/50\n",
      "25/25 [==============================] - ETA: 0s - loss: 0.0929 - accuracy: 0.9744\n",
      "Epoch 33: val_accuracy did not improve from 0.83908\n",
      "25/25 [==============================] - 79s 3s/step - loss: 0.0929 - accuracy: 0.9744 - val_loss: 0.5124 - val_accuracy: 0.8391 - lr: 2.3438e-06\n",
      "Epoch 34/50\n",
      "25/25 [==============================] - ETA: 0s - loss: 0.1165 - accuracy: 0.9603\n",
      "Epoch 34: val_accuracy did not improve from 0.83908\n",
      "25/25 [==============================] - 78s 3s/step - loss: 0.1165 - accuracy: 0.9603 - val_loss: 0.4963 - val_accuracy: 0.8391 - lr: 2.3438e-06\n",
      "Epoch 35/50\n",
      "25/25 [==============================] - ETA: 0s - loss: 0.1319 - accuracy: 0.9513\n",
      "Epoch 35: val_accuracy improved from 0.83908 to 0.86207, saving model to best_model_fold3_tcn_res.h5\n",
      "25/25 [==============================] - 78s 3s/step - loss: 0.1319 - accuracy: 0.9513 - val_loss: 0.4808 - val_accuracy: 0.8621 - lr: 2.3438e-06\n",
      "Epoch 36/50\n"
     ]
    },
    {
     "name": "stderr",
     "output_type": "stream",
     "text": [
      "/home/huuquangdang/.local/lib/python3.10/site-packages/keras/src/engine/training.py:3079: UserWarning: You are saving your model as an HDF5 file via `model.save()`. This file format is considered legacy. We recommend using instead the native Keras format, e.g. `model.save('my_model.keras')`.\n",
      "  saving_api.save_model(\n"
     ]
    },
    {
     "name": "stdout",
     "output_type": "stream",
     "text": [
      "25/25 [==============================] - ETA: 0s - loss: 0.1065 - accuracy: 0.9615\n",
      "Epoch 36: val_accuracy did not improve from 0.86207\n",
      "25/25 [==============================] - 78s 3s/step - loss: 0.1065 - accuracy: 0.9615 - val_loss: 0.4651 - val_accuracy: 0.8621 - lr: 2.3438e-06\n",
      "Epoch 37/50\n",
      "25/25 [==============================] - ETA: 0s - loss: 0.1006 - accuracy: 0.9679\n",
      "Epoch 37: val_accuracy did not improve from 0.86207\n",
      "25/25 [==============================] - 78s 3s/step - loss: 0.1006 - accuracy: 0.9679 - val_loss: 0.4497 - val_accuracy: 0.8621 - lr: 2.3438e-06\n",
      "Epoch 38/50\n",
      "25/25 [==============================] - ETA: 0s - loss: 0.1028 - accuracy: 0.9603\n",
      "Epoch 38: val_accuracy did not improve from 0.86207\n",
      "25/25 [==============================] - 78s 3s/step - loss: 0.1028 - accuracy: 0.9603 - val_loss: 0.4343 - val_accuracy: 0.8621 - lr: 2.3438e-06\n",
      "Epoch 39/50\n",
      "25/25 [==============================] - ETA: 0s - loss: 0.1006 - accuracy: 0.9718\n",
      "Epoch 39: val_accuracy did not improve from 0.86207\n",
      "25/25 [==============================] - 78s 3s/step - loss: 0.1006 - accuracy: 0.9718 - val_loss: 0.4182 - val_accuracy: 0.8621 - lr: 2.3438e-06\n",
      "Epoch 40/50\n",
      "25/25 [==============================] - ETA: 0s - loss: 0.0975 - accuracy: 0.9692\n",
      "Epoch 40: val_accuracy did not improve from 0.86207\n",
      "25/25 [==============================] - 78s 3s/step - loss: 0.0975 - accuracy: 0.9692 - val_loss: 0.4028 - val_accuracy: 0.8621 - lr: 2.3438e-06\n",
      "7/7 [==============================] - 9s 1s/step\n",
      "\n",
      "✅ Fold 3 Results (TCN_Residual):\n",
      "   Accuracy:  0.8111\n",
      "   Precision: 0.9595\n",
      "   Recall:    0.6514\n",
      "   F1 Score:  0.7760\n",
      "   AUC:       0.9286\n",
      "\n",
      "============================================================\n",
      "📊 Fold 4/5 - TCN_Residual\n",
      "============================================================\n",
      "\n",
      "📈 Model Architecture:\n",
      "   - Model: TCN + Residual Blocks (NO KAN)\n",
      "   - Total params: 3,623,881\n",
      "   - Trainable params: 2,568,069\n",
      "   - TCN: 4 blocks, dilations 1/2/4/8\n",
      "   - Learning rate: 3e-4\n",
      "Epoch 1/50\n",
      "25/25 [==============================] - ETA: 0s - loss: 0.7974 - accuracy: 0.5513\n",
      "Epoch 1: val_accuracy improved from -inf to 0.50575, saving model to best_model_fold4_tcn_res.h5\n",
      "25/25 [==============================] - 81s 3s/step - loss: 0.7974 - accuracy: 0.5513 - val_loss: 0.7494 - val_accuracy: 0.5057 - lr: 3.0000e-04\n",
      "Epoch 2/50\n"
     ]
    },
    {
     "name": "stderr",
     "output_type": "stream",
     "text": [
      "/home/huuquangdang/.local/lib/python3.10/site-packages/keras/src/engine/training.py:3079: UserWarning: You are saving your model as an HDF5 file via `model.save()`. This file format is considered legacy. We recommend using instead the native Keras format, e.g. `model.save('my_model.keras')`.\n",
      "  saving_api.save_model(\n"
     ]
    },
    {
     "name": "stdout",
     "output_type": "stream",
     "text": [
      "25/25 [==============================] - ETA: 0s - loss: 0.6163 - accuracy: 0.6615\n",
      "Epoch 2: val_accuracy did not improve from 0.50575\n",
      "25/25 [==============================] - 78s 3s/step - loss: 0.6163 - accuracy: 0.6615 - val_loss: 0.7372 - val_accuracy: 0.4943 - lr: 3.0000e-04\n",
      "Epoch 3/50\n",
      "25/25 [==============================] - ETA: 0s - loss: 0.5022 - accuracy: 0.7500\n",
      "Epoch 3: val_accuracy improved from 0.50575 to 0.51724, saving model to best_model_fold4_tcn_res.h5\n",
      "25/25 [==============================] - 78s 3s/step - loss: 0.5022 - accuracy: 0.7500 - val_loss: 0.8269 - val_accuracy: 0.5172 - lr: 3.0000e-04\n",
      "Epoch 4/50\n"
     ]
    },
    {
     "name": "stderr",
     "output_type": "stream",
     "text": [
      "/home/huuquangdang/.local/lib/python3.10/site-packages/keras/src/engine/training.py:3079: UserWarning: You are saving your model as an HDF5 file via `model.save()`. This file format is considered legacy. We recommend using instead the native Keras format, e.g. `model.save('my_model.keras')`.\n",
      "  saving_api.save_model(\n"
     ]
    },
    {
     "name": "stdout",
     "output_type": "stream",
     "text": [
      "25/25 [==============================] - ETA: 0s - loss: 0.4172 - accuracy: 0.8141\n",
      "Epoch 4: val_accuracy improved from 0.51724 to 0.56322, saving model to best_model_fold4_tcn_res.h5\n",
      "25/25 [==============================] - 78s 3s/step - loss: 0.4172 - accuracy: 0.8141 - val_loss: 0.7173 - val_accuracy: 0.5632 - lr: 3.0000e-04\n",
      "Epoch 5/50\n"
     ]
    },
    {
     "name": "stderr",
     "output_type": "stream",
     "text": [
      "/home/huuquangdang/.local/lib/python3.10/site-packages/keras/src/engine/training.py:3079: UserWarning: You are saving your model as an HDF5 file via `model.save()`. This file format is considered legacy. We recommend using instead the native Keras format, e.g. `model.save('my_model.keras')`.\n",
      "  saving_api.save_model(\n"
     ]
    },
    {
     "name": "stdout",
     "output_type": "stream",
     "text": [
      "25/25 [==============================] - ETA: 0s - loss: 0.3542 - accuracy: 0.8474\n",
      "Epoch 5: val_accuracy improved from 0.56322 to 0.59770, saving model to best_model_fold4_tcn_res.h5\n",
      "25/25 [==============================] - 78s 3s/step - loss: 0.3542 - accuracy: 0.8474 - val_loss: 0.7796 - val_accuracy: 0.5977 - lr: 3.0000e-04\n",
      "Epoch 6/50\n"
     ]
    },
    {
     "name": "stderr",
     "output_type": "stream",
     "text": [
      "/home/huuquangdang/.local/lib/python3.10/site-packages/keras/src/engine/training.py:3079: UserWarning: You are saving your model as an HDF5 file via `model.save()`. This file format is considered legacy. We recommend using instead the native Keras format, e.g. `model.save('my_model.keras')`.\n",
      "  saving_api.save_model(\n"
     ]
    },
    {
     "name": "stdout",
     "output_type": "stream",
     "text": [
      "25/25 [==============================] - ETA: 0s - loss: 0.2929 - accuracy: 0.8846\n",
      "Epoch 6: val_accuracy improved from 0.59770 to 0.73563, saving model to best_model_fold4_tcn_res.h5\n",
      "25/25 [==============================] - 78s 3s/step - loss: 0.2929 - accuracy: 0.8846 - val_loss: 0.5272 - val_accuracy: 0.7356 - lr: 3.0000e-04\n",
      "Epoch 7/50\n"
     ]
    },
    {
     "name": "stderr",
     "output_type": "stream",
     "text": [
      "/home/huuquangdang/.local/lib/python3.10/site-packages/keras/src/engine/training.py:3079: UserWarning: You are saving your model as an HDF5 file via `model.save()`. This file format is considered legacy. We recommend using instead the native Keras format, e.g. `model.save('my_model.keras')`.\n",
      "  saving_api.save_model(\n"
     ]
    },
    {
     "name": "stdout",
     "output_type": "stream",
     "text": [
      "25/25 [==============================] - ETA: 0s - loss: 0.2281 - accuracy: 0.9064\n",
      "Epoch 7: val_accuracy did not improve from 0.73563\n",
      "25/25 [==============================] - 78s 3s/step - loss: 0.2281 - accuracy: 0.9064 - val_loss: 1.2069 - val_accuracy: 0.5977 - lr: 3.0000e-04\n",
      "Epoch 8/50\n",
      "25/25 [==============================] - ETA: 0s - loss: 0.1854 - accuracy: 0.9359\n",
      "Epoch 8: val_accuracy did not improve from 0.73563\n",
      "25/25 [==============================] - 78s 3s/step - loss: 0.1854 - accuracy: 0.9359 - val_loss: 2.2322 - val_accuracy: 0.5172 - lr: 3.0000e-04\n",
      "Epoch 9/50\n",
      "25/25 [==============================] - ETA: 0s - loss: 0.1366 - accuracy: 0.9474\n",
      "Epoch 9: val_accuracy did not improve from 0.73563\n",
      "\n",
      "Epoch 9: ReduceLROnPlateau reducing learning rate to 0.0001500000071246177.\n",
      "25/25 [==============================] - 78s 3s/step - loss: 0.1366 - accuracy: 0.9474 - val_loss: 2.0362 - val_accuracy: 0.5517 - lr: 3.0000e-04\n",
      "Epoch 10/50\n",
      "25/25 [==============================] - ETA: 0s - loss: 0.1200 - accuracy: 0.9603\n",
      "Epoch 10: val_accuracy did not improve from 0.73563\n",
      "25/25 [==============================] - 77s 3s/step - loss: 0.1200 - accuracy: 0.9603 - val_loss: 2.5030 - val_accuracy: 0.5402 - lr: 1.5000e-04\n",
      "Epoch 11/50\n",
      "25/25 [==============================] - ETA: 0s - loss: 0.1029 - accuracy: 0.9641\n",
      "Epoch 11: val_accuracy did not improve from 0.73563\n",
      "25/25 [==============================] - 79s 3s/step - loss: 0.1029 - accuracy: 0.9641 - val_loss: 3.0949 - val_accuracy: 0.5402 - lr: 1.5000e-04\n",
      "7/7 [==============================] - 9s 1s/step\n",
      "\n",
      "✅ Fold 4 Results (TCN_Residual):\n",
      "   Accuracy:  0.9677\n",
      "   Precision: 0.9904\n",
      "   Recall:    0.9450\n",
      "   F1 Score:  0.9671\n",
      "   AUC:       0.8740\n",
      "\n",
      "============================================================\n",
      "📊 Fold 5/5 - TCN_Residual\n",
      "============================================================\n",
      "\n",
      "📈 Model Architecture:\n",
      "   - Model: TCN + Residual Blocks (NO KAN)\n",
      "   - Total params: 3,623,881\n",
      "   - Trainable params: 2,568,069\n",
      "   - TCN: 4 blocks, dilations 1/2/4/8\n",
      "   - Learning rate: 3e-4\n",
      "Epoch 1/50\n",
      "25/25 [==============================] - ETA: 0s - loss: 0.8631 - accuracy: 0.5557\n",
      "Epoch 1: val_accuracy improved from -inf to 0.49425, saving model to best_model_fold5_tcn_res.h5\n",
      "25/25 [==============================] - 82s 3s/step - loss: 0.8631 - accuracy: 0.5557 - val_loss: 0.7926 - val_accuracy: 0.4943 - lr: 3.0000e-04\n",
      "Epoch 2/50\n"
     ]
    },
    {
     "name": "stderr",
     "output_type": "stream",
     "text": [
      "/home/huuquangdang/.local/lib/python3.10/site-packages/keras/src/engine/training.py:3079: UserWarning: You are saving your model as an HDF5 file via `model.save()`. This file format is considered legacy. We recommend using instead the native Keras format, e.g. `model.save('my_model.keras')`.\n",
      "  saving_api.save_model(\n"
     ]
    },
    {
     "name": "stdout",
     "output_type": "stream",
     "text": [
      "25/25 [==============================] - ETA: 0s - loss: 0.6342 - accuracy: 0.6517\n",
      "Epoch 2: val_accuracy did not improve from 0.49425\n",
      "25/25 [==============================] - 78s 3s/step - loss: 0.6342 - accuracy: 0.6517 - val_loss: 0.8873 - val_accuracy: 0.4943 - lr: 3.0000e-04\n",
      "Epoch 3/50\n",
      "25/25 [==============================] - ETA: 0s - loss: 0.5332 - accuracy: 0.7260\n",
      "Epoch 3: val_accuracy did not improve from 0.49425\n",
      "25/25 [==============================] - 78s 3s/step - loss: 0.5332 - accuracy: 0.7260 - val_loss: 1.0062 - val_accuracy: 0.4943 - lr: 3.0000e-04\n",
      "Epoch 4/50\n",
      "25/25 [==============================] - ETA: 0s - loss: 0.4293 - accuracy: 0.8054\n",
      "Epoch 4: val_accuracy improved from 0.49425 to 0.52874, saving model to best_model_fold5_tcn_res.h5\n",
      "\n",
      "Epoch 4: ReduceLROnPlateau reducing learning rate to 0.0001500000071246177.\n",
      "25/25 [==============================] - 78s 3s/step - loss: 0.4293 - accuracy: 0.8054 - val_loss: 1.0087 - val_accuracy: 0.5287 - lr: 3.0000e-04\n",
      "Epoch 5/50\n"
     ]
    },
    {
     "name": "stderr",
     "output_type": "stream",
     "text": [
      "/home/huuquangdang/.local/lib/python3.10/site-packages/keras/src/engine/training.py:3079: UserWarning: You are saving your model as an HDF5 file via `model.save()`. This file format is considered legacy. We recommend using instead the native Keras format, e.g. `model.save('my_model.keras')`.\n",
      "  saving_api.save_model(\n"
     ]
    },
    {
     "name": "stdout",
     "output_type": "stream",
     "text": [
      "25/25 [==============================] - ETA: 0s - loss: 0.3454 - accuracy: 0.8515\n",
      "Epoch 5: val_accuracy improved from 0.52874 to 0.58621, saving model to best_model_fold5_tcn_res.h5\n",
      "25/25 [==============================] - 78s 3s/step - loss: 0.3454 - accuracy: 0.8515 - val_loss: 1.0657 - val_accuracy: 0.5862 - lr: 1.5000e-04\n",
      "Epoch 6/50\n"
     ]
    },
    {
     "name": "stderr",
     "output_type": "stream",
     "text": [
      "/home/huuquangdang/.local/lib/python3.10/site-packages/keras/src/engine/training.py:3079: UserWarning: You are saving your model as an HDF5 file via `model.save()`. This file format is considered legacy. We recommend using instead the native Keras format, e.g. `model.save('my_model.keras')`.\n",
      "  saving_api.save_model(\n"
     ]
    },
    {
     "name": "stdout",
     "output_type": "stream",
     "text": [
      "25/25 [==============================] - ETA: 0s - loss: 0.3069 - accuracy: 0.8681\n",
      "Epoch 6: val_accuracy did not improve from 0.58621\n",
      "25/25 [==============================] - 78s 3s/step - loss: 0.3069 - accuracy: 0.8681 - val_loss: 1.0600 - val_accuracy: 0.5862 - lr: 1.5000e-04\n",
      "Epoch 7/50\n",
      "25/25 [==============================] - ETA: 0s - loss: 0.2623 - accuracy: 0.8784\n",
      "Epoch 7: val_accuracy improved from 0.58621 to 0.65517, saving model to best_model_fold5_tcn_res.h5\n",
      "\n",
      "Epoch 7: ReduceLROnPlateau reducing learning rate to 7.500000356230885e-05.\n",
      "25/25 [==============================] - 79s 3s/step - loss: 0.2623 - accuracy: 0.8784 - val_loss: 0.8709 - val_accuracy: 0.6552 - lr: 1.5000e-04\n",
      "Epoch 8/50\n"
     ]
    },
    {
     "name": "stderr",
     "output_type": "stream",
     "text": [
      "/home/huuquangdang/.local/lib/python3.10/site-packages/keras/src/engine/training.py:3079: UserWarning: You are saving your model as an HDF5 file via `model.save()`. This file format is considered legacy. We recommend using instead the native Keras format, e.g. `model.save('my_model.keras')`.\n",
      "  saving_api.save_model(\n"
     ]
    },
    {
     "name": "stdout",
     "output_type": "stream",
     "text": [
      "25/25 [==============================] - ETA: 0s - loss: 0.2605 - accuracy: 0.8835\n",
      "Epoch 8: val_accuracy improved from 0.65517 to 0.67816, saving model to best_model_fold5_tcn_res.h5\n",
      "25/25 [==============================] - 78s 3s/step - loss: 0.2605 - accuracy: 0.8835 - val_loss: 0.8351 - val_accuracy: 0.6782 - lr: 7.5000e-05\n",
      "Epoch 9/50\n"
     ]
    },
    {
     "name": "stderr",
     "output_type": "stream",
     "text": [
      "/home/huuquangdang/.local/lib/python3.10/site-packages/keras/src/engine/training.py:3079: UserWarning: You are saving your model as an HDF5 file via `model.save()`. This file format is considered legacy. We recommend using instead the native Keras format, e.g. `model.save('my_model.keras')`.\n",
      "  saving_api.save_model(\n"
     ]
    },
    {
     "name": "stdout",
     "output_type": "stream",
     "text": [
      "25/25 [==============================] - ETA: 0s - loss: 0.2130 - accuracy: 0.9129\n",
      "Epoch 9: val_accuracy improved from 0.67816 to 0.74713, saving model to best_model_fold5_tcn_res.h5\n",
      "25/25 [==============================] - 78s 3s/step - loss: 0.2130 - accuracy: 0.9129 - val_loss: 0.7495 - val_accuracy: 0.7471 - lr: 7.5000e-05\n",
      "Epoch 10/50\n"
     ]
    },
    {
     "name": "stderr",
     "output_type": "stream",
     "text": [
      "/home/huuquangdang/.local/lib/python3.10/site-packages/keras/src/engine/training.py:3079: UserWarning: You are saving your model as an HDF5 file via `model.save()`. This file format is considered legacy. We recommend using instead the native Keras format, e.g. `model.save('my_model.keras')`.\n",
      "  saving_api.save_model(\n"
     ]
    },
    {
     "name": "stdout",
     "output_type": "stream",
     "text": [
      "25/25 [==============================] - ETA: 0s - loss: 0.2211 - accuracy: 0.9091\n",
      "Epoch 10: val_accuracy did not improve from 0.74713\n",
      "25/25 [==============================] - 78s 3s/step - loss: 0.2211 - accuracy: 0.9091 - val_loss: 0.7555 - val_accuracy: 0.7356 - lr: 7.5000e-05\n",
      "Epoch 11/50\n",
      "25/25 [==============================] - ETA: 0s - loss: 0.1684 - accuracy: 0.9437\n",
      "Epoch 11: val_accuracy did not improve from 0.74713\n",
      "25/25 [==============================] - 78s 3s/step - loss: 0.1684 - accuracy: 0.9437 - val_loss: 0.8587 - val_accuracy: 0.7241 - lr: 7.5000e-05\n",
      "Epoch 12/50\n",
      "25/25 [==============================] - ETA: 0s - loss: 0.1710 - accuracy: 0.9334\n",
      "Epoch 12: val_accuracy did not improve from 0.74713\n",
      "\n",
      "Epoch 12: ReduceLROnPlateau reducing learning rate to 3.7500001781154424e-05.\n",
      "25/25 [==============================] - 78s 3s/step - loss: 0.1710 - accuracy: 0.9334 - val_loss: 0.9192 - val_accuracy: 0.7126 - lr: 7.5000e-05\n",
      "Epoch 13/50\n",
      "25/25 [==============================] - ETA: 0s - loss: 0.1644 - accuracy: 0.9398\n",
      "Epoch 13: val_accuracy improved from 0.74713 to 0.80460, saving model to best_model_fold5_tcn_res.h5\n",
      "25/25 [==============================] - 78s 3s/step - loss: 0.1644 - accuracy: 0.9398 - val_loss: 0.7607 - val_accuracy: 0.8046 - lr: 3.7500e-05\n",
      "Epoch 14/50\n"
     ]
    },
    {
     "name": "stderr",
     "output_type": "stream",
     "text": [
      "/home/huuquangdang/.local/lib/python3.10/site-packages/keras/src/engine/training.py:3079: UserWarning: You are saving your model as an HDF5 file via `model.save()`. This file format is considered legacy. We recommend using instead the native Keras format, e.g. `model.save('my_model.keras')`.\n",
      "  saving_api.save_model(\n"
     ]
    },
    {
     "name": "stdout",
     "output_type": "stream",
     "text": [
      "25/25 [==============================] - ETA: 0s - loss: 0.1575 - accuracy: 0.9347\n",
      "Epoch 14: val_accuracy improved from 0.80460 to 0.81609, saving model to best_model_fold5_tcn_res.h5\n",
      "25/25 [==============================] - 78s 3s/step - loss: 0.1575 - accuracy: 0.9347 - val_loss: 0.6459 - val_accuracy: 0.8161 - lr: 3.7500e-05\n",
      "Epoch 15/50\n"
     ]
    },
    {
     "name": "stderr",
     "output_type": "stream",
     "text": [
      "/home/huuquangdang/.local/lib/python3.10/site-packages/keras/src/engine/training.py:3079: UserWarning: You are saving your model as an HDF5 file via `model.save()`. This file format is considered legacy. We recommend using instead the native Keras format, e.g. `model.save('my_model.keras')`.\n",
      "  saving_api.save_model(\n"
     ]
    },
    {
     "name": "stdout",
     "output_type": "stream",
     "text": [
      "25/25 [==============================] - ETA: 0s - loss: 0.1493 - accuracy: 0.9437\n",
      "Epoch 15: val_accuracy did not improve from 0.81609\n",
      "25/25 [==============================] - 78s 3s/step - loss: 0.1493 - accuracy: 0.9437 - val_loss: 0.6604 - val_accuracy: 0.8046 - lr: 3.7500e-05\n",
      "Epoch 16/50\n",
      "25/25 [==============================] - ETA: 0s - loss: 0.1376 - accuracy: 0.9475\n",
      "Epoch 16: val_accuracy did not improve from 0.81609\n",
      "25/25 [==============================] - 78s 3s/step - loss: 0.1376 - accuracy: 0.9475 - val_loss: 0.6549 - val_accuracy: 0.7931 - lr: 3.7500e-05\n",
      "Epoch 17/50\n",
      "25/25 [==============================] - ETA: 0s - loss: 0.1561 - accuracy: 0.9309\n",
      "Epoch 17: val_accuracy did not improve from 0.81609\n",
      "\n",
      "Epoch 17: ReduceLROnPlateau reducing learning rate to 1.8750000890577212e-05.\n",
      "25/25 [==============================] - 78s 3s/step - loss: 0.1561 - accuracy: 0.9309 - val_loss: 0.7387 - val_accuracy: 0.8046 - lr: 3.7500e-05\n",
      "Epoch 18/50\n",
      "25/25 [==============================] - ETA: 0s - loss: 0.1313 - accuracy: 0.9488\n",
      "Epoch 18: val_accuracy improved from 0.81609 to 0.82759, saving model to best_model_fold5_tcn_res.h5\n",
      "25/25 [==============================] - 78s 3s/step - loss: 0.1313 - accuracy: 0.9488 - val_loss: 0.7681 - val_accuracy: 0.8276 - lr: 1.8750e-05\n",
      "Epoch 19/50\n"
     ]
    },
    {
     "name": "stderr",
     "output_type": "stream",
     "text": [
      "/home/huuquangdang/.local/lib/python3.10/site-packages/keras/src/engine/training.py:3079: UserWarning: You are saving your model as an HDF5 file via `model.save()`. This file format is considered legacy. We recommend using instead the native Keras format, e.g. `model.save('my_model.keras')`.\n",
      "  saving_api.save_model(\n"
     ]
    },
    {
     "name": "stdout",
     "output_type": "stream",
     "text": [
      "25/25 [==============================] - ETA: 0s - loss: 0.1263 - accuracy: 0.9501\n",
      "Epoch 19: val_accuracy did not improve from 0.82759\n",
      "25/25 [==============================] - 78s 3s/step - loss: 0.1263 - accuracy: 0.9501 - val_loss: 0.7784 - val_accuracy: 0.8276 - lr: 1.8750e-05\n",
      "Epoch 20/50\n",
      "25/25 [==============================] - ETA: 0s - loss: 0.1359 - accuracy: 0.9488\n",
      "Epoch 20: val_accuracy did not improve from 0.82759\n",
      "\n",
      "Epoch 20: ReduceLROnPlateau reducing learning rate to 9.375000445288606e-06.\n",
      "25/25 [==============================] - 78s 3s/step - loss: 0.1359 - accuracy: 0.9488 - val_loss: 0.7675 - val_accuracy: 0.8161 - lr: 1.8750e-05\n",
      "Epoch 21/50\n",
      "25/25 [==============================] - ETA: 0s - loss: 0.1176 - accuracy: 0.9590\n",
      "Epoch 21: val_accuracy improved from 0.82759 to 0.83908, saving model to best_model_fold5_tcn_res.h5\n",
      "25/25 [==============================] - 78s 3s/step - loss: 0.1176 - accuracy: 0.9590 - val_loss: 0.7635 - val_accuracy: 0.8391 - lr: 9.3750e-06\n",
      "Epoch 22/50\n"
     ]
    },
    {
     "name": "stderr",
     "output_type": "stream",
     "text": [
      "/home/huuquangdang/.local/lib/python3.10/site-packages/keras/src/engine/training.py:3079: UserWarning: You are saving your model as an HDF5 file via `model.save()`. This file format is considered legacy. We recommend using instead the native Keras format, e.g. `model.save('my_model.keras')`.\n",
      "  saving_api.save_model(\n"
     ]
    },
    {
     "name": "stdout",
     "output_type": "stream",
     "text": [
      "25/25 [==============================] - ETA: 0s - loss: 0.1280 - accuracy: 0.9526\n",
      "Epoch 22: val_accuracy did not improve from 0.83908\n",
      "25/25 [==============================] - 78s 3s/step - loss: 0.1280 - accuracy: 0.9526 - val_loss: 0.7669 - val_accuracy: 0.8391 - lr: 9.3750e-06\n",
      "Epoch 23/50\n",
      "25/25 [==============================] - ETA: 0s - loss: 0.1100 - accuracy: 0.9577\n",
      "Epoch 23: val_accuracy did not improve from 0.83908\n",
      "\n",
      "Epoch 23: ReduceLROnPlateau reducing learning rate to 4.687500222644303e-06.\n",
      "25/25 [==============================] - 78s 3s/step - loss: 0.1100 - accuracy: 0.9577 - val_loss: 0.7601 - val_accuracy: 0.8276 - lr: 9.3750e-06\n",
      "Epoch 24/50\n",
      "25/25 [==============================] - ETA: 0s - loss: 0.1140 - accuracy: 0.9577\n",
      "Epoch 24: val_accuracy did not improve from 0.83908\n",
      "25/25 [==============================] - 78s 3s/step - loss: 0.1140 - accuracy: 0.9577 - val_loss: 0.7640 - val_accuracy: 0.8276 - lr: 4.6875e-06\n",
      "Epoch 25/50\n",
      "25/25 [==============================] - ETA: 0s - loss: 0.1205 - accuracy: 0.9526\n",
      "Epoch 25: val_accuracy did not improve from 0.83908\n",
      "25/25 [==============================] - 78s 3s/step - loss: 0.1205 - accuracy: 0.9526 - val_loss: 0.7578 - val_accuracy: 0.8276 - lr: 4.6875e-06\n",
      "Epoch 26/50\n",
      "25/25 [==============================] - ETA: 0s - loss: 0.1391 - accuracy: 0.9424\n",
      "Epoch 26: val_accuracy did not improve from 0.83908\n",
      "\n",
      "Epoch 26: ReduceLROnPlateau reducing learning rate to 2.3437501113221515e-06.\n",
      "25/25 [==============================] - 77s 3s/step - loss: 0.1391 - accuracy: 0.9424 - val_loss: 0.7610 - val_accuracy: 0.8276 - lr: 4.6875e-06\n",
      "7/7 [==============================] - 9s 1s/step\n",
      "\n",
      "✅ Fold 5 Results (TCN_Residual):\n",
      "   Accuracy:  0.8472\n",
      "   Precision: 0.9121\n",
      "   Recall:    0.7685\n",
      "   F1 Score:  0.8342\n",
      "   AUC:       0.9230\n",
      "\n",
      "============================================================\n",
      "📊 FINAL RESULTS - TCN_Residual Model (NO KAN)\n",
      "============================================================\n",
      "Fold 1: Acc=0.9724, Prec=0.9811, Rec=0.9630, F1=0.9720, AUC=0.7647\n",
      "Fold 2: Acc=0.8433, Prec=0.8627, Rec=0.8148, F1=0.8381, AUC=0.9117\n",
      "Fold 3: Acc=0.8111, Prec=0.9595, Rec=0.6514, F1=0.7760, AUC=0.9286\n",
      "Fold 4: Acc=0.9677, Prec=0.9904, Rec=0.9450, F1=0.9671, AUC=0.8740\n",
      "Fold 5: Acc=0.8472, Prec=0.9121, Rec=0.7685, F1=0.8342, AUC=0.9230\n",
      "\n",
      "📊 Average Metrics:\n",
      "fold         3.000000\n",
      "accuracy     0.888338\n",
      "precision    0.941162\n",
      "recall       0.828525\n",
      "f1           0.877464\n",
      "auc          0.880423\n",
      "dtype: float64\n"
     ]
    }
   ],
   "source": [
    "import numpy as np\n",
    "import cv2\n",
    "import tensorflow as tf\n",
    "from tensorflow.keras.applications import MobileNetV2\n",
    "from tensorflow.keras.layers import (\n",
    "    Input, TimeDistributed, Dropout, Dense, GlobalAveragePooling2D, \n",
    "    Concatenate, BatchNormalization, Conv1D, Add, Activation, LayerNormalization, GlobalAveragePooling1D\n",
    "    )\n",
    "from tensorflow.keras.models import Model\n",
    "from tensorflow.keras.preprocessing.image import ImageDataGenerator\n",
    "from tensorflow.keras.optimizers import Adamax\n",
    "from tensorflow.keras.callbacks import ModelCheckpoint, EarlyStopping, ReduceLROnPlateau\n",
    "from sklearn.model_selection import StratifiedKFold, train_test_split\n",
    "from sklearn.metrics import accuracy_score, precision_score, recall_score, f1_score, roc_auc_score\n",
    "from hmmlearn.hmm import GaussianHMM\n",
    "from scipy.stats import mode\n",
    "from sklearn.preprocessing import StandardScaler\n",
    "\n",
    "# Configuration (same as before)\n",
    "video_keys = list(video_dict.keys())\n",
    "video_labels = [labels[k] for k in video_keys]\n",
    "\n",
    "img_size = (224, 224)\n",
    "batch_size = 32\n",
    "epochs = 50\n",
    "n_splits = 5\n",
    "sequence_len = 10\n",
    "results = []\n",
    "all_histories = []\n",
    "\n",
    "# Normalize CSV features (same normalization strategy)\n",
    "print(\"🔧 Computing CSV feature statistics for normalization...\")\n",
    "all_csv_features = []\n",
    "for key in video_keys:\n",
    "    frames = video_dict[key][:sequence_len]\n",
    "    for path in frames:\n",
    "        filename = os.path.basename(path)\n",
    "        if filename in openface_features:\n",
    "            all_csv_features.append(openface_features[filename])\n",
    "\n",
    "csv_scaler = StandardScaler()\n",
    "csv_scaler.fit(all_csv_features)\n",
    "print(f\"✅ CSV feature normalization fitted on {len(all_csv_features)} samples\")\n",
    "\n",
    "# Data generator (SAME NAME, same functionality)\n",
    "class VideoSequence(tf.keras.utils.Sequence):\n",
    "    def __init__(self, video_keys, video_dict, labels, batch_size, img_size, sequence_len=10, augment=False):\n",
    "        self.video_keys = video_keys\n",
    "        self.video_dict = video_dict\n",
    "        self.labels = labels\n",
    "        self.batch_size = batch_size\n",
    "        self.img_size = img_size\n",
    "        self.sequence_len = sequence_len\n",
    "        self.augment = augment\n",
    "        self.datagen = ImageDataGenerator(\n",
    "            rescale=1./255,\n",
    "            rotation_range=15 if augment else 0,\n",
    "            zoom_range=0.1 if augment else 0,\n",
    "            horizontal_flip=augment\n",
    "        )\n",
    "\n",
    "    def __len__(self):\n",
    "        return int(np.ceil(len(self.video_keys) / self.batch_size))\n",
    "\n",
    "    def __getitem__(self, idx):\n",
    "        batch_keys = self.video_keys[idx * self.batch_size:(idx + 1) * self.batch_size]\n",
    "        batch_X_img, batch_X_csv, batch_y = [], [], []\n",
    "\n",
    "        for key in batch_keys:\n",
    "            frames = self.video_dict[key][:self.sequence_len]\n",
    "            imgs = []\n",
    "            csv_feats = []\n",
    "            \n",
    "            for path in frames:\n",
    "                # Load and process image\n",
    "                img = cv2.imread(path)\n",
    "                img = cv2.resize(img, self.img_size)\n",
    "                img = self.datagen.random_transform(img) if self.augment else img\n",
    "                img = img.astype('float32') / 255.0\n",
    "                imgs.append(img)\n",
    "                \n",
    "                # Load CSV features and normalize (1-to-1 mapping)\n",
    "                filename = os.path.basename(path)\n",
    "                if filename in openface_features:\n",
    "                    csv_feat = openface_features[filename]\n",
    "                    csv_feat = csv_scaler.transform([csv_feat])[0]\n",
    "                else:\n",
    "                    csv_feat = np.zeros(csv_feature_dim, dtype='float32')\n",
    "                csv_feats.append(csv_feat)\n",
    "            \n",
    "            # Pad sequences if needed\n",
    "            while len(imgs) < self.sequence_len:\n",
    "                imgs.append(np.zeros((*self.img_size, 3), dtype='float32'))\n",
    "                csv_feats.append(np.zeros(csv_feature_dim, dtype='float32'))\n",
    "            \n",
    "            batch_X_img.append(imgs)\n",
    "            batch_X_csv.append(csv_feats)\n",
    "            batch_y.append(self.labels[key])\n",
    "\n",
    "        return [np.array(batch_X_img), np.array(batch_X_csv)], np.array(batch_y)\n",
    "\n",
    "# TCN Residual Block\n",
    "def tcn_residual_block(x, filters, kernel_size, dilation_rate, block_num):\n",
    "    shortcut = x\n",
    "    x = Conv1D(filters, kernel_size, padding='causal', dilation_rate=dilation_rate, name=f'tcn_conv_{block_num}_1')(x)\n",
    "    x = LayerNormalization(name=f'tcn_ln_{block_num}_1')(x)\n",
    "    x = Activation('relu', name=f'tcn_relu_{block_num}_1')(x)\n",
    "    x = Dropout(0.2, name=f'tcn_dropout_{block_num}_1')(x)\n",
    "    x = Conv1D(filters, kernel_size, padding='causal', dilation_rate=dilation_rate, name=f'tcn_conv_{block_num}_2')(x)\n",
    "    x = LayerNormalization(name=f'tcn_ln_{block_num}_2')(x)\n",
    "    x = Activation('relu', name=f'tcn_relu_{block_num}_2')(x)\n",
    "    x = Dropout(0.2, name=f'tcn_dropout_{block_num}_2')(x)\n",
    "    # Residual connection\n",
    "    if shortcut.shape[-1] != filters:\n",
    "        shortcut = Conv1D(filters, 1, padding='same', name=f'tcn_shortcut_{block_num}')(shortcut)\n",
    "    x = Add(name=f'tcn_add_{block_num}')([x, shortcut])\n",
    "    x = Activation('relu', name=f'tcn_out_relu_{block_num}')(x)\n",
    "    return x\n",
    "\n",
    "# TCN + Residual Blocks Model (NO KAN)\n",
    "def build_model(sequence_len, img_size, csv_dim=674):\n",
    "    # MobileNet branch\n",
    "    base_cnn = MobileNetV2(input_shape=(*img_size, 3), include_top=False, weights='imagenet')\n",
    "    base_cnn.trainable = True\n",
    "    for layer in base_cnn.layers[:-20]:\n",
    "        layer.trainable = False\n",
    "    \n",
    "    cnn_out = GlobalAveragePooling2D()(base_cnn.output)\n",
    "    cnn_model = Model(inputs=base_cnn.input, outputs=cnn_out)\n",
    "    \n",
    "    # Image sequence input\n",
    "    input_seq_img = Input(shape=(sequence_len, *img_size, 3), name='image_input')\n",
    "    x_img = TimeDistributed(cnn_model)(input_seq_img)\n",
    "    \n",
    "    # CSV features input\n",
    "    input_seq_csv = Input(shape=(sequence_len, csv_dim), name='csv_input')\n",
    "    \n",
    "    # BatchNormalization before fusion\n",
    "    x_img = BatchNormalization(name='bn_mobilenet')(x_img)\n",
    "    x_csv = BatchNormalization(name='bn_csv')(input_seq_csv)\n",
    "    \n",
    "    # Concatenate features (1-to-1 fusion)\n",
    "    x_combined = Concatenate(axis=-1, name='feature_fusion')([x_img, x_csv])\n",
    "    \n",
    "    # TCN blocks (dilated 1D CNN with residuals)\n",
    "    x = x_combined\n",
    "    for i, (filters, kernel_size, dilation_rate) in enumerate([(128, 3, 1), (128, 3, 2), (128, 3, 4), (128, 3, 8)]):\n",
    "        x = tcn_residual_block(x, filters, kernel_size, dilation_rate, i+1)\n",
    "    \n",
    "    # Global average pooling over time dimension to get fixed-size output\n",
    "    x = GlobalAveragePooling1D(name='global_avg_pool')(x)\n",
    "    x = Dropout(0.2, name='dropout_tcn')(x)\n",
    "    \n",
    "    # Classification layers (NO KAN)\n",
    "    x = Dense(64, activation='relu', name='dense_1')(x)\n",
    "    x = Dropout(0.2, name='dropout_3')(x)\n",
    "    x = Dense(32, activation='relu', name='dense_2')(x)\n",
    "    x = Dropout(0.2, name='dropout_4')(x)\n",
    "    \n",
    "    output = Dense(1, activation='sigmoid', name='output')(x)\n",
    "    \n",
    "    model = Model(inputs=[input_seq_img, input_seq_csv], outputs=output, name='TCN_Residual')\n",
    "    return model\n",
    "\n",
    "# HMM post-processing (SAME NAME, unchanged)\n",
    "def hmm_postprocess(pred_probs, y_true, n_states=2):\n",
    "    pred_probs = pred_probs.reshape(-1, 1)\n",
    "    hmm = GaussianHMM(n_components=n_states, covariance_type=\"diag\", n_iter=100)\n",
    "    hmm.fit(pred_probs)\n",
    "    hidden_states = hmm.predict(pred_probs)\n",
    "\n",
    "    mapping = {}\n",
    "    for state in np.unique(hidden_states):\n",
    "        indices = [i for i in range(len(hidden_states)) if hidden_states[i] == state]\n",
    "        state_labels = [y_true[i] for i in indices]\n",
    "        if len(state_labels) > 0:\n",
    "            mapped_label = mode(state_labels, keepdims=True).mode[0]\n",
    "        else:\n",
    "            mapped_label = 0\n",
    "        mapping[state] = mapped_label\n",
    "\n",
    "    hmm_labels = np.array([mapping[s] for s in hidden_states])\n",
    "    return hmm_labels\n",
    "\n",
    "# Training K-Fold\n",
    "print(\"\\n🚀 Starting TCN + Residual Blocks Training (NO KAN):\")\n",
    "print(\"   ✅ TCN (dilated 1D CNN, residual blocks)\")\n",
    "print(\"   ✅ Normalized CSV features (1-to-1 mapping)\")\n",
    "print(\"   ✅ MobileNet (last 20 layers trainable)\")\n",
    "print(\"   ✅ HMM post-processing\\n\")\n",
    "\n",
    "skf = StratifiedKFold(n_splits=n_splits, shuffle=True, random_state=42)\n",
    "\n",
    "for fold, (trainval_idx, test_idx) in enumerate(skf.split(video_keys, video_labels), 1):\n",
    "    print(f\"\\n{'='*60}\")\n",
    "    print(f\"📊 Fold {fold}/{n_splits} - TCN_Residual\")\n",
    "    print(f\"{'='*60}\")\n",
    "\n",
    "    trainval_keys = [video_keys[i] for i in trainval_idx]\n",
    "    test_keys = [video_keys[i] for i in test_idx]\n",
    "\n",
    "    y_trainval = [labels[k] for k in trainval_keys]\n",
    "    train_keys, val_keys = train_test_split(trainval_keys, test_size=0.1, stratify=y_trainval, random_state=fold)\n",
    "\n",
    "    train_gen = VideoSequence(train_keys, video_dict, labels, batch_size, img_size, sequence_len, augment=True)\n",
    "    val_gen = VideoSequence(val_keys, video_dict, labels, batch_size, img_size, sequence_len, augment=False)\n",
    "    test_gen = VideoSequence(test_keys, video_dict, labels, batch_size, img_size, sequence_len, augment=False)\n",
    "\n",
    "    model = build_model(sequence_len, img_size, csv_feature_dim)\n",
    "    model.compile(optimizer=Adamax(3e-4), loss='binary_crossentropy', metrics=['accuracy'])\n",
    "    \n",
    "    print(f\"\\n📈 Model Architecture:\")\n",
    "    print(f\"   - Model: TCN + Residual Blocks (NO KAN)\")\n",
    "    print(f\"   - Total params: {model.count_params():,}\")\n",
    "    trainable_params = sum([tf.size(w).numpy() for w in model.trainable_weights])\n",
    "    print(f\"   - Trainable params: {trainable_params:,}\")\n",
    "    print(f\"   - TCN: 4 blocks, dilations 1/2/4/8\")\n",
    "    print(f\"   - Learning rate: 3e-4\")\n",
    "\n",
    "    model_path = f\"best_model_fold{fold}_tcn_res.h5\"\n",
    "    checkpoint = ModelCheckpoint(model_path, monitor='val_accuracy', save_best_only=True, mode='max', verbose=1)\n",
    "    earlystop = EarlyStopping(monitor='val_accuracy', patience=5, restore_best_weights=True)\n",
    "    reduce_lr = ReduceLROnPlateau(monitor='val_loss', factor=0.5, patience=3, min_lr=1e-6, verbose=1)\n",
    "\n",
    "    history = model.fit(train_gen, validation_data=val_gen, epochs=epochs,\n",
    "                        callbacks=[checkpoint, earlystop, reduce_lr], verbose=1)\n",
    "    all_histories.append(history.history)\n",
    "\n",
    "    model.load_weights(model_path)\n",
    "\n",
    "    y_true = [labels[k] for k in test_keys]\n",
    "    y_pred_prob = model.predict(test_gen).ravel()\n",
    "    y_hmm_pred = hmm_postprocess(y_pred_prob, y_true)\n",
    "\n",
    "    results.append({\n",
    "        'fold': fold,\n",
    "        'accuracy': accuracy_score(y_true, y_hmm_pred),\n",
    "        'precision': precision_score(y_true, y_hmm_pred),\n",
    "        'recall': recall_score(y_true, y_hmm_pred),\n",
    "        'f1': f1_score(y_true, y_hmm_pred),\n",
    "        'auc': roc_auc_score(y_true, y_pred_prob)\n",
    "    })\n",
    "    \n",
    "    print(f\"\\n✅ Fold {fold} Results (TCN_Residual):\")\n",
    "    print(f\"   Accuracy:  {results[-1]['accuracy']:.4f}\")\n",
    "    print(f\"   Precision: {results[-1]['precision']:.4f}\")\n",
    "    print(f\"   Recall:    {results[-1]['recall']:.4f}\")\n",
    "    print(f\"   F1 Score:  {results[-1]['f1']:.4f}\")\n",
    "    print(f\"   AUC:       {results[-1]['auc']:.4f}\")\n",
    "\n",
    "print(f\"\\n{'='*60}\")\n",
    "print(\"📊 FINAL RESULTS - TCN_Residual Model (NO KAN)\")\n",
    "print(f\"{'='*60}\")\n",
    "for r in results:\n",
    "    print(f\"Fold {r['fold']}: Acc={r['accuracy']:.4f}, Prec={r['precision']:.4f}, Rec={r['recall']:.4f}, F1={r['f1']:.4f}, AUC={r['auc']:.4f}\")\n",
    "\n",
    "print(f\"\\n📊 Average Metrics:\")\n",
    "results_df = pd.DataFrame(results)\n",
    "print(results_df.mean(numeric_only=True))"
   ]
  },
  {
   "cell_type": "code",
   "execution_count": 9,
   "id": "5fdfa766",
   "metadata": {
    "ExecuteTime": {
     "end_time": "2025-06-17T01:45:10.343234Z",
     "start_time": "2025-06-17T01:45:10.278158Z"
    }
   },
   "outputs": [
    {
     "name": "stdout",
     "output_type": "stream",
     "text": [
      "📊 Kết quả trung bình:\n",
      "fold         3.000000\n",
      "accuracy     0.888338\n",
      "precision    0.941162\n",
      "recall       0.828525\n",
      "f1           0.877464\n",
      "auc          0.880423\n",
      "dtype: float64\n"
     ]
    },
    {
     "data": {
      "text/html": [
       "<div>\n",
       "<style scoped>\n",
       "    .dataframe tbody tr th:only-of-type {\n",
       "        vertical-align: middle;\n",
       "    }\n",
       "\n",
       "    .dataframe tbody tr th {\n",
       "        vertical-align: top;\n",
       "    }\n",
       "\n",
       "    .dataframe thead th {\n",
       "        text-align: right;\n",
       "    }\n",
       "</style>\n",
       "<table border=\"1\" class=\"dataframe\">\n",
       "  <thead>\n",
       "    <tr style=\"text-align: right;\">\n",
       "      <th></th>\n",
       "      <th>fold</th>\n",
       "      <th>accuracy</th>\n",
       "      <th>precision</th>\n",
       "      <th>recall</th>\n",
       "      <th>f1</th>\n",
       "      <th>auc</th>\n",
       "    </tr>\n",
       "  </thead>\n",
       "  <tbody>\n",
       "    <tr>\n",
       "      <th>0</th>\n",
       "      <td>1</td>\n",
       "      <td>0.972350</td>\n",
       "      <td>0.981132</td>\n",
       "      <td>0.962963</td>\n",
       "      <td>0.971963</td>\n",
       "      <td>0.764696</td>\n",
       "    </tr>\n",
       "    <tr>\n",
       "      <th>1</th>\n",
       "      <td>2</td>\n",
       "      <td>0.843318</td>\n",
       "      <td>0.862745</td>\n",
       "      <td>0.814815</td>\n",
       "      <td>0.838095</td>\n",
       "      <td>0.911740</td>\n",
       "    </tr>\n",
       "    <tr>\n",
       "      <th>2</th>\n",
       "      <td>3</td>\n",
       "      <td>0.811060</td>\n",
       "      <td>0.959459</td>\n",
       "      <td>0.651376</td>\n",
       "      <td>0.775956</td>\n",
       "      <td>0.928644</td>\n",
       "    </tr>\n",
       "    <tr>\n",
       "      <th>3</th>\n",
       "      <td>4</td>\n",
       "      <td>0.967742</td>\n",
       "      <td>0.990385</td>\n",
       "      <td>0.944954</td>\n",
       "      <td>0.967136</td>\n",
       "      <td>0.874023</td>\n",
       "    </tr>\n",
       "    <tr>\n",
       "      <th>4</th>\n",
       "      <td>5</td>\n",
       "      <td>0.847222</td>\n",
       "      <td>0.912088</td>\n",
       "      <td>0.768519</td>\n",
       "      <td>0.834171</td>\n",
       "      <td>0.923011</td>\n",
       "    </tr>\n",
       "  </tbody>\n",
       "</table>\n",
       "</div>"
      ],
      "text/plain": [
       "   fold  accuracy  precision    recall        f1       auc\n",
       "0     1  0.972350   0.981132  0.962963  0.971963  0.764696\n",
       "1     2  0.843318   0.862745  0.814815  0.838095  0.911740\n",
       "2     3  0.811060   0.959459  0.651376  0.775956  0.928644\n",
       "3     4  0.967742   0.990385  0.944954  0.967136  0.874023\n",
       "4     5  0.847222   0.912088  0.768519  0.834171  0.923011"
      ]
     },
     "execution_count": 9,
     "metadata": {},
     "output_type": "execute_result"
    }
   ],
   "source": [
    "results_df = pd.DataFrame(results)\n",
    "print(\"📊 Kết quả trung bình:\")\n",
    "print(results_df.mean(numeric_only=True))\n",
    "results_df\n"
   ]
  },
  {
   "cell_type": "code",
   "execution_count": 10,
   "id": "48802125",
   "metadata": {
    "ExecuteTime": {
     "end_time": "2025-06-14T07:31:56.035350Z",
     "start_time": "2025-06-14T07:31:50.121545Z"
    }
   },
   "outputs": [
    {
     "data": {
      "image/png": "[encoded data removed]",
      "text/plain": [
       "<Figure size 640x480 with 1 Axes>"
      ]
     },
     "metadata": {},
     "output_type": "display_data"
    },
    {
     "data": {
      "image/png": "[encoded data removed]",
      "text/plain": [
       "<Figure size 640x480 with 1 Axes>"
      ]
     },
     "metadata": {},
     "output_type": "display_data"
    },
    {
     "data": {
      "image/png": "[encoded data removed]",
      "text/plain": [
       "<Figure size 640x480 with 1 Axes>"
      ]
     },
     "metadata": {},
     "output_type": "display_data"
    },
    {
     "data": {
      "image/png": "[encoded data removed]",
      "text/plain": [
       "<Figure size 640x480 with 1 Axes>"
      ]
     },
     "metadata": {},
     "output_type": "display_data"
    },
    {
     "data": {
      "image/png": "[encoded data removed]",
      "text/plain": [
       "<Figure size 640x480 with 1 Axes>"
      ]
     },
     "metadata": {},
     "output_type": "display_data"
    },
    {
     "data": {
      "image/png": "[encoded data removed]",
      "text/plain": [
       "<Figure size 640x480 with 1 Axes>"
      ]
     },
     "metadata": {},
     "output_type": "display_data"
    },
    {
     "data": {
      "image/png": "[encoded data removed]",
      "text/plain": [
       "<Figure size 640x480 with 1 Axes>"
      ]
     },
     "metadata": {},
     "output_type": "display_data"
    },
    {
     "data": {
      "image/png": "[encoded data removed]",
      "text/plain": [
       "<Figure size 640x480 with 1 Axes>"
      ]
     },
     "metadata": {},
     "output_type": "display_data"
    },
    {
     "data": {
      "image/png": "[encoded data removed]",
      "text/plain": [
       "<Figure size 640x480 with 1 Axes>"
      ]
     },
     "metadata": {},
     "output_type": "display_data"
    },
    {
     "data": {
      "image/png": "[encoded data removed]",
      "text/plain": [
       "<Figure size 640x480 with 1 Axes>"
      ]
     },
     "metadata": {},
     "output_type": "display_data"
    }
   ],
   "source": [
    "for i, hist in enumerate(all_histories, 1):\n",
    "    plt.figure()\n",
    "    plt.plot(hist['accuracy'], label='Train Acc')\n",
    "    plt.plot(hist['val_accuracy'], label='Val Acc')\n",
    "    plt.title(f'Fold {i} Accuracy')\n",
    "    plt.xlabel('Epoch')\n",
    "    plt.ylabel('Accuracy')\n",
    "    plt.legend()\n",
    "    plt.grid(True)\n",
    "    plt.show()\n",
    "\n",
    "    plt.figure()\n",
    "    plt.plot(hist['loss'], label='Train Loss')\n",
    "    plt.plot(hist['val_loss'], label='Val Loss')\n",
    "    plt.title(f'Fold {i} Loss')\n",
    "    plt.xlabel('Epoch')\n",
    "    plt.ylabel('Loss')\n",
    "    plt.legend()\n",
    "    plt.grid(True)\n",
    "    plt.show()\n"
   ]
  },
  {
   "cell_type": "code",
   "execution_count": 11,
   "id": "2abc4c3f",
   "metadata": {
    "ExecuteTime": {
     "end_time": "2025-06-14T07:32:05.949380Z",
     "start_time": "2025-06-14T07:32:05.516519Z"
    }
   },
   "outputs": [
    {
     "name": "stderr",
     "output_type": "stream",
     "text": [
      "/home/huuquangdang/.local/lib/python3.10/site-packages/keras/src/engine/training.py:3079: UserWarning: You are saving your model as an HDF5 file via `model.save()`. This file format is considered legacy. We recommend using instead the native Keras format, e.g. `model.save('my_model.keras')`.\n",
      "  saving_api.save_model(\n"
     ]
    }
   ],
   "source": [
    "# Save mô hình fold cuối cùng\n",
    "model.save(\"mobilenetv2_hmm_faceplus_final.h5\")\n"
   ]
  },
  {
   "cell_type": "code",
   "execution_count": 12,
   "id": "9581629f-92c8-4d93-88f5-8c57f3197a4d",
   "metadata": {},
   "outputs": [
    {
     "name": "stdout",
     "output_type": "stream",
     "text": [
      "📊 Kết quả trung bình:\n",
      "fold         3.000000\n",
      "accuracy     0.888338\n",
      "precision    0.941162\n",
      "recall       0.828525\n",
      "f1           0.877464\n",
      "auc          0.880423\n",
      "dtype: float64\n"
     ]
    },
    {
     "data": {
      "text/html": [
       "<div>\n",
       "<style scoped>\n",
       "    .dataframe tbody tr th:only-of-type {\n",
       "        vertical-align: middle;\n",
       "    }\n",
       "\n",
       "    .dataframe tbody tr th {\n",
       "        vertical-align: top;\n",
       "    }\n",
       "\n",
       "    .dataframe thead th {\n",
       "        text-align: right;\n",
       "    }\n",
       "</style>\n",
       "<table border=\"1\" class=\"dataframe\">\n",
       "  <thead>\n",
       "    <tr style=\"text-align: right;\">\n",
       "      <th></th>\n",
       "      <th>fold</th>\n",
       "      <th>accuracy</th>\n",
       "      <th>precision</th>\n",
       "      <th>recall</th>\n",
       "      <th>f1</th>\n",
       "      <th>auc</th>\n",
       "    </tr>\n",
       "  </thead>\n",
       "  <tbody>\n",
       "    <tr>\n",
       "      <th>0</th>\n",
       "      <td>1</td>\n",
       "      <td>0.972350</td>\n",
       "      <td>0.981132</td>\n",
       "      <td>0.962963</td>\n",
       "      <td>0.971963</td>\n",
       "      <td>0.764696</td>\n",
       "    </tr>\n",
       "    <tr>\n",
       "      <th>1</th>\n",
       "      <td>2</td>\n",
       "      <td>0.843318</td>\n",
       "      <td>0.862745</td>\n",
       "      <td>0.814815</td>\n",
       "      <td>0.838095</td>\n",
       "      <td>0.911740</td>\n",
       "    </tr>\n",
       "    <tr>\n",
       "      <th>2</th>\n",
       "      <td>3</td>\n",
       "      <td>0.811060</td>\n",
       "      <td>0.959459</td>\n",
       "      <td>0.651376</td>\n",
       "      <td>0.775956</td>\n",
       "      <td>0.928644</td>\n",
       "    </tr>\n",
       "    <tr>\n",
       "      <th>3</th>\n",
       "      <td>4</td>\n",
       "      <td>0.967742</td>\n",
       "      <td>0.990385</td>\n",
       "      <td>0.944954</td>\n",
       "      <td>0.967136</td>\n",
       "      <td>0.874023</td>\n",
       "    </tr>\n",
       "    <tr>\n",
       "      <th>4</th>\n",
       "      <td>5</td>\n",
       "      <td>0.847222</td>\n",
       "      <td>0.912088</td>\n",
       "      <td>0.768519</td>\n",
       "      <td>0.834171</td>\n",
       "      <td>0.923011</td>\n",
       "    </tr>\n",
       "  </tbody>\n",
       "</table>\n",
       "</div>"
      ],
      "text/plain": [
       "   fold  accuracy  precision    recall        f1       auc\n",
       "0     1  0.972350   0.981132  0.962963  0.971963  0.764696\n",
       "1     2  0.843318   0.862745  0.814815  0.838095  0.911740\n",
       "2     3  0.811060   0.959459  0.651376  0.775956  0.928644\n",
       "3     4  0.967742   0.990385  0.944954  0.967136  0.874023\n",
       "4     5  0.847222   0.912088  0.768519  0.834171  0.923011"
      ]
     },
     "execution_count": 12,
     "metadata": {},
     "output_type": "execute_result"
    }
   ],
   "source": [
    "results_df = pd.DataFrame(results)\n",
    "print(\"📊 Kết quả trung bình:\")\n",
    "print(results_df.mean(numeric_only=True))\n",
    "results_df\n"
   ]
  },
  {
   "cell_type": "code",
   "execution_count": 13,
   "id": "3167c3f6-2212-4cde-ab07-1ae1449219bc",
   "metadata": {},
   "outputs": [
    {
     "name": "stdout",
     "output_type": "stream",
     "text": [
      "📊 Kết quả trung bình:\n",
      "fold         3.000000\n",
      "accuracy     0.888338\n",
      "precision    0.941162\n",
      "recall       0.828525\n",
      "f1           0.877464\n",
      "auc          0.880423\n",
      "dtype: float64\n",
      "\n",
      "✅ CV Accuracy (Mean Accuracy): 0.8883\n",
      "📈 Range Accuracy: 0.1613\n",
      "📉 Accuracy CV% (std/mean): 8.55%\n"
     ]
    },
    {
     "data": {
      "text/html": [
       "<div>\n",
       "<style scoped>\n",
       "    .dataframe tbody tr th:only-of-type {\n",
       "        vertical-align: middle;\n",
       "    }\n",
       "\n",
       "    .dataframe tbody tr th {\n",
       "        vertical-align: top;\n",
       "    }\n",
       "\n",
       "    .dataframe thead th {\n",
       "        text-align: right;\n",
       "    }\n",
       "</style>\n",
       "<table border=\"1\" class=\"dataframe\">\n",
       "  <thead>\n",
       "    <tr style=\"text-align: right;\">\n",
       "      <th></th>\n",
       "      <th>fold</th>\n",
       "      <th>accuracy</th>\n",
       "      <th>precision</th>\n",
       "      <th>recall</th>\n",
       "      <th>f1</th>\n",
       "      <th>auc</th>\n",
       "    </tr>\n",
       "  </thead>\n",
       "  <tbody>\n",
       "    <tr>\n",
       "      <th>0</th>\n",
       "      <td>1</td>\n",
       "      <td>0.972350</td>\n",
       "      <td>0.981132</td>\n",
       "      <td>0.962963</td>\n",
       "      <td>0.971963</td>\n",
       "      <td>0.764696</td>\n",
       "    </tr>\n",
       "    <tr>\n",
       "      <th>1</th>\n",
       "      <td>2</td>\n",
       "      <td>0.843318</td>\n",
       "      <td>0.862745</td>\n",
       "      <td>0.814815</td>\n",
       "      <td>0.838095</td>\n",
       "      <td>0.911740</td>\n",
       "    </tr>\n",
       "    <tr>\n",
       "      <th>2</th>\n",
       "      <td>3</td>\n",
       "      <td>0.811060</td>\n",
       "      <td>0.959459</td>\n",
       "      <td>0.651376</td>\n",
       "      <td>0.775956</td>\n",
       "      <td>0.928644</td>\n",
       "    </tr>\n",
       "    <tr>\n",
       "      <th>3</th>\n",
       "      <td>4</td>\n",
       "      <td>0.967742</td>\n",
       "      <td>0.990385</td>\n",
       "      <td>0.944954</td>\n",
       "      <td>0.967136</td>\n",
       "      <td>0.874023</td>\n",
       "    </tr>\n",
       "    <tr>\n",
       "      <th>4</th>\n",
       "      <td>5</td>\n",
       "      <td>0.847222</td>\n",
       "      <td>0.912088</td>\n",
       "      <td>0.768519</td>\n",
       "      <td>0.834171</td>\n",
       "      <td>0.923011</td>\n",
       "    </tr>\n",
       "  </tbody>\n",
       "</table>\n",
       "</div>"
      ],
      "text/plain": [
       "   fold  accuracy  precision    recall        f1       auc\n",
       "0     1  0.972350   0.981132  0.962963  0.971963  0.764696\n",
       "1     2  0.843318   0.862745  0.814815  0.838095  0.911740\n",
       "2     3  0.811060   0.959459  0.651376  0.775956  0.928644\n",
       "3     4  0.967742   0.990385  0.944954  0.967136  0.874023\n",
       "4     5  0.847222   0.912088  0.768519  0.834171  0.923011"
      ]
     },
     "execution_count": 13,
     "metadata": {},
     "output_type": "execute_result"
    }
   ],
   "source": [
    "import pandas as pd\n",
    "\n",
    "# Giả sử results đã có và bạn đã tạo results_df\n",
    "results_df = pd.DataFrame(results)\n",
    "\n",
    "# Tính các chỉ số\n",
    "accuracy_mean = results_df['accuracy'].mean()\n",
    "accuracy_std = results_df['accuracy'].std()  # dùng sample std (chia cho n-1)\n",
    "accuracy_range = results_df['accuracy'].max() - results_df['accuracy'].min()\n",
    "accuracy_cv_percent = (accuracy_std / accuracy_mean) * 100\n",
    "\n",
    "# In kết quả\n",
    "print(\"📊 Kết quả trung bình:\")\n",
    "print(results_df.mean(numeric_only=True))\n",
    "\n",
    "print(f\"\\n✅ CV Accuracy (Mean Accuracy): {accuracy_mean:.4f}\")\n",
    "print(f\"📈 Range Accuracy: {accuracy_range:.4f}\")\n",
    "print(f\"📉 Accuracy CV% (std/mean): {accuracy_cv_percent:.2f}%\")\n",
    "\n",
    "# Hiển thị bảng kết quả nếu cần\n",
    "results_df\n"
   ]
  },
  {
   "cell_type": "code",
   "execution_count": null,
   "id": "c5a4efdd-8ae0-4309-9f39-3a151116abb9",
   "metadata": {},
   "outputs": [],
   "source": []
  }
 ],
 "metadata": {
  "kernelspec": {
   "display_name": "Python 3",
   "language": "python",
   "name": "python3"
  },
  "language_info": {
   "codemirror_mode": {
    "name": "ipython",
    "version": 3
   },
   "file_extension": ".py",
   "mimetype": "text/x-python",
   "name": "python",
   "nbconvert_exporter": "python",
   "pygments_lexer": "ipython3",
   "version": "3.10.12"
  }
 },
 "nbformat": 4,
 "nbformat_minor": 5
}

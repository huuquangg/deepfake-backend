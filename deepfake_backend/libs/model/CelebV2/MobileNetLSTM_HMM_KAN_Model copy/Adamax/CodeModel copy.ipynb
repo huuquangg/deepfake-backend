{
 "cells": [
  {
   "cell_type": "code",
   "execution_count": 1,
   "id": "ecb6a351",
   "metadata": {},
   "outputs": [],
   "source": [
    "# %pip install -r /home/huuquangdang/huu.quang.dang/thesis/deepfake/deepfake_backend/libs/model/CelebV2/requirements.txt\n",
    "\n",
    "# # Step 1: Uninstall incompatible NumPy version\n",
    "# %pip uninstall numpy -y\n",
    "# # Step 2: Install compatible NumPy version (< 2.0.0)\n",
    "# %pip install \"numpy>=1.21.0,<2.0.0\"\n",
    "# # Step 3: Verify NumPy version\n",
    "# import numpy as np\n",
    "# print(f\"✅ NumPy version: {np.__version__}\")\n",
    "# print(f\"Expected: < 2.0.0 (you should see 1.x.x)\")"
   ]
  },
  {
   "cell_type": "code",
   "execution_count": 2,
   "id": "149fd0c1",
   "metadata": {
    "ExecuteTime": {
     "end_time": "2025-08-13T09:44:38.582738Z",
     "start_time": "2025-08-13T09:44:38.568745Z"
    }
   },
   "outputs": [
    {
     "name": "stderr",
     "output_type": "stream",
     "text": [
      "2025-10-13 23:07:01.706774: I tensorflow/core/util/port.cc:111] oneDNN custom operations are on. You may see slightly different numerical results due to floating-point round-off errors from different computation orders. To turn them off, set the environment variable `TF_ENABLE_ONEDNN_OPTS=0`.\n",
      "2025-10-13 23:07:01.795858: I tensorflow/tsl/cuda/cudart_stub.cc:28] Could not find cuda drivers on your machine, GPU will not be used.\n",
      "2025-10-13 23:07:02.166445: E tensorflow/compiler/xla/stream_executor/cuda/cuda_dnn.cc:9342] Unable to register cuDNN factory: Attempting to register factory for plugin cuDNN when one has already been registered\n",
      "2025-10-13 23:07:02.166555: E tensorflow/compiler/xla/stream_executor/cuda/cuda_fft.cc:609] Unable to register cuFFT factory: Attempting to register factory for plugin cuFFT when one has already been registered\n",
      "2025-10-13 23:07:02.169516: E tensorflow/compiler/xla/stream_executor/cuda/cuda_blas.cc:1518] Unable to register cuBLAS factory: Attempting to register factory for plugin cuBLAS when one has already been registered\n",
      "2025-10-13 23:07:02.403305: I tensorflow/tsl/cuda/cudart_stub.cc:28] Could not find cuda drivers on your machine, GPU will not be used.\n",
      "2025-10-13 23:07:02.405420: I tensorflow/core/platform/cpu_feature_guard.cc:182] This TensorFlow binary is optimized to use available CPU instructions in performance-critical operations.\n",
      "To enable the following instructions: AVX2 AVX_VNNI FMA, in other operations, rebuild TensorFlow with the appropriate compiler flags.\n",
      "2025-10-13 23:07:03.317742: W tensorflow/compiler/tf2tensorrt/utils/py_utils.cc:38] TF-TRT Warning: Could not find TensorRT\n"
     ]
    }
   ],
   "source": [
    "# Built-in\n",
    "import os\n",
    "import cv2\n",
    "import numpy as np\n",
    "import pandas as pd\n",
    "import matplotlib.pyplot as plt\n",
    "\n",
    "# TensorFlow / Keras\n",
    "import tensorflow as tf\n",
    "from tensorflow.keras.models import Model\n",
    "from tensorflow.keras.layers import (\n",
    "    Input, TimeDistributed, GlobalAveragePooling2D, LSTM, Dense, Dropout\n",
    ")\n",
    "from tensorflow.keras.applications import MobileNetV2\n",
    "from tensorflow.keras.optimizers.legacy import Adam\n",
    "from tensorflow.keras.callbacks import EarlyStopping, ModelCheckpoint, ReduceLROnPlateau\n",
    "from tensorflow.keras.preprocessing.image import ImageDataGenerator\n",
    "\n",
    "# Scikit-learn\n",
    "from sklearn.model_selection import StratifiedKFold, train_test_split\n",
    "from sklearn.metrics import (\n",
    "    accuracy_score, precision_score, recall_score, f1_score, roc_auc_score\n",
    ")"
   ]
  },
  {
   "cell_type": "code",
   "execution_count": 3,
   "id": "46ecf6429cdc7d99",
   "metadata": {
    "ExecuteTime": {
     "end_time": "2025-06-16T15:06:51.462172Z",
     "start_time": "2025-06-16T15:06:51.281795Z"
    }
   },
   "outputs": [],
   "source": [
    "# Define the path to the dataset\n",
    "base_path = '/home/huuquangdang/huu.quang.dang/thesis/Dataset/celeb_df_crop'\n",
    "categories = ['fake', 'real']\n",
    "\n",
    "# Initialize a list to hold data\n",
    "data = []\n",
    "\n",
    "# Process each category\n",
    "for category in categories:\n",
    "    category_path = os.path.join(base_path, category)\n",
    "    for filename in os.listdir(category_path):\n",
    "        if filename.endswith('.jpg'):\n",
    "            try:\n",
    "                id_part, frame_part = filename.split('_frame_')\n",
    "                id_ = id_part.split('_')[0]\n",
    "                frame = frame_part.split('.')[0]\n",
    "                data.append({\n",
    "                    'filename': filename,\n",
    "                    'path': os.path.join(category_path, filename),\n",
    "                    'id': int(id_),\n",
    "                    'frame': int(frame),\n",
    "                    'label': category\n",
    "                })\n",
    "            except ValueError:\n",
    "                continue\n",
    "\n",
    "# Convert the data to a DataFrame\n",
    "df = pd.DataFrame(data)"
   ]
  },
  {
   "cell_type": "code",
   "execution_count": 4,
   "id": "fc17e5b3",
   "metadata": {
    "ExecuteTime": {
     "end_time": "2025-06-16T15:06:53.591689Z",
     "start_time": "2025-06-16T15:06:53.575495Z"
    }
   },
   "outputs": [
    {
     "data": {
      "text/html": [
       "<div>\n",
       "<style scoped>\n",
       "    .dataframe tbody tr th:only-of-type {\n",
       "        vertical-align: middle;\n",
       "    }\n",
       "\n",
       "    .dataframe tbody tr th {\n",
       "        vertical-align: top;\n",
       "    }\n",
       "\n",
       "    .dataframe thead th {\n",
       "        text-align: right;\n",
       "    }\n",
       "</style>\n",
       "<table border=\"1\" class=\"dataframe\">\n",
       "  <thead>\n",
       "    <tr style=\"text-align: right;\">\n",
       "      <th></th>\n",
       "      <th>filename</th>\n",
       "      <th>path</th>\n",
       "      <th>id</th>\n",
       "      <th>frame</th>\n",
       "      <th>label</th>\n",
       "      <th>label_id</th>\n",
       "    </tr>\n",
       "  </thead>\n",
       "  <tbody>\n",
       "    <tr>\n",
       "      <th>0</th>\n",
       "      <td>264_id37_0009_frame_0001.jpg</td>\n",
       "      <td>/home/huuquangdang/huu.quang.dang/thesis/Datas...</td>\n",
       "      <td>264</td>\n",
       "      <td>1</td>\n",
       "      <td>fake</td>\n",
       "      <td>0</td>\n",
       "    </tr>\n",
       "    <tr>\n",
       "      <th>1</th>\n",
       "      <td>271_id38_0006_frame_0014.jpg</td>\n",
       "      <td>/home/huuquangdang/huu.quang.dang/thesis/Datas...</td>\n",
       "      <td>271</td>\n",
       "      <td>14</td>\n",
       "      <td>fake</td>\n",
       "      <td>0</td>\n",
       "    </tr>\n",
       "    <tr>\n",
       "      <th>2</th>\n",
       "      <td>015_id10_0006_frame_0027.jpg</td>\n",
       "      <td>/home/huuquangdang/huu.quang.dang/thesis/Datas...</td>\n",
       "      <td>15</td>\n",
       "      <td>27</td>\n",
       "      <td>fake</td>\n",
       "      <td>0</td>\n",
       "    </tr>\n",
       "    <tr>\n",
       "      <th>3</th>\n",
       "      <td>392_id4_0007_frame_0028.jpg</td>\n",
       "      <td>/home/huuquangdang/huu.quang.dang/thesis/Datas...</td>\n",
       "      <td>392</td>\n",
       "      <td>28</td>\n",
       "      <td>fake</td>\n",
       "      <td>0</td>\n",
       "    </tr>\n",
       "    <tr>\n",
       "      <th>4</th>\n",
       "      <td>029_id11_0010_frame_0004.jpg</td>\n",
       "      <td>/home/huuquangdang/huu.quang.dang/thesis/Datas...</td>\n",
       "      <td>29</td>\n",
       "      <td>4</td>\n",
       "      <td>fake</td>\n",
       "      <td>0</td>\n",
       "    </tr>\n",
       "    <tr>\n",
       "      <th>...</th>\n",
       "      <td>...</td>\n",
       "      <td>...</td>\n",
       "      <td>...</td>\n",
       "      <td>...</td>\n",
       "      <td>...</td>\n",
       "      <td>...</td>\n",
       "    </tr>\n",
       "    <tr>\n",
       "      <th>32367</th>\n",
       "      <td>475_id58_0004_frame_0012.jpg</td>\n",
       "      <td>/home/huuquangdang/huu.quang.dang/thesis/Datas...</td>\n",
       "      <td>475</td>\n",
       "      <td>12</td>\n",
       "      <td>real</td>\n",
       "      <td>1</td>\n",
       "    </tr>\n",
       "    <tr>\n",
       "      <th>32368</th>\n",
       "      <td>014_id10_0005_frame_0012.jpg</td>\n",
       "      <td>/home/huuquangdang/huu.quang.dang/thesis/Datas...</td>\n",
       "      <td>14</td>\n",
       "      <td>12</td>\n",
       "      <td>real</td>\n",
       "      <td>1</td>\n",
       "    </tr>\n",
       "    <tr>\n",
       "      <th>32369</th>\n",
       "      <td>365_id48_0000_frame_0023.jpg</td>\n",
       "      <td>/home/huuquangdang/huu.quang.dang/thesis/Datas...</td>\n",
       "      <td>365</td>\n",
       "      <td>23</td>\n",
       "      <td>real</td>\n",
       "      <td>1</td>\n",
       "    </tr>\n",
       "    <tr>\n",
       "      <th>32370</th>\n",
       "      <td>091_id20_0000_frame_0026.jpg</td>\n",
       "      <td>/home/huuquangdang/huu.quang.dang/thesis/Datas...</td>\n",
       "      <td>91</td>\n",
       "      <td>26</td>\n",
       "      <td>real</td>\n",
       "      <td>1</td>\n",
       "    </tr>\n",
       "    <tr>\n",
       "      <th>32371</th>\n",
       "      <td>356_id47_0001_frame_0019.jpg</td>\n",
       "      <td>/home/huuquangdang/huu.quang.dang/thesis/Datas...</td>\n",
       "      <td>356</td>\n",
       "      <td>19</td>\n",
       "      <td>real</td>\n",
       "      <td>1</td>\n",
       "    </tr>\n",
       "  </tbody>\n",
       "</table>\n",
       "<p>32372 rows × 6 columns</p>\n",
       "</div>"
      ],
      "text/plain": [
       "                           filename  \\\n",
       "0      264_id37_0009_frame_0001.jpg   \n",
       "1      271_id38_0006_frame_0014.jpg   \n",
       "2      015_id10_0006_frame_0027.jpg   \n",
       "3       392_id4_0007_frame_0028.jpg   \n",
       "4      029_id11_0010_frame_0004.jpg   \n",
       "...                             ...   \n",
       "32367  475_id58_0004_frame_0012.jpg   \n",
       "32368  014_id10_0005_frame_0012.jpg   \n",
       "32369  365_id48_0000_frame_0023.jpg   \n",
       "32370  091_id20_0000_frame_0026.jpg   \n",
       "32371  356_id47_0001_frame_0019.jpg   \n",
       "\n",
       "                                                    path   id  frame label  \\\n",
       "0      /home/huuquangdang/huu.quang.dang/thesis/Datas...  264      1  fake   \n",
       "1      /home/huuquangdang/huu.quang.dang/thesis/Datas...  271     14  fake   \n",
       "2      /home/huuquangdang/huu.quang.dang/thesis/Datas...   15     27  fake   \n",
       "3      /home/huuquangdang/huu.quang.dang/thesis/Datas...  392     28  fake   \n",
       "4      /home/huuquangdang/huu.quang.dang/thesis/Datas...   29      4  fake   \n",
       "...                                                  ...  ...    ...   ...   \n",
       "32367  /home/huuquangdang/huu.quang.dang/thesis/Datas...  475     12  real   \n",
       "32368  /home/huuquangdang/huu.quang.dang/thesis/Datas...   14     12  real   \n",
       "32369  /home/huuquangdang/huu.quang.dang/thesis/Datas...  365     23  real   \n",
       "32370  /home/huuquangdang/huu.quang.dang/thesis/Datas...   91     26  real   \n",
       "32371  /home/huuquangdang/huu.quang.dang/thesis/Datas...  356     19  real   \n",
       "\n",
       "       label_id  \n",
       "0             0  \n",
       "1             0  \n",
       "2             0  \n",
       "3             0  \n",
       "4             0  \n",
       "...         ...  \n",
       "32367         1  \n",
       "32368         1  \n",
       "32369         1  \n",
       "32370         1  \n",
       "32371         1  \n",
       "\n",
       "[32372 rows x 6 columns]"
      ]
     },
     "execution_count": 4,
     "metadata": {},
     "output_type": "execute_result"
    }
   ],
   "source": [
    "# Đảm bảo đã có df_cropped.csv chứa đường dẫn ảnh đã crop\n",
    "df['label_id'] = df['label'].map({'fake': 0, 'real': 1})\n",
    "df\n"
   ]
  },
  {
   "cell_type": "code",
   "execution_count": 5,
   "id": "c24e6874-6fe8-4dff-9f0d-5c7d94337ca7",
   "metadata": {
    "ExecuteTime": {
     "end_time": "2025-06-16T15:06:56.671685Z",
     "start_time": "2025-06-16T15:06:55.874053Z"
    }
   },
   "outputs": [],
   "source": [
    "df['video_key'] = df['id'].astype(str) + \"_\" + df['label']\n",
    "\n",
    "from collections import defaultdict\n",
    "\n",
    "video_dict = defaultdict(list)\n",
    "labels = {}\n",
    "\n",
    "for _, row in df.iterrows():\n",
    "    key = row['video_key']\n",
    "    video_dict[key].append(row['path'])\n",
    "    labels[key] = row['label_id']\n"
   ]
  },
  {
   "cell_type": "code",
   "execution_count": 6,
   "id": "fc8891d0-4a1f-4bcd-97f2-0b9577706cb5",
   "metadata": {
    "ExecuteTime": {
     "end_time": "2025-06-16T06:50:19.887250Z",
     "start_time": "2025-06-16T06:50:19.279020Z"
    }
   },
   "outputs": [],
   "source": [
    "# !pip install opencv-python"
   ]
  },
  {
   "cell_type": "code",
   "execution_count": 7,
   "id": "016d786b",
   "metadata": {},
   "outputs": [
    {
     "name": "stdout",
     "output_type": "stream",
     "text": [
      "📂 Loading pre-extracted OpenFace features from CSV files...\n",
      "✅ Loaded 16223 feature vectors\n",
      "✅ Each vector has 674 dimensions\n",
      "✅ Feature dictionary ready for 1-to-1 frame mapping\n"
     ]
    }
   ],
   "source": [
    "# Load pre-extracted CSV features for feature fusion\n",
    "print(\"📂 Loading pre-extracted OpenFace features from CSV files...\")\n",
    "csv_fake_path = '/home/huuquangdang/huu.quang.dang/thesis/deepfake/deepfake_backend/libs/tools/fake/op_vectors_fake_v1.csv'\n",
    "csv_real_path = '/home/huuquangdang/huu.quang.dang/thesis/deepfake/deepfake_backend/libs/tools/real/op_vectors_real_v1.csv'\n",
    "\n",
    "df_fake_features = pd.read_csv(csv_fake_path, header=None)\n",
    "df_real_features = pd.read_csv(csv_real_path, header=None)\n",
    "\n",
    "# Combine both dataframes\n",
    "df_all_features = pd.concat([df_fake_features, df_real_features], ignore_index=True)\n",
    "df_all_features.columns = ['filename'] + [f'feat_{i}' for i in range(df_all_features.shape[1] - 1)]\n",
    "\n",
    "# Create a dictionary for fast lookup: filename -> features\n",
    "openface_features = {}\n",
    "for _, row in df_all_features.iterrows():\n",
    "    filename = row['filename']\n",
    "    features = row.iloc[1:].values.astype('float32')\n",
    "    openface_features[filename] = features\n",
    "\n",
    "csv_feature_dim = len(features)\n",
    "print(f\"✅ Loaded {len(openface_features)} feature vectors\")\n",
    "print(f\"✅ Each vector has {csv_feature_dim} dimensions\")\n",
    "print(f\"✅ Feature dictionary ready for 1-to-1 frame mapping\")"
   ]
  },
  {
   "cell_type": "code",
   "execution_count": 8,
   "id": "33d6081c",
   "metadata": {},
   "outputs": [
    {
     "name": "stdout",
     "output_type": "stream",
     "text": [
      "🔧 Computing CSV feature statistics for normalization...\n",
      "✅ CSV feature normalization fitted on 10840 samples\n",
      "\n",
      "🚀 Starting IMPROVED K-Fold training with:\n",
      "   ✅ Normalized CSV features\n",
      "   ✅ Partially unfrozen MobileNet (last 20 layers)\n",
      "   ✅ Larger LSTM (128→64 units)\n",
      "   ✅ Lower dropout (0.3 instead of 0.5)\n",
      "   ✅ BatchNormalization layers\n",
      "   ✅ Additional Dense layer\n",
      "\n",
      "\n",
      "============================================================\n",
      "📊 Fold 1/5\n",
      "============================================================\n",
      "\n",
      "📈 Model Summary:\n",
      "   - Total params: 3,384,457\n",
      "   - Trainable params: 2,328,261\n",
      "   - MobileNet: Last 20 layers trainable\n",
      "   - LSTM: 128→64 units (stacked)\n",
      "   - Learning rate: 3e-4\n",
      "Epoch 1/50\n",
      "25/25 [==============================] - ETA: 0s - loss: 0.6642 - accuracy: 0.6051\n",
      "Epoch 1: val_accuracy improved from -inf to 0.49425, saving model to best_model_fold1_improved.h5\n",
      "25/25 [==============================] - 93s 4s/step - loss: 0.6642 - accuracy: 0.6051 - val_loss: 0.6922 - val_accuracy: 0.4943 - lr: 3.0000e-04\n",
      "Epoch 2/50\n"
     ]
    },
    {
     "name": "stderr",
     "output_type": "stream",
     "text": [
      "/home/huuquangdang/.local/lib/python3.10/site-packages/keras/src/engine/training.py:3079: UserWarning: You are saving your model as an HDF5 file via `model.save()`. This file format is considered legacy. We recommend using instead the native Keras format, e.g. `model.save('my_model.keras')`.\n",
      "  saving_api.save_model(\n"
     ]
    },
    {
     "name": "stdout",
     "output_type": "stream",
     "text": [
      "25/25 [==============================] - ETA: 0s - loss: 0.5553 - accuracy: 0.7885\n",
      "Epoch 2: val_accuracy did not improve from 0.49425\n",
      "25/25 [==============================] - 81s 3s/step - loss: 0.5553 - accuracy: 0.7885 - val_loss: 0.7913 - val_accuracy: 0.4943 - lr: 3.0000e-04\n",
      "Epoch 3/50\n",
      "25/25 [==============================] - ETA: 0s - loss: 0.4288 - accuracy: 0.8526\n",
      "Epoch 3: val_accuracy did not improve from 0.49425\n",
      "25/25 [==============================] - 81s 3s/step - loss: 0.4288 - accuracy: 0.8526 - val_loss: 0.9788 - val_accuracy: 0.4943 - lr: 3.0000e-04\n",
      "Epoch 4/50\n",
      "25/25 [==============================] - ETA: 0s - loss: 0.3127 - accuracy: 0.9128\n",
      "Epoch 4: val_accuracy did not improve from 0.49425\n",
      "\n",
      "Epoch 4: ReduceLROnPlateau reducing learning rate to 0.0001500000071246177.\n",
      "25/25 [==============================] - 79s 3s/step - loss: 0.3127 - accuracy: 0.9128 - val_loss: 1.2950 - val_accuracy: 0.4943 - lr: 3.0000e-04\n",
      "Epoch 5/50\n",
      "25/25 [==============================] - ETA: 0s - loss: 0.2173 - accuracy: 0.9449\n",
      "Epoch 5: val_accuracy did not improve from 0.49425\n",
      "25/25 [==============================] - 79s 3s/step - loss: 0.2173 - accuracy: 0.9449 - val_loss: 1.2758 - val_accuracy: 0.4943 - lr: 1.5000e-04\n",
      "Epoch 6/50\n",
      "25/25 [==============================] - ETA: 0s - loss: 0.1815 - accuracy: 0.9538\n",
      "Epoch 6: val_accuracy improved from 0.49425 to 0.50575, saving model to best_model_fold1_improved.h5\n",
      "25/25 [==============================] - 79s 3s/step - loss: 0.1815 - accuracy: 0.9538 - val_loss: 1.3568 - val_accuracy: 0.5057 - lr: 1.5000e-04\n",
      "Epoch 7/50\n"
     ]
    },
    {
     "name": "stderr",
     "output_type": "stream",
     "text": [
      "/home/huuquangdang/.local/lib/python3.10/site-packages/keras/src/engine/training.py:3079: UserWarning: You are saving your model as an HDF5 file via `model.save()`. This file format is considered legacy. We recommend using instead the native Keras format, e.g. `model.save('my_model.keras')`.\n",
      "  saving_api.save_model(\n"
     ]
    },
    {
     "name": "stdout",
     "output_type": "stream",
     "text": [
      "25/25 [==============================] - ETA: 0s - loss: 0.1479 - accuracy: 0.9667\n",
      "Epoch 7: val_accuracy did not improve from 0.50575\n",
      "\n",
      "Epoch 7: ReduceLROnPlateau reducing learning rate to 7.500000356230885e-05.\n",
      "25/25 [==============================] - 79s 3s/step - loss: 0.1479 - accuracy: 0.9667 - val_loss: 1.4951 - val_accuracy: 0.5057 - lr: 1.5000e-04\n",
      "Epoch 8/50\n",
      "25/25 [==============================] - ETA: 0s - loss: 0.1270 - accuracy: 0.9667\n",
      "Epoch 8: val_accuracy did not improve from 0.50575\n",
      "25/25 [==============================] - 80s 3s/step - loss: 0.1270 - accuracy: 0.9667 - val_loss: 1.5847 - val_accuracy: 0.5057 - lr: 7.5000e-05\n",
      "Epoch 9/50\n",
      "25/25 [==============================] - ETA: 0s - loss: 0.1164 - accuracy: 0.9667\n",
      "Epoch 9: val_accuracy improved from 0.50575 to 0.51724, saving model to best_model_fold1_improved.h5\n",
      "25/25 [==============================] - 80s 3s/step - loss: 0.1164 - accuracy: 0.9667 - val_loss: 1.6228 - val_accuracy: 0.5172 - lr: 7.5000e-05\n",
      "Epoch 10/50\n"
     ]
    },
    {
     "name": "stderr",
     "output_type": "stream",
     "text": [
      "/home/huuquangdang/.local/lib/python3.10/site-packages/keras/src/engine/training.py:3079: UserWarning: You are saving your model as an HDF5 file via `model.save()`. This file format is considered legacy. We recommend using instead the native Keras format, e.g. `model.save('my_model.keras')`.\n",
      "  saving_api.save_model(\n"
     ]
    },
    {
     "name": "stdout",
     "output_type": "stream",
     "text": [
      "25/25 [==============================] - ETA: 0s - loss: 0.1013 - accuracy: 0.9833\n",
      "Epoch 10: val_accuracy did not improve from 0.51724\n",
      "\n",
      "Epoch 10: ReduceLROnPlateau reducing learning rate to 3.7500001781154424e-05.\n",
      "25/25 [==============================] - 79s 3s/step - loss: 0.1013 - accuracy: 0.9833 - val_loss: 1.6370 - val_accuracy: 0.5172 - lr: 7.5000e-05\n",
      "Epoch 11/50\n",
      "25/25 [==============================] - ETA: 0s - loss: 0.0914 - accuracy: 0.9808\n",
      "Epoch 11: val_accuracy did not improve from 0.51724\n",
      "25/25 [==============================] - 79s 3s/step - loss: 0.0914 - accuracy: 0.9808 - val_loss: 1.6651 - val_accuracy: 0.5172 - lr: 3.7500e-05\n",
      "Epoch 12/50\n",
      "25/25 [==============================] - ETA: 0s - loss: 0.0795 - accuracy: 0.9885\n",
      "Epoch 12: val_accuracy did not improve from 0.51724\n",
      "25/25 [==============================] - 79s 3s/step - loss: 0.0795 - accuracy: 0.9885 - val_loss: 1.6900 - val_accuracy: 0.5172 - lr: 3.7500e-05\n",
      "Epoch 13/50\n",
      "25/25 [==============================] - ETA: 0s - loss: 0.0763 - accuracy: 0.9897\n",
      "Epoch 13: val_accuracy improved from 0.51724 to 0.52874, saving model to best_model_fold1_improved.h5\n",
      "\n",
      "Epoch 13: ReduceLROnPlateau reducing learning rate to 1.8750000890577212e-05.\n",
      "25/25 [==============================] - 80s 3s/step - loss: 0.0763 - accuracy: 0.9897 - val_loss: 1.6933 - val_accuracy: 0.5287 - lr: 3.7500e-05\n",
      "Epoch 14/50\n"
     ]
    },
    {
     "name": "stderr",
     "output_type": "stream",
     "text": [
      "/home/huuquangdang/.local/lib/python3.10/site-packages/keras/src/engine/training.py:3079: UserWarning: You are saving your model as an HDF5 file via `model.save()`. This file format is considered legacy. We recommend using instead the native Keras format, e.g. `model.save('my_model.keras')`.\n",
      "  saving_api.save_model(\n"
     ]
    },
    {
     "name": "stdout",
     "output_type": "stream",
     "text": [
      "25/25 [==============================] - ETA: 0s - loss: 0.0738 - accuracy: 0.9859\n",
      "Epoch 14: val_accuracy did not improve from 0.52874\n",
      "25/25 [==============================] - 80s 3s/step - loss: 0.0738 - accuracy: 0.9859 - val_loss: 1.6615 - val_accuracy: 0.5287 - lr: 1.8750e-05\n",
      "Epoch 15/50\n",
      "25/25 [==============================] - ETA: 0s - loss: 0.0780 - accuracy: 0.9885\n",
      "Epoch 15: val_accuracy did not improve from 0.52874\n",
      "25/25 [==============================] - 80s 3s/step - loss: 0.0780 - accuracy: 0.9885 - val_loss: 1.6538 - val_accuracy: 0.5287 - lr: 1.8750e-05\n",
      "Epoch 16/50\n",
      "25/25 [==============================] - ETA: 0s - loss: 0.0677 - accuracy: 0.9923\n",
      "Epoch 16: val_accuracy improved from 0.52874 to 0.55172, saving model to best_model_fold1_improved.h5\n",
      "\n",
      "Epoch 16: ReduceLROnPlateau reducing learning rate to 9.375000445288606e-06.\n",
      "25/25 [==============================] - 80s 3s/step - loss: 0.0677 - accuracy: 0.9923 - val_loss: 1.6362 - val_accuracy: 0.5517 - lr: 1.8750e-05\n",
      "Epoch 17/50\n"
     ]
    },
    {
     "name": "stderr",
     "output_type": "stream",
     "text": [
      "/home/huuquangdang/.local/lib/python3.10/site-packages/keras/src/engine/training.py:3079: UserWarning: You are saving your model as an HDF5 file via `model.save()`. This file format is considered legacy. We recommend using instead the native Keras format, e.g. `model.save('my_model.keras')`.\n",
      "  saving_api.save_model(\n"
     ]
    },
    {
     "name": "stdout",
     "output_type": "stream",
     "text": [
      "25/25 [==============================] - ETA: 0s - loss: 0.0646 - accuracy: 0.9936\n",
      "Epoch 17: val_accuracy improved from 0.55172 to 0.57471, saving model to best_model_fold1_improved.h5\n",
      "25/25 [==============================] - 83s 3s/step - loss: 0.0646 - accuracy: 0.9936 - val_loss: 1.6151 - val_accuracy: 0.5747 - lr: 9.3750e-06\n",
      "Epoch 18/50\n"
     ]
    },
    {
     "name": "stderr",
     "output_type": "stream",
     "text": [
      "/home/huuquangdang/.local/lib/python3.10/site-packages/keras/src/engine/training.py:3079: UserWarning: You are saving your model as an HDF5 file via `model.save()`. This file format is considered legacy. We recommend using instead the native Keras format, e.g. `model.save('my_model.keras')`.\n",
      "  saving_api.save_model(\n"
     ]
    },
    {
     "name": "stdout",
     "output_type": "stream",
     "text": [
      "25/25 [==============================] - ETA: 0s - loss: 0.0684 - accuracy: 0.9897\n",
      "Epoch 18: val_accuracy did not improve from 0.57471\n",
      "25/25 [==============================] - 87s 3s/step - loss: 0.0684 - accuracy: 0.9897 - val_loss: 1.5944 - val_accuracy: 0.5747 - lr: 9.3750e-06\n",
      "Epoch 19/50\n",
      "25/25 [==============================] - ETA: 0s - loss: 0.0651 - accuracy: 0.9910\n",
      "Epoch 19: val_accuracy improved from 0.57471 to 0.58621, saving model to best_model_fold1_improved.h5\n",
      "\n",
      "Epoch 19: ReduceLROnPlateau reducing learning rate to 4.687500222644303e-06.\n",
      "25/25 [==============================] - 86s 3s/step - loss: 0.0651 - accuracy: 0.9910 - val_loss: 1.5761 - val_accuracy: 0.5862 - lr: 9.3750e-06\n",
      "Epoch 20/50\n"
     ]
    },
    {
     "name": "stderr",
     "output_type": "stream",
     "text": [
      "/home/huuquangdang/.local/lib/python3.10/site-packages/keras/src/engine/training.py:3079: UserWarning: You are saving your model as an HDF5 file via `model.save()`. This file format is considered legacy. We recommend using instead the native Keras format, e.g. `model.save('my_model.keras')`.\n",
      "  saving_api.save_model(\n"
     ]
    },
    {
     "name": "stdout",
     "output_type": "stream",
     "text": [
      "25/25 [==============================] - ETA: 0s - loss: 0.0663 - accuracy: 0.9910\n",
      "Epoch 20: val_accuracy did not improve from 0.58621\n",
      "25/25 [==============================] - 85s 3s/step - loss: 0.0663 - accuracy: 0.9910 - val_loss: 1.5505 - val_accuracy: 0.5862 - lr: 4.6875e-06\n",
      "Epoch 21/50\n",
      "25/25 [==============================] - ETA: 0s - loss: 0.0647 - accuracy: 0.9936\n",
      "Epoch 21: val_accuracy did not improve from 0.58621\n",
      "25/25 [==============================] - 85s 3s/step - loss: 0.0647 - accuracy: 0.9936 - val_loss: 1.5282 - val_accuracy: 0.5862 - lr: 4.6875e-06\n",
      "Epoch 22/50\n",
      "25/25 [==============================] - ETA: 0s - loss: 0.0658 - accuracy: 0.9910\n",
      "Epoch 22: val_accuracy did not improve from 0.58621\n",
      "\n",
      "Epoch 22: ReduceLROnPlateau reducing learning rate to 2.3437501113221515e-06.\n",
      "25/25 [==============================] - 85s 3s/step - loss: 0.0658 - accuracy: 0.9910 - val_loss: 1.5012 - val_accuracy: 0.5862 - lr: 4.6875e-06\n",
      "Epoch 23/50\n",
      "25/25 [==============================] - ETA: 0s - loss: 0.0647 - accuracy: 0.9910\n",
      "Epoch 23: val_accuracy did not improve from 0.58621\n",
      "25/25 [==============================] - 84s 3s/step - loss: 0.0647 - accuracy: 0.9910 - val_loss: 1.4669 - val_accuracy: 0.5862 - lr: 2.3438e-06\n",
      "Epoch 24/50\n",
      "25/25 [==============================] - ETA: 0s - loss: 0.0657 - accuracy: 0.9910\n",
      "Epoch 24: val_accuracy improved from 0.58621 to 0.60920, saving model to best_model_fold1_improved.h5\n",
      "25/25 [==============================] - 115s 5s/step - loss: 0.0657 - accuracy: 0.9910 - val_loss: 1.4352 - val_accuracy: 0.6092 - lr: 2.3438e-06\n"
     ]
    },
    {
     "name": "stderr",
     "output_type": "stream",
     "text": [
      "/home/huuquangdang/.local/lib/python3.10/site-packages/keras/src/engine/training.py:3079: UserWarning: You are saving your model as an HDF5 file via `model.save()`. This file format is considered legacy. We recommend using instead the native Keras format, e.g. `model.save('my_model.keras')`.\n",
      "  saving_api.save_model(\n"
     ]
    },
    {
     "name": "stdout",
     "output_type": "stream",
     "text": [
      "Epoch 25/50\n",
      "25/25 [==============================] - ETA: 0s - loss: 0.0604 - accuracy: 0.9910\n",
      "Epoch 25: val_accuracy did not improve from 0.60920\n",
      "\n",
      "Epoch 25: ReduceLROnPlateau reducing learning rate to 1.1718750556610757e-06.\n",
      "25/25 [==============================] - 125s 5s/step - loss: 0.0604 - accuracy: 0.9910 - val_loss: 1.4011 - val_accuracy: 0.6092 - lr: 2.3438e-06\n",
      "Epoch 26/50\n",
      "25/25 [==============================] - ETA: 0s - loss: 0.0696 - accuracy: 0.9859\n",
      "Epoch 26: val_accuracy did not improve from 0.60920\n",
      "25/25 [==============================] - 83s 3s/step - loss: 0.0696 - accuracy: 0.9859 - val_loss: 1.3627 - val_accuracy: 0.6092 - lr: 1.1719e-06\n",
      "Epoch 27/50\n",
      "25/25 [==============================] - ETA: 0s - loss: 0.0616 - accuracy: 0.9897\n",
      "Epoch 27: val_accuracy did not improve from 0.60920\n",
      "25/25 [==============================] - 116s 5s/step - loss: 0.0616 - accuracy: 0.9897 - val_loss: 1.3233 - val_accuracy: 0.6092 - lr: 1.1719e-06\n",
      "Epoch 28/50\n",
      "25/25 [==============================] - ETA: 0s - loss: 0.0651 - accuracy: 0.9885\n",
      "Epoch 28: val_accuracy improved from 0.60920 to 0.62069, saving model to best_model_fold1_improved.h5\n",
      "\n",
      "Epoch 28: ReduceLROnPlateau reducing learning rate to 1e-06.\n",
      "25/25 [==============================] - 124s 5s/step - loss: 0.0651 - accuracy: 0.9885 - val_loss: 1.2848 - val_accuracy: 0.6207 - lr: 1.1719e-06\n",
      "Epoch 29/50\n"
     ]
    },
    {
     "name": "stderr",
     "output_type": "stream",
     "text": [
      "/home/huuquangdang/.local/lib/python3.10/site-packages/keras/src/engine/training.py:3079: UserWarning: You are saving your model as an HDF5 file via `model.save()`. This file format is considered legacy. We recommend using instead the native Keras format, e.g. `model.save('my_model.keras')`.\n",
      "  saving_api.save_model(\n"
     ]
    },
    {
     "name": "stdout",
     "output_type": "stream",
     "text": [
      "25/25 [==============================] - ETA: 0s - loss: 0.0633 - accuracy: 0.9910\n",
      "Epoch 29: val_accuracy improved from 0.62069 to 0.63218, saving model to best_model_fold1_improved.h5\n",
      "25/25 [==============================] - 86s 3s/step - loss: 0.0633 - accuracy: 0.9910 - val_loss: 1.2440 - val_accuracy: 0.6322 - lr: 1.0000e-06\n",
      "Epoch 30/50\n"
     ]
    },
    {
     "name": "stderr",
     "output_type": "stream",
     "text": [
      "/home/huuquangdang/.local/lib/python3.10/site-packages/keras/src/engine/training.py:3079: UserWarning: You are saving your model as an HDF5 file via `model.save()`. This file format is considered legacy. We recommend using instead the native Keras format, e.g. `model.save('my_model.keras')`.\n",
      "  saving_api.save_model(\n"
     ]
    },
    {
     "name": "stdout",
     "output_type": "stream",
     "text": [
      "25/25 [==============================] - ETA: 0s - loss: 0.0631 - accuracy: 0.9897\n",
      "Epoch 30: val_accuracy improved from 0.63218 to 0.64368, saving model to best_model_fold1_improved.h5\n",
      "25/25 [==============================] - 112s 4s/step - loss: 0.0631 - accuracy: 0.9897 - val_loss: 1.2027 - val_accuracy: 0.6437 - lr: 1.0000e-06\n",
      "Epoch 31/50\n"
     ]
    },
    {
     "name": "stderr",
     "output_type": "stream",
     "text": [
      "/home/huuquangdang/.local/lib/python3.10/site-packages/keras/src/engine/training.py:3079: UserWarning: You are saving your model as an HDF5 file via `model.save()`. This file format is considered legacy. We recommend using instead the native Keras format, e.g. `model.save('my_model.keras')`.\n",
      "  saving_api.save_model(\n"
     ]
    },
    {
     "name": "stdout",
     "output_type": "stream",
     "text": [
      "25/25 [==============================] - ETA: 0s - loss: 0.0653 - accuracy: 0.9949  \n",
      "Epoch 31: val_accuracy improved from 0.64368 to 0.65517, saving model to best_model_fold1_improved.h5\n",
      "25/25 [==============================] - 1491s 62s/step - loss: 0.0653 - accuracy: 0.9949 - val_loss: 1.1626 - val_accuracy: 0.6552 - lr: 1.0000e-06\n",
      "Epoch 32/50\n"
     ]
    },
    {
     "name": "stderr",
     "output_type": "stream",
     "text": [
      "/home/huuquangdang/.local/lib/python3.10/site-packages/keras/src/engine/training.py:3079: UserWarning: You are saving your model as an HDF5 file via `model.save()`. This file format is considered legacy. We recommend using instead the native Keras format, e.g. `model.save('my_model.keras')`.\n",
      "  saving_api.save_model(\n"
     ]
    },
    {
     "name": "stdout",
     "output_type": "stream",
     "text": [
      "25/25 [==============================] - ETA: 0s - loss: 0.0664 - accuracy: 0.9897\n",
      "Epoch 32: val_accuracy did not improve from 0.65517\n",
      "25/25 [==============================] - 85s 3s/step - loss: 0.0664 - accuracy: 0.9897 - val_loss: 1.1220 - val_accuracy: 0.6552 - lr: 1.0000e-06\n",
      "Epoch 33/50\n",
      "25/25 [==============================] - ETA: 0s - loss: 0.0715 - accuracy: 0.9885\n",
      "Epoch 33: val_accuracy did not improve from 0.65517\n",
      "25/25 [==============================] - 78s 3s/step - loss: 0.0715 - accuracy: 0.9885 - val_loss: 1.0853 - val_accuracy: 0.6552 - lr: 1.0000e-06\n",
      "Epoch 34/50\n",
      "25/25 [==============================] - ETA: 0s - loss: 0.0684 - accuracy: 0.9872\n",
      "Epoch 34: val_accuracy did not improve from 0.65517\n",
      "25/25 [==============================] - 77s 3s/step - loss: 0.0684 - accuracy: 0.9872 - val_loss: 1.0468 - val_accuracy: 0.6552 - lr: 1.0000e-06\n",
      "Epoch 35/50\n",
      "25/25 [==============================] - ETA: 0s - loss: 0.0653 - accuracy: 0.9885\n",
      "Epoch 35: val_accuracy improved from 0.65517 to 0.67816, saving model to best_model_fold1_improved.h5\n",
      "25/25 [==============================] - 77s 3s/step - loss: 0.0653 - accuracy: 0.9885 - val_loss: 1.0108 - val_accuracy: 0.6782 - lr: 1.0000e-06\n",
      "Epoch 36/50\n"
     ]
    },
    {
     "name": "stderr",
     "output_type": "stream",
     "text": [
      "/home/huuquangdang/.local/lib/python3.10/site-packages/keras/src/engine/training.py:3079: UserWarning: You are saving your model as an HDF5 file via `model.save()`. This file format is considered legacy. We recommend using instead the native Keras format, e.g. `model.save('my_model.keras')`.\n",
      "  saving_api.save_model(\n"
     ]
    },
    {
     "name": "stdout",
     "output_type": "stream",
     "text": [
      "25/25 [==============================] - ETA: 0s - loss: 0.0615 - accuracy: 0.9910\n",
      "Epoch 36: val_accuracy improved from 0.67816 to 0.70115, saving model to best_model_fold1_improved.h5\n",
      "25/25 [==============================] - 77s 3s/step - loss: 0.0615 - accuracy: 0.9910 - val_loss: 0.9773 - val_accuracy: 0.7011 - lr: 1.0000e-06\n",
      "Epoch 37/50\n"
     ]
    },
    {
     "name": "stderr",
     "output_type": "stream",
     "text": [
      "/home/huuquangdang/.local/lib/python3.10/site-packages/keras/src/engine/training.py:3079: UserWarning: You are saving your model as an HDF5 file via `model.save()`. This file format is considered legacy. We recommend using instead the native Keras format, e.g. `model.save('my_model.keras')`.\n",
      "  saving_api.save_model(\n"
     ]
    },
    {
     "name": "stdout",
     "output_type": "stream",
     "text": [
      "25/25 [==============================] - ETA: 0s - loss: 0.0705 - accuracy: 0.9859\n",
      "Epoch 37: val_accuracy improved from 0.70115 to 0.71264, saving model to best_model_fold1_improved.h5\n",
      "25/25 [==============================] - 78s 3s/step - loss: 0.0705 - accuracy: 0.9859 - val_loss: 0.9458 - val_accuracy: 0.7126 - lr: 1.0000e-06\n",
      "Epoch 38/50\n"
     ]
    },
    {
     "name": "stderr",
     "output_type": "stream",
     "text": [
      "/home/huuquangdang/.local/lib/python3.10/site-packages/keras/src/engine/training.py:3079: UserWarning: You are saving your model as an HDF5 file via `model.save()`. This file format is considered legacy. We recommend using instead the native Keras format, e.g. `model.save('my_model.keras')`.\n",
      "  saving_api.save_model(\n"
     ]
    },
    {
     "name": "stdout",
     "output_type": "stream",
     "text": [
      "25/25 [==============================] - ETA: 0s - loss: 0.0679 - accuracy: 0.9885\n",
      "Epoch 38: val_accuracy did not improve from 0.71264\n",
      "25/25 [==============================] - 77s 3s/step - loss: 0.0679 - accuracy: 0.9885 - val_loss: 0.9181 - val_accuracy: 0.7126 - lr: 1.0000e-06\n",
      "Epoch 39/50\n",
      "25/25 [==============================] - ETA: 0s - loss: 0.0685 - accuracy: 0.9897\n",
      "Epoch 39: val_accuracy did not improve from 0.71264\n",
      "25/25 [==============================] - 77s 3s/step - loss: 0.0685 - accuracy: 0.9897 - val_loss: 0.8928 - val_accuracy: 0.7126 - lr: 1.0000e-06\n",
      "Epoch 40/50\n",
      "25/25 [==============================] - ETA: 0s - loss: 0.0667 - accuracy: 0.9897\n",
      "Epoch 40: val_accuracy improved from 0.71264 to 0.73563, saving model to best_model_fold1_improved.h5\n",
      "25/25 [==============================] - 77s 3s/step - loss: 0.0667 - accuracy: 0.9897 - val_loss: 0.8671 - val_accuracy: 0.7356 - lr: 1.0000e-06\n",
      "Epoch 41/50\n"
     ]
    },
    {
     "name": "stderr",
     "output_type": "stream",
     "text": [
      "/home/huuquangdang/.local/lib/python3.10/site-packages/keras/src/engine/training.py:3079: UserWarning: You are saving your model as an HDF5 file via `model.save()`. This file format is considered legacy. We recommend using instead the native Keras format, e.g. `model.save('my_model.keras')`.\n",
      "  saving_api.save_model(\n"
     ]
    },
    {
     "name": "stdout",
     "output_type": "stream",
     "text": [
      "25/25 [==============================] - ETA: 0s - loss: 0.0622 - accuracy: 0.9910\n",
      "Epoch 41: val_accuracy improved from 0.73563 to 0.74713, saving model to best_model_fold1_improved.h5\n",
      "25/25 [==============================] - 77s 3s/step - loss: 0.0622 - accuracy: 0.9910 - val_loss: 0.8416 - val_accuracy: 0.7471 - lr: 1.0000e-06\n",
      "Epoch 42/50\n"
     ]
    },
    {
     "name": "stderr",
     "output_type": "stream",
     "text": [
      "/home/huuquangdang/.local/lib/python3.10/site-packages/keras/src/engine/training.py:3079: UserWarning: You are saving your model as an HDF5 file via `model.save()`. This file format is considered legacy. We recommend using instead the native Keras format, e.g. `model.save('my_model.keras')`.\n",
      "  saving_api.save_model(\n"
     ]
    },
    {
     "name": "stdout",
     "output_type": "stream",
     "text": [
      "25/25 [==============================] - ETA: 0s - loss: 0.0650 - accuracy: 0.9897\n",
      "Epoch 42: val_accuracy did not improve from 0.74713\n",
      "25/25 [==============================] - 78s 3s/step - loss: 0.0650 - accuracy: 0.9897 - val_loss: 0.8179 - val_accuracy: 0.7471 - lr: 1.0000e-06\n",
      "Epoch 43/50\n",
      "25/25 [==============================] - ETA: 0s - loss: 0.0669 - accuracy: 0.9897\n",
      "Epoch 43: val_accuracy did not improve from 0.74713\n",
      "25/25 [==============================] - 77s 3s/step - loss: 0.0669 - accuracy: 0.9897 - val_loss: 0.7960 - val_accuracy: 0.7471 - lr: 1.0000e-06\n",
      "Epoch 44/50\n",
      "25/25 [==============================] - ETA: 0s - loss: 0.0644 - accuracy: 0.9897\n",
      "Epoch 44: val_accuracy did not improve from 0.74713\n",
      "25/25 [==============================] - 77s 3s/step - loss: 0.0644 - accuracy: 0.9897 - val_loss: 0.7768 - val_accuracy: 0.7471 - lr: 1.0000e-06\n",
      "Epoch 45/50\n",
      "25/25 [==============================] - ETA: 0s - loss: 0.0675 - accuracy: 0.9910\n",
      "Epoch 45: val_accuracy did not improve from 0.74713\n",
      "25/25 [==============================] - 77s 3s/step - loss: 0.0675 - accuracy: 0.9910 - val_loss: 0.7554 - val_accuracy: 0.7471 - lr: 1.0000e-06\n",
      "Epoch 46/50\n",
      "25/25 [==============================] - ETA: 0s - loss: 0.0607 - accuracy: 0.9910\n",
      "Epoch 46: val_accuracy did not improve from 0.74713\n",
      "25/25 [==============================] - 77s 3s/step - loss: 0.0607 - accuracy: 0.9910 - val_loss: 0.7359 - val_accuracy: 0.7471 - lr: 1.0000e-06\n",
      "7/7 [==============================] - 10s 1s/step\n",
      "\n",
      "✅ Fold 1 Results:\n",
      "   Accuracy:  0.8802\n",
      "   Precision: 0.9659\n",
      "   Recall:    0.7870\n",
      "   F1 Score:  0.8673\n",
      "   AUC:       0.9534\n",
      "\n",
      "============================================================\n",
      "📊 Fold 2/5\n",
      "============================================================\n",
      "\n",
      "📈 Model Summary:\n",
      "   - Total params: 3,384,457\n",
      "   - Trainable params: 2,328,261\n",
      "   - MobileNet: Last 20 layers trainable\n",
      "   - LSTM: 128→64 units (stacked)\n",
      "   - Learning rate: 3e-4\n",
      "Epoch 1/50\n",
      "25/25 [==============================] - ETA: 0s - loss: 0.6646 - accuracy: 0.6154\n",
      "Epoch 1: val_accuracy improved from -inf to 0.49425, saving model to best_model_fold2_improved.h5\n",
      "25/25 [==============================] - 81s 3s/step - loss: 0.6646 - accuracy: 0.6154 - val_loss: 0.7008 - val_accuracy: 0.4943 - lr: 3.0000e-04\n",
      "Epoch 2/50\n"
     ]
    },
    {
     "name": "stderr",
     "output_type": "stream",
     "text": [
      "/home/huuquangdang/.local/lib/python3.10/site-packages/keras/src/engine/training.py:3079: UserWarning: You are saving your model as an HDF5 file via `model.save()`. This file format is considered legacy. We recommend using instead the native Keras format, e.g. `model.save('my_model.keras')`.\n",
      "  saving_api.save_model(\n"
     ]
    },
    {
     "name": "stdout",
     "output_type": "stream",
     "text": [
      "25/25 [==============================] - ETA: 0s - loss: 0.5528 - accuracy: 0.7833\n",
      "Epoch 2: val_accuracy did not improve from 0.49425\n",
      "25/25 [==============================] - 79s 3s/step - loss: 0.5528 - accuracy: 0.7833 - val_loss: 0.7249 - val_accuracy: 0.4943 - lr: 3.0000e-04\n",
      "Epoch 3/50\n",
      "25/25 [==============================] - ETA: 0s - loss: 0.4484 - accuracy: 0.8436\n",
      "Epoch 3: val_accuracy improved from 0.49425 to 0.50575, saving model to best_model_fold2_improved.h5\n",
      "25/25 [==============================] - 78s 3s/step - loss: 0.4484 - accuracy: 0.8436 - val_loss: 0.7748 - val_accuracy: 0.5057 - lr: 3.0000e-04\n",
      "Epoch 4/50\n"
     ]
    },
    {
     "name": "stderr",
     "output_type": "stream",
     "text": [
      "/home/huuquangdang/.local/lib/python3.10/site-packages/keras/src/engine/training.py:3079: UserWarning: You are saving your model as an HDF5 file via `model.save()`. This file format is considered legacy. We recommend using instead the native Keras format, e.g. `model.save('my_model.keras')`.\n",
      "  saving_api.save_model(\n"
     ]
    },
    {
     "name": "stdout",
     "output_type": "stream",
     "text": [
      "25/25 [==============================] - ETA: 0s - loss: 0.3441 - accuracy: 0.8936\n",
      "Epoch 4: val_accuracy did not improve from 0.50575\n",
      "\n",
      "Epoch 4: ReduceLROnPlateau reducing learning rate to 0.0001500000071246177.\n",
      "25/25 [==============================] - 77s 3s/step - loss: 0.3441 - accuracy: 0.8936 - val_loss: 0.8725 - val_accuracy: 0.5057 - lr: 3.0000e-04\n",
      "Epoch 5/50\n",
      "25/25 [==============================] - ETA: 0s - loss: 0.2739 - accuracy: 0.9167\n",
      "Epoch 5: val_accuracy improved from 0.50575 to 0.51724, saving model to best_model_fold2_improved.h5\n",
      "25/25 [==============================] - 77s 3s/step - loss: 0.2739 - accuracy: 0.9167 - val_loss: 0.9471 - val_accuracy: 0.5172 - lr: 1.5000e-04\n",
      "Epoch 6/50\n"
     ]
    },
    {
     "name": "stderr",
     "output_type": "stream",
     "text": [
      "/home/huuquangdang/.local/lib/python3.10/site-packages/keras/src/engine/training.py:3079: UserWarning: You are saving your model as an HDF5 file via `model.save()`. This file format is considered legacy. We recommend using instead the native Keras format, e.g. `model.save('my_model.keras')`.\n",
      "  saving_api.save_model(\n"
     ]
    },
    {
     "name": "stdout",
     "output_type": "stream",
     "text": [
      "25/25 [==============================] - ETA: 0s - loss: 0.2285 - accuracy: 0.9359\n",
      "Epoch 6: val_accuracy did not improve from 0.51724\n",
      "25/25 [==============================] - 77s 3s/step - loss: 0.2285 - accuracy: 0.9359 - val_loss: 1.0265 - val_accuracy: 0.5172 - lr: 1.5000e-04\n",
      "Epoch 7/50\n",
      "25/25 [==============================] - ETA: 0s - loss: 0.1921 - accuracy: 0.9436\n",
      "Epoch 7: val_accuracy did not improve from 0.51724\n",
      "\n",
      "Epoch 7: ReduceLROnPlateau reducing learning rate to 7.500000356230885e-05.\n",
      "25/25 [==============================] - 78s 3s/step - loss: 0.1921 - accuracy: 0.9436 - val_loss: 1.0147 - val_accuracy: 0.5172 - lr: 1.5000e-04\n",
      "Epoch 8/50\n",
      "25/25 [==============================] - ETA: 0s - loss: 0.1587 - accuracy: 0.9654\n",
      "Epoch 8: val_accuracy did not improve from 0.51724\n",
      "25/25 [==============================] - 77s 3s/step - loss: 0.1587 - accuracy: 0.9654 - val_loss: 1.0247 - val_accuracy: 0.5172 - lr: 7.5000e-05\n",
      "Epoch 9/50\n",
      "25/25 [==============================] - ETA: 0s - loss: 0.1446 - accuracy: 0.9692\n",
      "Epoch 9: val_accuracy improved from 0.51724 to 0.52874, saving model to best_model_fold2_improved.h5\n",
      "25/25 [==============================] - 77s 3s/step - loss: 0.1446 - accuracy: 0.9692 - val_loss: 1.0411 - val_accuracy: 0.5287 - lr: 7.5000e-05\n",
      "Epoch 10/50\n"
     ]
    },
    {
     "name": "stderr",
     "output_type": "stream",
     "text": [
      "/home/huuquangdang/.local/lib/python3.10/site-packages/keras/src/engine/training.py:3079: UserWarning: You are saving your model as an HDF5 file via `model.save()`. This file format is considered legacy. We recommend using instead the native Keras format, e.g. `model.save('my_model.keras')`.\n",
      "  saving_api.save_model(\n"
     ]
    },
    {
     "name": "stdout",
     "output_type": "stream",
     "text": [
      "25/25 [==============================] - ETA: 0s - loss: 0.1237 - accuracy: 0.9756\n",
      "Epoch 10: val_accuracy improved from 0.52874 to 0.54023, saving model to best_model_fold2_improved.h5\n",
      "\n",
      "Epoch 10: ReduceLROnPlateau reducing learning rate to 3.7500001781154424e-05.\n",
      "25/25 [==============================] - 78s 3s/step - loss: 0.1237 - accuracy: 0.9756 - val_loss: 1.0565 - val_accuracy: 0.5402 - lr: 7.5000e-05\n",
      "Epoch 11/50\n"
     ]
    },
    {
     "name": "stderr",
     "output_type": "stream",
     "text": [
      "/home/huuquangdang/.local/lib/python3.10/site-packages/keras/src/engine/training.py:3079: UserWarning: You are saving your model as an HDF5 file via `model.save()`. This file format is considered legacy. We recommend using instead the native Keras format, e.g. `model.save('my_model.keras')`.\n",
      "  saving_api.save_model(\n"
     ]
    },
    {
     "name": "stdout",
     "output_type": "stream",
     "text": [
      "25/25 [==============================] - ETA: 0s - loss: 0.1275 - accuracy: 0.9705\n",
      "Epoch 11: val_accuracy improved from 0.54023 to 0.58621, saving model to best_model_fold2_improved.h5\n",
      "25/25 [==============================] - 78s 3s/step - loss: 0.1275 - accuracy: 0.9705 - val_loss: 1.0025 - val_accuracy: 0.5862 - lr: 3.7500e-05\n",
      "Epoch 12/50\n"
     ]
    },
    {
     "name": "stderr",
     "output_type": "stream",
     "text": [
      "/home/huuquangdang/.local/lib/python3.10/site-packages/keras/src/engine/training.py:3079: UserWarning: You are saving your model as an HDF5 file via `model.save()`. This file format is considered legacy. We recommend using instead the native Keras format, e.g. `model.save('my_model.keras')`.\n",
      "  saving_api.save_model(\n"
     ]
    },
    {
     "name": "stdout",
     "output_type": "stream",
     "text": [
      "25/25 [==============================] - ETA: 0s - loss: 0.1123 - accuracy: 0.9846\n",
      "Epoch 12: val_accuracy improved from 0.58621 to 0.59770, saving model to best_model_fold2_improved.h5\n",
      "25/25 [==============================] - 78s 3s/step - loss: 0.1123 - accuracy: 0.9846 - val_loss: 0.9400 - val_accuracy: 0.5977 - lr: 3.7500e-05\n",
      "Epoch 13/50\n"
     ]
    },
    {
     "name": "stderr",
     "output_type": "stream",
     "text": [
      "/home/huuquangdang/.local/lib/python3.10/site-packages/keras/src/engine/training.py:3079: UserWarning: You are saving your model as an HDF5 file via `model.save()`. This file format is considered legacy. We recommend using instead the native Keras format, e.g. `model.save('my_model.keras')`.\n",
      "  saving_api.save_model(\n"
     ]
    },
    {
     "name": "stdout",
     "output_type": "stream",
     "text": [
      "25/25 [==============================] - ETA: 0s - loss: 0.1075 - accuracy: 0.9769\n",
      "Epoch 13: val_accuracy improved from 0.59770 to 0.60920, saving model to best_model_fold2_improved.h5\n",
      "\n",
      "Epoch 13: ReduceLROnPlateau reducing learning rate to 1.8750000890577212e-05.\n",
      "25/25 [==============================] - 78s 3s/step - loss: 0.1075 - accuracy: 0.9769 - val_loss: 0.9539 - val_accuracy: 0.6092 - lr: 3.7500e-05\n",
      "Epoch 14/50\n"
     ]
    },
    {
     "name": "stderr",
     "output_type": "stream",
     "text": [
      "/home/huuquangdang/.local/lib/python3.10/site-packages/keras/src/engine/training.py:3079: UserWarning: You are saving your model as an HDF5 file via `model.save()`. This file format is considered legacy. We recommend using instead the native Keras format, e.g. `model.save('my_model.keras')`.\n",
      "  saving_api.save_model(\n"
     ]
    },
    {
     "name": "stdout",
     "output_type": "stream",
     "text": [
      "25/25 [==============================] - ETA: 0s - loss: 0.1000 - accuracy: 0.9808\n",
      "Epoch 14: val_accuracy improved from 0.60920 to 0.62069, saving model to best_model_fold2_improved.h5\n",
      "25/25 [==============================] - 77s 3s/step - loss: 0.1000 - accuracy: 0.9808 - val_loss: 0.9260 - val_accuracy: 0.6207 - lr: 1.8750e-05\n",
      "Epoch 15/50\n"
     ]
    },
    {
     "name": "stderr",
     "output_type": "stream",
     "text": [
      "/home/huuquangdang/.local/lib/python3.10/site-packages/keras/src/engine/training.py:3079: UserWarning: You are saving your model as an HDF5 file via `model.save()`. This file format is considered legacy. We recommend using instead the native Keras format, e.g. `model.save('my_model.keras')`.\n",
      "  saving_api.save_model(\n"
     ]
    },
    {
     "name": "stdout",
     "output_type": "stream",
     "text": [
      "25/25 [==============================] - ETA: 0s - loss: 0.0934 - accuracy: 0.9885\n",
      "Epoch 15: val_accuracy did not improve from 0.62069\n",
      "25/25 [==============================] - 77s 3s/step - loss: 0.0934 - accuracy: 0.9885 - val_loss: 0.9103 - val_accuracy: 0.6207 - lr: 1.8750e-05\n",
      "Epoch 16/50\n",
      "25/25 [==============================] - ETA: 0s - loss: 0.0941 - accuracy: 0.9846\n",
      "Epoch 16: val_accuracy improved from 0.62069 to 0.64368, saving model to best_model_fold2_improved.h5\n",
      "\n",
      "Epoch 16: ReduceLROnPlateau reducing learning rate to 9.375000445288606e-06.\n",
      "25/25 [==============================] - 78s 3s/step - loss: 0.0941 - accuracy: 0.9846 - val_loss: 0.8740 - val_accuracy: 0.6437 - lr: 1.8750e-05\n",
      "Epoch 17/50\n"
     ]
    },
    {
     "name": "stderr",
     "output_type": "stream",
     "text": [
      "/home/huuquangdang/.local/lib/python3.10/site-packages/keras/src/engine/training.py:3079: UserWarning: You are saving your model as an HDF5 file via `model.save()`. This file format is considered legacy. We recommend using instead the native Keras format, e.g. `model.save('my_model.keras')`.\n",
      "  saving_api.save_model(\n"
     ]
    },
    {
     "name": "stdout",
     "output_type": "stream",
     "text": [
      "25/25 [==============================] - ETA: 0s - loss: 0.0942 - accuracy: 0.9846\n",
      "Epoch 17: val_accuracy did not improve from 0.64368\n",
      "25/25 [==============================] - 77s 3s/step - loss: 0.0942 - accuracy: 0.9846 - val_loss: 0.8699 - val_accuracy: 0.6437 - lr: 9.3750e-06\n",
      "Epoch 18/50\n",
      "25/25 [==============================] - ETA: 0s - loss: 0.0905 - accuracy: 0.9859\n",
      "Epoch 18: val_accuracy improved from 0.64368 to 0.65517, saving model to best_model_fold2_improved.h5\n",
      "25/25 [==============================] - 78s 3s/step - loss: 0.0905 - accuracy: 0.9859 - val_loss: 0.8574 - val_accuracy: 0.6552 - lr: 9.3750e-06\n",
      "Epoch 19/50\n"
     ]
    },
    {
     "name": "stderr",
     "output_type": "stream",
     "text": [
      "/home/huuquangdang/.local/lib/python3.10/site-packages/keras/src/engine/training.py:3079: UserWarning: You are saving your model as an HDF5 file via `model.save()`. This file format is considered legacy. We recommend using instead the native Keras format, e.g. `model.save('my_model.keras')`.\n",
      "  saving_api.save_model(\n"
     ]
    },
    {
     "name": "stdout",
     "output_type": "stream",
     "text": [
      "25/25 [==============================] - ETA: 0s - loss: 0.0854 - accuracy: 0.9885\n",
      "Epoch 19: val_accuracy did not improve from 0.65517\n",
      "\n",
      "Epoch 19: ReduceLROnPlateau reducing learning rate to 4.687500222644303e-06.\n",
      "25/25 [==============================] - 78s 3s/step - loss: 0.0854 - accuracy: 0.9885 - val_loss: 0.8414 - val_accuracy: 0.6552 - lr: 9.3750e-06\n",
      "Epoch 20/50\n",
      "25/25 [==============================] - ETA: 0s - loss: 0.0889 - accuracy: 0.9872\n",
      "Epoch 20: val_accuracy did not improve from 0.65517\n",
      "25/25 [==============================] - 77s 3s/step - loss: 0.0889 - accuracy: 0.9872 - val_loss: 0.8259 - val_accuracy: 0.6552 - lr: 4.6875e-06\n",
      "Epoch 21/50\n",
      "25/25 [==============================] - ETA: 0s - loss: 0.0872 - accuracy: 0.9885\n",
      "Epoch 21: val_accuracy improved from 0.65517 to 0.66667, saving model to best_model_fold2_improved.h5\n",
      "25/25 [==============================] - 77s 3s/step - loss: 0.0872 - accuracy: 0.9885 - val_loss: 0.8092 - val_accuracy: 0.6667 - lr: 4.6875e-06\n",
      "Epoch 22/50\n"
     ]
    },
    {
     "name": "stderr",
     "output_type": "stream",
     "text": [
      "/home/huuquangdang/.local/lib/python3.10/site-packages/keras/src/engine/training.py:3079: UserWarning: You are saving your model as an HDF5 file via `model.save()`. This file format is considered legacy. We recommend using instead the native Keras format, e.g. `model.save('my_model.keras')`.\n",
      "  saving_api.save_model(\n"
     ]
    },
    {
     "name": "stdout",
     "output_type": "stream",
     "text": [
      "25/25 [==============================] - ETA: 0s - loss: 0.0868 - accuracy: 0.9859\n",
      "Epoch 22: val_accuracy did not improve from 0.66667\n",
      "\n",
      "Epoch 22: ReduceLROnPlateau reducing learning rate to 2.3437501113221515e-06.\n",
      "25/25 [==============================] - 77s 3s/step - loss: 0.0868 - accuracy: 0.9859 - val_loss: 0.7938 - val_accuracy: 0.6667 - lr: 4.6875e-06\n",
      "Epoch 23/50\n",
      "25/25 [==============================] - ETA: 0s - loss: 0.0857 - accuracy: 0.9833\n",
      "Epoch 23: val_accuracy improved from 0.66667 to 0.67816, saving model to best_model_fold2_improved.h5\n",
      "25/25 [==============================] - 78s 3s/step - loss: 0.0857 - accuracy: 0.9833 - val_loss: 0.7755 - val_accuracy: 0.6782 - lr: 2.3438e-06\n",
      "Epoch 24/50\n"
     ]
    },
    {
     "name": "stderr",
     "output_type": "stream",
     "text": [
      "/home/huuquangdang/.local/lib/python3.10/site-packages/keras/src/engine/training.py:3079: UserWarning: You are saving your model as an HDF5 file via `model.save()`. This file format is considered legacy. We recommend using instead the native Keras format, e.g. `model.save('my_model.keras')`.\n",
      "  saving_api.save_model(\n"
     ]
    },
    {
     "name": "stdout",
     "output_type": "stream",
     "text": [
      "25/25 [==============================] - ETA: 0s - loss: 0.0889 - accuracy: 0.9821\n",
      "Epoch 24: val_accuracy improved from 0.67816 to 0.68966, saving model to best_model_fold2_improved.h5\n",
      "25/25 [==============================] - 77s 3s/step - loss: 0.0889 - accuracy: 0.9821 - val_loss: 0.7525 - val_accuracy: 0.6897 - lr: 2.3438e-06\n",
      "Epoch 25/50\n"
     ]
    },
    {
     "name": "stderr",
     "output_type": "stream",
     "text": [
      "/home/huuquangdang/.local/lib/python3.10/site-packages/keras/src/engine/training.py:3079: UserWarning: You are saving your model as an HDF5 file via `model.save()`. This file format is considered legacy. We recommend using instead the native Keras format, e.g. `model.save('my_model.keras')`.\n",
      "  saving_api.save_model(\n"
     ]
    },
    {
     "name": "stdout",
     "output_type": "stream",
     "text": [
      "25/25 [==============================] - ETA: 0s - loss: 0.0875 - accuracy: 0.9846\n",
      "Epoch 25: val_accuracy did not improve from 0.68966\n",
      "\n",
      "Epoch 25: ReduceLROnPlateau reducing learning rate to 1.1718750556610757e-06.\n",
      "25/25 [==============================] - 78s 3s/step - loss: 0.0875 - accuracy: 0.9846 - val_loss: 0.7343 - val_accuracy: 0.6897 - lr: 2.3438e-06\n",
      "Epoch 26/50\n",
      "25/25 [==============================] - ETA: 0s - loss: 0.0849 - accuracy: 0.9897\n",
      "Epoch 26: val_accuracy improved from 0.68966 to 0.70115, saving model to best_model_fold2_improved.h5\n",
      "25/25 [==============================] - 78s 3s/step - loss: 0.0849 - accuracy: 0.9897 - val_loss: 0.7165 - val_accuracy: 0.7011 - lr: 1.1719e-06\n",
      "Epoch 27/50\n"
     ]
    },
    {
     "name": "stderr",
     "output_type": "stream",
     "text": [
      "/home/huuquangdang/.local/lib/python3.10/site-packages/keras/src/engine/training.py:3079: UserWarning: You are saving your model as an HDF5 file via `model.save()`. This file format is considered legacy. We recommend using instead the native Keras format, e.g. `model.save('my_model.keras')`.\n",
      "  saving_api.save_model(\n"
     ]
    },
    {
     "name": "stdout",
     "output_type": "stream",
     "text": [
      "25/25 [==============================] - ETA: 0s - loss: 0.0859 - accuracy: 0.9846\n",
      "Epoch 27: val_accuracy improved from 0.70115 to 0.72414, saving model to best_model_fold2_improved.h5\n",
      "25/25 [==============================] - 78s 3s/step - loss: 0.0859 - accuracy: 0.9846 - val_loss: 0.6981 - val_accuracy: 0.7241 - lr: 1.1719e-06\n",
      "Epoch 28/50\n"
     ]
    },
    {
     "name": "stderr",
     "output_type": "stream",
     "text": [
      "/home/huuquangdang/.local/lib/python3.10/site-packages/keras/src/engine/training.py:3079: UserWarning: You are saving your model as an HDF5 file via `model.save()`. This file format is considered legacy. We recommend using instead the native Keras format, e.g. `model.save('my_model.keras')`.\n",
      "  saving_api.save_model(\n"
     ]
    },
    {
     "name": "stdout",
     "output_type": "stream",
     "text": [
      "25/25 [==============================] - ETA: 0s - loss: 0.0818 - accuracy: 0.9885\n",
      "Epoch 28: val_accuracy did not improve from 0.72414\n",
      "25/25 [==============================] - 78s 3s/step - loss: 0.0818 - accuracy: 0.9885 - val_loss: 0.6822 - val_accuracy: 0.7241 - lr: 1.1719e-06\n",
      "Epoch 29/50\n",
      "25/25 [==============================] - ETA: 0s - loss: 0.0796 - accuracy: 0.9897\n",
      "Epoch 29: val_accuracy improved from 0.72414 to 0.73563, saving model to best_model_fold2_improved.h5\n",
      "25/25 [==============================] - 77s 3s/step - loss: 0.0796 - accuracy: 0.9897 - val_loss: 0.6669 - val_accuracy: 0.7356 - lr: 1.1719e-06\n",
      "Epoch 30/50\n"
     ]
    },
    {
     "name": "stderr",
     "output_type": "stream",
     "text": [
      "/home/huuquangdang/.local/lib/python3.10/site-packages/keras/src/engine/training.py:3079: UserWarning: You are saving your model as an HDF5 file via `model.save()`. This file format is considered legacy. We recommend using instead the native Keras format, e.g. `model.save('my_model.keras')`.\n",
      "  saving_api.save_model(\n"
     ]
    },
    {
     "name": "stdout",
     "output_type": "stream",
     "text": [
      "25/25 [==============================] - ETA: 0s - loss: 0.0844 - accuracy: 0.9885\n",
      "Epoch 30: val_accuracy did not improve from 0.73563\n",
      "25/25 [==============================] - 78s 3s/step - loss: 0.0844 - accuracy: 0.9885 - val_loss: 0.6532 - val_accuracy: 0.7356 - lr: 1.1719e-06\n",
      "Epoch 31/50\n",
      "25/25 [==============================] - ETA: 0s - loss: 0.0877 - accuracy: 0.9859\n",
      "Epoch 31: val_accuracy did not improve from 0.73563\n",
      "25/25 [==============================] - 78s 3s/step - loss: 0.0877 - accuracy: 0.9859 - val_loss: 0.6409 - val_accuracy: 0.7356 - lr: 1.1719e-06\n",
      "Epoch 32/50\n",
      "25/25 [==============================] - ETA: 0s - loss: 0.0833 - accuracy: 0.9833\n",
      "Epoch 32: val_accuracy did not improve from 0.73563\n",
      "25/25 [==============================] - 78s 3s/step - loss: 0.0833 - accuracy: 0.9833 - val_loss: 0.6309 - val_accuracy: 0.7356 - lr: 1.1719e-06\n",
      "Epoch 33/50\n",
      "25/25 [==============================] - ETA: 0s - loss: 0.0862 - accuracy: 0.9846\n",
      "Epoch 33: val_accuracy did not improve from 0.73563\n",
      "25/25 [==============================] - 78s 3s/step - loss: 0.0862 - accuracy: 0.9846 - val_loss: 0.6220 - val_accuracy: 0.7241 - lr: 1.1719e-06\n",
      "Epoch 34/50\n",
      "25/25 [==============================] - ETA: 0s - loss: 0.0907 - accuracy: 0.9846\n",
      "Epoch 34: val_accuracy improved from 0.73563 to 0.74713, saving model to best_model_fold2_improved.h5\n",
      "25/25 [==============================] - 78s 3s/step - loss: 0.0907 - accuracy: 0.9846 - val_loss: 0.6121 - val_accuracy: 0.7471 - lr: 1.1719e-06\n",
      "Epoch 35/50\n"
     ]
    },
    {
     "name": "stderr",
     "output_type": "stream",
     "text": [
      "/home/huuquangdang/.local/lib/python3.10/site-packages/keras/src/engine/training.py:3079: UserWarning: You are saving your model as an HDF5 file via `model.save()`. This file format is considered legacy. We recommend using instead the native Keras format, e.g. `model.save('my_model.keras')`.\n",
      "  saving_api.save_model(\n"
     ]
    },
    {
     "name": "stdout",
     "output_type": "stream",
     "text": [
      "25/25 [==============================] - ETA: 0s - loss: 0.0860 - accuracy: 0.9859\n",
      "Epoch 35: val_accuracy improved from 0.74713 to 0.75862, saving model to best_model_fold2_improved.h5\n",
      "25/25 [==============================] - 77s 3s/step - loss: 0.0860 - accuracy: 0.9859 - val_loss: 0.6034 - val_accuracy: 0.7586 - lr: 1.1719e-06\n",
      "Epoch 36/50\n"
     ]
    },
    {
     "name": "stderr",
     "output_type": "stream",
     "text": [
      "/home/huuquangdang/.local/lib/python3.10/site-packages/keras/src/engine/training.py:3079: UserWarning: You are saving your model as an HDF5 file via `model.save()`. This file format is considered legacy. We recommend using instead the native Keras format, e.g. `model.save('my_model.keras')`.\n",
      "  saving_api.save_model(\n"
     ]
    },
    {
     "name": "stdout",
     "output_type": "stream",
     "text": [
      "25/25 [==============================] - ETA: 0s - loss: 0.0847 - accuracy: 0.9859\n",
      "Epoch 36: val_accuracy improved from 0.75862 to 0.77011, saving model to best_model_fold2_improved.h5\n",
      "25/25 [==============================] - 77s 3s/step - loss: 0.0847 - accuracy: 0.9859 - val_loss: 0.5946 - val_accuracy: 0.7701 - lr: 1.1719e-06\n",
      "Epoch 37/50\n"
     ]
    },
    {
     "name": "stderr",
     "output_type": "stream",
     "text": [
      "/home/huuquangdang/.local/lib/python3.10/site-packages/keras/src/engine/training.py:3079: UserWarning: You are saving your model as an HDF5 file via `model.save()`. This file format is considered legacy. We recommend using instead the native Keras format, e.g. `model.save('my_model.keras')`.\n",
      "  saving_api.save_model(\n"
     ]
    },
    {
     "name": "stdout",
     "output_type": "stream",
     "text": [
      "25/25 [==============================] - ETA: 0s - loss: 0.0779 - accuracy: 0.9897\n",
      "Epoch 37: val_accuracy improved from 0.77011 to 0.78161, saving model to best_model_fold2_improved.h5\n",
      "25/25 [==============================] - 78s 3s/step - loss: 0.0779 - accuracy: 0.9897 - val_loss: 0.5864 - val_accuracy: 0.7816 - lr: 1.1719e-06\n",
      "Epoch 38/50\n"
     ]
    },
    {
     "name": "stderr",
     "output_type": "stream",
     "text": [
      "/home/huuquangdang/.local/lib/python3.10/site-packages/keras/src/engine/training.py:3079: UserWarning: You are saving your model as an HDF5 file via `model.save()`. This file format is considered legacy. We recommend using instead the native Keras format, e.g. `model.save('my_model.keras')`.\n",
      "  saving_api.save_model(\n"
     ]
    },
    {
     "name": "stdout",
     "output_type": "stream",
     "text": [
      "25/25 [==============================] - ETA: 0s - loss: 0.0891 - accuracy: 0.9872\n",
      "Epoch 38: val_accuracy did not improve from 0.78161\n",
      "25/25 [==============================] - 78s 3s/step - loss: 0.0891 - accuracy: 0.9872 - val_loss: 0.5773 - val_accuracy: 0.7816 - lr: 1.1719e-06\n",
      "Epoch 39/50\n",
      "25/25 [==============================] - ETA: 0s - loss: 0.0767 - accuracy: 0.9910\n",
      "Epoch 39: val_accuracy did not improve from 0.78161\n",
      "25/25 [==============================] - 77s 3s/step - loss: 0.0767 - accuracy: 0.9910 - val_loss: 0.5698 - val_accuracy: 0.7816 - lr: 1.1719e-06\n",
      "Epoch 40/50\n",
      "25/25 [==============================] - ETA: 0s - loss: 0.0780 - accuracy: 0.9949\n",
      "Epoch 40: val_accuracy did not improve from 0.78161\n",
      "25/25 [==============================] - 77s 3s/step - loss: 0.0780 - accuracy: 0.9949 - val_loss: 0.5634 - val_accuracy: 0.7816 - lr: 1.1719e-06\n",
      "Epoch 41/50\n",
      "25/25 [==============================] - ETA: 0s - loss: 0.0763 - accuracy: 0.9910\n",
      "Epoch 41: val_accuracy did not improve from 0.78161\n",
      "25/25 [==============================] - 78s 3s/step - loss: 0.0763 - accuracy: 0.9910 - val_loss: 0.5566 - val_accuracy: 0.7816 - lr: 1.1719e-06\n",
      "Epoch 42/50\n",
      "25/25 [==============================] - ETA: 0s - loss: 0.0829 - accuracy: 0.9910\n",
      "Epoch 42: val_accuracy improved from 0.78161 to 0.79310, saving model to best_model_fold2_improved.h5\n",
      "25/25 [==============================] - 77s 3s/step - loss: 0.0829 - accuracy: 0.9910 - val_loss: 0.5505 - val_accuracy: 0.7931 - lr: 1.1719e-06\n",
      "Epoch 43/50\n"
     ]
    },
    {
     "name": "stderr",
     "output_type": "stream",
     "text": [
      "/home/huuquangdang/.local/lib/python3.10/site-packages/keras/src/engine/training.py:3079: UserWarning: You are saving your model as an HDF5 file via `model.save()`. This file format is considered legacy. We recommend using instead the native Keras format, e.g. `model.save('my_model.keras')`.\n",
      "  saving_api.save_model(\n"
     ]
    },
    {
     "name": "stdout",
     "output_type": "stream",
     "text": [
      "25/25 [==============================] - ETA: 0s - loss: 0.0827 - accuracy: 0.9897\n",
      "Epoch 43: val_accuracy did not improve from 0.79310\n",
      "25/25 [==============================] - 77s 3s/step - loss: 0.0827 - accuracy: 0.9897 - val_loss: 0.5438 - val_accuracy: 0.7931 - lr: 1.1719e-06\n",
      "Epoch 44/50\n",
      "25/25 [==============================] - ETA: 0s - loss: 0.0746 - accuracy: 0.9897\n",
      "Epoch 44: val_accuracy did not improve from 0.79310\n",
      "25/25 [==============================] - 78s 3s/step - loss: 0.0746 - accuracy: 0.9897 - val_loss: 0.5375 - val_accuracy: 0.7931 - lr: 1.1719e-06\n",
      "Epoch 45/50\n",
      "25/25 [==============================] - ETA: 0s - loss: 0.0852 - accuracy: 0.9872\n",
      "Epoch 45: val_accuracy did not improve from 0.79310\n",
      "25/25 [==============================] - 77s 3s/step - loss: 0.0852 - accuracy: 0.9872 - val_loss: 0.5314 - val_accuracy: 0.7931 - lr: 1.1719e-06\n",
      "Epoch 46/50\n",
      "25/25 [==============================] - ETA: 0s - loss: 0.0793 - accuracy: 0.9885\n",
      "Epoch 46: val_accuracy did not improve from 0.79310\n",
      "25/25 [==============================] - 77s 3s/step - loss: 0.0793 - accuracy: 0.9885 - val_loss: 0.5254 - val_accuracy: 0.7931 - lr: 1.1719e-06\n",
      "Epoch 47/50\n",
      "25/25 [==============================] - ETA: 0s - loss: 0.0775 - accuracy: 0.9910\n",
      "Epoch 47: val_accuracy did not improve from 0.79310\n",
      "25/25 [==============================] - 77s 3s/step - loss: 0.0775 - accuracy: 0.9910 - val_loss: 0.5198 - val_accuracy: 0.7931 - lr: 1.1719e-06\n",
      "7/7 [==============================] - 9s 1s/step\n",
      "\n",
      "✅ Fold 2 Results:\n",
      "   Accuracy:  0.5023\n",
      "   Precision: 0.0000\n",
      "   Recall:    0.0000\n",
      "   F1 Score:  0.0000\n",
      "   AUC:       0.9433\n",
      "\n",
      "============================================================\n",
      "📊 Fold 3/5\n",
      "============================================================\n"
     ]
    },
    {
     "name": "stderr",
     "output_type": "stream",
     "text": [
      "/home/huuquangdang/.local/lib/python3.10/site-packages/sklearn/metrics/_classification.py:1731: UndefinedMetricWarning: Precision is ill-defined and being set to 0.0 due to no predicted samples. Use `zero_division` parameter to control this behavior.\n",
      "  _warn_prf(average, modifier, f\"{metric.capitalize()} is\", result.shape[0])\n"
     ]
    },
    {
     "name": "stdout",
     "output_type": "stream",
     "text": [
      "\n",
      "📈 Model Summary:\n",
      "   - Total params: 3,384,457\n",
      "   - Trainable params: 2,328,261\n",
      "   - MobileNet: Last 20 layers trainable\n",
      "   - LSTM: 128→64 units (stacked)\n",
      "   - Learning rate: 3e-4\n",
      "Epoch 1/50\n",
      "25/25 [==============================] - ETA: 0s - loss: 0.6753 - accuracy: 0.5769\n",
      "Epoch 1: val_accuracy improved from -inf to 0.50575, saving model to best_model_fold3_improved.h5\n",
      "25/25 [==============================] - 81s 3s/step - loss: 0.6753 - accuracy: 0.5769 - val_loss: 0.6821 - val_accuracy: 0.5057 - lr: 3.0000e-04\n",
      "Epoch 2/50\n"
     ]
    },
    {
     "name": "stderr",
     "output_type": "stream",
     "text": [
      "/home/huuquangdang/.local/lib/python3.10/site-packages/keras/src/engine/training.py:3079: UserWarning: You are saving your model as an HDF5 file via `model.save()`. This file format is considered legacy. We recommend using instead the native Keras format, e.g. `model.save('my_model.keras')`.\n",
      "  saving_api.save_model(\n"
     ]
    },
    {
     "name": "stdout",
     "output_type": "stream",
     "text": [
      "25/25 [==============================] - ETA: 0s - loss: 0.5686 - accuracy: 0.7923\n",
      "Epoch 2: val_accuracy did not improve from 0.50575\n",
      "25/25 [==============================] - 77s 3s/step - loss: 0.5686 - accuracy: 0.7923 - val_loss: 0.6939 - val_accuracy: 0.5057 - lr: 3.0000e-04\n",
      "Epoch 3/50\n",
      "25/25 [==============================] - ETA: 0s - loss: 0.4476 - accuracy: 0.8526\n",
      "Epoch 3: val_accuracy improved from 0.50575 to 0.51724, saving model to best_model_fold3_improved.h5\n",
      "25/25 [==============================] - 78s 3s/step - loss: 0.4476 - accuracy: 0.8526 - val_loss: 0.7381 - val_accuracy: 0.5172 - lr: 3.0000e-04\n",
      "Epoch 4/50\n"
     ]
    },
    {
     "name": "stderr",
     "output_type": "stream",
     "text": [
      "/home/huuquangdang/.local/lib/python3.10/site-packages/keras/src/engine/training.py:3079: UserWarning: You are saving your model as an HDF5 file via `model.save()`. This file format is considered legacy. We recommend using instead the native Keras format, e.g. `model.save('my_model.keras')`.\n",
      "  saving_api.save_model(\n"
     ]
    },
    {
     "name": "stdout",
     "output_type": "stream",
     "text": [
      "25/25 [==============================] - ETA: 0s - loss: 0.3103 - accuracy: 0.8897\n",
      "Epoch 4: val_accuracy did not improve from 0.51724\n",
      "\n",
      "Epoch 4: ReduceLROnPlateau reducing learning rate to 0.0001500000071246177.\n",
      "25/25 [==============================] - 77s 3s/step - loss: 0.3103 - accuracy: 0.8897 - val_loss: 0.8214 - val_accuracy: 0.5172 - lr: 3.0000e-04\n",
      "Epoch 5/50\n",
      "25/25 [==============================] - ETA: 0s - loss: 0.2201 - accuracy: 0.9346\n",
      "Epoch 5: val_accuracy improved from 0.51724 to 0.52874, saving model to best_model_fold3_improved.h5\n",
      "25/25 [==============================] - 78s 3s/step - loss: 0.2201 - accuracy: 0.9346 - val_loss: 0.8201 - val_accuracy: 0.5287 - lr: 1.5000e-04\n",
      "Epoch 6/50\n"
     ]
    },
    {
     "name": "stderr",
     "output_type": "stream",
     "text": [
      "/home/huuquangdang/.local/lib/python3.10/site-packages/keras/src/engine/training.py:3079: UserWarning: You are saving your model as an HDF5 file via `model.save()`. This file format is considered legacy. We recommend using instead the native Keras format, e.g. `model.save('my_model.keras')`.\n",
      "  saving_api.save_model(\n"
     ]
    },
    {
     "name": "stdout",
     "output_type": "stream",
     "text": [
      "25/25 [==============================] - ETA: 0s - loss: 0.1814 - accuracy: 0.9526\n",
      "Epoch 6: val_accuracy improved from 0.52874 to 0.56322, saving model to best_model_fold3_improved.h5\n",
      "25/25 [==============================] - 79s 3s/step - loss: 0.1814 - accuracy: 0.9526 - val_loss: 0.8093 - val_accuracy: 0.5632 - lr: 1.5000e-04\n",
      "Epoch 7/50\n"
     ]
    },
    {
     "name": "stderr",
     "output_type": "stream",
     "text": [
      "/home/huuquangdang/.local/lib/python3.10/site-packages/keras/src/engine/training.py:3079: UserWarning: You are saving your model as an HDF5 file via `model.save()`. This file format is considered legacy. We recommend using instead the native Keras format, e.g. `model.save('my_model.keras')`.\n",
      "  saving_api.save_model(\n"
     ]
    },
    {
     "name": "stdout",
     "output_type": "stream",
     "text": [
      "25/25 [==============================] - ETA: 0s - loss: 0.1427 - accuracy: 0.9705\n",
      "Epoch 7: val_accuracy did not improve from 0.56322\n",
      "\n",
      "Epoch 7: ReduceLROnPlateau reducing learning rate to 7.500000356230885e-05.\n",
      "25/25 [==============================] - 78s 3s/step - loss: 0.1427 - accuracy: 0.9705 - val_loss: 0.8244 - val_accuracy: 0.5517 - lr: 1.5000e-04\n",
      "Epoch 8/50\n",
      "25/25 [==============================] - ETA: 0s - loss: 0.1110 - accuracy: 0.9782\n",
      "Epoch 8: val_accuracy improved from 0.56322 to 0.57471, saving model to best_model_fold3_improved.h5\n",
      "25/25 [==============================] - 77s 3s/step - loss: 0.1110 - accuracy: 0.9782 - val_loss: 0.8873 - val_accuracy: 0.5747 - lr: 7.5000e-05\n",
      "Epoch 9/50\n"
     ]
    },
    {
     "name": "stderr",
     "output_type": "stream",
     "text": [
      "/home/huuquangdang/.local/lib/python3.10/site-packages/keras/src/engine/training.py:3079: UserWarning: You are saving your model as an HDF5 file via `model.save()`. This file format is considered legacy. We recommend using instead the native Keras format, e.g. `model.save('my_model.keras')`.\n",
      "  saving_api.save_model(\n"
     ]
    },
    {
     "name": "stdout",
     "output_type": "stream",
     "text": [
      "25/25 [==============================] - ETA: 0s - loss: 0.0910 - accuracy: 0.9846\n",
      "Epoch 9: val_accuracy did not improve from 0.57471\n",
      "25/25 [==============================] - 77s 3s/step - loss: 0.0910 - accuracy: 0.9846 - val_loss: 1.0026 - val_accuracy: 0.5517 - lr: 7.5000e-05\n",
      "Epoch 10/50\n",
      "25/25 [==============================] - ETA: 0s - loss: 0.0884 - accuracy: 0.9821\n",
      "Epoch 10: val_accuracy did not improve from 0.57471\n",
      "\n",
      "Epoch 10: ReduceLROnPlateau reducing learning rate to 3.7500001781154424e-05.\n",
      "25/25 [==============================] - 77s 3s/step - loss: 0.0884 - accuracy: 0.9821 - val_loss: 1.0330 - val_accuracy: 0.5517 - lr: 7.5000e-05\n",
      "Epoch 11/50\n",
      "25/25 [==============================] - ETA: 0s - loss: 0.0728 - accuracy: 0.9910\n",
      "Epoch 11: val_accuracy did not improve from 0.57471\n",
      "25/25 [==============================] - 77s 3s/step - loss: 0.0728 - accuracy: 0.9910 - val_loss: 1.0209 - val_accuracy: 0.5632 - lr: 3.7500e-05\n",
      "Epoch 12/50\n",
      "25/25 [==============================] - ETA: 0s - loss: 0.0721 - accuracy: 0.9897\n",
      "Epoch 12: val_accuracy improved from 0.57471 to 0.58621, saving model to best_model_fold3_improved.h5\n",
      "25/25 [==============================] - 77s 3s/step - loss: 0.0721 - accuracy: 0.9897 - val_loss: 0.9892 - val_accuracy: 0.5862 - lr: 3.7500e-05\n",
      "Epoch 13/50\n"
     ]
    },
    {
     "name": "stderr",
     "output_type": "stream",
     "text": [
      "/home/huuquangdang/.local/lib/python3.10/site-packages/keras/src/engine/training.py:3079: UserWarning: You are saving your model as an HDF5 file via `model.save()`. This file format is considered legacy. We recommend using instead the native Keras format, e.g. `model.save('my_model.keras')`.\n",
      "  saving_api.save_model(\n"
     ]
    },
    {
     "name": "stdout",
     "output_type": "stream",
     "text": [
      "25/25 [==============================] - ETA: 0s - loss: 0.0613 - accuracy: 0.9962\n",
      "Epoch 13: val_accuracy did not improve from 0.58621\n",
      "\n",
      "Epoch 13: ReduceLROnPlateau reducing learning rate to 1.8750000890577212e-05.\n",
      "25/25 [==============================] - 77s 3s/step - loss: 0.0613 - accuracy: 0.9962 - val_loss: 0.9847 - val_accuracy: 0.5862 - lr: 3.7500e-05\n",
      "Epoch 14/50\n",
      "25/25 [==============================] - ETA: 0s - loss: 0.0655 - accuracy: 0.9923\n",
      "Epoch 14: val_accuracy improved from 0.58621 to 0.65517, saving model to best_model_fold3_improved.h5\n",
      "25/25 [==============================] - 78s 3s/step - loss: 0.0655 - accuracy: 0.9923 - val_loss: 0.9557 - val_accuracy: 0.6552 - lr: 1.8750e-05\n",
      "Epoch 15/50\n"
     ]
    },
    {
     "name": "stderr",
     "output_type": "stream",
     "text": [
      "/home/huuquangdang/.local/lib/python3.10/site-packages/keras/src/engine/training.py:3079: UserWarning: You are saving your model as an HDF5 file via `model.save()`. This file format is considered legacy. We recommend using instead the native Keras format, e.g. `model.save('my_model.keras')`.\n",
      "  saving_api.save_model(\n"
     ]
    },
    {
     "name": "stdout",
     "output_type": "stream",
     "text": [
      "25/25 [==============================] - ETA: 0s - loss: 0.0589 - accuracy: 0.9949\n",
      "Epoch 15: val_accuracy improved from 0.65517 to 0.66667, saving model to best_model_fold3_improved.h5\n",
      "25/25 [==============================] - 77s 3s/step - loss: 0.0589 - accuracy: 0.9949 - val_loss: 0.9385 - val_accuracy: 0.6667 - lr: 1.8750e-05\n",
      "Epoch 16/50\n"
     ]
    },
    {
     "name": "stderr",
     "output_type": "stream",
     "text": [
      "/home/huuquangdang/.local/lib/python3.10/site-packages/keras/src/engine/training.py:3079: UserWarning: You are saving your model as an HDF5 file via `model.save()`. This file format is considered legacy. We recommend using instead the native Keras format, e.g. `model.save('my_model.keras')`.\n",
      "  saving_api.save_model(\n"
     ]
    },
    {
     "name": "stdout",
     "output_type": "stream",
     "text": [
      "25/25 [==============================] - ETA: 0s - loss: 0.0546 - accuracy: 0.9974\n",
      "Epoch 16: val_accuracy did not improve from 0.66667\n",
      "\n",
      "Epoch 16: ReduceLROnPlateau reducing learning rate to 9.375000445288606e-06.\n",
      "25/25 [==============================] - 77s 3s/step - loss: 0.0546 - accuracy: 0.9974 - val_loss: 0.9169 - val_accuracy: 0.6667 - lr: 1.8750e-05\n",
      "Epoch 17/50\n",
      "25/25 [==============================] - ETA: 0s - loss: 0.0548 - accuracy: 0.9962\n",
      "Epoch 17: val_accuracy improved from 0.66667 to 0.67816, saving model to best_model_fold3_improved.h5\n",
      "25/25 [==============================] - 77s 3s/step - loss: 0.0548 - accuracy: 0.9962 - val_loss: 0.8798 - val_accuracy: 0.6782 - lr: 9.3750e-06\n",
      "Epoch 18/50\n"
     ]
    },
    {
     "name": "stderr",
     "output_type": "stream",
     "text": [
      "/home/huuquangdang/.local/lib/python3.10/site-packages/keras/src/engine/training.py:3079: UserWarning: You are saving your model as an HDF5 file via `model.save()`. This file format is considered legacy. We recommend using instead the native Keras format, e.g. `model.save('my_model.keras')`.\n",
      "  saving_api.save_model(\n"
     ]
    },
    {
     "name": "stdout",
     "output_type": "stream",
     "text": [
      "25/25 [==============================] - ETA: 0s - loss: 0.0553 - accuracy: 0.9974\n",
      "Epoch 18: val_accuracy improved from 0.67816 to 0.70115, saving model to best_model_fold3_improved.h5\n",
      "25/25 [==============================] - 78s 3s/step - loss: 0.0553 - accuracy: 0.9974 - val_loss: 0.8560 - val_accuracy: 0.7011 - lr: 9.3750e-06\n",
      "Epoch 19/50\n"
     ]
    },
    {
     "name": "stderr",
     "output_type": "stream",
     "text": [
      "/home/huuquangdang/.local/lib/python3.10/site-packages/keras/src/engine/training.py:3079: UserWarning: You are saving your model as an HDF5 file via `model.save()`. This file format is considered legacy. We recommend using instead the native Keras format, e.g. `model.save('my_model.keras')`.\n",
      "  saving_api.save_model(\n"
     ]
    },
    {
     "name": "stdout",
     "output_type": "stream",
     "text": [
      "25/25 [==============================] - ETA: 0s - loss: 0.0584 - accuracy: 0.9910\n",
      "Epoch 19: val_accuracy improved from 0.70115 to 0.71264, saving model to best_model_fold3_improved.h5\n",
      "\n",
      "Epoch 19: ReduceLROnPlateau reducing learning rate to 4.687500222644303e-06.\n",
      "25/25 [==============================] - 77s 3s/step - loss: 0.0584 - accuracy: 0.9910 - val_loss: 0.8125 - val_accuracy: 0.7126 - lr: 9.3750e-06\n",
      "Epoch 20/50\n"
     ]
    },
    {
     "name": "stderr",
     "output_type": "stream",
     "text": [
      "/home/huuquangdang/.local/lib/python3.10/site-packages/keras/src/engine/training.py:3079: UserWarning: You are saving your model as an HDF5 file via `model.save()`. This file format is considered legacy. We recommend using instead the native Keras format, e.g. `model.save('my_model.keras')`.\n",
      "  saving_api.save_model(\n"
     ]
    },
    {
     "name": "stdout",
     "output_type": "stream",
     "text": [
      "25/25 [==============================] - ETA: 0s - loss: 0.0580 - accuracy: 0.9936\n",
      "Epoch 20: val_accuracy improved from 0.71264 to 0.72414, saving model to best_model_fold3_improved.h5\n",
      "25/25 [==============================] - 78s 3s/step - loss: 0.0580 - accuracy: 0.9936 - val_loss: 0.7738 - val_accuracy: 0.7241 - lr: 4.6875e-06\n",
      "Epoch 21/50\n"
     ]
    },
    {
     "name": "stderr",
     "output_type": "stream",
     "text": [
      "/home/huuquangdang/.local/lib/python3.10/site-packages/keras/src/engine/training.py:3079: UserWarning: You are saving your model as an HDF5 file via `model.save()`. This file format is considered legacy. We recommend using instead the native Keras format, e.g. `model.save('my_model.keras')`.\n",
      "  saving_api.save_model(\n"
     ]
    },
    {
     "name": "stdout",
     "output_type": "stream",
     "text": [
      "25/25 [==============================] - ETA: 0s - loss: 0.0521 - accuracy: 0.9987\n",
      "Epoch 21: val_accuracy did not improve from 0.72414\n",
      "25/25 [==============================] - 77s 3s/step - loss: 0.0521 - accuracy: 0.9987 - val_loss: 0.7350 - val_accuracy: 0.7241 - lr: 4.6875e-06\n",
      "Epoch 22/50\n",
      "25/25 [==============================] - ETA: 0s - loss: 0.0546 - accuracy: 0.9962\n",
      "Epoch 22: val_accuracy improved from 0.72414 to 0.74713, saving model to best_model_fold3_improved.h5\n",
      "\n",
      "Epoch 22: ReduceLROnPlateau reducing learning rate to 2.3437501113221515e-06.\n",
      "25/25 [==============================] - 77s 3s/step - loss: 0.0546 - accuracy: 0.9962 - val_loss: 0.6972 - val_accuracy: 0.7471 - lr: 4.6875e-06\n",
      "Epoch 23/50\n"
     ]
    },
    {
     "name": "stderr",
     "output_type": "stream",
     "text": [
      "/home/huuquangdang/.local/lib/python3.10/site-packages/keras/src/engine/training.py:3079: UserWarning: You are saving your model as an HDF5 file via `model.save()`. This file format is considered legacy. We recommend using instead the native Keras format, e.g. `model.save('my_model.keras')`.\n",
      "  saving_api.save_model(\n"
     ]
    },
    {
     "name": "stdout",
     "output_type": "stream",
     "text": [
      "25/25 [==============================] - ETA: 0s - loss: 0.0500 - accuracy: 0.9962\n",
      "Epoch 23: val_accuracy improved from 0.74713 to 0.77011, saving model to best_model_fold3_improved.h5\n",
      "25/25 [==============================] - 77s 3s/step - loss: 0.0500 - accuracy: 0.9962 - val_loss: 0.6619 - val_accuracy: 0.7701 - lr: 2.3438e-06\n",
      "Epoch 24/50\n"
     ]
    },
    {
     "name": "stderr",
     "output_type": "stream",
     "text": [
      "/home/huuquangdang/.local/lib/python3.10/site-packages/keras/src/engine/training.py:3079: UserWarning: You are saving your model as an HDF5 file via `model.save()`. This file format is considered legacy. We recommend using instead the native Keras format, e.g. `model.save('my_model.keras')`.\n",
      "  saving_api.save_model(\n"
     ]
    },
    {
     "name": "stdout",
     "output_type": "stream",
     "text": [
      "25/25 [==============================] - ETA: 0s - loss: 0.0540 - accuracy: 0.9949\n",
      "Epoch 24: val_accuracy improved from 0.77011 to 0.78161, saving model to best_model_fold3_improved.h5\n",
      "25/25 [==============================] - 78s 3s/step - loss: 0.0540 - accuracy: 0.9949 - val_loss: 0.6289 - val_accuracy: 0.7816 - lr: 2.3438e-06\n",
      "Epoch 25/50\n"
     ]
    },
    {
     "name": "stderr",
     "output_type": "stream",
     "text": [
      "/home/huuquangdang/.local/lib/python3.10/site-packages/keras/src/engine/training.py:3079: UserWarning: You are saving your model as an HDF5 file via `model.save()`. This file format is considered legacy. We recommend using instead the native Keras format, e.g. `model.save('my_model.keras')`.\n",
      "  saving_api.save_model(\n"
     ]
    },
    {
     "name": "stdout",
     "output_type": "stream",
     "text": [
      "25/25 [==============================] - ETA: 0s - loss: 0.0564 - accuracy: 0.9949\n",
      "Epoch 25: val_accuracy did not improve from 0.78161\n",
      "25/25 [==============================] - 77s 3s/step - loss: 0.0564 - accuracy: 0.9949 - val_loss: 0.5966 - val_accuracy: 0.7816 - lr: 2.3438e-06\n",
      "Epoch 26/50\n",
      "25/25 [==============================] - ETA: 0s - loss: 0.0516 - accuracy: 0.9962\n",
      "Epoch 26: val_accuracy improved from 0.78161 to 0.79310, saving model to best_model_fold3_improved.h5\n",
      "25/25 [==============================] - 78s 3s/step - loss: 0.0516 - accuracy: 0.9962 - val_loss: 0.5668 - val_accuracy: 0.7931 - lr: 2.3438e-06\n",
      "Epoch 27/50\n"
     ]
    },
    {
     "name": "stderr",
     "output_type": "stream",
     "text": [
      "/home/huuquangdang/.local/lib/python3.10/site-packages/keras/src/engine/training.py:3079: UserWarning: You are saving your model as an HDF5 file via `model.save()`. This file format is considered legacy. We recommend using instead the native Keras format, e.g. `model.save('my_model.keras')`.\n",
      "  saving_api.save_model(\n"
     ]
    },
    {
     "name": "stdout",
     "output_type": "stream",
     "text": [
      "25/25 [==============================] - ETA: 0s - loss: 0.0514 - accuracy: 0.9962\n",
      "Epoch 27: val_accuracy improved from 0.79310 to 0.80460, saving model to best_model_fold3_improved.h5\n",
      "25/25 [==============================] - 78s 3s/step - loss: 0.0514 - accuracy: 0.9962 - val_loss: 0.5400 - val_accuracy: 0.8046 - lr: 2.3438e-06\n",
      "Epoch 28/50\n"
     ]
    },
    {
     "name": "stderr",
     "output_type": "stream",
     "text": [
      "/home/huuquangdang/.local/lib/python3.10/site-packages/keras/src/engine/training.py:3079: UserWarning: You are saving your model as an HDF5 file via `model.save()`. This file format is considered legacy. We recommend using instead the native Keras format, e.g. `model.save('my_model.keras')`.\n",
      "  saving_api.save_model(\n"
     ]
    },
    {
     "name": "stdout",
     "output_type": "stream",
     "text": [
      "25/25 [==============================] - ETA: 0s - loss: 0.0511 - accuracy: 0.9949\n",
      "Epoch 28: val_accuracy did not improve from 0.80460\n",
      "25/25 [==============================] - 77s 3s/step - loss: 0.0511 - accuracy: 0.9949 - val_loss: 0.5153 - val_accuracy: 0.8046 - lr: 2.3438e-06\n",
      "Epoch 29/50\n",
      "25/25 [==============================] - ETA: 0s - loss: 0.0544 - accuracy: 0.9923\n",
      "Epoch 29: val_accuracy did not improve from 0.80460\n",
      "25/25 [==============================] - 78s 3s/step - loss: 0.0544 - accuracy: 0.9923 - val_loss: 0.4940 - val_accuracy: 0.8046 - lr: 2.3438e-06\n",
      "Epoch 30/50\n",
      "25/25 [==============================] - ETA: 0s - loss: 0.0551 - accuracy: 0.9936\n",
      "Epoch 30: val_accuracy improved from 0.80460 to 0.81609, saving model to best_model_fold3_improved.h5\n",
      "25/25 [==============================] - 79s 3s/step - loss: 0.0551 - accuracy: 0.9936 - val_loss: 0.4712 - val_accuracy: 0.8161 - lr: 2.3438e-06\n",
      "Epoch 31/50\n"
     ]
    },
    {
     "name": "stderr",
     "output_type": "stream",
     "text": [
      "/home/huuquangdang/.local/lib/python3.10/site-packages/keras/src/engine/training.py:3079: UserWarning: You are saving your model as an HDF5 file via `model.save()`. This file format is considered legacy. We recommend using instead the native Keras format, e.g. `model.save('my_model.keras')`.\n",
      "  saving_api.save_model(\n"
     ]
    },
    {
     "name": "stdout",
     "output_type": "stream",
     "text": [
      "25/25 [==============================] - ETA: 0s - loss: 0.0552 - accuracy: 0.9949\n",
      "Epoch 31: val_accuracy improved from 0.81609 to 0.82759, saving model to best_model_fold3_improved.h5\n",
      "25/25 [==============================] - 77s 3s/step - loss: 0.0552 - accuracy: 0.9949 - val_loss: 0.4493 - val_accuracy: 0.8276 - lr: 2.3438e-06\n",
      "Epoch 32/50\n"
     ]
    },
    {
     "name": "stderr",
     "output_type": "stream",
     "text": [
      "/home/huuquangdang/.local/lib/python3.10/site-packages/keras/src/engine/training.py:3079: UserWarning: You are saving your model as an HDF5 file via `model.save()`. This file format is considered legacy. We recommend using instead the native Keras format, e.g. `model.save('my_model.keras')`.\n",
      "  saving_api.save_model(\n"
     ]
    },
    {
     "name": "stdout",
     "output_type": "stream",
     "text": [
      "25/25 [==============================] - ETA: 0s - loss: 0.0519 - accuracy: 0.9974\n",
      "Epoch 32: val_accuracy improved from 0.82759 to 0.85057, saving model to best_model_fold3_improved.h5\n",
      "25/25 [==============================] - 79s 3s/step - loss: 0.0519 - accuracy: 0.9974 - val_loss: 0.4301 - val_accuracy: 0.8506 - lr: 2.3438e-06\n",
      "Epoch 33/50\n"
     ]
    },
    {
     "name": "stderr",
     "output_type": "stream",
     "text": [
      "/home/huuquangdang/.local/lib/python3.10/site-packages/keras/src/engine/training.py:3079: UserWarning: You are saving your model as an HDF5 file via `model.save()`. This file format is considered legacy. We recommend using instead the native Keras format, e.g. `model.save('my_model.keras')`.\n",
      "  saving_api.save_model(\n"
     ]
    },
    {
     "name": "stdout",
     "output_type": "stream",
     "text": [
      "25/25 [==============================] - ETA: 0s - loss: 0.0512 - accuracy: 0.9962\n",
      "Epoch 33: val_accuracy did not improve from 0.85057\n",
      "25/25 [==============================] - 77s 3s/step - loss: 0.0512 - accuracy: 0.9962 - val_loss: 0.4123 - val_accuracy: 0.8506 - lr: 2.3438e-06\n",
      "Epoch 34/50\n",
      "25/25 [==============================] - ETA: 0s - loss: 0.0495 - accuracy: 0.9949\n",
      "Epoch 34: val_accuracy did not improve from 0.85057\n",
      "25/25 [==============================] - 77s 3s/step - loss: 0.0495 - accuracy: 0.9949 - val_loss: 0.3971 - val_accuracy: 0.8506 - lr: 2.3438e-06\n",
      "Epoch 35/50\n",
      "25/25 [==============================] - ETA: 0s - loss: 0.0474 - accuracy: 0.9974\n",
      "Epoch 35: val_accuracy improved from 0.85057 to 0.87356, saving model to best_model_fold3_improved.h5\n",
      "25/25 [==============================] - 77s 3s/step - loss: 0.0474 - accuracy: 0.9974 - val_loss: 0.3836 - val_accuracy: 0.8736 - lr: 2.3438e-06\n",
      "Epoch 36/50\n"
     ]
    },
    {
     "name": "stderr",
     "output_type": "stream",
     "text": [
      "/home/huuquangdang/.local/lib/python3.10/site-packages/keras/src/engine/training.py:3079: UserWarning: You are saving your model as an HDF5 file via `model.save()`. This file format is considered legacy. We recommend using instead the native Keras format, e.g. `model.save('my_model.keras')`.\n",
      "  saving_api.save_model(\n"
     ]
    },
    {
     "name": "stdout",
     "output_type": "stream",
     "text": [
      "25/25 [==============================] - ETA: 0s - loss: 0.0514 - accuracy: 0.9987\n",
      "Epoch 36: val_accuracy improved from 0.87356 to 0.88506, saving model to best_model_fold3_improved.h5\n",
      "25/25 [==============================] - 77s 3s/step - loss: 0.0514 - accuracy: 0.9987 - val_loss: 0.3717 - val_accuracy: 0.8851 - lr: 2.3438e-06\n",
      "Epoch 37/50\n"
     ]
    },
    {
     "name": "stderr",
     "output_type": "stream",
     "text": [
      "/home/huuquangdang/.local/lib/python3.10/site-packages/keras/src/engine/training.py:3079: UserWarning: You are saving your model as an HDF5 file via `model.save()`. This file format is considered legacy. We recommend using instead the native Keras format, e.g. `model.save('my_model.keras')`.\n",
      "  saving_api.save_model(\n"
     ]
    },
    {
     "name": "stdout",
     "output_type": "stream",
     "text": [
      "25/25 [==============================] - ETA: 0s - loss: 0.0555 - accuracy: 0.9923\n",
      "Epoch 37: val_accuracy did not improve from 0.88506\n",
      "25/25 [==============================] - 77s 3s/step - loss: 0.0555 - accuracy: 0.9923 - val_loss: 0.3597 - val_accuracy: 0.8851 - lr: 2.3438e-06\n",
      "Epoch 38/50\n",
      "25/25 [==============================] - ETA: 0s - loss: 0.0469 - accuracy: 0.9974\n",
      "Epoch 38: val_accuracy did not improve from 0.88506\n",
      "25/25 [==============================] - 77s 3s/step - loss: 0.0469 - accuracy: 0.9974 - val_loss: 0.3494 - val_accuracy: 0.8851 - lr: 2.3438e-06\n",
      "Epoch 39/50\n",
      "25/25 [==============================] - ETA: 0s - loss: 0.0537 - accuracy: 0.9936\n",
      "Epoch 39: val_accuracy did not improve from 0.88506\n",
      "25/25 [==============================] - 78s 3s/step - loss: 0.0537 - accuracy: 0.9936 - val_loss: 0.3399 - val_accuracy: 0.8851 - lr: 2.3438e-06\n",
      "Epoch 40/50\n",
      "25/25 [==============================] - ETA: 0s - loss: 0.0507 - accuracy: 0.9936\n",
      "Epoch 40: val_accuracy did not improve from 0.88506\n",
      "25/25 [==============================] - 78s 3s/step - loss: 0.0507 - accuracy: 0.9936 - val_loss: 0.3302 - val_accuracy: 0.8851 - lr: 2.3438e-06\n",
      "Epoch 41/50\n",
      "25/25 [==============================] - ETA: 0s - loss: 0.0526 - accuracy: 0.9923\n",
      "Epoch 41: val_accuracy improved from 0.88506 to 0.89655, saving model to best_model_fold3_improved.h5\n",
      "25/25 [==============================] - 77s 3s/step - loss: 0.0526 - accuracy: 0.9923 - val_loss: 0.3221 - val_accuracy: 0.8966 - lr: 2.3438e-06\n",
      "Epoch 42/50\n"
     ]
    },
    {
     "name": "stderr",
     "output_type": "stream",
     "text": [
      "/home/huuquangdang/.local/lib/python3.10/site-packages/keras/src/engine/training.py:3079: UserWarning: You are saving your model as an HDF5 file via `model.save()`. This file format is considered legacy. We recommend using instead the native Keras format, e.g. `model.save('my_model.keras')`.\n",
      "  saving_api.save_model(\n"
     ]
    },
    {
     "name": "stdout",
     "output_type": "stream",
     "text": [
      "25/25 [==============================] - ETA: 0s - loss: 0.0540 - accuracy: 0.9936\n",
      "Epoch 42: val_accuracy did not improve from 0.89655\n",
      "25/25 [==============================] - 78s 3s/step - loss: 0.0540 - accuracy: 0.9936 - val_loss: 0.3152 - val_accuracy: 0.8966 - lr: 2.3438e-06\n",
      "Epoch 43/50\n",
      "25/25 [==============================] - ETA: 0s - loss: 0.0488 - accuracy: 0.9936\n",
      "Epoch 43: val_accuracy did not improve from 0.89655\n",
      "25/25 [==============================] - 77s 3s/step - loss: 0.0488 - accuracy: 0.9936 - val_loss: 0.3071 - val_accuracy: 0.8966 - lr: 2.3438e-06\n",
      "Epoch 44/50\n",
      "25/25 [==============================] - ETA: 0s - loss: 0.0513 - accuracy: 0.9910\n",
      "Epoch 44: val_accuracy did not improve from 0.89655\n",
      "25/25 [==============================] - 77s 3s/step - loss: 0.0513 - accuracy: 0.9910 - val_loss: 0.3004 - val_accuracy: 0.8966 - lr: 2.3438e-06\n",
      "Epoch 45/50\n",
      "25/25 [==============================] - ETA: 0s - loss: 0.0465 - accuracy: 0.9974\n",
      "Epoch 45: val_accuracy did not improve from 0.89655\n",
      "25/25 [==============================] - 77s 3s/step - loss: 0.0465 - accuracy: 0.9974 - val_loss: 0.2941 - val_accuracy: 0.8966 - lr: 2.3438e-06\n",
      "Epoch 46/50\n",
      "25/25 [==============================] - ETA: 0s - loss: 0.0466 - accuracy: 0.9962\n",
      "Epoch 46: val_accuracy did not improve from 0.89655\n",
      "25/25 [==============================] - 77s 3s/step - loss: 0.0466 - accuracy: 0.9962 - val_loss: 0.2888 - val_accuracy: 0.8966 - lr: 2.3438e-06\n",
      "7/7 [==============================] - 9s 1s/step\n",
      "\n",
      "✅ Fold 3 Results:\n",
      "   Accuracy:  0.8618\n",
      "   Precision: 0.9158\n",
      "   Recall:    0.7982\n",
      "   F1 Score:  0.8529\n",
      "   AUC:       0.9365\n",
      "\n",
      "============================================================\n",
      "📊 Fold 4/5\n",
      "============================================================\n",
      "\n",
      "📈 Model Summary:\n",
      "   - Total params: 3,384,457\n",
      "   - Trainable params: 2,328,261\n",
      "   - MobileNet: Last 20 layers trainable\n",
      "   - LSTM: 128→64 units (stacked)\n",
      "   - Learning rate: 3e-4\n",
      "Epoch 1/50\n",
      "25/25 [==============================] - ETA: 0s - loss: 0.6547 - accuracy: 0.6218\n",
      "Epoch 1: val_accuracy improved from -inf to 0.51724, saving model to best_model_fold4_improved.h5\n",
      "25/25 [==============================] - 82s 3s/step - loss: 0.6547 - accuracy: 0.6218 - val_loss: 0.6887 - val_accuracy: 0.5172 - lr: 3.0000e-04\n",
      "Epoch 2/50\n"
     ]
    },
    {
     "name": "stderr",
     "output_type": "stream",
     "text": [
      "/home/huuquangdang/.local/lib/python3.10/site-packages/keras/src/engine/training.py:3079: UserWarning: You are saving your model as an HDF5 file via `model.save()`. This file format is considered legacy. We recommend using instead the native Keras format, e.g. `model.save('my_model.keras')`.\n",
      "  saving_api.save_model(\n"
     ]
    },
    {
     "name": "stdout",
     "output_type": "stream",
     "text": [
      "25/25 [==============================] - ETA: 0s - loss: 0.5252 - accuracy: 0.7962\n",
      "Epoch 2: val_accuracy improved from 0.51724 to 0.56322, saving model to best_model_fold4_improved.h5\n",
      "25/25 [==============================] - 78s 3s/step - loss: 0.5252 - accuracy: 0.7962 - val_loss: 0.6606 - val_accuracy: 0.5632 - lr: 3.0000e-04\n",
      "Epoch 3/50\n"
     ]
    },
    {
     "name": "stderr",
     "output_type": "stream",
     "text": [
      "/home/huuquangdang/.local/lib/python3.10/site-packages/keras/src/engine/training.py:3079: UserWarning: You are saving your model as an HDF5 file via `model.save()`. This file format is considered legacy. We recommend using instead the native Keras format, e.g. `model.save('my_model.keras')`.\n",
      "  saving_api.save_model(\n"
     ]
    },
    {
     "name": "stdout",
     "output_type": "stream",
     "text": [
      "25/25 [==============================] - ETA: 0s - loss: 0.4006 - accuracy: 0.8859\n",
      "Epoch 3: val_accuracy improved from 0.56322 to 0.60920, saving model to best_model_fold4_improved.h5\n",
      "25/25 [==============================] - 77s 3s/step - loss: 0.4006 - accuracy: 0.8859 - val_loss: 0.6225 - val_accuracy: 0.6092 - lr: 3.0000e-04\n",
      "Epoch 4/50\n"
     ]
    },
    {
     "name": "stderr",
     "output_type": "stream",
     "text": [
      "/home/huuquangdang/.local/lib/python3.10/site-packages/keras/src/engine/training.py:3079: UserWarning: You are saving your model as an HDF5 file via `model.save()`. This file format is considered legacy. We recommend using instead the native Keras format, e.g. `model.save('my_model.keras')`.\n",
      "  saving_api.save_model(\n"
     ]
    },
    {
     "name": "stdout",
     "output_type": "stream",
     "text": [
      "25/25 [==============================] - ETA: 0s - loss: 0.3066 - accuracy: 0.9090\n",
      "Epoch 4: val_accuracy improved from 0.60920 to 0.72414, saving model to best_model_fold4_improved.h5\n",
      "25/25 [==============================] - 78s 3s/step - loss: 0.3066 - accuracy: 0.9090 - val_loss: 0.5372 - val_accuracy: 0.7241 - lr: 3.0000e-04\n",
      "Epoch 5/50\n"
     ]
    },
    {
     "name": "stderr",
     "output_type": "stream",
     "text": [
      "/home/huuquangdang/.local/lib/python3.10/site-packages/keras/src/engine/training.py:3079: UserWarning: You are saving your model as an HDF5 file via `model.save()`. This file format is considered legacy. We recommend using instead the native Keras format, e.g. `model.save('my_model.keras')`.\n",
      "  saving_api.save_model(\n"
     ]
    },
    {
     "name": "stdout",
     "output_type": "stream",
     "text": [
      "25/25 [==============================] - ETA: 0s - loss: 0.2375 - accuracy: 0.9205\n",
      "Epoch 5: val_accuracy improved from 0.72414 to 0.73563, saving model to best_model_fold4_improved.h5\n",
      "25/25 [==============================] - 77s 3s/step - loss: 0.2375 - accuracy: 0.9205 - val_loss: 0.5341 - val_accuracy: 0.7356 - lr: 3.0000e-04\n",
      "Epoch 6/50\n"
     ]
    },
    {
     "name": "stderr",
     "output_type": "stream",
     "text": [
      "/home/huuquangdang/.local/lib/python3.10/site-packages/keras/src/engine/training.py:3079: UserWarning: You are saving your model as an HDF5 file via `model.save()`. This file format is considered legacy. We recommend using instead the native Keras format, e.g. `model.save('my_model.keras')`.\n",
      "  saving_api.save_model(\n"
     ]
    },
    {
     "name": "stdout",
     "output_type": "stream",
     "text": [
      "25/25 [==============================] - ETA: 0s - loss: 0.1669 - accuracy: 0.9590\n",
      "Epoch 6: val_accuracy did not improve from 0.73563\n",
      "25/25 [==============================] - 77s 3s/step - loss: 0.1669 - accuracy: 0.9590 - val_loss: 0.5850 - val_accuracy: 0.6782 - lr: 3.0000e-04\n",
      "Epoch 7/50\n",
      "25/25 [==============================] - ETA: 0s - loss: 0.1213 - accuracy: 0.9679\n",
      "Epoch 7: val_accuracy improved from 0.73563 to 0.75862, saving model to best_model_fold4_improved.h5\n",
      "25/25 [==============================] - 78s 3s/step - loss: 0.1213 - accuracy: 0.9679 - val_loss: 0.4846 - val_accuracy: 0.7586 - lr: 3.0000e-04\n",
      "Epoch 8/50\n"
     ]
    },
    {
     "name": "stderr",
     "output_type": "stream",
     "text": [
      "/home/huuquangdang/.local/lib/python3.10/site-packages/keras/src/engine/training.py:3079: UserWarning: You are saving your model as an HDF5 file via `model.save()`. This file format is considered legacy. We recommend using instead the native Keras format, e.g. `model.save('my_model.keras')`.\n",
      "  saving_api.save_model(\n"
     ]
    },
    {
     "name": "stdout",
     "output_type": "stream",
     "text": [
      "25/25 [==============================] - ETA: 0s - loss: 0.0921 - accuracy: 0.9833\n",
      "Epoch 8: val_accuracy improved from 0.75862 to 0.79310, saving model to best_model_fold4_improved.h5\n",
      "25/25 [==============================] - 77s 3s/step - loss: 0.0921 - accuracy: 0.9833 - val_loss: 0.4329 - val_accuracy: 0.7931 - lr: 3.0000e-04\n",
      "Epoch 9/50\n"
     ]
    },
    {
     "name": "stderr",
     "output_type": "stream",
     "text": [
      "/home/huuquangdang/.local/lib/python3.10/site-packages/keras/src/engine/training.py:3079: UserWarning: You are saving your model as an HDF5 file via `model.save()`. This file format is considered legacy. We recommend using instead the native Keras format, e.g. `model.save('my_model.keras')`.\n",
      "  saving_api.save_model(\n"
     ]
    },
    {
     "name": "stdout",
     "output_type": "stream",
     "text": [
      "25/25 [==============================] - ETA: 0s - loss: 0.0791 - accuracy: 0.9821\n",
      "Epoch 9: val_accuracy improved from 0.79310 to 0.80460, saving model to best_model_fold4_improved.h5\n",
      "25/25 [==============================] - 77s 3s/step - loss: 0.0791 - accuracy: 0.9821 - val_loss: 0.4251 - val_accuracy: 0.8046 - lr: 3.0000e-04\n",
      "Epoch 10/50\n"
     ]
    },
    {
     "name": "stderr",
     "output_type": "stream",
     "text": [
      "/home/huuquangdang/.local/lib/python3.10/site-packages/keras/src/engine/training.py:3079: UserWarning: You are saving your model as an HDF5 file via `model.save()`. This file format is considered legacy. We recommend using instead the native Keras format, e.g. `model.save('my_model.keras')`.\n",
      "  saving_api.save_model(\n"
     ]
    },
    {
     "name": "stdout",
     "output_type": "stream",
     "text": [
      "25/25 [==============================] - ETA: 0s - loss: 0.0499 - accuracy: 0.9923\n",
      "Epoch 10: val_accuracy did not improve from 0.80460\n",
      "25/25 [==============================] - 77s 3s/step - loss: 0.0499 - accuracy: 0.9923 - val_loss: 0.4532 - val_accuracy: 0.7931 - lr: 3.0000e-04\n",
      "Epoch 11/50\n",
      "25/25 [==============================] - ETA: 0s - loss: 0.0396 - accuracy: 0.9936\n",
      "Epoch 11: val_accuracy did not improve from 0.80460\n",
      "25/25 [==============================] - 77s 3s/step - loss: 0.0396 - accuracy: 0.9936 - val_loss: 0.5054 - val_accuracy: 0.7586 - lr: 3.0000e-04\n",
      "Epoch 12/50\n",
      "25/25 [==============================] - ETA: 0s - loss: 0.0375 - accuracy: 0.9897\n",
      "Epoch 12: val_accuracy improved from 0.80460 to 0.81609, saving model to best_model_fold4_improved.h5\n",
      "25/25 [==============================] - 79s 3s/step - loss: 0.0375 - accuracy: 0.9897 - val_loss: 0.4243 - val_accuracy: 0.8161 - lr: 3.0000e-04\n",
      "Epoch 13/50\n"
     ]
    },
    {
     "name": "stderr",
     "output_type": "stream",
     "text": [
      "/home/huuquangdang/.local/lib/python3.10/site-packages/keras/src/engine/training.py:3079: UserWarning: You are saving your model as an HDF5 file via `model.save()`. This file format is considered legacy. We recommend using instead the native Keras format, e.g. `model.save('my_model.keras')`.\n",
      "  saving_api.save_model(\n"
     ]
    },
    {
     "name": "stdout",
     "output_type": "stream",
     "text": [
      "25/25 [==============================] - ETA: 0s - loss: 0.0340 - accuracy: 0.9923\n",
      "Epoch 13: val_accuracy did not improve from 0.81609\n",
      "25/25 [==============================] - 77s 3s/step - loss: 0.0340 - accuracy: 0.9923 - val_loss: 0.4997 - val_accuracy: 0.8161 - lr: 3.0000e-04\n",
      "Epoch 14/50\n",
      "25/25 [==============================] - ETA: 0s - loss: 0.0332 - accuracy: 0.9897\n",
      "Epoch 14: val_accuracy did not improve from 0.81609\n",
      "25/25 [==============================] - 77s 3s/step - loss: 0.0332 - accuracy: 0.9897 - val_loss: 0.8946 - val_accuracy: 0.7241 - lr: 3.0000e-04\n",
      "Epoch 15/50\n",
      "25/25 [==============================] - ETA: 0s - loss: 0.0288 - accuracy: 0.9936\n",
      "Epoch 15: val_accuracy did not improve from 0.81609\n",
      "\n",
      "Epoch 15: ReduceLROnPlateau reducing learning rate to 0.0001500000071246177.\n",
      "25/25 [==============================] - 77s 3s/step - loss: 0.0288 - accuracy: 0.9936 - val_loss: 0.8567 - val_accuracy: 0.7241 - lr: 3.0000e-04\n",
      "Epoch 16/50\n",
      "25/25 [==============================] - ETA: 0s - loss: 0.0184 - accuracy: 0.9987\n",
      "Epoch 16: val_accuracy did not improve from 0.81609\n",
      "25/25 [==============================] - 78s 3s/step - loss: 0.0184 - accuracy: 0.9987 - val_loss: 0.6980 - val_accuracy: 0.8046 - lr: 1.5000e-04\n",
      "Epoch 17/50\n",
      "25/25 [==============================] - ETA: 0s - loss: 0.0159 - accuracy: 0.9987\n",
      "Epoch 17: val_accuracy did not improve from 0.81609\n",
      "25/25 [==============================] - 77s 3s/step - loss: 0.0159 - accuracy: 0.9987 - val_loss: 0.6809 - val_accuracy: 0.8161 - lr: 1.5000e-04\n",
      "7/7 [==============================] - 9s 1s/step\n"
     ]
    },
    {
     "name": "stderr",
     "output_type": "stream",
     "text": [
      "Model is not converging.  Current: 91.4419828110854 is not greater than 91.44249344980831. Delta is -0.0005106387229147913\n"
     ]
    },
    {
     "name": "stdout",
     "output_type": "stream",
     "text": [
      "\n",
      "✅ Fold 4 Results:\n",
      "   Accuracy:  0.8249\n",
      "   Precision: 0.8381\n",
      "   Recall:    0.8073\n",
      "   F1 Score:  0.8224\n",
      "   AUC:       0.8953\n",
      "\n",
      "============================================================\n",
      "📊 Fold 5/5\n",
      "============================================================\n",
      "\n",
      "📈 Model Summary:\n",
      "   - Total params: 3,384,457\n",
      "   - Trainable params: 2,328,261\n",
      "   - MobileNet: Last 20 layers trainable\n",
      "   - LSTM: 128→64 units (stacked)\n",
      "   - Learning rate: 3e-4\n",
      "Epoch 1/50\n",
      "25/25 [==============================] - ETA: 0s - loss: 0.6720 - accuracy: 0.5711\n",
      "Epoch 1: val_accuracy improved from -inf to 0.49425, saving model to best_model_fold5_improved.h5\n",
      "25/25 [==============================] - 82s 3s/step - loss: 0.6720 - accuracy: 0.5711 - val_loss: 0.7232 - val_accuracy: 0.4943 - lr: 3.0000e-04\n",
      "Epoch 2/50\n"
     ]
    },
    {
     "name": "stderr",
     "output_type": "stream",
     "text": [
      "/home/huuquangdang/.local/lib/python3.10/site-packages/keras/src/engine/training.py:3079: UserWarning: You are saving your model as an HDF5 file via `model.save()`. This file format is considered legacy. We recommend using instead the native Keras format, e.g. `model.save('my_model.keras')`.\n",
      "  saving_api.save_model(\n"
     ]
    },
    {
     "name": "stdout",
     "output_type": "stream",
     "text": [
      "25/25 [==============================] - ETA: 0s - loss: 0.5724 - accuracy: 0.7606\n",
      "Epoch 2: val_accuracy did not improve from 0.49425\n",
      "25/25 [==============================] - 77s 3s/step - loss: 0.5724 - accuracy: 0.7606 - val_loss: 0.7310 - val_accuracy: 0.4943 - lr: 3.0000e-04\n",
      "Epoch 3/50\n",
      "25/25 [==============================] - ETA: 0s - loss: 0.4252 - accuracy: 0.8528\n",
      "Epoch 3: val_accuracy improved from 0.49425 to 0.56322, saving model to best_model_fold5_improved.h5\n",
      "25/25 [==============================] - 78s 3s/step - loss: 0.4252 - accuracy: 0.8528 - val_loss: 0.7199 - val_accuracy: 0.5632 - lr: 3.0000e-04\n",
      "Epoch 4/50\n"
     ]
    },
    {
     "name": "stderr",
     "output_type": "stream",
     "text": [
      "/home/huuquangdang/.local/lib/python3.10/site-packages/keras/src/engine/training.py:3079: UserWarning: You are saving your model as an HDF5 file via `model.save()`. This file format is considered legacy. We recommend using instead the native Keras format, e.g. `model.save('my_model.keras')`.\n",
      "  saving_api.save_model(\n"
     ]
    },
    {
     "name": "stdout",
     "output_type": "stream",
     "text": [
      "25/25 [==============================] - ETA: 0s - loss: 0.2943 - accuracy: 0.8988\n",
      "Epoch 4: val_accuracy improved from 0.56322 to 0.57471, saving model to best_model_fold5_improved.h5\n",
      "25/25 [==============================] - 78s 3s/step - loss: 0.2943 - accuracy: 0.8988 - val_loss: 0.6982 - val_accuracy: 0.5747 - lr: 3.0000e-04\n",
      "Epoch 5/50\n"
     ]
    },
    {
     "name": "stderr",
     "output_type": "stream",
     "text": [
      "/home/huuquangdang/.local/lib/python3.10/site-packages/keras/src/engine/training.py:3079: UserWarning: You are saving your model as an HDF5 file via `model.save()`. This file format is considered legacy. We recommend using instead the native Keras format, e.g. `model.save('my_model.keras')`.\n",
      "  saving_api.save_model(\n"
     ]
    },
    {
     "name": "stdout",
     "output_type": "stream",
     "text": [
      "25/25 [==============================] - ETA: 0s - loss: 0.2093 - accuracy: 0.9296\n",
      "Epoch 5: val_accuracy improved from 0.57471 to 0.66667, saving model to best_model_fold5_improved.h5\n",
      "25/25 [==============================] - 78s 3s/step - loss: 0.2093 - accuracy: 0.9296 - val_loss: 0.6894 - val_accuracy: 0.6667 - lr: 3.0000e-04\n",
      "Epoch 6/50\n"
     ]
    },
    {
     "name": "stderr",
     "output_type": "stream",
     "text": [
      "/home/huuquangdang/.local/lib/python3.10/site-packages/keras/src/engine/training.py:3079: UserWarning: You are saving your model as an HDF5 file via `model.save()`. This file format is considered legacy. We recommend using instead the native Keras format, e.g. `model.save('my_model.keras')`.\n",
      "  saving_api.save_model(\n"
     ]
    },
    {
     "name": "stdout",
     "output_type": "stream",
     "text": [
      "25/25 [==============================] - ETA: 0s - loss: 0.1362 - accuracy: 0.9654\n",
      "Epoch 6: val_accuracy did not improve from 0.66667\n",
      "25/25 [==============================] - 77s 3s/step - loss: 0.1362 - accuracy: 0.9654 - val_loss: 0.8965 - val_accuracy: 0.6322 - lr: 3.0000e-04\n",
      "Epoch 7/50\n",
      "25/25 [==============================] - ETA: 0s - loss: 0.0829 - accuracy: 0.9782\n",
      "Epoch 7: val_accuracy improved from 0.66667 to 0.73563, saving model to best_model_fold5_improved.h5\n",
      "25/25 [==============================] - 78s 3s/step - loss: 0.0829 - accuracy: 0.9782 - val_loss: 0.7067 - val_accuracy: 0.7356 - lr: 3.0000e-04\n",
      "Epoch 8/50\n"
     ]
    },
    {
     "name": "stderr",
     "output_type": "stream",
     "text": [
      "/home/huuquangdang/.local/lib/python3.10/site-packages/keras/src/engine/training.py:3079: UserWarning: You are saving your model as an HDF5 file via `model.save()`. This file format is considered legacy. We recommend using instead the native Keras format, e.g. `model.save('my_model.keras')`.\n",
      "  saving_api.save_model(\n"
     ]
    },
    {
     "name": "stdout",
     "output_type": "stream",
     "text": [
      "25/25 [==============================] - ETA: 0s - loss: 0.0597 - accuracy: 0.9846\n",
      "Epoch 8: val_accuracy improved from 0.73563 to 0.74713, saving model to best_model_fold5_improved.h5\n",
      "\n",
      "Epoch 8: ReduceLROnPlateau reducing learning rate to 0.0001500000071246177.\n",
      "25/25 [==============================] - 78s 3s/step - loss: 0.0597 - accuracy: 0.9846 - val_loss: 0.7225 - val_accuracy: 0.7471 - lr: 3.0000e-04\n",
      "Epoch 9/50\n"
     ]
    },
    {
     "name": "stderr",
     "output_type": "stream",
     "text": [
      "/home/huuquangdang/.local/lib/python3.10/site-packages/keras/src/engine/training.py:3079: UserWarning: You are saving your model as an HDF5 file via `model.save()`. This file format is considered legacy. We recommend using instead the native Keras format, e.g. `model.save('my_model.keras')`.\n",
      "  saving_api.save_model(\n"
     ]
    },
    {
     "name": "stdout",
     "output_type": "stream",
     "text": [
      "25/25 [==============================] - ETA: 0s - loss: 0.0408 - accuracy: 0.9923\n",
      "Epoch 9: val_accuracy improved from 0.74713 to 0.78161, saving model to best_model_fold5_improved.h5\n",
      "25/25 [==============================] - 77s 3s/step - loss: 0.0408 - accuracy: 0.9923 - val_loss: 0.6147 - val_accuracy: 0.7816 - lr: 1.5000e-04\n",
      "Epoch 10/50\n"
     ]
    },
    {
     "name": "stderr",
     "output_type": "stream",
     "text": [
      "/home/huuquangdang/.local/lib/python3.10/site-packages/keras/src/engine/training.py:3079: UserWarning: You are saving your model as an HDF5 file via `model.save()`. This file format is considered legacy. We recommend using instead the native Keras format, e.g. `model.save('my_model.keras')`.\n",
      "  saving_api.save_model(\n"
     ]
    },
    {
     "name": "stdout",
     "output_type": "stream",
     "text": [
      "25/25 [==============================] - ETA: 0s - loss: 0.0303 - accuracy: 0.9962\n",
      "Epoch 10: val_accuracy did not improve from 0.78161\n",
      "25/25 [==============================] - 77s 3s/step - loss: 0.0303 - accuracy: 0.9962 - val_loss: 0.6784 - val_accuracy: 0.7816 - lr: 1.5000e-04\n",
      "Epoch 11/50\n",
      "25/25 [==============================] - ETA: 0s - loss: 0.0242 - accuracy: 0.9974\n",
      "Epoch 11: val_accuracy did not improve from 0.78161\n",
      "25/25 [==============================] - 77s 3s/step - loss: 0.0242 - accuracy: 0.9974 - val_loss: 0.6189 - val_accuracy: 0.7816 - lr: 1.5000e-04\n",
      "Epoch 12/50\n",
      "25/25 [==============================] - ETA: 0s - loss: 0.0218 - accuracy: 0.9974\n",
      "Epoch 12: val_accuracy improved from 0.78161 to 0.81609, saving model to best_model_fold5_improved.h5\n",
      "25/25 [==============================] - 78s 3s/step - loss: 0.0218 - accuracy: 0.9974 - val_loss: 0.5571 - val_accuracy: 0.8161 - lr: 1.5000e-04\n",
      "Epoch 13/50\n"
     ]
    },
    {
     "name": "stderr",
     "output_type": "stream",
     "text": [
      "/home/huuquangdang/.local/lib/python3.10/site-packages/keras/src/engine/training.py:3079: UserWarning: You are saving your model as an HDF5 file via `model.save()`. This file format is considered legacy. We recommend using instead the native Keras format, e.g. `model.save('my_model.keras')`.\n",
      "  saving_api.save_model(\n"
     ]
    },
    {
     "name": "stdout",
     "output_type": "stream",
     "text": [
      "25/25 [==============================] - ETA: 0s - loss: 0.0168 - accuracy: 0.9987\n",
      "Epoch 13: val_accuracy improved from 0.81609 to 0.82759, saving model to best_model_fold5_improved.h5\n",
      "25/25 [==============================] - 78s 3s/step - loss: 0.0168 - accuracy: 0.9987 - val_loss: 0.5708 - val_accuracy: 0.8276 - lr: 1.5000e-04\n",
      "Epoch 14/50\n"
     ]
    },
    {
     "name": "stderr",
     "output_type": "stream",
     "text": [
      "/home/huuquangdang/.local/lib/python3.10/site-packages/keras/src/engine/training.py:3079: UserWarning: You are saving your model as an HDF5 file via `model.save()`. This file format is considered legacy. We recommend using instead the native Keras format, e.g. `model.save('my_model.keras')`.\n",
      "  saving_api.save_model(\n"
     ]
    },
    {
     "name": "stdout",
     "output_type": "stream",
     "text": [
      "25/25 [==============================] - ETA: 0s - loss: 0.0160 - accuracy: 1.0000\n",
      "Epoch 14: val_accuracy improved from 0.82759 to 0.83908, saving model to best_model_fold5_improved.h5\n",
      "25/25 [==============================] - 78s 3s/step - loss: 0.0160 - accuracy: 1.0000 - val_loss: 0.5704 - val_accuracy: 0.8391 - lr: 1.5000e-04\n",
      "Epoch 15/50\n"
     ]
    },
    {
     "name": "stderr",
     "output_type": "stream",
     "text": [
      "/home/huuquangdang/.local/lib/python3.10/site-packages/keras/src/engine/training.py:3079: UserWarning: You are saving your model as an HDF5 file via `model.save()`. This file format is considered legacy. We recommend using instead the native Keras format, e.g. `model.save('my_model.keras')`.\n",
      "  saving_api.save_model(\n"
     ]
    },
    {
     "name": "stdout",
     "output_type": "stream",
     "text": [
      "25/25 [==============================] - ETA: 0s - loss: 0.0150 - accuracy: 1.0000\n",
      "Epoch 15: val_accuracy did not improve from 0.83908\n",
      "\n",
      "Epoch 15: ReduceLROnPlateau reducing learning rate to 7.500000356230885e-05.\n",
      "25/25 [==============================] - 78s 3s/step - loss: 0.0150 - accuracy: 1.0000 - val_loss: 0.5595 - val_accuracy: 0.8391 - lr: 1.5000e-04\n",
      "Epoch 16/50\n",
      "25/25 [==============================] - ETA: 0s - loss: 0.0142 - accuracy: 0.9987\n",
      "Epoch 16: val_accuracy did not improve from 0.83908\n",
      "25/25 [==============================] - 78s 3s/step - loss: 0.0142 - accuracy: 0.9987 - val_loss: 0.5589 - val_accuracy: 0.8276 - lr: 7.5000e-05\n",
      "Epoch 17/50\n",
      "25/25 [==============================] - ETA: 0s - loss: 0.0146 - accuracy: 1.0000\n",
      "Epoch 17: val_accuracy improved from 0.83908 to 0.85057, saving model to best_model_fold5_improved.h5\n",
      "25/25 [==============================] - 78s 3s/step - loss: 0.0146 - accuracy: 1.0000 - val_loss: 0.5337 - val_accuracy: 0.8506 - lr: 7.5000e-05\n",
      "Epoch 18/50\n"
     ]
    },
    {
     "name": "stderr",
     "output_type": "stream",
     "text": [
      "/home/huuquangdang/.local/lib/python3.10/site-packages/keras/src/engine/training.py:3079: UserWarning: You are saving your model as an HDF5 file via `model.save()`. This file format is considered legacy. We recommend using instead the native Keras format, e.g. `model.save('my_model.keras')`.\n",
      "  saving_api.save_model(\n"
     ]
    },
    {
     "name": "stdout",
     "output_type": "stream",
     "text": [
      "25/25 [==============================] - ETA: 0s - loss: 0.0118 - accuracy: 0.9987\n",
      "Epoch 18: val_accuracy did not improve from 0.85057\n",
      "25/25 [==============================] - 78s 3s/step - loss: 0.0118 - accuracy: 0.9987 - val_loss: 0.5418 - val_accuracy: 0.8391 - lr: 7.5000e-05\n",
      "Epoch 19/50\n",
      "25/25 [==============================] - ETA: 0s - loss: 0.0111 - accuracy: 0.9987\n",
      "Epoch 19: val_accuracy improved from 0.85057 to 0.86207, saving model to best_model_fold5_improved.h5\n",
      "25/25 [==============================] - 78s 3s/step - loss: 0.0111 - accuracy: 0.9987 - val_loss: 0.5499 - val_accuracy: 0.8621 - lr: 7.5000e-05\n",
      "Epoch 20/50\n"
     ]
    },
    {
     "name": "stderr",
     "output_type": "stream",
     "text": [
      "/home/huuquangdang/.local/lib/python3.10/site-packages/keras/src/engine/training.py:3079: UserWarning: You are saving your model as an HDF5 file via `model.save()`. This file format is considered legacy. We recommend using instead the native Keras format, e.g. `model.save('my_model.keras')`.\n",
      "  saving_api.save_model(\n"
     ]
    },
    {
     "name": "stdout",
     "output_type": "stream",
     "text": [
      "25/25 [==============================] - ETA: 0s - loss: 0.0101 - accuracy: 0.9987\n",
      "Epoch 20: val_accuracy improved from 0.86207 to 0.87356, saving model to best_model_fold5_improved.h5\n",
      "\n",
      "Epoch 20: ReduceLROnPlateau reducing learning rate to 3.7500001781154424e-05.\n",
      "25/25 [==============================] - 78s 3s/step - loss: 0.0101 - accuracy: 0.9987 - val_loss: 0.5482 - val_accuracy: 0.8736 - lr: 7.5000e-05\n",
      "Epoch 21/50\n"
     ]
    },
    {
     "name": "stderr",
     "output_type": "stream",
     "text": [
      "/home/huuquangdang/.local/lib/python3.10/site-packages/keras/src/engine/training.py:3079: UserWarning: You are saving your model as an HDF5 file via `model.save()`. This file format is considered legacy. We recommend using instead the native Keras format, e.g. `model.save('my_model.keras')`.\n",
      "  saving_api.save_model(\n"
     ]
    },
    {
     "name": "stdout",
     "output_type": "stream",
     "text": [
      "25/25 [==============================] - ETA: 0s - loss: 0.0110 - accuracy: 0.9987\n",
      "Epoch 21: val_accuracy did not improve from 0.87356\n",
      "25/25 [==============================] - 78s 3s/step - loss: 0.0110 - accuracy: 0.9987 - val_loss: 0.5633 - val_accuracy: 0.8736 - lr: 3.7500e-05\n",
      "Epoch 22/50\n",
      "25/25 [==============================] - ETA: 0s - loss: 0.0099 - accuracy: 1.0000\n",
      "Epoch 22: val_accuracy did not improve from 0.87356\n",
      "25/25 [==============================] - 77s 3s/step - loss: 0.0099 - accuracy: 1.0000 - val_loss: 0.5491 - val_accuracy: 0.8621 - lr: 3.7500e-05\n",
      "Epoch 23/50\n",
      "25/25 [==============================] - ETA: 0s - loss: 0.0105 - accuracy: 0.9987\n",
      "Epoch 23: val_accuracy did not improve from 0.87356\n",
      "\n",
      "Epoch 23: ReduceLROnPlateau reducing learning rate to 1.8750000890577212e-05.\n",
      "25/25 [==============================] - 78s 3s/step - loss: 0.0105 - accuracy: 0.9987 - val_loss: 0.5406 - val_accuracy: 0.8621 - lr: 3.7500e-05\n",
      "Epoch 24/50\n",
      "25/25 [==============================] - ETA: 0s - loss: 0.0100 - accuracy: 0.9987\n",
      "Epoch 24: val_accuracy did not improve from 0.87356\n",
      "25/25 [==============================] - 78s 3s/step - loss: 0.0100 - accuracy: 0.9987 - val_loss: 0.5411 - val_accuracy: 0.8621 - lr: 1.8750e-05\n",
      "Epoch 25/50\n",
      "25/25 [==============================] - ETA: 0s - loss: 0.0101 - accuracy: 1.0000\n",
      "Epoch 25: val_accuracy did not improve from 0.87356\n",
      "25/25 [==============================] - 77s 3s/step - loss: 0.0101 - accuracy: 1.0000 - val_loss: 0.5453 - val_accuracy: 0.8736 - lr: 1.8750e-05\n",
      "7/7 [==============================] - 9s 1s/step\n",
      "\n",
      "✅ Fold 5 Results:\n",
      "   Accuracy:  0.8704\n",
      "   Precision: 0.8636\n",
      "   Recall:    0.8796\n",
      "   F1 Score:  0.8716\n",
      "   AUC:       0.9481\n",
      "\n",
      "============================================================\n",
      "📊 FINAL RESULTS - All Folds Summary\n",
      "============================================================\n",
      "Fold 1: Acc=0.8802, Prec=0.9659, Rec=0.7870, F1=0.8673, AUC=0.9534\n",
      "Fold 2: Acc=0.5023, Prec=0.0000, Rec=0.0000, F1=0.0000, AUC=0.9433\n",
      "Fold 3: Acc=0.8618, Prec=0.9158, Rec=0.7982, F1=0.8529, AUC=0.9365\n",
      "Fold 4: Acc=0.8249, Prec=0.8381, Rec=0.8073, F1=0.8224, AUC=0.8953\n",
      "Fold 5: Acc=0.8704, Prec=0.8636, Rec=0.8796, F1=0.8716, AUC=0.9481\n"
     ]
    }
   ],
   "source": [
    "import numpy as np\n",
    "import cv2\n",
    "import tensorflow as tf\n",
    "from tensorflow.keras.applications import MobileNetV2\n",
    "from tensorflow.keras.layers import Input, TimeDistributed, LSTM, Dropout, Dense, GlobalAveragePooling2D, Concatenate, LayerNormalization, BatchNormalization\n",
    "from tensorflow.keras.models import Model\n",
    "from tensorflow.keras.preprocessing.image import ImageDataGenerator\n",
    "from tensorflow.keras.optimizers import Adamax\n",
    "from tensorflow.keras.callbacks import ModelCheckpoint, EarlyStopping, ReduceLROnPlateau\n",
    "from sklearn.model_selection import StratifiedKFold, train_test_split\n",
    "from sklearn.metrics import accuracy_score, precision_score, recall_score, f1_score, roc_auc_score\n",
    "from hmmlearn.hmm import GaussianHMM\n",
    "from tfkan.layers import Conv2DKAN, DenseKAN\n",
    "from scipy.stats import mode\n",
    "from sklearn.preprocessing import StandardScaler\n",
    "\n",
    "# Configuration\n",
    "video_keys = list(video_dict.keys())\n",
    "video_labels = [labels[k] for k in video_keys]\n",
    "\n",
    "img_size = (224, 224)\n",
    "batch_size = 32\n",
    "epochs = 50\n",
    "n_splits = 5\n",
    "sequence_len = 10\n",
    "results = []\n",
    "all_histories = []\n",
    "\n",
    "# 🔧 FIX 1: Normalize CSV features (they have different scales than MobileNet)\n",
    "print(\"🔧 Computing CSV feature statistics for normalization...\")\n",
    "all_csv_features = []\n",
    "for key in video_keys:\n",
    "    frames = video_dict[key][:sequence_len]\n",
    "    for path in frames:\n",
    "        filename = os.path.basename(path)\n",
    "        if filename in openface_features:\n",
    "            all_csv_features.append(openface_features[filename])\n",
    "\n",
    "csv_scaler = StandardScaler()\n",
    "csv_scaler.fit(all_csv_features)\n",
    "print(f\"✅ CSV feature normalization fitted on {len(all_csv_features)} samples\")\n",
    "\n",
    "# Enhanced Data generator with normalized CSV features\n",
    "class VideoSequence(tf.keras.utils.Sequence):\n",
    "    def __init__(self, video_keys, video_dict, labels, batch_size, img_size, sequence_len=10, augment=False):\n",
    "        self.video_keys = video_keys\n",
    "        self.video_dict = video_dict\n",
    "        self.labels = labels\n",
    "        self.batch_size = batch_size\n",
    "        self.img_size = img_size\n",
    "        self.sequence_len = sequence_len\n",
    "        self.augment = augment\n",
    "        self.datagen = ImageDataGenerator(\n",
    "            rescale=1./255,\n",
    "            rotation_range=15 if augment else 0,\n",
    "            zoom_range=0.1 if augment else 0,\n",
    "            horizontal_flip=augment\n",
    "        )\n",
    "\n",
    "    def __len__(self):\n",
    "        return int(np.ceil(len(self.video_keys) / self.batch_size))\n",
    "\n",
    "    def __getitem__(self, idx):\n",
    "        batch_keys = self.video_keys[idx * self.batch_size:(idx + 1) * self.batch_size]\n",
    "        batch_X_img, batch_X_csv, batch_y = [], [], []\n",
    "\n",
    "        for key in batch_keys:\n",
    "            frames = self.video_dict[key][:self.sequence_len]\n",
    "            imgs = []\n",
    "            csv_feats = []\n",
    "            \n",
    "            for path in frames:\n",
    "                # Load and process image\n",
    "                img = cv2.imread(path)\n",
    "                img = cv2.resize(img, self.img_size)\n",
    "                img = self.datagen.random_transform(img) if self.augment else img\n",
    "                img = img.astype('float32') / 255.0\n",
    "                imgs.append(img)\n",
    "                \n",
    "                # Load CSV features and NORMALIZE (FIX: scale matching)\n",
    "                filename = os.path.basename(path)\n",
    "                if filename in openface_features:\n",
    "                    csv_feat = openface_features[filename]\n",
    "                    csv_feat = csv_scaler.transform([csv_feat])[0]  # Normalize\n",
    "                else:\n",
    "                    csv_feat = np.zeros(csv_feature_dim, dtype='float32')\n",
    "                csv_feats.append(csv_feat)\n",
    "            \n",
    "            # Pad sequences if needed\n",
    "            while len(imgs) < self.sequence_len:\n",
    "                imgs.append(np.zeros((*self.img_size, 3), dtype='float32'))\n",
    "                csv_feats.append(np.zeros(csv_feature_dim, dtype='float32'))\n",
    "            \n",
    "            batch_X_img.append(imgs)\n",
    "            batch_X_csv.append(csv_feats)\n",
    "            batch_y.append(self.labels[key])\n",
    "\n",
    "        return [np.array(batch_X_img), np.array(batch_X_csv)], np.array(batch_y)\n",
    "\n",
    "# 🔧 FIX 2: Improved model architecture\n",
    "def build_model(sequence_len, img_size, csv_dim=674):\n",
    "    # MobileNet branch\n",
    "    base_cnn = MobileNetV2(input_shape=(*img_size, 3), include_top=False, weights='imagenet')\n",
    "    \n",
    "    # 🔧 FIX: Unfreeze last few layers of MobileNet for fine-tuning\n",
    "    base_cnn.trainable = True\n",
    "    for layer in base_cnn.layers[:-20]:  # Freeze all except last 20 layers\n",
    "        layer.trainable = False\n",
    "    \n",
    "    cnn_out = GlobalAveragePooling2D()(base_cnn.output)\n",
    "    cnn_model = Model(inputs=base_cnn.input, outputs=cnn_out)\n",
    "    \n",
    "    # Image sequence input\n",
    "    input_seq_img = Input(shape=(sequence_len, *img_size, 3), name='image_input')\n",
    "    x_img = TimeDistributed(cnn_model)(input_seq_img)\n",
    "    \n",
    "    # CSV features input\n",
    "    input_seq_csv = Input(shape=(sequence_len, csv_dim), name='csv_input')\n",
    "    \n",
    "    # 🔧 FIX: Add BatchNormalization before concatenation\n",
    "    x_img = BatchNormalization()(x_img)\n",
    "    x_csv = BatchNormalization()(input_seq_csv)\n",
    "    \n",
    "    # Concatenate features\n",
    "    x_combined = Concatenate(axis=-1)([x_img, x_csv])\n",
    "    \n",
    "    # 🔧 FIX: Larger LSTM and less aggressive dropout\n",
    "    x = LSTM(128, return_sequences=True)(x_combined)  # Increased from 64 to 128\n",
    "    x = Dropout(0.3)(x)  # Reduced from 0.5 to 0.3\n",
    "    x = LSTM(64, return_sequences=False)(x)  # Add second LSTM layer\n",
    "    x = Dropout(0.3)(x)\n",
    "    \n",
    "    # Classification\n",
    "    x = Dense(32, activation='relu')(x)  # Add dense layer before KAN\n",
    "    x = Dropout(0.2)(x)\n",
    "    x = DenseKAN(1)(x)\n",
    "    output = tf.keras.activations.sigmoid(x)\n",
    "    \n",
    "    model = Model(inputs=[input_seq_img, input_seq_csv], outputs=output)\n",
    "    return model\n",
    "\n",
    "# HMM post-processing (unchanged)\n",
    "def hmm_postprocess(pred_probs, y_true, n_states=2):\n",
    "    pred_probs = pred_probs.reshape(-1, 1)\n",
    "    hmm = GaussianHMM(n_components=n_states, covariance_type=\"diag\", n_iter=100)\n",
    "    hmm.fit(pred_probs)\n",
    "    hidden_states = hmm.predict(pred_probs)\n",
    "\n",
    "    mapping = {}\n",
    "    for state in np.unique(hidden_states):\n",
    "        indices = [i for i in range(len(hidden_states)) if hidden_states[i] == state]\n",
    "        state_labels = [y_true[i] for i in indices]\n",
    "        if len(state_labels) > 0:\n",
    "            mapped_label = mode(state_labels, keepdims=True).mode[0]\n",
    "        else:\n",
    "            mapped_label = 0\n",
    "        mapping[state] = mapped_label\n",
    "\n",
    "    hmm_labels = np.array([mapping[s] for s in hidden_states])\n",
    "    return hmm_labels\n",
    "\n",
    "# Training K-Fold with improvements\n",
    "print(\"\\n🚀 Starting IMPROVED K-Fold training with:\")\n",
    "print(\"   ✅ Normalized CSV features\")\n",
    "print(\"   ✅ Partially unfrozen MobileNet (last 20 layers)\")\n",
    "print(\"   ✅ Larger LSTM (128→64 units)\")\n",
    "print(\"   ✅ Lower dropout (0.3 instead of 0.5)\")\n",
    "print(\"   ✅ BatchNormalization layers\")\n",
    "print(\"   ✅ Additional Dense layer\\n\")\n",
    "\n",
    "skf = StratifiedKFold(n_splits=n_splits, shuffle=True, random_state=42)\n",
    "\n",
    "for fold, (trainval_idx, test_idx) in enumerate(skf.split(video_keys, video_labels), 1):\n",
    "    print(f\"\\n{'='*60}\")\n",
    "    print(f\"📊 Fold {fold}/{n_splits}\")\n",
    "    print(f\"{'='*60}\")\n",
    "\n",
    "    trainval_keys = [video_keys[i] for i in trainval_idx]\n",
    "    test_keys = [video_keys[i] for i in test_idx]\n",
    "\n",
    "    y_trainval = [labels[k] for k in trainval_keys]\n",
    "    train_keys, val_keys = train_test_split(trainval_keys, test_size=0.1, stratify=y_trainval, random_state=fold)\n",
    "\n",
    "    train_gen = VideoSequence(train_keys, video_dict, labels, batch_size, img_size, sequence_len, augment=True)\n",
    "    val_gen = VideoSequence(val_keys, video_dict, labels, batch_size, img_size, sequence_len, augment=False)\n",
    "    test_gen = VideoSequence(test_keys, video_dict, labels, batch_size, img_size, sequence_len, augment=False)\n",
    "\n",
    "    model = build_model(sequence_len, img_size, csv_feature_dim)\n",
    "    \n",
    "    # 🔧 FIX: Higher learning rate for better convergence\n",
    "    model.compile(optimizer=Adamax(3e-4), loss='binary_crossentropy', metrics=['accuracy'])\n",
    "    \n",
    "    print(f\"\\n📈 Model Summary:\")\n",
    "    print(f\"   - Total params: {model.count_params():,}\")\n",
    "    trainable_params = sum([tf.size(w).numpy() for w in model.trainable_weights])\n",
    "    print(f\"   - Trainable params: {trainable_params:,}\")\n",
    "    print(f\"   - MobileNet: Last 20 layers trainable\")\n",
    "    print(f\"   - LSTM: 128→64 units (stacked)\")\n",
    "    print(f\"   - Learning rate: 3e-4\")\n",
    "\n",
    "    model_path = f\"best_model_fold{fold}_improved.h5\"\n",
    "    checkpoint = ModelCheckpoint(model_path, monitor='val_accuracy', save_best_only=True, mode='max', verbose=1)\n",
    "    earlystop = EarlyStopping(monitor='val_accuracy', patience=5, restore_best_weights=True)\n",
    "    reduce_lr = ReduceLROnPlateau(monitor='val_loss', factor=0.5, patience=3, min_lr=1e-6, verbose=1)\n",
    "\n",
    "    history = model.fit(train_gen, validation_data=val_gen, epochs=epochs,\n",
    "                        callbacks=[checkpoint, earlystop, reduce_lr], verbose=1)\n",
    "    all_histories.append(history.history)\n",
    "\n",
    "    model.load_weights(model_path)\n",
    "\n",
    "    y_true = [labels[k] for k in test_keys]\n",
    "    y_pred_prob = model.predict(test_gen).ravel()\n",
    "    y_hmm_pred = hmm_postprocess(y_pred_prob, y_true)\n",
    "\n",
    "    results.append({\n",
    "        'fold': fold,\n",
    "        'accuracy': accuracy_score(y_true, y_hmm_pred),\n",
    "        'precision': precision_score(y_true, y_hmm_pred),\n",
    "        'recall': recall_score(y_true, y_hmm_pred),\n",
    "        'f1': f1_score(y_true, y_hmm_pred),\n",
    "        'auc': roc_auc_score(y_true, y_pred_prob)\n",
    "    })\n",
    "    \n",
    "    print(f\"\\n✅ Fold {fold} Results:\")\n",
    "    print(f\"   Accuracy:  {results[-1]['accuracy']:.4f}\")\n",
    "    print(f\"   Precision: {results[-1]['precision']:.4f}\")\n",
    "    print(f\"   Recall:    {results[-1]['recall']:.4f}\")\n",
    "    print(f\"   F1 Score:  {results[-1]['f1']:.4f}\")\n",
    "    print(f\"   AUC:       {results[-1]['auc']:.4f}\")\n",
    "\n",
    "print(f\"\\n{'='*60}\")\n",
    "print(\"📊 FINAL RESULTS - All Folds Summary\")\n",
    "print(f\"{'='*60}\")\n",
    "for r in results:\n",
    "    print(f\"Fold {r['fold']}: Acc={r['accuracy']:.4f}, Prec={r['precision']:.4f}, Rec={r['recall']:.4f}, F1={r['f1']:.4f}, AUC={r['auc']:.4f}\")"
   ]
  },
  {
   "cell_type": "code",
   "execution_count": 9,
   "id": "5fdfa766",
   "metadata": {
    "ExecuteTime": {
     "end_time": "2025-06-17T01:45:10.343234Z",
     "start_time": "2025-06-17T01:45:10.278158Z"
    }
   },
   "outputs": [
    {
     "name": "stdout",
     "output_type": "stream",
     "text": [
      "📊 Kết quả trung bình:\n",
      "fold         3.000000\n",
      "accuracy     0.787899\n",
      "precision    0.716686\n",
      "recall       0.654434\n",
      "f1           0.682856\n",
      "auc          0.935345\n",
      "dtype: float64\n"
     ]
    },
    {
     "data": {
      "text/html": [
       "<div>\n",
       "<style scoped>\n",
       "    .dataframe tbody tr th:only-of-type {\n",
       "        vertical-align: middle;\n",
       "    }\n",
       "\n",
       "    .dataframe tbody tr th {\n",
       "        vertical-align: top;\n",
       "    }\n",
       "\n",
       "    .dataframe thead th {\n",
       "        text-align: right;\n",
       "    }\n",
       "</style>\n",
       "<table border=\"1\" class=\"dataframe\">\n",
       "  <thead>\n",
       "    <tr style=\"text-align: right;\">\n",
       "      <th></th>\n",
       "      <th>fold</th>\n",
       "      <th>accuracy</th>\n",
       "      <th>precision</th>\n",
       "      <th>recall</th>\n",
       "      <th>f1</th>\n",
       "      <th>auc</th>\n",
       "    </tr>\n",
       "  </thead>\n",
       "  <tbody>\n",
       "    <tr>\n",
       "      <th>0</th>\n",
       "      <td>1</td>\n",
       "      <td>0.880184</td>\n",
       "      <td>0.965909</td>\n",
       "      <td>0.787037</td>\n",
       "      <td>0.867347</td>\n",
       "      <td>0.953449</td>\n",
       "    </tr>\n",
       "    <tr>\n",
       "      <th>1</th>\n",
       "      <td>2</td>\n",
       "      <td>0.502304</td>\n",
       "      <td>0.000000</td>\n",
       "      <td>0.000000</td>\n",
       "      <td>0.000000</td>\n",
       "      <td>0.943340</td>\n",
       "    </tr>\n",
       "    <tr>\n",
       "      <th>2</th>\n",
       "      <td>3</td>\n",
       "      <td>0.861751</td>\n",
       "      <td>0.915789</td>\n",
       "      <td>0.798165</td>\n",
       "      <td>0.852941</td>\n",
       "      <td>0.936544</td>\n",
       "    </tr>\n",
       "    <tr>\n",
       "      <th>3</th>\n",
       "      <td>4</td>\n",
       "      <td>0.824885</td>\n",
       "      <td>0.838095</td>\n",
       "      <td>0.807339</td>\n",
       "      <td>0.822430</td>\n",
       "      <td>0.895260</td>\n",
       "    </tr>\n",
       "    <tr>\n",
       "      <th>4</th>\n",
       "      <td>5</td>\n",
       "      <td>0.870370</td>\n",
       "      <td>0.863636</td>\n",
       "      <td>0.879630</td>\n",
       "      <td>0.871560</td>\n",
       "      <td>0.948131</td>\n",
       "    </tr>\n",
       "  </tbody>\n",
       "</table>\n",
       "</div>"
      ],
      "text/plain": [
       "   fold  accuracy  precision    recall        f1       auc\n",
       "0     1  0.880184   0.965909  0.787037  0.867347  0.953449\n",
       "1     2  0.502304   0.000000  0.000000  0.000000  0.943340\n",
       "2     3  0.861751   0.915789  0.798165  0.852941  0.936544\n",
       "3     4  0.824885   0.838095  0.807339  0.822430  0.895260\n",
       "4     5  0.870370   0.863636  0.879630  0.871560  0.948131"
      ]
     },
     "execution_count": 9,
     "metadata": {},
     "output_type": "execute_result"
    }
   ],
   "source": [
    "results_df = pd.DataFrame(results)\n",
    "print(\"📊 Kết quả trung bình:\")\n",
    "print(results_df.mean(numeric_only=True))\n",
    "results_df\n"
   ]
  },
  {
   "cell_type": "code",
   "execution_count": 10,
   "id": "48802125",
   "metadata": {
    "ExecuteTime": {
     "end_time": "2025-06-14T07:31:56.035350Z",
     "start_time": "2025-06-14T07:31:50.121545Z"
    }
   },
   "outputs": [
    {
     "data": {
      "image/png": "[encoded data removed]",
      "text/plain": [
       "<Figure size 640x480 with 1 Axes>"
      ]
     },
     "metadata": {},
     "output_type": "display_data"
    },
    {
     "data": {
      "image/png": "[encoded data removed]",
      "text/plain": [
       "<Figure size 640x480 with 1 Axes>"
      ]
     },
     "metadata": {},
     "output_type": "display_data"
    },
    {
     "data": {
      "image/png": "[encoded data removed]",
      "text/plain": [
       "<Figure size 640x480 with 1 Axes>"
      ]
     },
     "metadata": {},
     "output_type": "display_data"
    },
    {
     "data": {
      "image/png": "[encoded data removed]",
      "text/plain": [
       "<Figure size 640x480 with 1 Axes>"
      ]
     },
     "metadata": {},
     "output_type": "display_data"
    },
    {
     "data": {
      "image/png": "[encoded data removed]",
      "text/plain": [
       "<Figure size 640x480 with 1 Axes>"
      ]
     },
     "metadata": {},
     "output_type": "display_data"
    },
    {
     "data": {
      "image/png": "[encoded data removed]",
      "text/plain": [
       "<Figure size 640x480 with 1 Axes>"
      ]
     },
     "metadata": {},
     "output_type": "display_data"
    },
    {
     "data": {
      "image/png": "[encoded data removed]",
      "text/plain": [
       "<Figure size 640x480 with 1 Axes>"
      ]
     },
     "metadata": {},
     "output_type": "display_data"
    },
    {
     "data": {
      "image/png": "[encoded data removed]",
      "text/plain": [
       "<Figure size 640x480 with 1 Axes>"
      ]
     },
     "metadata": {},
     "output_type": "display_data"
    },
    {
     "data": {
      "image/png": "[encoded data removed]",
      "text/plain": [
       "<Figure size 640x480 with 1 Axes>"
      ]
     },
     "metadata": {},
     "output_type": "display_data"
    },
    {
     "data": {
      "image/png": "[encoded data removed]",
      "text/plain": [
       "<Figure size 640x480 with 1 Axes>"
      ]
     },
     "metadata": {},
     "output_type": "display_data"
    }
   ],
   "source": [
    "for i, hist in enumerate(all_histories, 1):\n",
    "    plt.figure()\n",
    "    plt.plot(hist['accuracy'], label='Train Acc')\n",
    "    plt.plot(hist['val_accuracy'], label='Val Acc')\n",
    "    plt.title(f'Fold {i} Accuracy')\n",
    "    plt.xlabel('Epoch')\n",
    "    plt.ylabel('Accuracy')\n",
    "    plt.legend()\n",
    "    plt.grid(True)\n",
    "    plt.show()\n",
    "\n",
    "    plt.figure()\n",
    "    plt.plot(hist['loss'], label='Train Loss')\n",
    "    plt.plot(hist['val_loss'], label='Val Loss')\n",
    "    plt.title(f'Fold {i} Loss')\n",
    "    plt.xlabel('Epoch')\n",
    "    plt.ylabel('Loss')\n",
    "    plt.legend()\n",
    "    plt.grid(True)\n",
    "    plt.show()\n"
   ]
  },
  {
   "cell_type": "code",
   "execution_count": 11,
   "id": "2abc4c3f",
   "metadata": {
    "ExecuteTime": {
     "end_time": "2025-06-14T07:32:05.949380Z",
     "start_time": "2025-06-14T07:32:05.516519Z"
    }
   },
   "outputs": [
    {
     "name": "stderr",
     "output_type": "stream",
     "text": [
      "/home/huuquangdang/.local/lib/python3.10/site-packages/keras/src/engine/training.py:3079: UserWarning: You are saving your model as an HDF5 file via `model.save()`. This file format is considered legacy. We recommend using instead the native Keras format, e.g. `model.save('my_model.keras')`.\n",
      "  saving_api.save_model(\n"
     ]
    }
   ],
   "source": [
    "# Save mô hình fold cuối cùng\n",
    "model.save(\"mobilenetv2_hmm_faceplus_final.h5\")\n"
   ]
  },
  {
   "cell_type": "code",
   "execution_count": 12,
   "id": "9581629f-92c8-4d93-88f5-8c57f3197a4d",
   "metadata": {},
   "outputs": [
    {
     "name": "stdout",
     "output_type": "stream",
     "text": [
      "📊 Kết quả trung bình:\n",
      "fold         3.000000\n",
      "accuracy     0.787899\n",
      "precision    0.716686\n",
      "recall       0.654434\n",
      "f1           0.682856\n",
      "auc          0.935345\n",
      "dtype: float64\n"
     ]
    },
    {
     "data": {
      "text/html": [
       "<div>\n",
       "<style scoped>\n",
       "    .dataframe tbody tr th:only-of-type {\n",
       "        vertical-align: middle;\n",
       "    }\n",
       "\n",
       "    .dataframe tbody tr th {\n",
       "        vertical-align: top;\n",
       "    }\n",
       "\n",
       "    .dataframe thead th {\n",
       "        text-align: right;\n",
       "    }\n",
       "</style>\n",
       "<table border=\"1\" class=\"dataframe\">\n",
       "  <thead>\n",
       "    <tr style=\"text-align: right;\">\n",
       "      <th></th>\n",
       "      <th>fold</th>\n",
       "      <th>accuracy</th>\n",
       "      <th>precision</th>\n",
       "      <th>recall</th>\n",
       "      <th>f1</th>\n",
       "      <th>auc</th>\n",
       "    </tr>\n",
       "  </thead>\n",
       "  <tbody>\n",
       "    <tr>\n",
       "      <th>0</th>\n",
       "      <td>1</td>\n",
       "      <td>0.880184</td>\n",
       "      <td>0.965909</td>\n",
       "      <td>0.787037</td>\n",
       "      <td>0.867347</td>\n",
       "      <td>0.953449</td>\n",
       "    </tr>\n",
       "    <tr>\n",
       "      <th>1</th>\n",
       "      <td>2</td>\n",
       "      <td>0.502304</td>\n",
       "      <td>0.000000</td>\n",
       "      <td>0.000000</td>\n",
       "      <td>0.000000</td>\n",
       "      <td>0.943340</td>\n",
       "    </tr>\n",
       "    <tr>\n",
       "      <th>2</th>\n",
       "      <td>3</td>\n",
       "      <td>0.861751</td>\n",
       "      <td>0.915789</td>\n",
       "      <td>0.798165</td>\n",
       "      <td>0.852941</td>\n",
       "      <td>0.936544</td>\n",
       "    </tr>\n",
       "    <tr>\n",
       "      <th>3</th>\n",
       "      <td>4</td>\n",
       "      <td>0.824885</td>\n",
       "      <td>0.838095</td>\n",
       "      <td>0.807339</td>\n",
       "      <td>0.822430</td>\n",
       "      <td>0.895260</td>\n",
       "    </tr>\n",
       "    <tr>\n",
       "      <th>4</th>\n",
       "      <td>5</td>\n",
       "      <td>0.870370</td>\n",
       "      <td>0.863636</td>\n",
       "      <td>0.879630</td>\n",
       "      <td>0.871560</td>\n",
       "      <td>0.948131</td>\n",
       "    </tr>\n",
       "  </tbody>\n",
       "</table>\n",
       "</div>"
      ],
      "text/plain": [
       "   fold  accuracy  precision    recall        f1       auc\n",
       "0     1  0.880184   0.965909  0.787037  0.867347  0.953449\n",
       "1     2  0.502304   0.000000  0.000000  0.000000  0.943340\n",
       "2     3  0.861751   0.915789  0.798165  0.852941  0.936544\n",
       "3     4  0.824885   0.838095  0.807339  0.822430  0.895260\n",
       "4     5  0.870370   0.863636  0.879630  0.871560  0.948131"
      ]
     },
     "execution_count": 12,
     "metadata": {},
     "output_type": "execute_result"
    }
   ],
   "source": [
    "results_df = pd.DataFrame(results)\n",
    "print(\"📊 Kết quả trung bình:\")\n",
    "print(results_df.mean(numeric_only=True))\n",
    "results_df\n"
   ]
  },
  {
   "cell_type": "code",
   "execution_count": 13,
   "id": "3167c3f6-2212-4cde-ab07-1ae1449219bc",
   "metadata": {},
   "outputs": [
    {
     "name": "stdout",
     "output_type": "stream",
     "text": [
      "📊 Kết quả trung bình:\n",
      "fold         3.000000\n",
      "accuracy     0.787899\n",
      "precision    0.716686\n",
      "recall       0.654434\n",
      "f1           0.682856\n",
      "auc          0.935345\n",
      "dtype: float64\n",
      "\n",
      "✅ CV Accuracy (Mean Accuracy): 0.7879\n",
      "📈 Range Accuracy: 0.3779\n",
      "📉 Accuracy CV% (std/mean): 20.44%\n"
     ]
    },
    {
     "data": {
      "text/html": [
       "<div>\n",
       "<style scoped>\n",
       "    .dataframe tbody tr th:only-of-type {\n",
       "        vertical-align: middle;\n",
       "    }\n",
       "\n",
       "    .dataframe tbody tr th {\n",
       "        vertical-align: top;\n",
       "    }\n",
       "\n",
       "    .dataframe thead th {\n",
       "        text-align: right;\n",
       "    }\n",
       "</style>\n",
       "<table border=\"1\" class=\"dataframe\">\n",
       "  <thead>\n",
       "    <tr style=\"text-align: right;\">\n",
       "      <th></th>\n",
       "      <th>fold</th>\n",
       "      <th>accuracy</th>\n",
       "      <th>precision</th>\n",
       "      <th>recall</th>\n",
       "      <th>f1</th>\n",
       "      <th>auc</th>\n",
       "    </tr>\n",
       "  </thead>\n",
       "  <tbody>\n",
       "    <tr>\n",
       "      <th>0</th>\n",
       "      <td>1</td>\n",
       "      <td>0.880184</td>\n",
       "      <td>0.965909</td>\n",
       "      <td>0.787037</td>\n",
       "      <td>0.867347</td>\n",
       "      <td>0.953449</td>\n",
       "    </tr>\n",
       "    <tr>\n",
       "      <th>1</th>\n",
       "      <td>2</td>\n",
       "      <td>0.502304</td>\n",
       "      <td>0.000000</td>\n",
       "      <td>0.000000</td>\n",
       "      <td>0.000000</td>\n",
       "      <td>0.943340</td>\n",
       "    </tr>\n",
       "    <tr>\n",
       "      <th>2</th>\n",
       "      <td>3</td>\n",
       "      <td>0.861751</td>\n",
       "      <td>0.915789</td>\n",
       "      <td>0.798165</td>\n",
       "      <td>0.852941</td>\n",
       "      <td>0.936544</td>\n",
       "    </tr>\n",
       "    <tr>\n",
       "      <th>3</th>\n",
       "      <td>4</td>\n",
       "      <td>0.824885</td>\n",
       "      <td>0.838095</td>\n",
       "      <td>0.807339</td>\n",
       "      <td>0.822430</td>\n",
       "      <td>0.895260</td>\n",
       "    </tr>\n",
       "    <tr>\n",
       "      <th>4</th>\n",
       "      <td>5</td>\n",
       "      <td>0.870370</td>\n",
       "      <td>0.863636</td>\n",
       "      <td>0.879630</td>\n",
       "      <td>0.871560</td>\n",
       "      <td>0.948131</td>\n",
       "    </tr>\n",
       "  </tbody>\n",
       "</table>\n",
       "</div>"
      ],
      "text/plain": [
       "   fold  accuracy  precision    recall        f1       auc\n",
       "0     1  0.880184   0.965909  0.787037  0.867347  0.953449\n",
       "1     2  0.502304   0.000000  0.000000  0.000000  0.943340\n",
       "2     3  0.861751   0.915789  0.798165  0.852941  0.936544\n",
       "3     4  0.824885   0.838095  0.807339  0.822430  0.895260\n",
       "4     5  0.870370   0.863636  0.879630  0.871560  0.948131"
      ]
     },
     "execution_count": 13,
     "metadata": {},
     "output_type": "execute_result"
    }
   ],
   "source": [
    "import pandas as pd\n",
    "\n",
    "# Giả sử results đã có và bạn đã tạo results_df\n",
    "results_df = pd.DataFrame(results)\n",
    "\n",
    "# Tính các chỉ số\n",
    "accuracy_mean = results_df['accuracy'].mean()\n",
    "accuracy_std = results_df['accuracy'].std()  # dùng sample std (chia cho n-1)\n",
    "accuracy_range = results_df['accuracy'].max() - results_df['accuracy'].min()\n",
    "accuracy_cv_percent = (accuracy_std / accuracy_mean) * 100\n",
    "\n",
    "# In kết quả\n",
    "print(\"📊 Kết quả trung bình:\")\n",
    "print(results_df.mean(numeric_only=True))\n",
    "\n",
    "print(f\"\\n✅ CV Accuracy (Mean Accuracy): {accuracy_mean:.4f}\")\n",
    "print(f\"📈 Range Accuracy: {accuracy_range:.4f}\")\n",
    "print(f\"📉 Accuracy CV% (std/mean): {accuracy_cv_percent:.2f}%\")\n",
    "\n",
    "# Hiển thị bảng kết quả nếu cần\n",
    "results_df\n"
   ]
  },
  {
   "cell_type": "code",
   "execution_count": null,
   "id": "c5a4efdd-8ae0-4309-9f39-3a151116abb9",
   "metadata": {},
   "outputs": [],
   "source": []
  }
 ],
 "metadata": {
  "kernelspec": {
   "display_name": "Python 3",
   "language": "python",
   "name": "python3"
  },
  "language_info": {
   "codemirror_mode": {
    "name": "ipython",
    "version": 3
   },
   "file_extension": ".py",
   "mimetype": "text/x-python",
   "name": "python",
   "nbconvert_exporter": "python",
   "pygments_lexer": "ipython3",
   "version": "3.10.12"
  }
 },
 "nbformat": 4,
 "nbformat_minor": 5
}

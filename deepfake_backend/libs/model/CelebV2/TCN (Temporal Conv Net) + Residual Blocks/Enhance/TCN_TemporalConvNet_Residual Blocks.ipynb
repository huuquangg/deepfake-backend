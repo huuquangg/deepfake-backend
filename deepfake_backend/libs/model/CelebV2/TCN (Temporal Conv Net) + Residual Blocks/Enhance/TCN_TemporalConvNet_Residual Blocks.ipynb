{
 "cells": [
  {
   "cell_type": "code",
   "execution_count": 1,
   "id": "ecb6a351",
   "metadata": {},
   "outputs": [],
   "source": [
    "# %pip install -r /home/huuquangdang/huu.quang.dang/thesis/deepfake/deepfake_backend/libs/model/CelebV2/requirements.txt\n",
    "\n",
    "# # Step 1: Uninstall incompatible NumPy version\n",
    "# %pip uninstall numpy -y\n",
    "# # Step 2: Install compatible NumPy version (< 2.0.0)\n",
    "# %pip install \"numpy>=1.21.0,<2.0.0\"\n",
    "# # Step 3: Verify NumPy version\n",
    "# import numpy as np\n",
    "# print(f\"✅ NumPy version: {np.__version__}\")\n",
    "# print(f\"Expected: < 2.0.0 (you should see 1.x.x)\")"
   ]
  },
  {
   "cell_type": "code",
   "execution_count": 2,
   "id": "149fd0c1",
   "metadata": {
    "ExecuteTime": {
     "end_time": "2025-08-13T09:44:38.582738Z",
     "start_time": "2025-08-13T09:44:38.568745Z"
    }
   },
   "outputs": [
    {
     "name": "stderr",
     "output_type": "stream",
     "text": [
      "2025-10-26 10:08:06.238013: I tensorflow/core/util/port.cc:111] oneDNN custom operations are on. You may see slightly different numerical results due to floating-point round-off errors from different computation orders. To turn them off, set the environment variable `TF_ENABLE_ONEDNN_OPTS=0`.\n",
      "2025-10-26 10:08:06.239489: I tensorflow/tsl/cuda/cudart_stub.cc:28] Could not find cuda drivers on your machine, GPU will not be used.\n",
      "2025-10-26 10:08:06.261476: E tensorflow/compiler/xla/stream_executor/cuda/cuda_dnn.cc:9342] Unable to register cuDNN factory: Attempting to register factory for plugin cuDNN when one has already been registered\n",
      "2025-10-26 10:08:06.261506: E tensorflow/compiler/xla/stream_executor/cuda/cuda_fft.cc:609] Unable to register cuFFT factory: Attempting to register factory for plugin cuFFT when one has already been registered\n",
      "2025-10-26 10:08:06.261517: E tensorflow/compiler/xla/stream_executor/cuda/cuda_blas.cc:1518] Unable to register cuBLAS factory: Attempting to register factory for plugin cuBLAS when one has already been registered\n",
      "2025-10-26 10:08:06.265759: I tensorflow/tsl/cuda/cudart_stub.cc:28] Could not find cuda drivers on your machine, GPU will not be used.\n",
      "2025-10-26 10:08:06.266723: I tensorflow/core/platform/cpu_feature_guard.cc:182] This TensorFlow binary is optimized to use available CPU instructions in performance-critical operations.\n",
      "To enable the following instructions: AVX2 AVX_VNNI FMA, in other operations, rebuild TensorFlow with the appropriate compiler flags.\n",
      "2025-10-26 10:08:06.789798: W tensorflow/compiler/tf2tensorrt/utils/py_utils.cc:38] TF-TRT Warning: Could not find TensorRT\n"
     ]
    }
   ],
   "source": [
    "# Built-in\n",
    "import os\n",
    "import cv2\n",
    "import numpy as np\n",
    "import pandas as pd\n",
    "import matplotlib.pyplot as plt\n",
    "\n",
    "# TensorFlow / Keras\n",
    "import tensorflow as tf\n",
    "from tensorflow.keras.models import Model\n",
    "from tensorflow.keras.layers import (\n",
    "    Input, TimeDistributed, GlobalAveragePooling2D, LSTM, Dense, Dropout\n",
    ")\n",
    "from tensorflow.keras.applications import MobileNetV2\n",
    "from tensorflow.keras.optimizers.legacy import Adam\n",
    "from tensorflow.keras.callbacks import EarlyStopping, ModelCheckpoint, ReduceLROnPlateau\n",
    "from tensorflow.keras.preprocessing.image import ImageDataGenerator\n",
    "\n",
    "# Scikit-learn\n",
    "from sklearn.model_selection import StratifiedKFold, train_test_split\n",
    "from sklearn.metrics import (\n",
    "    accuracy_score, precision_score, recall_score, f1_score, roc_auc_score\n",
    ")"
   ]
  },
  {
   "cell_type": "code",
   "execution_count": 3,
   "id": "46ecf6429cdc7d99",
   "metadata": {
    "ExecuteTime": {
     "end_time": "2025-06-16T15:06:51.462172Z",
     "start_time": "2025-06-16T15:06:51.281795Z"
    }
   },
   "outputs": [],
   "source": [
    "# Define the path to the dataset\n",
    "base_path = '/home/huuquangdang/huu.quang.dang/thesis/Dataset/celeb_df_crop'\n",
    "categories = ['fake', 'real']\n",
    "\n",
    "# Initialize a list to hold data\n",
    "data = []\n",
    "\n",
    "# Process each category\n",
    "for category in categories:\n",
    "    category_path = os.path.join(base_path, category)\n",
    "    for filename in os.listdir(category_path):\n",
    "        if filename.endswith('.jpg'):\n",
    "            try:\n",
    "                id_part, frame_part = filename.split('_frame_')\n",
    "                id_ = id_part.split('_')[0]\n",
    "                frame = frame_part.split('.')[0]\n",
    "                data.append({\n",
    "                    'filename': filename,\n",
    "                    'path': os.path.join(category_path, filename),\n",
    "                    'id': int(id_),\n",
    "                    'frame': int(frame),\n",
    "                    'label': category\n",
    "                })\n",
    "            except ValueError:\n",
    "                continue\n",
    "\n",
    "# Convert the data to a DataFrame\n",
    "df = pd.DataFrame(data)"
   ]
  },
  {
   "cell_type": "code",
   "execution_count": 4,
   "id": "fc17e5b3",
   "metadata": {
    "ExecuteTime": {
     "end_time": "2025-06-16T15:06:53.591689Z",
     "start_time": "2025-06-16T15:06:53.575495Z"
    }
   },
   "outputs": [
    {
     "data": {
      "text/html": [
       "<div>\n",
       "<style scoped>\n",
       "    .dataframe tbody tr th:only-of-type {\n",
       "        vertical-align: middle;\n",
       "    }\n",
       "\n",
       "    .dataframe tbody tr th {\n",
       "        vertical-align: top;\n",
       "    }\n",
       "\n",
       "    .dataframe thead th {\n",
       "        text-align: right;\n",
       "    }\n",
       "</style>\n",
       "<table border=\"1\" class=\"dataframe\">\n",
       "  <thead>\n",
       "    <tr style=\"text-align: right;\">\n",
       "      <th></th>\n",
       "      <th>filename</th>\n",
       "      <th>path</th>\n",
       "      <th>id</th>\n",
       "      <th>frame</th>\n",
       "      <th>label</th>\n",
       "      <th>label_id</th>\n",
       "    </tr>\n",
       "  </thead>\n",
       "  <tbody>\n",
       "    <tr>\n",
       "      <th>0</th>\n",
       "      <td>264_id37_0009_frame_0001.jpg</td>\n",
       "      <td>/home/huuquangdang/huu.quang.dang/thesis/Datas...</td>\n",
       "      <td>264</td>\n",
       "      <td>1</td>\n",
       "      <td>fake</td>\n",
       "      <td>0</td>\n",
       "    </tr>\n",
       "    <tr>\n",
       "      <th>1</th>\n",
       "      <td>271_id38_0006_frame_0014.jpg</td>\n",
       "      <td>/home/huuquangdang/huu.quang.dang/thesis/Datas...</td>\n",
       "      <td>271</td>\n",
       "      <td>14</td>\n",
       "      <td>fake</td>\n",
       "      <td>0</td>\n",
       "    </tr>\n",
       "    <tr>\n",
       "      <th>2</th>\n",
       "      <td>015_id10_0006_frame_0027.jpg</td>\n",
       "      <td>/home/huuquangdang/huu.quang.dang/thesis/Datas...</td>\n",
       "      <td>15</td>\n",
       "      <td>27</td>\n",
       "      <td>fake</td>\n",
       "      <td>0</td>\n",
       "    </tr>\n",
       "    <tr>\n",
       "      <th>3</th>\n",
       "      <td>392_id4_0007_frame_0028.jpg</td>\n",
       "      <td>/home/huuquangdang/huu.quang.dang/thesis/Datas...</td>\n",
       "      <td>392</td>\n",
       "      <td>28</td>\n",
       "      <td>fake</td>\n",
       "      <td>0</td>\n",
       "    </tr>\n",
       "    <tr>\n",
       "      <th>4</th>\n",
       "      <td>029_id11_0010_frame_0004.jpg</td>\n",
       "      <td>/home/huuquangdang/huu.quang.dang/thesis/Datas...</td>\n",
       "      <td>29</td>\n",
       "      <td>4</td>\n",
       "      <td>fake</td>\n",
       "      <td>0</td>\n",
       "    </tr>\n",
       "    <tr>\n",
       "      <th>...</th>\n",
       "      <td>...</td>\n",
       "      <td>...</td>\n",
       "      <td>...</td>\n",
       "      <td>...</td>\n",
       "      <td>...</td>\n",
       "      <td>...</td>\n",
       "    </tr>\n",
       "    <tr>\n",
       "      <th>32367</th>\n",
       "      <td>475_id58_0004_frame_0012.jpg</td>\n",
       "      <td>/home/huuquangdang/huu.quang.dang/thesis/Datas...</td>\n",
       "      <td>475</td>\n",
       "      <td>12</td>\n",
       "      <td>real</td>\n",
       "      <td>1</td>\n",
       "    </tr>\n",
       "    <tr>\n",
       "      <th>32368</th>\n",
       "      <td>014_id10_0005_frame_0012.jpg</td>\n",
       "      <td>/home/huuquangdang/huu.quang.dang/thesis/Datas...</td>\n",
       "      <td>14</td>\n",
       "      <td>12</td>\n",
       "      <td>real</td>\n",
       "      <td>1</td>\n",
       "    </tr>\n",
       "    <tr>\n",
       "      <th>32369</th>\n",
       "      <td>365_id48_0000_frame_0023.jpg</td>\n",
       "      <td>/home/huuquangdang/huu.quang.dang/thesis/Datas...</td>\n",
       "      <td>365</td>\n",
       "      <td>23</td>\n",
       "      <td>real</td>\n",
       "      <td>1</td>\n",
       "    </tr>\n",
       "    <tr>\n",
       "      <th>32370</th>\n",
       "      <td>091_id20_0000_frame_0026.jpg</td>\n",
       "      <td>/home/huuquangdang/huu.quang.dang/thesis/Datas...</td>\n",
       "      <td>91</td>\n",
       "      <td>26</td>\n",
       "      <td>real</td>\n",
       "      <td>1</td>\n",
       "    </tr>\n",
       "    <tr>\n",
       "      <th>32371</th>\n",
       "      <td>356_id47_0001_frame_0019.jpg</td>\n",
       "      <td>/home/huuquangdang/huu.quang.dang/thesis/Datas...</td>\n",
       "      <td>356</td>\n",
       "      <td>19</td>\n",
       "      <td>real</td>\n",
       "      <td>1</td>\n",
       "    </tr>\n",
       "  </tbody>\n",
       "</table>\n",
       "<p>32372 rows × 6 columns</p>\n",
       "</div>"
      ],
      "text/plain": [
       "                           filename  \\\n",
       "0      264_id37_0009_frame_0001.jpg   \n",
       "1      271_id38_0006_frame_0014.jpg   \n",
       "2      015_id10_0006_frame_0027.jpg   \n",
       "3       392_id4_0007_frame_0028.jpg   \n",
       "4      029_id11_0010_frame_0004.jpg   \n",
       "...                             ...   \n",
       "32367  475_id58_0004_frame_0012.jpg   \n",
       "32368  014_id10_0005_frame_0012.jpg   \n",
       "32369  365_id48_0000_frame_0023.jpg   \n",
       "32370  091_id20_0000_frame_0026.jpg   \n",
       "32371  356_id47_0001_frame_0019.jpg   \n",
       "\n",
       "                                                    path   id  frame label  \\\n",
       "0      /home/huuquangdang/huu.quang.dang/thesis/Datas...  264      1  fake   \n",
       "1      /home/huuquangdang/huu.quang.dang/thesis/Datas...  271     14  fake   \n",
       "2      /home/huuquangdang/huu.quang.dang/thesis/Datas...   15     27  fake   \n",
       "3      /home/huuquangdang/huu.quang.dang/thesis/Datas...  392     28  fake   \n",
       "4      /home/huuquangdang/huu.quang.dang/thesis/Datas...   29      4  fake   \n",
       "...                                                  ...  ...    ...   ...   \n",
       "32367  /home/huuquangdang/huu.quang.dang/thesis/Datas...  475     12  real   \n",
       "32368  /home/huuquangdang/huu.quang.dang/thesis/Datas...   14     12  real   \n",
       "32369  /home/huuquangdang/huu.quang.dang/thesis/Datas...  365     23  real   \n",
       "32370  /home/huuquangdang/huu.quang.dang/thesis/Datas...   91     26  real   \n",
       "32371  /home/huuquangdang/huu.quang.dang/thesis/Datas...  356     19  real   \n",
       "\n",
       "       label_id  \n",
       "0             0  \n",
       "1             0  \n",
       "2             0  \n",
       "3             0  \n",
       "4             0  \n",
       "...         ...  \n",
       "32367         1  \n",
       "32368         1  \n",
       "32369         1  \n",
       "32370         1  \n",
       "32371         1  \n",
       "\n",
       "[32372 rows x 6 columns]"
      ]
     },
     "execution_count": 4,
     "metadata": {},
     "output_type": "execute_result"
    }
   ],
   "source": [
    "# Đảm bảo đã có df_cropped.csv chứa đường dẫn ảnh đã crop\n",
    "df['label_id'] = df['label'].map({'fake': 0, 'real': 1})\n",
    "df\n"
   ]
  },
  {
   "cell_type": "code",
   "execution_count": 5,
   "id": "c24e6874-6fe8-4dff-9f0d-5c7d94337ca7",
   "metadata": {
    "ExecuteTime": {
     "end_time": "2025-06-16T15:06:56.671685Z",
     "start_time": "2025-06-16T15:06:55.874053Z"
    }
   },
   "outputs": [],
   "source": [
    "df['video_key'] = df['id'].astype(str) + \"_\" + df['label']\n",
    "\n",
    "from collections import defaultdict\n",
    "\n",
    "video_dict = defaultdict(list)\n",
    "labels = {}\n",
    "\n",
    "for _, row in df.iterrows():\n",
    "    key = row['video_key']\n",
    "    video_dict[key].append(row['path'])\n",
    "    labels[key] = row['label_id']\n"
   ]
  },
  {
   "cell_type": "code",
   "execution_count": 6,
   "id": "fc8891d0-4a1f-4bcd-97f2-0b9577706cb5",
   "metadata": {
    "ExecuteTime": {
     "end_time": "2025-06-16T06:50:19.887250Z",
     "start_time": "2025-06-16T06:50:19.279020Z"
    }
   },
   "outputs": [],
   "source": [
    "# !pip install opencv-python"
   ]
  },
  {
   "cell_type": "code",
   "execution_count": 7,
   "id": "016d786b",
   "metadata": {},
   "outputs": [
    {
     "name": "stdout",
     "output_type": "stream",
     "text": [
      "📂 Loading pre-extracted OpenFace features from CSV files...\n",
      "✅ Loaded 16223 feature vectors\n",
      "✅ Each vector has 674 dimensions\n",
      "✅ Feature dictionary ready for 1-to-1 frame mapping\n"
     ]
    }
   ],
   "source": [
    "# Load pre-extracted CSV features for feature fusion\n",
    "print(\"📂 Loading pre-extracted OpenFace features from CSV files...\")\n",
    "csv_fake_path = '/home/huuquangdang/huu.quang.dang/thesis/deepfake/deepfake_backend/libs/tools/fake/op_vectors_fake_v1.csv'\n",
    "csv_real_path = '/home/huuquangdang/huu.quang.dang/thesis/deepfake/deepfake_backend/libs/tools/real/op_vectors_real_v1.csv'\n",
    "\n",
    "df_fake_features = pd.read_csv(csv_fake_path, header=None)\n",
    "df_real_features = pd.read_csv(csv_real_path, header=None)\n",
    "\n",
    "# Combine both dataframes\n",
    "df_all_features = pd.concat([df_fake_features, df_real_features], ignore_index=True)\n",
    "df_all_features.columns = ['filename'] + [f'feat_{i}' for i in range(df_all_features.shape[1] - 1)]\n",
    "\n",
    "# Create a dictionary for fast lookup: filename -> features\n",
    "openface_features = {}\n",
    "for _, row in df_all_features.iterrows():\n",
    "    filename = row['filename']\n",
    "    features = row.iloc[1:].values.astype('float32')\n",
    "    openface_features[filename] = features\n",
    "\n",
    "csv_feature_dim = len(features)\n",
    "print(f\"✅ Loaded {len(openface_features)} feature vectors\")\n",
    "print(f\"✅ Each vector has {csv_feature_dim} dimensions\")\n",
    "print(f\"✅ Feature dictionary ready for 1-to-1 frame mapping\")"
   ]
  },
  {
   "cell_type": "markdown",
   "id": "8dfba17a",
   "metadata": {},
   "source": [
    "# 🔬 Model: TCN (Temporal Conv Net) + Residual Blocks + KAN\n",
    "\n",
    "This cell implements **TCN (dilated 1D CNN) with Residual Blocks** for sequence modeling, while maintaining:\n",
    "\n",
    "- ✅ Same function names (`VideoSequence`, `build_model`, `hmm_postprocess`)\n",
    "\n",
    "- ✅ Same 1-to-1 feature fusion (MobileNet + CSV)\n",
    "\n",
    "- ✅ Same normalization strategy\n",
    "\n",
    "- ✅ Enhanced with TCN and Residual Blocks"
   ]
  },
  {
   "cell_type": "code",
   "execution_count": 8,
   "id": "c93d1567",
   "metadata": {},
   "outputs": [
    {
     "name": "stdout",
     "output_type": "stream",
     "text": [
      "🔧 Computing CSV feature statistics for normalization...\n",
      "📊 Found 16253 CSV features from 1084 videos\n",
      "✅ CSV feature normalization fitted on 16253 samples\n",
      "\n",
      "🚀 Starting Enhanced TCN + Residual Blocks Training:\n",
      "   ✅ TCN (6 blocks, dilations: 1/2/4/8/16/32)\n",
      "   ✅ Increased filters: 256 → 256 → 256 → 256 → 128 → 128\n",
      "   ✅ Layer Normalization after each conv layer\n",
      "   ✅ Enhanced data augmentation\n",
      "   ✅ Sequence length: 15 frames\n",
      "   ✅ MobileNet (last 30 layers trainable)\n",
      "   ✅ Stronger regularization (dropout 0.3-0.4)\n",
      "   ✅ HMM post-processing\n",
      "\n",
      "\n",
      "============================================================\n",
      "📊 Fold 1/5 - Enhanced TCN_Residual\n",
      "============================================================\n",
      "\n",
      "📈 Enhanced Model Architecture:\n",
      "   - Model: TCN (6 blocks, 256+256+256+256+128+128 filters)\n",
      "   - Total params: 5,955,145\n",
      "   - Trainable params: 5,219,269\n",
      "   - Sequence length: 15\n",
      "   - Batch size: 16\n",
      "   - Initial learning rate: 0.0001\n",
      "Epoch 1/100\n",
      "46/46 [==============================] - ETA: 0s - loss: 1.0273 - accuracy: 0.4742\n",
      "Epoch 1: val_accuracy improved from -inf to 0.49618, saving model to best_model_fold1_tcn_res_enhanced.h5\n",
      "46/46 [==============================] - 131s 3s/step - loss: 1.0273 - accuracy: 0.4742 - val_loss: 0.7538 - val_accuracy: 0.4962 - lr: 1.0000e-04\n"
     ]
    },
    {
     "name": "stderr",
     "output_type": "stream",
     "text": [
      "/home/huuquangdang/.local/lib/python3.10/site-packages/keras/src/engine/training.py:3079: UserWarning: You are saving your model as an HDF5 file via `model.save()`. This file format is considered legacy. We recommend using instead the native Keras format, e.g. `model.save('my_model.keras')`.\n",
      "  saving_api.save_model(\n"
     ]
    },
    {
     "name": "stdout",
     "output_type": "stream",
     "text": [
      "Epoch 2/100\n",
      "46/46 [==============================] - ETA: 0s - loss: 0.9306 - accuracy: 0.5082\n",
      "Epoch 2: val_accuracy did not improve from 0.49618\n",
      "46/46 [==============================] - 127s 3s/step - loss: 0.9306 - accuracy: 0.5082 - val_loss: 0.7115 - val_accuracy: 0.4580 - lr: 1.0000e-04\n",
      "Epoch 3/100\n",
      "46/46 [==============================] - ETA: 0s - loss: 0.9281 - accuracy: 0.5258\n",
      "Epoch 3: val_accuracy did not improve from 0.49618\n",
      "46/46 [==============================] - 126s 3s/step - loss: 0.9281 - accuracy: 0.5258 - val_loss: 0.6971 - val_accuracy: 0.4885 - lr: 1.0000e-04\n",
      "Epoch 4/100\n",
      "46/46 [==============================] - ETA: 0s - loss: 0.8971 - accuracy: 0.5041\n",
      "Epoch 4: val_accuracy improved from 0.49618 to 0.52672, saving model to best_model_fold1_tcn_res_enhanced.h5\n",
      "46/46 [==============================] - 127s 3s/step - loss: 0.8971 - accuracy: 0.5041 - val_loss: 0.6833 - val_accuracy: 0.5267 - lr: 1.0000e-04\n",
      "Epoch 5/100\n"
     ]
    },
    {
     "name": "stderr",
     "output_type": "stream",
     "text": [
      "/home/huuquangdang/.local/lib/python3.10/site-packages/keras/src/engine/training.py:3079: UserWarning: You are saving your model as an HDF5 file via `model.save()`. This file format is considered legacy. We recommend using instead the native Keras format, e.g. `model.save('my_model.keras')`.\n",
      "  saving_api.save_model(\n"
     ]
    },
    {
     "name": "stdout",
     "output_type": "stream",
     "text": [
      "46/46 [==============================] - ETA: 0s - loss: 0.8840 - accuracy: 0.5231\n",
      "Epoch 5: val_accuracy improved from 0.52672 to 0.64885, saving model to best_model_fold1_tcn_res_enhanced.h5\n",
      "46/46 [==============================] - 127s 3s/step - loss: 0.8840 - accuracy: 0.5231 - val_loss: 0.6657 - val_accuracy: 0.6489 - lr: 1.0000e-04\n",
      "Epoch 6/100\n"
     ]
    },
    {
     "name": "stderr",
     "output_type": "stream",
     "text": [
      "/home/huuquangdang/.local/lib/python3.10/site-packages/keras/src/engine/training.py:3079: UserWarning: You are saving your model as an HDF5 file via `model.save()`. This file format is considered legacy. We recommend using instead the native Keras format, e.g. `model.save('my_model.keras')`.\n",
      "  saving_api.save_model(\n"
     ]
    },
    {
     "name": "stdout",
     "output_type": "stream",
     "text": [
      "46/46 [==============================] - ETA: 0s - loss: 0.8965 - accuracy: 0.5367\n",
      "Epoch 6: val_accuracy did not improve from 0.64885\n",
      "46/46 [==============================] - 127s 3s/step - loss: 0.8965 - accuracy: 0.5367 - val_loss: 0.6607 - val_accuracy: 0.6260 - lr: 1.0000e-04\n",
      "Epoch 7/100\n",
      "46/46 [==============================] - ETA: 0s - loss: 0.8495 - accuracy: 0.5408\n",
      "Epoch 7: val_accuracy did not improve from 0.64885\n",
      "46/46 [==============================] - 126s 3s/step - loss: 0.8495 - accuracy: 0.5408 - val_loss: 0.6527 - val_accuracy: 0.6489 - lr: 1.0000e-04\n",
      "Epoch 8/100\n",
      "46/46 [==============================] - ETA: 0s - loss: 0.8752 - accuracy: 0.5285\n",
      "Epoch 8: val_accuracy did not improve from 0.64885\n",
      "46/46 [==============================] - 126s 3s/step - loss: 0.8752 - accuracy: 0.5285 - val_loss: 0.6466 - val_accuracy: 0.6489 - lr: 1.0000e-04\n",
      "Epoch 9/100\n",
      "46/46 [==============================] - ETA: 0s - loss: 0.9114 - accuracy: 0.5299\n",
      "Epoch 9: val_accuracy improved from 0.64885 to 0.66412, saving model to best_model_fold1_tcn_res_enhanced.h5\n",
      "46/46 [==============================] - 126s 3s/step - loss: 0.9114 - accuracy: 0.5299 - val_loss: 0.6409 - val_accuracy: 0.6641 - lr: 1.0000e-04\n",
      "Epoch 10/100\n"
     ]
    },
    {
     "name": "stderr",
     "output_type": "stream",
     "text": [
      "/home/huuquangdang/.local/lib/python3.10/site-packages/keras/src/engine/training.py:3079: UserWarning: You are saving your model as an HDF5 file via `model.save()`. This file format is considered legacy. We recommend using instead the native Keras format, e.g. `model.save('my_model.keras')`.\n",
      "  saving_api.save_model(\n"
     ]
    },
    {
     "name": "stdout",
     "output_type": "stream",
     "text": [
      "46/46 [==============================] - ETA: 0s - loss: 0.8932 - accuracy: 0.5258\n",
      "Epoch 10: val_accuracy improved from 0.66412 to 0.68702, saving model to best_model_fold1_tcn_res_enhanced.h5\n",
      "46/46 [==============================] - 126s 3s/step - loss: 0.8932 - accuracy: 0.5258 - val_loss: 0.6230 - val_accuracy: 0.6870 - lr: 1.0000e-04\n",
      "Epoch 11/100\n"
     ]
    },
    {
     "name": "stderr",
     "output_type": "stream",
     "text": [
      "/home/huuquangdang/.local/lib/python3.10/site-packages/keras/src/engine/training.py:3079: UserWarning: You are saving your model as an HDF5 file via `model.save()`. This file format is considered legacy. We recommend using instead the native Keras format, e.g. `model.save('my_model.keras')`.\n",
      "  saving_api.save_model(\n"
     ]
    },
    {
     "name": "stdout",
     "output_type": "stream",
     "text": [
      "46/46 [==============================] - ETA: 0s - loss: 0.7925 - accuracy: 0.5910\n",
      "Epoch 11: val_accuracy did not improve from 0.68702\n",
      "46/46 [==============================] - 124s 3s/step - loss: 0.7925 - accuracy: 0.5910 - val_loss: 0.6081 - val_accuracy: 0.6794 - lr: 1.0000e-04\n",
      "Epoch 12/100\n",
      "46/46 [==============================] - ETA: 0s - loss: 0.7752 - accuracy: 0.5829\n",
      "Epoch 12: val_accuracy did not improve from 0.68702\n",
      "46/46 [==============================] - 124s 3s/step - loss: 0.7752 - accuracy: 0.5829 - val_loss: 0.5958 - val_accuracy: 0.6718 - lr: 1.0000e-04\n",
      "Epoch 13/100\n",
      "46/46 [==============================] - ETA: 0s - loss: 0.8125 - accuracy: 0.5720\n",
      "Epoch 13: val_accuracy did not improve from 0.68702\n",
      "46/46 [==============================] - 125s 3s/step - loss: 0.8125 - accuracy: 0.5720 - val_loss: 0.6034 - val_accuracy: 0.6641 - lr: 1.0000e-04\n",
      "Epoch 14/100\n",
      "46/46 [==============================] - ETA: 0s - loss: 0.7994 - accuracy: 0.5802\n",
      "Epoch 14: val_accuracy did not improve from 0.68702\n",
      "46/46 [==============================] - 124s 3s/step - loss: 0.7994 - accuracy: 0.5802 - val_loss: 0.6133 - val_accuracy: 0.6489 - lr: 1.0000e-04\n",
      "Epoch 15/100\n",
      "46/46 [==============================] - ETA: 0s - loss: 0.7567 - accuracy: 0.5965\n",
      "Epoch 15: val_accuracy did not improve from 0.68702\n",
      "46/46 [==============================] - 125s 3s/step - loss: 0.7567 - accuracy: 0.5965 - val_loss: 0.6309 - val_accuracy: 0.6336 - lr: 1.0000e-04\n",
      "Epoch 16/100\n",
      "46/46 [==============================] - ETA: 0s - loss: 0.7548 - accuracy: 0.5965\n",
      "Epoch 16: val_accuracy did not improve from 0.68702\n",
      "46/46 [==============================] - 125s 3s/step - loss: 0.7548 - accuracy: 0.5965 - val_loss: 0.6106 - val_accuracy: 0.6336 - lr: 1.0000e-04\n",
      "Epoch 17/100\n",
      "46/46 [==============================] - ETA: 0s - loss: 0.7334 - accuracy: 0.5938\n",
      "Epoch 17: val_accuracy did not improve from 0.68702\n",
      "\n",
      "Epoch 17: ReduceLROnPlateau reducing learning rate to 4.999999873689376e-05.\n",
      "46/46 [==============================] - 124s 3s/step - loss: 0.7334 - accuracy: 0.5938 - val_loss: 0.6287 - val_accuracy: 0.6489 - lr: 1.0000e-04\n",
      "Epoch 18/100\n",
      "46/46 [==============================] - ETA: 0s - loss: 0.6976 - accuracy: 0.6427\n",
      "Epoch 18: val_accuracy did not improve from 0.68702\n",
      "46/46 [==============================] - 125s 3s/step - loss: 0.6976 - accuracy: 0.6427 - val_loss: 0.6028 - val_accuracy: 0.6794 - lr: 5.0000e-05\n",
      "Epoch 19/100\n",
      "46/46 [==============================] - ETA: 0s - loss: 0.6920 - accuracy: 0.6345\n",
      "Epoch 19: val_accuracy did not improve from 0.68702\n",
      "46/46 [==============================] - 124s 3s/step - loss: 0.6920 - accuracy: 0.6345 - val_loss: 0.5930 - val_accuracy: 0.6794 - lr: 5.0000e-05\n",
      "Epoch 20/100\n",
      "46/46 [==============================] - ETA: 0s - loss: 0.6538 - accuracy: 0.6658\n",
      "Epoch 20: val_accuracy improved from 0.68702 to 0.71756, saving model to best_model_fold1_tcn_res_enhanced.h5\n",
      "46/46 [==============================] - 126s 3s/step - loss: 0.6538 - accuracy: 0.6658 - val_loss: 0.5470 - val_accuracy: 0.7176 - lr: 5.0000e-05\n",
      "Epoch 21/100\n"
     ]
    },
    {
     "name": "stderr",
     "output_type": "stream",
     "text": [
      "/home/huuquangdang/.local/lib/python3.10/site-packages/keras/src/engine/training.py:3079: UserWarning: You are saving your model as an HDF5 file via `model.save()`. This file format is considered legacy. We recommend using instead the native Keras format, e.g. `model.save('my_model.keras')`.\n",
      "  saving_api.save_model(\n"
     ]
    },
    {
     "name": "stdout",
     "output_type": "stream",
     "text": [
      "46/46 [==============================] - ETA: 0s - loss: 0.6348 - accuracy: 0.6889\n",
      "Epoch 21: val_accuracy did not improve from 0.71756\n",
      "46/46 [==============================] - 125s 3s/step - loss: 0.6348 - accuracy: 0.6889 - val_loss: 0.5507 - val_accuracy: 0.7176 - lr: 5.0000e-05\n",
      "Epoch 22/100\n",
      "46/46 [==============================] - ETA: 0s - loss: 0.6622 - accuracy: 0.6753\n",
      "Epoch 22: val_accuracy did not improve from 0.71756\n",
      "46/46 [==============================] - 125s 3s/step - loss: 0.6622 - accuracy: 0.6753 - val_loss: 0.5508 - val_accuracy: 0.7176 - lr: 5.0000e-05\n",
      "Epoch 23/100\n",
      "46/46 [==============================] - ETA: 0s - loss: 0.6350 - accuracy: 0.6848\n",
      "Epoch 23: val_accuracy did not improve from 0.71756\n",
      "46/46 [==============================] - 124s 3s/step - loss: 0.6350 - accuracy: 0.6848 - val_loss: 0.5535 - val_accuracy: 0.6947 - lr: 5.0000e-05\n",
      "Epoch 24/100\n",
      "46/46 [==============================] - ETA: 0s - loss: 0.6519 - accuracy: 0.6698\n",
      "Epoch 24: val_accuracy improved from 0.71756 to 0.73282, saving model to best_model_fold1_tcn_res_enhanced.h5\n",
      "46/46 [==============================] - 124s 3s/step - loss: 0.6519 - accuracy: 0.6698 - val_loss: 0.5035 - val_accuracy: 0.7328 - lr: 5.0000e-05\n",
      "Epoch 25/100\n"
     ]
    },
    {
     "name": "stderr",
     "output_type": "stream",
     "text": [
      "/home/huuquangdang/.local/lib/python3.10/site-packages/keras/src/engine/training.py:3079: UserWarning: You are saving your model as an HDF5 file via `model.save()`. This file format is considered legacy. We recommend using instead the native Keras format, e.g. `model.save('my_model.keras')`.\n",
      "  saving_api.save_model(\n"
     ]
    },
    {
     "name": "stdout",
     "output_type": "stream",
     "text": [
      "46/46 [==============================] - ETA: 0s - loss: 0.6092 - accuracy: 0.6929\n",
      "Epoch 25: val_accuracy improved from 0.73282 to 0.75573, saving model to best_model_fold1_tcn_res_enhanced.h5\n",
      "46/46 [==============================] - 124s 3s/step - loss: 0.6092 - accuracy: 0.6929 - val_loss: 0.4888 - val_accuracy: 0.7557 - lr: 5.0000e-05\n",
      "Epoch 26/100\n"
     ]
    },
    {
     "name": "stderr",
     "output_type": "stream",
     "text": [
      "/home/huuquangdang/.local/lib/python3.10/site-packages/keras/src/engine/training.py:3079: UserWarning: You are saving your model as an HDF5 file via `model.save()`. This file format is considered legacy. We recommend using instead the native Keras format, e.g. `model.save('my_model.keras')`.\n",
      "  saving_api.save_model(\n"
     ]
    },
    {
     "name": "stdout",
     "output_type": "stream",
     "text": [
      "46/46 [==============================] - ETA: 0s - loss: 0.6247 - accuracy: 0.6753\n",
      "Epoch 26: val_accuracy improved from 0.75573 to 0.76336, saving model to best_model_fold1_tcn_res_enhanced.h5\n",
      "46/46 [==============================] - 124s 3s/step - loss: 0.6247 - accuracy: 0.6753 - val_loss: 0.4688 - val_accuracy: 0.7634 - lr: 5.0000e-05\n",
      "Epoch 27/100\n"
     ]
    },
    {
     "name": "stderr",
     "output_type": "stream",
     "text": [
      "/home/huuquangdang/.local/lib/python3.10/site-packages/keras/src/engine/training.py:3079: UserWarning: You are saving your model as an HDF5 file via `model.save()`. This file format is considered legacy. We recommend using instead the native Keras format, e.g. `model.save('my_model.keras')`.\n",
      "  saving_api.save_model(\n"
     ]
    },
    {
     "name": "stdout",
     "output_type": "stream",
     "text": [
      "46/46 [==============================] - ETA: 0s - loss: 0.5787 - accuracy: 0.7147\n",
      "Epoch 27: val_accuracy did not improve from 0.76336\n",
      "46/46 [==============================] - 124s 3s/step - loss: 0.5787 - accuracy: 0.7147 - val_loss: 0.4650 - val_accuracy: 0.7634 - lr: 5.0000e-05\n",
      "Epoch 28/100\n",
      "46/46 [==============================] - ETA: 0s - loss: 0.5893 - accuracy: 0.6848\n",
      "Epoch 28: val_accuracy did not improve from 0.76336\n",
      "46/46 [==============================] - 125s 3s/step - loss: 0.5893 - accuracy: 0.6848 - val_loss: 0.4512 - val_accuracy: 0.7634 - lr: 5.0000e-05\n",
      "Epoch 29/100\n",
      "46/46 [==============================] - ETA: 0s - loss: 0.5394 - accuracy: 0.7446\n",
      "Epoch 29: val_accuracy did not improve from 0.76336\n",
      "46/46 [==============================] - 127s 3s/step - loss: 0.5394 - accuracy: 0.7446 - val_loss: 0.4696 - val_accuracy: 0.7481 - lr: 5.0000e-05\n",
      "Epoch 30/100\n",
      "46/46 [==============================] - ETA: 0s - loss: 0.5539 - accuracy: 0.7500\n",
      "Epoch 30: val_accuracy did not improve from 0.76336\n",
      "46/46 [==============================] - 126s 3s/step - loss: 0.5539 - accuracy: 0.7500 - val_loss: 0.4535 - val_accuracy: 0.7557 - lr: 5.0000e-05\n",
      "Epoch 31/100\n",
      "46/46 [==============================] - ETA: 0s - loss: 0.5587 - accuracy: 0.7255\n",
      "Epoch 31: val_accuracy improved from 0.76336 to 0.77099, saving model to best_model_fold1_tcn_res_enhanced.h5\n",
      "46/46 [==============================] - 125s 3s/step - loss: 0.5587 - accuracy: 0.7255 - val_loss: 0.4333 - val_accuracy: 0.7710 - lr: 5.0000e-05\n",
      "Epoch 32/100\n"
     ]
    },
    {
     "name": "stderr",
     "output_type": "stream",
     "text": [
      "/home/huuquangdang/.local/lib/python3.10/site-packages/keras/src/engine/training.py:3079: UserWarning: You are saving your model as an HDF5 file via `model.save()`. This file format is considered legacy. We recommend using instead the native Keras format, e.g. `model.save('my_model.keras')`.\n",
      "  saving_api.save_model(\n"
     ]
    },
    {
     "name": "stdout",
     "output_type": "stream",
     "text": [
      "46/46 [==============================] - ETA: 0s - loss: 0.5070 - accuracy: 0.7554\n",
      "Epoch 32: val_accuracy improved from 0.77099 to 0.80153, saving model to best_model_fold1_tcn_res_enhanced.h5\n",
      "46/46 [==============================] - 125s 3s/step - loss: 0.5070 - accuracy: 0.7554 - val_loss: 0.4173 - val_accuracy: 0.8015 - lr: 5.0000e-05\n",
      "Epoch 33/100\n"
     ]
    },
    {
     "name": "stderr",
     "output_type": "stream",
     "text": [
      "/home/huuquangdang/.local/lib/python3.10/site-packages/keras/src/engine/training.py:3079: UserWarning: You are saving your model as an HDF5 file via `model.save()`. This file format is considered legacy. We recommend using instead the native Keras format, e.g. `model.save('my_model.keras')`.\n",
      "  saving_api.save_model(\n"
     ]
    },
    {
     "name": "stdout",
     "output_type": "stream",
     "text": [
      "46/46 [==============================] - ETA: 0s - loss: 0.5518 - accuracy: 0.7283\n",
      "Epoch 33: val_accuracy improved from 0.80153 to 0.81679, saving model to best_model_fold1_tcn_res_enhanced.h5\n",
      "46/46 [==============================] - 125s 3s/step - loss: 0.5518 - accuracy: 0.7283 - val_loss: 0.4054 - val_accuracy: 0.8168 - lr: 5.0000e-05\n",
      "Epoch 34/100\n"
     ]
    },
    {
     "name": "stderr",
     "output_type": "stream",
     "text": [
      "/home/huuquangdang/.local/lib/python3.10/site-packages/keras/src/engine/training.py:3079: UserWarning: You are saving your model as an HDF5 file via `model.save()`. This file format is considered legacy. We recommend using instead the native Keras format, e.g. `model.save('my_model.keras')`.\n",
      "  saving_api.save_model(\n"
     ]
    },
    {
     "name": "stdout",
     "output_type": "stream",
     "text": [
      "46/46 [==============================] - ETA: 0s - loss: 0.5212 - accuracy: 0.7622\n",
      "Epoch 34: val_accuracy did not improve from 0.81679\n",
      "46/46 [==============================] - 124s 3s/step - loss: 0.5212 - accuracy: 0.7622 - val_loss: 0.4075 - val_accuracy: 0.8015 - lr: 5.0000e-05\n",
      "Epoch 35/100\n",
      "46/46 [==============================] - ETA: 0s - loss: 0.4954 - accuracy: 0.7432\n",
      "Epoch 35: val_accuracy improved from 0.81679 to 0.83206, saving model to best_model_fold1_tcn_res_enhanced.h5\n",
      "46/46 [==============================] - 125s 3s/step - loss: 0.4954 - accuracy: 0.7432 - val_loss: 0.3965 - val_accuracy: 0.8321 - lr: 5.0000e-05\n",
      "Epoch 36/100\n"
     ]
    },
    {
     "name": "stderr",
     "output_type": "stream",
     "text": [
      "/home/huuquangdang/.local/lib/python3.10/site-packages/keras/src/engine/training.py:3079: UserWarning: You are saving your model as an HDF5 file via `model.save()`. This file format is considered legacy. We recommend using instead the native Keras format, e.g. `model.save('my_model.keras')`.\n",
      "  saving_api.save_model(\n"
     ]
    },
    {
     "name": "stdout",
     "output_type": "stream",
     "text": [
      "46/46 [==============================] - ETA: 0s - loss: 0.4953 - accuracy: 0.7663\n",
      "Epoch 36: val_accuracy did not improve from 0.83206\n",
      "46/46 [==============================] - 125s 3s/step - loss: 0.4953 - accuracy: 0.7663 - val_loss: 0.3820 - val_accuracy: 0.8321 - lr: 5.0000e-05\n",
      "Epoch 37/100\n",
      "46/46 [==============================] - ETA: 0s - loss: 0.4542 - accuracy: 0.7758\n",
      "Epoch 37: val_accuracy improved from 0.83206 to 0.83969, saving model to best_model_fold1_tcn_res_enhanced.h5\n",
      "46/46 [==============================] - 127s 3s/step - loss: 0.4542 - accuracy: 0.7758 - val_loss: 0.3581 - val_accuracy: 0.8397 - lr: 5.0000e-05\n",
      "Epoch 38/100\n"
     ]
    },
    {
     "name": "stderr",
     "output_type": "stream",
     "text": [
      "/home/huuquangdang/.local/lib/python3.10/site-packages/keras/src/engine/training.py:3079: UserWarning: You are saving your model as an HDF5 file via `model.save()`. This file format is considered legacy. We recommend using instead the native Keras format, e.g. `model.save('my_model.keras')`.\n",
      "  saving_api.save_model(\n"
     ]
    },
    {
     "name": "stdout",
     "output_type": "stream",
     "text": [
      "46/46 [==============================] - ETA: 0s - loss: 0.4530 - accuracy: 0.7840\n",
      "Epoch 38: val_accuracy did not improve from 0.83969\n",
      "46/46 [==============================] - 125s 3s/step - loss: 0.4530 - accuracy: 0.7840 - val_loss: 0.3618 - val_accuracy: 0.8244 - lr: 5.0000e-05\n",
      "Epoch 39/100\n",
      "46/46 [==============================] - ETA: 0s - loss: 0.4454 - accuracy: 0.7989\n",
      "Epoch 39: val_accuracy did not improve from 0.83969\n",
      "46/46 [==============================] - 125s 3s/step - loss: 0.4454 - accuracy: 0.7989 - val_loss: 0.4041 - val_accuracy: 0.8168 - lr: 5.0000e-05\n",
      "Epoch 40/100\n",
      "46/46 [==============================] - ETA: 0s - loss: 0.4250 - accuracy: 0.8098\n",
      "Epoch 40: val_accuracy did not improve from 0.83969\n",
      "46/46 [==============================] - 126s 3s/step - loss: 0.4250 - accuracy: 0.8098 - val_loss: 0.3904 - val_accuracy: 0.8244 - lr: 5.0000e-05\n",
      "Epoch 41/100\n",
      "46/46 [==============================] - ETA: 0s - loss: 0.4430 - accuracy: 0.7989\n",
      "Epoch 41: val_accuracy did not improve from 0.83969\n",
      "46/46 [==============================] - 125s 3s/step - loss: 0.4430 - accuracy: 0.7989 - val_loss: 0.3949 - val_accuracy: 0.8244 - lr: 5.0000e-05\n",
      "Epoch 42/100\n",
      "46/46 [==============================] - ETA: 0s - loss: 0.4115 - accuracy: 0.8179\n",
      "Epoch 42: val_accuracy did not improve from 0.83969\n",
      "\n",
      "Epoch 42: ReduceLROnPlateau reducing learning rate to 2.499999936844688e-05.\n",
      "46/46 [==============================] - 125s 3s/step - loss: 0.4115 - accuracy: 0.8179 - val_loss: 0.3721 - val_accuracy: 0.8397 - lr: 5.0000e-05\n",
      "Epoch 43/100\n",
      "46/46 [==============================] - ETA: 0s - loss: 0.4598 - accuracy: 0.7921\n",
      "Epoch 43: val_accuracy did not improve from 0.83969\n",
      "46/46 [==============================] - 125s 3s/step - loss: 0.4598 - accuracy: 0.7921 - val_loss: 0.3655 - val_accuracy: 0.8397 - lr: 2.5000e-05\n",
      "Epoch 44/100\n",
      "46/46 [==============================] - ETA: 0s - loss: 0.4157 - accuracy: 0.8220\n",
      "Epoch 44: val_accuracy did not improve from 0.83969\n",
      "46/46 [==============================] - 124s 3s/step - loss: 0.4157 - accuracy: 0.8220 - val_loss: 0.3772 - val_accuracy: 0.8321 - lr: 2.5000e-05\n",
      "Epoch 45/100\n",
      "46/46 [==============================] - ETA: 0s - loss: 0.3944 - accuracy: 0.8152\n",
      "Epoch 45: val_accuracy improved from 0.83969 to 0.84733, saving model to best_model_fold1_tcn_res_enhanced.h5\n",
      "46/46 [==============================] - 127s 3s/step - loss: 0.3944 - accuracy: 0.8152 - val_loss: 0.3489 - val_accuracy: 0.8473 - lr: 2.5000e-05\n",
      "Epoch 46/100\n"
     ]
    },
    {
     "name": "stderr",
     "output_type": "stream",
     "text": [
      "/home/huuquangdang/.local/lib/python3.10/site-packages/keras/src/engine/training.py:3079: UserWarning: You are saving your model as an HDF5 file via `model.save()`. This file format is considered legacy. We recommend using instead the native Keras format, e.g. `model.save('my_model.keras')`.\n",
      "  saving_api.save_model(\n"
     ]
    },
    {
     "name": "stdout",
     "output_type": "stream",
     "text": [
      "46/46 [==============================] - ETA: 0s - loss: 0.3787 - accuracy: 0.8261\n",
      "Epoch 46: val_accuracy did not improve from 0.84733\n",
      "46/46 [==============================] - 124s 3s/step - loss: 0.3787 - accuracy: 0.8261 - val_loss: 0.3366 - val_accuracy: 0.8321 - lr: 2.5000e-05\n",
      "Epoch 47/100\n",
      "46/46 [==============================] - ETA: 0s - loss: 0.3703 - accuracy: 0.8356\n",
      "Epoch 47: val_accuracy did not improve from 0.84733\n",
      "46/46 [==============================] - 124s 3s/step - loss: 0.3703 - accuracy: 0.8356 - val_loss: 0.3307 - val_accuracy: 0.8397 - lr: 2.5000e-05\n",
      "Epoch 48/100\n",
      "46/46 [==============================] - ETA: 0s - loss: 0.3964 - accuracy: 0.8207\n",
      "Epoch 48: val_accuracy did not improve from 0.84733\n",
      "46/46 [==============================] - 124s 3s/step - loss: 0.3964 - accuracy: 0.8207 - val_loss: 0.3337 - val_accuracy: 0.8397 - lr: 2.5000e-05\n",
      "Epoch 49/100\n",
      "46/46 [==============================] - ETA: 0s - loss: 0.3885 - accuracy: 0.8288\n",
      "Epoch 49: val_accuracy did not improve from 0.84733\n",
      "46/46 [==============================] - 125s 3s/step - loss: 0.3885 - accuracy: 0.8288 - val_loss: 0.3331 - val_accuracy: 0.8473 - lr: 2.5000e-05\n",
      "Epoch 50/100\n",
      "46/46 [==============================] - ETA: 0s - loss: 0.3333 - accuracy: 0.8560\n",
      "Epoch 50: val_accuracy did not improve from 0.84733\n",
      "46/46 [==============================] - 124s 3s/step - loss: 0.3333 - accuracy: 0.8560 - val_loss: 0.3223 - val_accuracy: 0.8397 - lr: 2.5000e-05\n",
      "Epoch 51/100\n",
      "46/46 [==============================] - ETA: 0s - loss: 0.3529 - accuracy: 0.8505\n",
      "Epoch 51: val_accuracy did not improve from 0.84733\n",
      "46/46 [==============================] - 126s 3s/step - loss: 0.3529 - accuracy: 0.8505 - val_loss: 0.3229 - val_accuracy: 0.8397 - lr: 2.5000e-05\n",
      "Epoch 52/100\n",
      "46/46 [==============================] - ETA: 0s - loss: 0.3980 - accuracy: 0.8111\n",
      "Epoch 52: val_accuracy did not improve from 0.84733\n",
      "46/46 [==============================] - 127s 3s/step - loss: 0.3980 - accuracy: 0.8111 - val_loss: 0.3253 - val_accuracy: 0.8397 - lr: 2.5000e-05\n",
      "Epoch 53/100\n",
      "46/46 [==============================] - ETA: 0s - loss: 0.3757 - accuracy: 0.8370\n",
      "Epoch 53: val_accuracy did not improve from 0.84733\n",
      "46/46 [==============================] - 125s 3s/step - loss: 0.3757 - accuracy: 0.8370 - val_loss: 0.3356 - val_accuracy: 0.8397 - lr: 2.5000e-05\n",
      "Epoch 54/100\n",
      "46/46 [==============================] - ETA: 0s - loss: 0.3718 - accuracy: 0.8329\n",
      "Epoch 54: val_accuracy did not improve from 0.84733\n",
      "46/46 [==============================] - 124s 3s/step - loss: 0.3718 - accuracy: 0.8329 - val_loss: 0.3349 - val_accuracy: 0.8473 - lr: 2.5000e-05\n",
      "Epoch 55/100\n",
      "46/46 [==============================] - ETA: 0s - loss: 0.3570 - accuracy: 0.8424\n",
      "Epoch 55: val_accuracy did not improve from 0.84733\n",
      "Restoring model weights from the end of the best epoch: 45.\n",
      "\n",
      "Epoch 55: ReduceLROnPlateau reducing learning rate to 1.249999968422344e-05.\n",
      "46/46 [==============================] - 123s 3s/step - loss: 0.3570 - accuracy: 0.8424 - val_loss: 0.3333 - val_accuracy: 0.8397 - lr: 2.5000e-05\n",
      "Epoch 55: early stopping\n",
      "14/14 [==============================] - 14s 893ms/step\n",
      "\n",
      "✅ Fold 1 Results (Enhanced TCN_Residual):\n",
      "   Accuracy:  0.8848\n",
      "   Precision: 0.8487\n",
      "   Recall:    0.9352\n",
      "   F1 Score:  0.8899\n",
      "   AUC:       0.9437\n",
      "\n",
      "============================================================\n",
      "📊 Fold 2/5 - Enhanced TCN_Residual\n",
      "============================================================\n",
      "\n",
      "📈 Enhanced Model Architecture:\n",
      "   - Model: TCN (6 blocks, 256+256+256+256+128+128 filters)\n",
      "   - Total params: 5,955,145\n",
      "   - Trainable params: 5,219,269\n",
      "   - Sequence length: 15\n",
      "   - Batch size: 16\n",
      "   - Initial learning rate: 0.0001\n",
      "Epoch 1/100\n",
      "46/46 [==============================] - ETA: 0s - loss: 0.9489 - accuracy: 0.5095\n",
      "Epoch 1: val_accuracy improved from -inf to 0.49618, saving model to best_model_fold2_tcn_res_enhanced.h5\n",
      "46/46 [==============================] - 129s 3s/step - loss: 0.9489 - accuracy: 0.5095 - val_loss: 0.9774 - val_accuracy: 0.4962 - lr: 1.0000e-04\n",
      "Epoch 2/100\n"
     ]
    },
    {
     "name": "stderr",
     "output_type": "stream",
     "text": [
      "/home/huuquangdang/.local/lib/python3.10/site-packages/keras/src/engine/training.py:3079: UserWarning: You are saving your model as an HDF5 file via `model.save()`. This file format is considered legacy. We recommend using instead the native Keras format, e.g. `model.save('my_model.keras')`.\n",
      "  saving_api.save_model(\n"
     ]
    },
    {
     "name": "stdout",
     "output_type": "stream",
     "text": [
      "46/46 [==============================] - ETA: 0s - loss: 0.8823 - accuracy: 0.5190\n",
      "Epoch 2: val_accuracy did not improve from 0.49618\n",
      "46/46 [==============================] - 124s 3s/step - loss: 0.8823 - accuracy: 0.5190 - val_loss: 0.8290 - val_accuracy: 0.4962 - lr: 1.0000e-04\n",
      "Epoch 3/100\n",
      "46/46 [==============================] - ETA: 0s - loss: 0.8863 - accuracy: 0.5163\n",
      "Epoch 3: val_accuracy improved from 0.49618 to 0.50382, saving model to best_model_fold2_tcn_res_enhanced.h5\n",
      "46/46 [==============================] - 124s 3s/step - loss: 0.8863 - accuracy: 0.5163 - val_loss: 0.7831 - val_accuracy: 0.5038 - lr: 1.0000e-04\n",
      "Epoch 4/100\n"
     ]
    },
    {
     "name": "stderr",
     "output_type": "stream",
     "text": [
      "/home/huuquangdang/.local/lib/python3.10/site-packages/keras/src/engine/training.py:3079: UserWarning: You are saving your model as an HDF5 file via `model.save()`. This file format is considered legacy. We recommend using instead the native Keras format, e.g. `model.save('my_model.keras')`.\n",
      "  saving_api.save_model(\n"
     ]
    },
    {
     "name": "stdout",
     "output_type": "stream",
     "text": [
      "46/46 [==============================] - ETA: 0s - loss: 0.8442 - accuracy: 0.5652\n",
      "Epoch 4: val_accuracy did not improve from 0.50382\n",
      "46/46 [==============================] - 124s 3s/step - loss: 0.8442 - accuracy: 0.5652 - val_loss: 0.7749 - val_accuracy: 0.4962 - lr: 1.0000e-04\n",
      "Epoch 5/100\n",
      "46/46 [==============================] - ETA: 0s - loss: 0.8532 - accuracy: 0.5353\n",
      "Epoch 5: val_accuracy improved from 0.50382 to 0.51145, saving model to best_model_fold2_tcn_res_enhanced.h5\n",
      "46/46 [==============================] - 124s 3s/step - loss: 0.8532 - accuracy: 0.5353 - val_loss: 0.7931 - val_accuracy: 0.5115 - lr: 1.0000e-04\n",
      "Epoch 6/100\n"
     ]
    },
    {
     "name": "stderr",
     "output_type": "stream",
     "text": [
      "/home/huuquangdang/.local/lib/python3.10/site-packages/keras/src/engine/training.py:3079: UserWarning: You are saving your model as an HDF5 file via `model.save()`. This file format is considered legacy. We recommend using instead the native Keras format, e.g. `model.save('my_model.keras')`.\n",
      "  saving_api.save_model(\n"
     ]
    },
    {
     "name": "stdout",
     "output_type": "stream",
     "text": [
      "46/46 [==============================] - ETA: 0s - loss: 0.7946 - accuracy: 0.5707\n",
      "Epoch 6: val_accuracy improved from 0.51145 to 0.51908, saving model to best_model_fold2_tcn_res_enhanced.h5\n",
      "46/46 [==============================] - 126s 3s/step - loss: 0.7946 - accuracy: 0.5707 - val_loss: 0.7807 - val_accuracy: 0.5191 - lr: 1.0000e-04\n",
      "Epoch 7/100\n"
     ]
    },
    {
     "name": "stderr",
     "output_type": "stream",
     "text": [
      "/home/huuquangdang/.local/lib/python3.10/site-packages/keras/src/engine/training.py:3079: UserWarning: You are saving your model as an HDF5 file via `model.save()`. This file format is considered legacy. We recommend using instead the native Keras format, e.g. `model.save('my_model.keras')`.\n",
      "  saving_api.save_model(\n"
     ]
    },
    {
     "name": "stdout",
     "output_type": "stream",
     "text": [
      "46/46 [==============================] - ETA: 0s - loss: 0.7944 - accuracy: 0.5707\n",
      "Epoch 7: val_accuracy did not improve from 0.51908\n",
      "46/46 [==============================] - 124s 3s/step - loss: 0.7944 - accuracy: 0.5707 - val_loss: 0.8506 - val_accuracy: 0.5191 - lr: 1.0000e-04\n",
      "Epoch 8/100\n",
      "46/46 [==============================] - ETA: 0s - loss: 0.7102 - accuracy: 0.6440\n",
      "Epoch 8: val_accuracy did not improve from 0.51908\n",
      "46/46 [==============================] - 124s 3s/step - loss: 0.7102 - accuracy: 0.6440 - val_loss: 0.9357 - val_accuracy: 0.5115 - lr: 1.0000e-04\n",
      "Epoch 9/100\n",
      "46/46 [==============================] - ETA: 0s - loss: 0.7529 - accuracy: 0.6101\n",
      "Epoch 9: val_accuracy did not improve from 0.51908\n",
      "\n",
      "Epoch 9: ReduceLROnPlateau reducing learning rate to 4.999999873689376e-05.\n",
      "46/46 [==============================] - 124s 3s/step - loss: 0.7529 - accuracy: 0.6101 - val_loss: 1.0221 - val_accuracy: 0.5191 - lr: 1.0000e-04\n",
      "Epoch 10/100\n",
      "46/46 [==============================] - ETA: 0s - loss: 0.7070 - accuracy: 0.6141\n",
      "Epoch 10: val_accuracy did not improve from 0.51908\n",
      "46/46 [==============================] - 124s 3s/step - loss: 0.7070 - accuracy: 0.6141 - val_loss: 0.9729 - val_accuracy: 0.5191 - lr: 5.0000e-05\n",
      "Epoch 11/100\n",
      "46/46 [==============================] - ETA: 0s - loss: 0.6670 - accuracy: 0.6549\n",
      "Epoch 11: val_accuracy did not improve from 0.51908\n",
      "46/46 [==============================] - 124s 3s/step - loss: 0.6670 - accuracy: 0.6549 - val_loss: 0.9657 - val_accuracy: 0.5115 - lr: 5.0000e-05\n",
      "Epoch 12/100\n",
      "46/46 [==============================] - ETA: 0s - loss: 0.7111 - accuracy: 0.6345\n",
      "Epoch 12: val_accuracy did not improve from 0.51908\n",
      "46/46 [==============================] - 124s 3s/step - loss: 0.7111 - accuracy: 0.6345 - val_loss: 0.9504 - val_accuracy: 0.5191 - lr: 5.0000e-05\n",
      "Epoch 13/100\n",
      "46/46 [==============================] - ETA: 0s - loss: 0.6717 - accuracy: 0.6780\n",
      "Epoch 13: val_accuracy improved from 0.51908 to 0.53435, saving model to best_model_fold2_tcn_res_enhanced.h5\n",
      "46/46 [==============================] - 124s 3s/step - loss: 0.6717 - accuracy: 0.6780 - val_loss: 0.9156 - val_accuracy: 0.5344 - lr: 5.0000e-05\n",
      "Epoch 14/100\n"
     ]
    },
    {
     "name": "stderr",
     "output_type": "stream",
     "text": [
      "/home/huuquangdang/.local/lib/python3.10/site-packages/keras/src/engine/training.py:3079: UserWarning: You are saving your model as an HDF5 file via `model.save()`. This file format is considered legacy. We recommend using instead the native Keras format, e.g. `model.save('my_model.keras')`.\n",
      "  saving_api.save_model(\n"
     ]
    },
    {
     "name": "stdout",
     "output_type": "stream",
     "text": [
      "46/46 [==============================] - ETA: 0s - loss: 0.6320 - accuracy: 0.6780\n",
      "Epoch 14: val_accuracy improved from 0.53435 to 0.54198, saving model to best_model_fold2_tcn_res_enhanced.h5\n",
      "\n",
      "Epoch 14: ReduceLROnPlateau reducing learning rate to 2.499999936844688e-05.\n",
      "46/46 [==============================] - 124s 3s/step - loss: 0.6320 - accuracy: 0.6780 - val_loss: 0.9107 - val_accuracy: 0.5420 - lr: 5.0000e-05\n",
      "Epoch 15/100\n"
     ]
    },
    {
     "name": "stderr",
     "output_type": "stream",
     "text": [
      "/home/huuquangdang/.local/lib/python3.10/site-packages/keras/src/engine/training.py:3079: UserWarning: You are saving your model as an HDF5 file via `model.save()`. This file format is considered legacy. We recommend using instead the native Keras format, e.g. `model.save('my_model.keras')`.\n",
      "  saving_api.save_model(\n"
     ]
    },
    {
     "name": "stdout",
     "output_type": "stream",
     "text": [
      "46/46 [==============================] - ETA: 0s - loss: 0.6585 - accuracy: 0.6753\n",
      "Epoch 15: val_accuracy improved from 0.54198 to 0.54962, saving model to best_model_fold2_tcn_res_enhanced.h5\n",
      "46/46 [==============================] - 124s 3s/step - loss: 0.6585 - accuracy: 0.6753 - val_loss: 0.9292 - val_accuracy: 0.5496 - lr: 2.5000e-05\n",
      "Epoch 16/100\n"
     ]
    },
    {
     "name": "stderr",
     "output_type": "stream",
     "text": [
      "/home/huuquangdang/.local/lib/python3.10/site-packages/keras/src/engine/training.py:3079: UserWarning: You are saving your model as an HDF5 file via `model.save()`. This file format is considered legacy. We recommend using instead the native Keras format, e.g. `model.save('my_model.keras')`.\n",
      "  saving_api.save_model(\n"
     ]
    },
    {
     "name": "stdout",
     "output_type": "stream",
     "text": [
      "46/46 [==============================] - ETA: 0s - loss: 0.6028 - accuracy: 0.6726\n",
      "Epoch 16: val_accuracy did not improve from 0.54962\n",
      "46/46 [==============================] - 125s 3s/step - loss: 0.6028 - accuracy: 0.6726 - val_loss: 0.9037 - val_accuracy: 0.5496 - lr: 2.5000e-05\n",
      "Epoch 17/100\n",
      "46/46 [==============================] - ETA: 0s - loss: 0.6716 - accuracy: 0.6562\n",
      "Epoch 17: val_accuracy improved from 0.54962 to 0.58779, saving model to best_model_fold2_tcn_res_enhanced.h5\n",
      "46/46 [==============================] - 124s 3s/step - loss: 0.6716 - accuracy: 0.6562 - val_loss: 0.8460 - val_accuracy: 0.5878 - lr: 2.5000e-05\n",
      "Epoch 18/100\n"
     ]
    },
    {
     "name": "stderr",
     "output_type": "stream",
     "text": [
      "/home/huuquangdang/.local/lib/python3.10/site-packages/keras/src/engine/training.py:3079: UserWarning: You are saving your model as an HDF5 file via `model.save()`. This file format is considered legacy. We recommend using instead the native Keras format, e.g. `model.save('my_model.keras')`.\n",
      "  saving_api.save_model(\n"
     ]
    },
    {
     "name": "stdout",
     "output_type": "stream",
     "text": [
      "46/46 [==============================] - ETA: 0s - loss: 0.6237 - accuracy: 0.6834\n",
      "Epoch 18: val_accuracy improved from 0.58779 to 0.59542, saving model to best_model_fold2_tcn_res_enhanced.h5\n",
      "46/46 [==============================] - 124s 3s/step - loss: 0.6237 - accuracy: 0.6834 - val_loss: 0.8273 - val_accuracy: 0.5954 - lr: 2.5000e-05\n",
      "Epoch 19/100\n"
     ]
    },
    {
     "name": "stderr",
     "output_type": "stream",
     "text": [
      "/home/huuquangdang/.local/lib/python3.10/site-packages/keras/src/engine/training.py:3079: UserWarning: You are saving your model as an HDF5 file via `model.save()`. This file format is considered legacy. We recommend using instead the native Keras format, e.g. `model.save('my_model.keras')`.\n",
      "  saving_api.save_model(\n"
     ]
    },
    {
     "name": "stdout",
     "output_type": "stream",
     "text": [
      "46/46 [==============================] - ETA: 0s - loss: 0.6007 - accuracy: 0.6943\n",
      "Epoch 19: val_accuracy improved from 0.59542 to 0.60305, saving model to best_model_fold2_tcn_res_enhanced.h5\n",
      "\n",
      "Epoch 19: ReduceLROnPlateau reducing learning rate to 1.249999968422344e-05.\n",
      "46/46 [==============================] - 124s 3s/step - loss: 0.6007 - accuracy: 0.6943 - val_loss: 0.7839 - val_accuracy: 0.6031 - lr: 2.5000e-05\n",
      "Epoch 20/100\n"
     ]
    },
    {
     "name": "stderr",
     "output_type": "stream",
     "text": [
      "/home/huuquangdang/.local/lib/python3.10/site-packages/keras/src/engine/training.py:3079: UserWarning: You are saving your model as an HDF5 file via `model.save()`. This file format is considered legacy. We recommend using instead the native Keras format, e.g. `model.save('my_model.keras')`.\n",
      "  saving_api.save_model(\n"
     ]
    },
    {
     "name": "stdout",
     "output_type": "stream",
     "text": [
      "46/46 [==============================] - ETA: 0s - loss: 0.6014 - accuracy: 0.6916\n",
      "Epoch 20: val_accuracy improved from 0.60305 to 0.63359, saving model to best_model_fold2_tcn_res_enhanced.h5\n",
      "46/46 [==============================] - 125s 3s/step - loss: 0.6014 - accuracy: 0.6916 - val_loss: 0.7381 - val_accuracy: 0.6336 - lr: 1.2500e-05\n",
      "Epoch 21/100\n"
     ]
    },
    {
     "name": "stderr",
     "output_type": "stream",
     "text": [
      "/home/huuquangdang/.local/lib/python3.10/site-packages/keras/src/engine/training.py:3079: UserWarning: You are saving your model as an HDF5 file via `model.save()`. This file format is considered legacy. We recommend using instead the native Keras format, e.g. `model.save('my_model.keras')`.\n",
      "  saving_api.save_model(\n"
     ]
    },
    {
     "name": "stdout",
     "output_type": "stream",
     "text": [
      "46/46 [==============================] - ETA: 0s - loss: 0.5944 - accuracy: 0.6875\n",
      "Epoch 21: val_accuracy improved from 0.63359 to 0.64885, saving model to best_model_fold2_tcn_res_enhanced.h5\n",
      "46/46 [==============================] - 124s 3s/step - loss: 0.5944 - accuracy: 0.6875 - val_loss: 0.7084 - val_accuracy: 0.6489 - lr: 1.2500e-05\n",
      "Epoch 22/100\n"
     ]
    },
    {
     "name": "stderr",
     "output_type": "stream",
     "text": [
      "/home/huuquangdang/.local/lib/python3.10/site-packages/keras/src/engine/training.py:3079: UserWarning: You are saving your model as an HDF5 file via `model.save()`. This file format is considered legacy. We recommend using instead the native Keras format, e.g. `model.save('my_model.keras')`.\n",
      "  saving_api.save_model(\n"
     ]
    },
    {
     "name": "stdout",
     "output_type": "stream",
     "text": [
      "46/46 [==============================] - ETA: 0s - loss: 0.5649 - accuracy: 0.7283\n",
      "Epoch 22: val_accuracy improved from 0.64885 to 0.69466, saving model to best_model_fold2_tcn_res_enhanced.h5\n",
      "46/46 [==============================] - 126s 3s/step - loss: 0.5649 - accuracy: 0.7283 - val_loss: 0.6664 - val_accuracy: 0.6947 - lr: 1.2500e-05\n",
      "Epoch 23/100\n"
     ]
    },
    {
     "name": "stderr",
     "output_type": "stream",
     "text": [
      "/home/huuquangdang/.local/lib/python3.10/site-packages/keras/src/engine/training.py:3079: UserWarning: You are saving your model as an HDF5 file via `model.save()`. This file format is considered legacy. We recommend using instead the native Keras format, e.g. `model.save('my_model.keras')`.\n",
      "  saving_api.save_model(\n"
     ]
    },
    {
     "name": "stdout",
     "output_type": "stream",
     "text": [
      "46/46 [==============================] - ETA: 0s - loss: 0.6283 - accuracy: 0.6916\n",
      "Epoch 23: val_accuracy improved from 0.69466 to 0.70229, saving model to best_model_fold2_tcn_res_enhanced.h5\n",
      "46/46 [==============================] - 125s 3s/step - loss: 0.6283 - accuracy: 0.6916 - val_loss: 0.6429 - val_accuracy: 0.7023 - lr: 1.2500e-05\n",
      "Epoch 24/100\n"
     ]
    },
    {
     "name": "stderr",
     "output_type": "stream",
     "text": [
      "/home/huuquangdang/.local/lib/python3.10/site-packages/keras/src/engine/training.py:3079: UserWarning: You are saving your model as an HDF5 file via `model.save()`. This file format is considered legacy. We recommend using instead the native Keras format, e.g. `model.save('my_model.keras')`.\n",
      "  saving_api.save_model(\n"
     ]
    },
    {
     "name": "stdout",
     "output_type": "stream",
     "text": [
      "46/46 [==============================] - ETA: 0s - loss: 0.5682 - accuracy: 0.7147\n",
      "Epoch 24: val_accuracy improved from 0.70229 to 0.72519, saving model to best_model_fold2_tcn_res_enhanced.h5\n",
      "46/46 [==============================] - 127s 3s/step - loss: 0.5682 - accuracy: 0.7147 - val_loss: 0.6106 - val_accuracy: 0.7252 - lr: 1.2500e-05\n",
      "Epoch 25/100\n"
     ]
    },
    {
     "name": "stderr",
     "output_type": "stream",
     "text": [
      "/home/huuquangdang/.local/lib/python3.10/site-packages/keras/src/engine/training.py:3079: UserWarning: You are saving your model as an HDF5 file via `model.save()`. This file format is considered legacy. We recommend using instead the native Keras format, e.g. `model.save('my_model.keras')`.\n",
      "  saving_api.save_model(\n"
     ]
    },
    {
     "name": "stdout",
     "output_type": "stream",
     "text": [
      "46/46 [==============================] - ETA: 0s - loss: 0.6120 - accuracy: 0.6875\n",
      "Epoch 25: val_accuracy improved from 0.72519 to 0.73282, saving model to best_model_fold2_tcn_res_enhanced.h5\n",
      "46/46 [==============================] - 125s 3s/step - loss: 0.6120 - accuracy: 0.6875 - val_loss: 0.5970 - val_accuracy: 0.7328 - lr: 1.2500e-05\n",
      "Epoch 26/100\n"
     ]
    },
    {
     "name": "stderr",
     "output_type": "stream",
     "text": [
      "/home/huuquangdang/.local/lib/python3.10/site-packages/keras/src/engine/training.py:3079: UserWarning: You are saving your model as an HDF5 file via `model.save()`. This file format is considered legacy. We recommend using instead the native Keras format, e.g. `model.save('my_model.keras')`.\n",
      "  saving_api.save_model(\n"
     ]
    },
    {
     "name": "stdout",
     "output_type": "stream",
     "text": [
      "46/46 [==============================] - ETA: 0s - loss: 0.6064 - accuracy: 0.7011\n",
      "Epoch 26: val_accuracy did not improve from 0.73282\n",
      "46/46 [==============================] - 125s 3s/step - loss: 0.6064 - accuracy: 0.7011 - val_loss: 0.5746 - val_accuracy: 0.7328 - lr: 1.2500e-05\n",
      "Epoch 27/100\n",
      "46/46 [==============================] - ETA: 0s - loss: 0.5842 - accuracy: 0.7079\n",
      "Epoch 27: val_accuracy did not improve from 0.73282\n",
      "46/46 [==============================] - 125s 3s/step - loss: 0.5842 - accuracy: 0.7079 - val_loss: 0.5504 - val_accuracy: 0.7328 - lr: 1.2500e-05\n",
      "Epoch 28/100\n",
      "46/46 [==============================] - ETA: 0s - loss: 0.6018 - accuracy: 0.7215\n",
      "Epoch 28: val_accuracy improved from 0.73282 to 0.74046, saving model to best_model_fold2_tcn_res_enhanced.h5\n",
      "46/46 [==============================] - 125s 3s/step - loss: 0.6018 - accuracy: 0.7215 - val_loss: 0.5424 - val_accuracy: 0.7405 - lr: 1.2500e-05\n",
      "Epoch 29/100\n"
     ]
    },
    {
     "name": "stderr",
     "output_type": "stream",
     "text": [
      "/home/huuquangdang/.local/lib/python3.10/site-packages/keras/src/engine/training.py:3079: UserWarning: You are saving your model as an HDF5 file via `model.save()`. This file format is considered legacy. We recommend using instead the native Keras format, e.g. `model.save('my_model.keras')`.\n",
      "  saving_api.save_model(\n"
     ]
    },
    {
     "name": "stdout",
     "output_type": "stream",
     "text": [
      "46/46 [==============================] - ETA: 0s - loss: 0.5784 - accuracy: 0.7228\n",
      "Epoch 29: val_accuracy improved from 0.74046 to 0.75573, saving model to best_model_fold2_tcn_res_enhanced.h5\n",
      "46/46 [==============================] - 124s 3s/step - loss: 0.5784 - accuracy: 0.7228 - val_loss: 0.5236 - val_accuracy: 0.7557 - lr: 1.2500e-05\n",
      "Epoch 30/100\n"
     ]
    },
    {
     "name": "stderr",
     "output_type": "stream",
     "text": [
      "/home/huuquangdang/.local/lib/python3.10/site-packages/keras/src/engine/training.py:3079: UserWarning: You are saving your model as an HDF5 file via `model.save()`. This file format is considered legacy. We recommend using instead the native Keras format, e.g. `model.save('my_model.keras')`.\n",
      "  saving_api.save_model(\n"
     ]
    },
    {
     "name": "stdout",
     "output_type": "stream",
     "text": [
      "46/46 [==============================] - ETA: 0s - loss: 0.5689 - accuracy: 0.7215\n",
      "Epoch 30: val_accuracy improved from 0.75573 to 0.77863, saving model to best_model_fold2_tcn_res_enhanced.h5\n",
      "46/46 [==============================] - 124s 3s/step - loss: 0.5689 - accuracy: 0.7215 - val_loss: 0.5069 - val_accuracy: 0.7786 - lr: 1.2500e-05\n",
      "Epoch 31/100\n"
     ]
    },
    {
     "name": "stderr",
     "output_type": "stream",
     "text": [
      "/home/huuquangdang/.local/lib/python3.10/site-packages/keras/src/engine/training.py:3079: UserWarning: You are saving your model as an HDF5 file via `model.save()`. This file format is considered legacy. We recommend using instead the native Keras format, e.g. `model.save('my_model.keras')`.\n",
      "  saving_api.save_model(\n"
     ]
    },
    {
     "name": "stdout",
     "output_type": "stream",
     "text": [
      "46/46 [==============================] - ETA: 0s - loss: 0.5741 - accuracy: 0.7228\n",
      "Epoch 31: val_accuracy did not improve from 0.77863\n",
      "46/46 [==============================] - 124s 3s/step - loss: 0.5741 - accuracy: 0.7228 - val_loss: 0.4929 - val_accuracy: 0.7786 - lr: 1.2500e-05\n",
      "Epoch 32/100\n",
      "46/46 [==============================] - ETA: 0s - loss: 0.5923 - accuracy: 0.7092\n",
      "Epoch 32: val_accuracy did not improve from 0.77863\n",
      "46/46 [==============================] - 124s 3s/step - loss: 0.5923 - accuracy: 0.7092 - val_loss: 0.4742 - val_accuracy: 0.7786 - lr: 1.2500e-05\n",
      "Epoch 33/100\n",
      "46/46 [==============================] - ETA: 0s - loss: 0.5231 - accuracy: 0.7337\n",
      "Epoch 33: val_accuracy did not improve from 0.77863\n",
      "46/46 [==============================] - 124s 3s/step - loss: 0.5231 - accuracy: 0.7337 - val_loss: 0.4666 - val_accuracy: 0.7710 - lr: 1.2500e-05\n",
      "Epoch 34/100\n",
      "46/46 [==============================] - ETA: 0s - loss: 0.5592 - accuracy: 0.7323\n",
      "Epoch 34: val_accuracy did not improve from 0.77863\n",
      "46/46 [==============================] - 125s 3s/step - loss: 0.5592 - accuracy: 0.7323 - val_loss: 0.4596 - val_accuracy: 0.7710 - lr: 1.2500e-05\n",
      "Epoch 35/100\n",
      "46/46 [==============================] - ETA: 0s - loss: 0.5549 - accuracy: 0.7337\n",
      "Epoch 35: val_accuracy did not improve from 0.77863\n",
      "46/46 [==============================] - 124s 3s/step - loss: 0.5549 - accuracy: 0.7337 - val_loss: 0.4554 - val_accuracy: 0.7786 - lr: 1.2500e-05\n",
      "Epoch 36/100\n",
      "46/46 [==============================] - ETA: 0s - loss: 0.5600 - accuracy: 0.7106\n",
      "Epoch 36: val_accuracy did not improve from 0.77863\n",
      "46/46 [==============================] - 124s 3s/step - loss: 0.5600 - accuracy: 0.7106 - val_loss: 0.4546 - val_accuracy: 0.7786 - lr: 1.2500e-05\n",
      "Epoch 37/100\n",
      "46/46 [==============================] - ETA: 0s - loss: 0.5445 - accuracy: 0.7405\n",
      "Epoch 37: val_accuracy did not improve from 0.77863\n",
      "46/46 [==============================] - 124s 3s/step - loss: 0.5445 - accuracy: 0.7405 - val_loss: 0.4479 - val_accuracy: 0.7710 - lr: 1.2500e-05\n",
      "Epoch 38/100\n",
      "46/46 [==============================] - ETA: 0s - loss: 0.5294 - accuracy: 0.7609\n",
      "Epoch 38: val_accuracy did not improve from 0.77863\n",
      "46/46 [==============================] - 126s 3s/step - loss: 0.5294 - accuracy: 0.7609 - val_loss: 0.4444 - val_accuracy: 0.7710 - lr: 1.2500e-05\n",
      "Epoch 39/100\n",
      "46/46 [==============================] - ETA: 0s - loss: 0.5405 - accuracy: 0.7500\n",
      "Epoch 39: val_accuracy did not improve from 0.77863\n",
      "46/46 [==============================] - 124s 3s/step - loss: 0.5405 - accuracy: 0.7500 - val_loss: 0.4405 - val_accuracy: 0.7786 - lr: 1.2500e-05\n",
      "Epoch 40/100\n",
      "46/46 [==============================] - ETA: 0s - loss: 0.5558 - accuracy: 0.7296\n",
      "Epoch 40: val_accuracy improved from 0.77863 to 0.78626, saving model to best_model_fold2_tcn_res_enhanced.h5\n",
      "46/46 [==============================] - 124s 3s/step - loss: 0.5558 - accuracy: 0.7296 - val_loss: 0.4360 - val_accuracy: 0.7863 - lr: 1.2500e-05\n",
      "Epoch 41/100\n"
     ]
    },
    {
     "name": "stderr",
     "output_type": "stream",
     "text": [
      "/home/huuquangdang/.local/lib/python3.10/site-packages/keras/src/engine/training.py:3079: UserWarning: You are saving your model as an HDF5 file via `model.save()`. This file format is considered legacy. We recommend using instead the native Keras format, e.g. `model.save('my_model.keras')`.\n",
      "  saving_api.save_model(\n"
     ]
    },
    {
     "name": "stdout",
     "output_type": "stream",
     "text": [
      "46/46 [==============================] - ETA: 0s - loss: 0.5310 - accuracy: 0.7296\n",
      "Epoch 41: val_accuracy did not improve from 0.78626\n",
      "46/46 [==============================] - 124s 3s/step - loss: 0.5310 - accuracy: 0.7296 - val_loss: 0.4308 - val_accuracy: 0.7863 - lr: 1.2500e-05\n",
      "Epoch 42/100\n",
      "46/46 [==============================] - ETA: 0s - loss: 0.5203 - accuracy: 0.7432\n",
      "Epoch 42: val_accuracy improved from 0.78626 to 0.79389, saving model to best_model_fold2_tcn_res_enhanced.h5\n",
      "46/46 [==============================] - 124s 3s/step - loss: 0.5203 - accuracy: 0.7432 - val_loss: 0.4281 - val_accuracy: 0.7939 - lr: 1.2500e-05\n",
      "Epoch 43/100\n"
     ]
    },
    {
     "name": "stderr",
     "output_type": "stream",
     "text": [
      "/home/huuquangdang/.local/lib/python3.10/site-packages/keras/src/engine/training.py:3079: UserWarning: You are saving your model as an HDF5 file via `model.save()`. This file format is considered legacy. We recommend using instead the native Keras format, e.g. `model.save('my_model.keras')`.\n",
      "  saving_api.save_model(\n"
     ]
    },
    {
     "name": "stdout",
     "output_type": "stream",
     "text": [
      "46/46 [==============================] - ETA: 0s - loss: 0.5115 - accuracy: 0.7609\n",
      "Epoch 43: val_accuracy did not improve from 0.79389\n",
      "46/46 [==============================] - 124s 3s/step - loss: 0.5115 - accuracy: 0.7609 - val_loss: 0.4268 - val_accuracy: 0.7786 - lr: 1.2500e-05\n",
      "Epoch 44/100\n",
      "46/46 [==============================] - ETA: 0s - loss: 0.4951 - accuracy: 0.7649\n",
      "Epoch 44: val_accuracy did not improve from 0.79389\n",
      "46/46 [==============================] - 124s 3s/step - loss: 0.4951 - accuracy: 0.7649 - val_loss: 0.4198 - val_accuracy: 0.7786 - lr: 1.2500e-05\n",
      "Epoch 45/100\n",
      "46/46 [==============================] - ETA: 0s - loss: 0.5067 - accuracy: 0.7541\n",
      "Epoch 45: val_accuracy did not improve from 0.79389\n",
      "46/46 [==============================] - 124s 3s/step - loss: 0.5067 - accuracy: 0.7541 - val_loss: 0.4105 - val_accuracy: 0.7710 - lr: 1.2500e-05\n",
      "Epoch 46/100\n",
      "46/46 [==============================] - ETA: 0s - loss: 0.5024 - accuracy: 0.7609\n",
      "Epoch 46: val_accuracy did not improve from 0.79389\n",
      "46/46 [==============================] - 124s 3s/step - loss: 0.5024 - accuracy: 0.7609 - val_loss: 0.4056 - val_accuracy: 0.7710 - lr: 1.2500e-05\n",
      "Epoch 47/100\n",
      "46/46 [==============================] - ETA: 0s - loss: 0.4962 - accuracy: 0.7663\n",
      "Epoch 47: val_accuracy did not improve from 0.79389\n",
      "46/46 [==============================] - 124s 3s/step - loss: 0.4962 - accuracy: 0.7663 - val_loss: 0.4016 - val_accuracy: 0.7710 - lr: 1.2500e-05\n",
      "Epoch 48/100\n",
      "46/46 [==============================] - ETA: 0s - loss: 0.5307 - accuracy: 0.7446\n",
      "Epoch 48: val_accuracy did not improve from 0.79389\n",
      "46/46 [==============================] - 124s 3s/step - loss: 0.5307 - accuracy: 0.7446 - val_loss: 0.4010 - val_accuracy: 0.7710 - lr: 1.2500e-05\n",
      "Epoch 49/100\n",
      "46/46 [==============================] - ETA: 0s - loss: 0.5142 - accuracy: 0.7622\n",
      "Epoch 49: val_accuracy did not improve from 0.79389\n",
      "46/46 [==============================] - 124s 3s/step - loss: 0.5142 - accuracy: 0.7622 - val_loss: 0.3984 - val_accuracy: 0.7710 - lr: 1.2500e-05\n",
      "Epoch 50/100\n",
      "46/46 [==============================] - ETA: 0s - loss: 0.5038 - accuracy: 0.7554\n",
      "Epoch 50: val_accuracy did not improve from 0.79389\n",
      "46/46 [==============================] - 124s 3s/step - loss: 0.5038 - accuracy: 0.7554 - val_loss: 0.3944 - val_accuracy: 0.7710 - lr: 1.2500e-05\n",
      "Epoch 51/100\n",
      "46/46 [==============================] - ETA: 0s - loss: 0.4826 - accuracy: 0.7622\n",
      "Epoch 51: val_accuracy did not improve from 0.79389\n",
      "46/46 [==============================] - 125s 3s/step - loss: 0.4826 - accuracy: 0.7622 - val_loss: 0.3922 - val_accuracy: 0.7710 - lr: 1.2500e-05\n",
      "Epoch 52/100\n",
      "46/46 [==============================] - ETA: 0s - loss: 0.5192 - accuracy: 0.7405\n",
      "Epoch 52: val_accuracy did not improve from 0.79389\n",
      "Restoring model weights from the end of the best epoch: 42.\n",
      "46/46 [==============================] - 124s 3s/step - loss: 0.5192 - accuracy: 0.7405 - val_loss: 0.3916 - val_accuracy: 0.7710 - lr: 1.2500e-05\n",
      "Epoch 52: early stopping\n",
      "14/14 [==============================] - 14s 890ms/step\n",
      "\n",
      "✅ Fold 2 Results (Enhanced TCN_Residual):\n",
      "   Accuracy:  0.9770\n",
      "   Precision: 0.9558\n",
      "   Recall:    1.0000\n",
      "   F1 Score:  0.9774\n",
      "   AUC:       0.8637\n",
      "\n",
      "============================================================\n",
      "📊 Fold 3/5 - Enhanced TCN_Residual\n",
      "============================================================\n",
      "\n",
      "📈 Enhanced Model Architecture:\n",
      "   - Model: TCN (6 blocks, 256+256+256+256+128+128 filters)\n",
      "   - Total params: 5,955,145\n",
      "   - Trainable params: 5,219,269\n",
      "   - Sequence length: 15\n",
      "   - Batch size: 16\n",
      "   - Initial learning rate: 0.0001\n",
      "Epoch 1/100\n",
      "46/46 [==============================] - ETA: 0s - loss: 0.9197 - accuracy: 0.5122\n",
      "Epoch 1: val_accuracy improved from -inf to 0.50382, saving model to best_model_fold3_tcn_res_enhanced.h5\n",
      "46/46 [==============================] - 129s 3s/step - loss: 0.9197 - accuracy: 0.5122 - val_loss: 0.7193 - val_accuracy: 0.5038 - lr: 1.0000e-04\n",
      "Epoch 2/100\n"
     ]
    },
    {
     "name": "stderr",
     "output_type": "stream",
     "text": [
      "/home/huuquangdang/.local/lib/python3.10/site-packages/keras/src/engine/training.py:3079: UserWarning: You are saving your model as an HDF5 file via `model.save()`. This file format is considered legacy. We recommend using instead the native Keras format, e.g. `model.save('my_model.keras')`.\n",
      "  saving_api.save_model(\n"
     ]
    },
    {
     "name": "stdout",
     "output_type": "stream",
     "text": [
      "46/46 [==============================] - ETA: 0s - loss: 0.8768 - accuracy: 0.5109\n",
      "Epoch 2: val_accuracy did not improve from 0.50382\n",
      "46/46 [==============================] - 125s 3s/step - loss: 0.8768 - accuracy: 0.5109 - val_loss: 0.6954 - val_accuracy: 0.4809 - lr: 1.0000e-04\n",
      "Epoch 3/100\n",
      "46/46 [==============================] - ETA: 0s - loss: 0.8792 - accuracy: 0.5082\n",
      "Epoch 3: val_accuracy improved from 0.50382 to 0.52672, saving model to best_model_fold3_tcn_res_enhanced.h5\n",
      "46/46 [==============================] - 124s 3s/step - loss: 0.8792 - accuracy: 0.5082 - val_loss: 0.6966 - val_accuracy: 0.5267 - lr: 1.0000e-04\n",
      "Epoch 4/100\n"
     ]
    },
    {
     "name": "stderr",
     "output_type": "stream",
     "text": [
      "/home/huuquangdang/.local/lib/python3.10/site-packages/keras/src/engine/training.py:3079: UserWarning: You are saving your model as an HDF5 file via `model.save()`. This file format is considered legacy. We recommend using instead the native Keras format, e.g. `model.save('my_model.keras')`.\n",
      "  saving_api.save_model(\n"
     ]
    },
    {
     "name": "stdout",
     "output_type": "stream",
     "text": [
      "46/46 [==============================] - ETA: 0s - loss: 0.8407 - accuracy: 0.5476\n",
      "Epoch 4: val_accuracy improved from 0.52672 to 0.53435, saving model to best_model_fold3_tcn_res_enhanced.h5\n",
      "46/46 [==============================] - 124s 3s/step - loss: 0.8407 - accuracy: 0.5476 - val_loss: 0.6982 - val_accuracy: 0.5344 - lr: 1.0000e-04\n",
      "Epoch 5/100\n"
     ]
    },
    {
     "name": "stderr",
     "output_type": "stream",
     "text": [
      "/home/huuquangdang/.local/lib/python3.10/site-packages/keras/src/engine/training.py:3079: UserWarning: You are saving your model as an HDF5 file via `model.save()`. This file format is considered legacy. We recommend using instead the native Keras format, e.g. `model.save('my_model.keras')`.\n",
      "  saving_api.save_model(\n"
     ]
    },
    {
     "name": "stdout",
     "output_type": "stream",
     "text": [
      "46/46 [==============================] - ETA: 0s - loss: 0.8264 - accuracy: 0.5367\n",
      "Epoch 5: val_accuracy did not improve from 0.53435\n",
      "46/46 [==============================] - 124s 3s/step - loss: 0.8264 - accuracy: 0.5367 - val_loss: 0.7045 - val_accuracy: 0.5344 - lr: 1.0000e-04\n",
      "Epoch 6/100\n",
      "46/46 [==============================] - ETA: 0s - loss: 0.8487 - accuracy: 0.5353\n",
      "Epoch 6: val_accuracy did not improve from 0.53435\n",
      "46/46 [==============================] - 124s 3s/step - loss: 0.8487 - accuracy: 0.5353 - val_loss: 0.7208 - val_accuracy: 0.5267 - lr: 1.0000e-04\n",
      "Epoch 7/100\n",
      "46/46 [==============================] - ETA: 0s - loss: 0.8464 - accuracy: 0.5312\n",
      "Epoch 7: val_accuracy did not improve from 0.53435\n",
      "\n",
      "Epoch 7: ReduceLROnPlateau reducing learning rate to 4.999999873689376e-05.\n",
      "46/46 [==============================] - 124s 3s/step - loss: 0.8464 - accuracy: 0.5312 - val_loss: 0.7337 - val_accuracy: 0.5344 - lr: 1.0000e-04\n",
      "Epoch 8/100\n",
      "46/46 [==============================] - ETA: 0s - loss: 0.7612 - accuracy: 0.5720\n",
      "Epoch 8: val_accuracy did not improve from 0.53435\n",
      "46/46 [==============================] - 124s 3s/step - loss: 0.7612 - accuracy: 0.5720 - val_loss: 0.7472 - val_accuracy: 0.5267 - lr: 5.0000e-05\n",
      "Epoch 9/100\n",
      "46/46 [==============================] - ETA: 0s - loss: 0.8047 - accuracy: 0.5761\n",
      "Epoch 9: val_accuracy improved from 0.53435 to 0.54198, saving model to best_model_fold3_tcn_res_enhanced.h5\n",
      "46/46 [==============================] - 124s 3s/step - loss: 0.8047 - accuracy: 0.5761 - val_loss: 0.7585 - val_accuracy: 0.5420 - lr: 5.0000e-05\n",
      "Epoch 10/100\n"
     ]
    },
    {
     "name": "stderr",
     "output_type": "stream",
     "text": [
      "/home/huuquangdang/.local/lib/python3.10/site-packages/keras/src/engine/training.py:3079: UserWarning: You are saving your model as an HDF5 file via `model.save()`. This file format is considered legacy. We recommend using instead the native Keras format, e.g. `model.save('my_model.keras')`.\n",
      "  saving_api.save_model(\n"
     ]
    },
    {
     "name": "stdout",
     "output_type": "stream",
     "text": [
      "46/46 [==============================] - ETA: 0s - loss: 0.7691 - accuracy: 0.5707\n",
      "Epoch 10: val_accuracy did not improve from 0.54198\n",
      "46/46 [==============================] - 124s 3s/step - loss: 0.7691 - accuracy: 0.5707 - val_loss: 0.7582 - val_accuracy: 0.5344 - lr: 5.0000e-05\n",
      "Epoch 11/100\n",
      "46/46 [==============================] - ETA: 0s - loss: 0.7676 - accuracy: 0.6114\n",
      "Epoch 11: val_accuracy improved from 0.54198 to 0.54962, saving model to best_model_fold3_tcn_res_enhanced.h5\n",
      "46/46 [==============================] - 124s 3s/step - loss: 0.7676 - accuracy: 0.6114 - val_loss: 0.7527 - val_accuracy: 0.5496 - lr: 5.0000e-05\n",
      "Epoch 12/100\n"
     ]
    },
    {
     "name": "stderr",
     "output_type": "stream",
     "text": [
      "/home/huuquangdang/.local/lib/python3.10/site-packages/keras/src/engine/training.py:3079: UserWarning: You are saving your model as an HDF5 file via `model.save()`. This file format is considered legacy. We recommend using instead the native Keras format, e.g. `model.save('my_model.keras')`.\n",
      "  saving_api.save_model(\n"
     ]
    },
    {
     "name": "stdout",
     "output_type": "stream",
     "text": [
      "46/46 [==============================] - ETA: 0s - loss: 0.7683 - accuracy: 0.5720\n",
      "Epoch 12: val_accuracy improved from 0.54962 to 0.55725, saving model to best_model_fold3_tcn_res_enhanced.h5\n",
      "\n",
      "Epoch 12: ReduceLROnPlateau reducing learning rate to 2.499999936844688e-05.\n",
      "46/46 [==============================] - 124s 3s/step - loss: 0.7683 - accuracy: 0.5720 - val_loss: 0.7503 - val_accuracy: 0.5573 - lr: 5.0000e-05\n",
      "Epoch 13/100\n"
     ]
    },
    {
     "name": "stderr",
     "output_type": "stream",
     "text": [
      "/home/huuquangdang/.local/lib/python3.10/site-packages/keras/src/engine/training.py:3079: UserWarning: You are saving your model as an HDF5 file via `model.save()`. This file format is considered legacy. We recommend using instead the native Keras format, e.g. `model.save('my_model.keras')`.\n",
      "  saving_api.save_model(\n"
     ]
    },
    {
     "name": "stdout",
     "output_type": "stream",
     "text": [
      "46/46 [==============================] - ETA: 0s - loss: 0.7042 - accuracy: 0.6291\n",
      "Epoch 13: val_accuracy improved from 0.55725 to 0.56489, saving model to best_model_fold3_tcn_res_enhanced.h5\n",
      "46/46 [==============================] - 125s 3s/step - loss: 0.7042 - accuracy: 0.6291 - val_loss: 0.7289 - val_accuracy: 0.5649 - lr: 2.5000e-05\n",
      "Epoch 14/100\n"
     ]
    },
    {
     "name": "stderr",
     "output_type": "stream",
     "text": [
      "/home/huuquangdang/.local/lib/python3.10/site-packages/keras/src/engine/training.py:3079: UserWarning: You are saving your model as an HDF5 file via `model.save()`. This file format is considered legacy. We recommend using instead the native Keras format, e.g. `model.save('my_model.keras')`.\n",
      "  saving_api.save_model(\n"
     ]
    },
    {
     "name": "stdout",
     "output_type": "stream",
     "text": [
      "46/46 [==============================] - ETA: 0s - loss: 0.6992 - accuracy: 0.6264\n",
      "Epoch 14: val_accuracy improved from 0.56489 to 0.58779, saving model to best_model_fold3_tcn_res_enhanced.h5\n",
      "46/46 [==============================] - 124s 3s/step - loss: 0.6992 - accuracy: 0.6264 - val_loss: 0.7008 - val_accuracy: 0.5878 - lr: 2.5000e-05\n",
      "Epoch 15/100\n"
     ]
    },
    {
     "name": "stderr",
     "output_type": "stream",
     "text": [
      "/home/huuquangdang/.local/lib/python3.10/site-packages/keras/src/engine/training.py:3079: UserWarning: You are saving your model as an HDF5 file via `model.save()`. This file format is considered legacy. We recommend using instead the native Keras format, e.g. `model.save('my_model.keras')`.\n",
      "  saving_api.save_model(\n"
     ]
    },
    {
     "name": "stdout",
     "output_type": "stream",
     "text": [
      "46/46 [==============================] - ETA: 0s - loss: 0.7448 - accuracy: 0.5910\n",
      "Epoch 15: val_accuracy did not improve from 0.58779\n",
      "46/46 [==============================] - 124s 3s/step - loss: 0.7448 - accuracy: 0.5910 - val_loss: 0.6757 - val_accuracy: 0.5802 - lr: 2.5000e-05\n",
      "Epoch 16/100\n",
      "46/46 [==============================] - ETA: 0s - loss: 0.6909 - accuracy: 0.6413\n",
      "Epoch 16: val_accuracy improved from 0.58779 to 0.59542, saving model to best_model_fold3_tcn_res_enhanced.h5\n",
      "46/46 [==============================] - 124s 3s/step - loss: 0.6909 - accuracy: 0.6413 - val_loss: 0.6691 - val_accuracy: 0.5954 - lr: 2.5000e-05\n",
      "Epoch 17/100\n"
     ]
    },
    {
     "name": "stderr",
     "output_type": "stream",
     "text": [
      "/home/huuquangdang/.local/lib/python3.10/site-packages/keras/src/engine/training.py:3079: UserWarning: You are saving your model as an HDF5 file via `model.save()`. This file format is considered legacy. We recommend using instead the native Keras format, e.g. `model.save('my_model.keras')`.\n",
      "  saving_api.save_model(\n"
     ]
    },
    {
     "name": "stdout",
     "output_type": "stream",
     "text": [
      "46/46 [==============================] - ETA: 0s - loss: 0.7233 - accuracy: 0.6114\n",
      "Epoch 17: val_accuracy did not improve from 0.59542\n",
      "46/46 [==============================] - 124s 3s/step - loss: 0.7233 - accuracy: 0.6114 - val_loss: 0.6620 - val_accuracy: 0.5878 - lr: 2.5000e-05\n",
      "Epoch 18/100\n",
      "46/46 [==============================] - ETA: 0s - loss: 0.6882 - accuracy: 0.6196\n",
      "Epoch 18: val_accuracy improved from 0.59542 to 0.61069, saving model to best_model_fold3_tcn_res_enhanced.h5\n",
      "46/46 [==============================] - 126s 3s/step - loss: 0.6882 - accuracy: 0.6196 - val_loss: 0.6436 - val_accuracy: 0.6107 - lr: 2.5000e-05\n",
      "Epoch 19/100\n"
     ]
    },
    {
     "name": "stderr",
     "output_type": "stream",
     "text": [
      "/home/huuquangdang/.local/lib/python3.10/site-packages/keras/src/engine/training.py:3079: UserWarning: You are saving your model as an HDF5 file via `model.save()`. This file format is considered legacy. We recommend using instead the native Keras format, e.g. `model.save('my_model.keras')`.\n",
      "  saving_api.save_model(\n"
     ]
    },
    {
     "name": "stdout",
     "output_type": "stream",
     "text": [
      "46/46 [==============================] - ETA: 0s - loss: 0.6607 - accuracy: 0.6399\n",
      "Epoch 19: val_accuracy improved from 0.61069 to 0.64885, saving model to best_model_fold3_tcn_res_enhanced.h5\n",
      "46/46 [==============================] - 124s 3s/step - loss: 0.6607 - accuracy: 0.6399 - val_loss: 0.6285 - val_accuracy: 0.6489 - lr: 2.5000e-05\n",
      "Epoch 20/100\n"
     ]
    },
    {
     "name": "stderr",
     "output_type": "stream",
     "text": [
      "/home/huuquangdang/.local/lib/python3.10/site-packages/keras/src/engine/training.py:3079: UserWarning: You are saving your model as an HDF5 file via `model.save()`. This file format is considered legacy. We recommend using instead the native Keras format, e.g. `model.save('my_model.keras')`.\n",
      "  saving_api.save_model(\n"
     ]
    },
    {
     "name": "stdout",
     "output_type": "stream",
     "text": [
      "46/46 [==============================] - ETA: 0s - loss: 0.6402 - accuracy: 0.6658\n",
      "Epoch 20: val_accuracy improved from 0.64885 to 0.65649, saving model to best_model_fold3_tcn_res_enhanced.h5\n",
      "46/46 [==============================] - 124s 3s/step - loss: 0.6402 - accuracy: 0.6658 - val_loss: 0.6000 - val_accuracy: 0.6565 - lr: 2.5000e-05\n",
      "Epoch 21/100\n"
     ]
    },
    {
     "name": "stderr",
     "output_type": "stream",
     "text": [
      "/home/huuquangdang/.local/lib/python3.10/site-packages/keras/src/engine/training.py:3079: UserWarning: You are saving your model as an HDF5 file via `model.save()`. This file format is considered legacy. We recommend using instead the native Keras format, e.g. `model.save('my_model.keras')`.\n",
      "  saving_api.save_model(\n"
     ]
    },
    {
     "name": "stdout",
     "output_type": "stream",
     "text": [
      "46/46 [==============================] - ETA: 0s - loss: 0.6548 - accuracy: 0.6386\n",
      "Epoch 21: val_accuracy improved from 0.65649 to 0.68702, saving model to best_model_fold3_tcn_res_enhanced.h5\n",
      "46/46 [==============================] - 124s 3s/step - loss: 0.6548 - accuracy: 0.6386 - val_loss: 0.5799 - val_accuracy: 0.6870 - lr: 2.5000e-05\n",
      "Epoch 22/100\n"
     ]
    },
    {
     "name": "stderr",
     "output_type": "stream",
     "text": [
      "/home/huuquangdang/.local/lib/python3.10/site-packages/keras/src/engine/training.py:3079: UserWarning: You are saving your model as an HDF5 file via `model.save()`. This file format is considered legacy. We recommend using instead the native Keras format, e.g. `model.save('my_model.keras')`.\n",
      "  saving_api.save_model(\n"
     ]
    },
    {
     "name": "stdout",
     "output_type": "stream",
     "text": [
      "46/46 [==============================] - ETA: 0s - loss: 0.6655 - accuracy: 0.6753\n",
      "Epoch 22: val_accuracy improved from 0.68702 to 0.70229, saving model to best_model_fold3_tcn_res_enhanced.h5\n",
      "46/46 [==============================] - 124s 3s/step - loss: 0.6655 - accuracy: 0.6753 - val_loss: 0.5719 - val_accuracy: 0.7023 - lr: 2.5000e-05\n",
      "Epoch 23/100\n"
     ]
    },
    {
     "name": "stderr",
     "output_type": "stream",
     "text": [
      "/home/huuquangdang/.local/lib/python3.10/site-packages/keras/src/engine/training.py:3079: UserWarning: You are saving your model as an HDF5 file via `model.save()`. This file format is considered legacy. We recommend using instead the native Keras format, e.g. `model.save('my_model.keras')`.\n",
      "  saving_api.save_model(\n"
     ]
    },
    {
     "name": "stdout",
     "output_type": "stream",
     "text": [
      "46/46 [==============================] - ETA: 0s - loss: 0.6644 - accuracy: 0.6644\n",
      "Epoch 23: val_accuracy improved from 0.70229 to 0.70992, saving model to best_model_fold3_tcn_res_enhanced.h5\n",
      "46/46 [==============================] - 124s 3s/step - loss: 0.6644 - accuracy: 0.6644 - val_loss: 0.5671 - val_accuracy: 0.7099 - lr: 2.5000e-05\n",
      "Epoch 24/100\n"
     ]
    },
    {
     "name": "stderr",
     "output_type": "stream",
     "text": [
      "/home/huuquangdang/.local/lib/python3.10/site-packages/keras/src/engine/training.py:3079: UserWarning: You are saving your model as an HDF5 file via `model.save()`. This file format is considered legacy. We recommend using instead the native Keras format, e.g. `model.save('my_model.keras')`.\n",
      "  saving_api.save_model(\n"
     ]
    },
    {
     "name": "stdout",
     "output_type": "stream",
     "text": [
      "46/46 [==============================] - ETA: 0s - loss: 0.6586 - accuracy: 0.6617\n",
      "Epoch 24: val_accuracy improved from 0.70992 to 0.71756, saving model to best_model_fold3_tcn_res_enhanced.h5\n",
      "46/46 [==============================] - 125s 3s/step - loss: 0.6586 - accuracy: 0.6617 - val_loss: 0.5564 - val_accuracy: 0.7176 - lr: 2.5000e-05\n",
      "Epoch 25/100\n"
     ]
    },
    {
     "name": "stderr",
     "output_type": "stream",
     "text": [
      "/home/huuquangdang/.local/lib/python3.10/site-packages/keras/src/engine/training.py:3079: UserWarning: You are saving your model as an HDF5 file via `model.save()`. This file format is considered legacy. We recommend using instead the native Keras format, e.g. `model.save('my_model.keras')`.\n",
      "  saving_api.save_model(\n"
     ]
    },
    {
     "name": "stdout",
     "output_type": "stream",
     "text": [
      "46/46 [==============================] - ETA: 0s - loss: 0.6567 - accuracy: 0.6630\n",
      "Epoch 25: val_accuracy improved from 0.71756 to 0.72519, saving model to best_model_fold3_tcn_res_enhanced.h5\n",
      "46/46 [==============================] - 124s 3s/step - loss: 0.6567 - accuracy: 0.6630 - val_loss: 0.5383 - val_accuracy: 0.7252 - lr: 2.5000e-05\n",
      "Epoch 26/100\n"
     ]
    },
    {
     "name": "stderr",
     "output_type": "stream",
     "text": [
      "/home/huuquangdang/.local/lib/python3.10/site-packages/keras/src/engine/training.py:3079: UserWarning: You are saving your model as an HDF5 file via `model.save()`. This file format is considered legacy. We recommend using instead the native Keras format, e.g. `model.save('my_model.keras')`.\n",
      "  saving_api.save_model(\n"
     ]
    },
    {
     "name": "stdout",
     "output_type": "stream",
     "text": [
      "46/46 [==============================] - ETA: 0s - loss: 0.6200 - accuracy: 0.6780\n",
      "Epoch 26: val_accuracy did not improve from 0.72519\n",
      "46/46 [==============================] - 124s 3s/step - loss: 0.6200 - accuracy: 0.6780 - val_loss: 0.5228 - val_accuracy: 0.7176 - lr: 2.5000e-05\n",
      "Epoch 27/100\n",
      "46/46 [==============================] - ETA: 0s - loss: 0.5971 - accuracy: 0.6943\n",
      "Epoch 27: val_accuracy improved from 0.72519 to 0.73282, saving model to best_model_fold3_tcn_res_enhanced.h5\n",
      "46/46 [==============================] - 124s 3s/step - loss: 0.5971 - accuracy: 0.6943 - val_loss: 0.5118 - val_accuracy: 0.7328 - lr: 2.5000e-05\n",
      "Epoch 28/100\n"
     ]
    },
    {
     "name": "stderr",
     "output_type": "stream",
     "text": [
      "/home/huuquangdang/.local/lib/python3.10/site-packages/keras/src/engine/training.py:3079: UserWarning: You are saving your model as an HDF5 file via `model.save()`. This file format is considered legacy. We recommend using instead the native Keras format, e.g. `model.save('my_model.keras')`.\n",
      "  saving_api.save_model(\n"
     ]
    },
    {
     "name": "stdout",
     "output_type": "stream",
     "text": [
      "46/46 [==============================] - ETA: 0s - loss: 0.6240 - accuracy: 0.7011\n",
      "Epoch 28: val_accuracy did not improve from 0.73282\n",
      "46/46 [==============================] - 125s 3s/step - loss: 0.6240 - accuracy: 0.7011 - val_loss: 0.5048 - val_accuracy: 0.7328 - lr: 2.5000e-05\n",
      "Epoch 29/100\n",
      "46/46 [==============================] - ETA: 0s - loss: 0.5726 - accuracy: 0.7188\n",
      "Epoch 29: val_accuracy improved from 0.73282 to 0.74809, saving model to best_model_fold3_tcn_res_enhanced.h5\n",
      "46/46 [==============================] - 125s 3s/step - loss: 0.5726 - accuracy: 0.7188 - val_loss: 0.4928 - val_accuracy: 0.7481 - lr: 2.5000e-05\n",
      "Epoch 30/100\n"
     ]
    },
    {
     "name": "stderr",
     "output_type": "stream",
     "text": [
      "/home/huuquangdang/.local/lib/python3.10/site-packages/keras/src/engine/training.py:3079: UserWarning: You are saving your model as an HDF5 file via `model.save()`. This file format is considered legacy. We recommend using instead the native Keras format, e.g. `model.save('my_model.keras')`.\n",
      "  saving_api.save_model(\n"
     ]
    },
    {
     "name": "stdout",
     "output_type": "stream",
     "text": [
      "46/46 [==============================] - ETA: 0s - loss: 0.6101 - accuracy: 0.7011\n",
      "Epoch 30: val_accuracy did not improve from 0.74809\n",
      "46/46 [==============================] - 124s 3s/step - loss: 0.6101 - accuracy: 0.7011 - val_loss: 0.4822 - val_accuracy: 0.7481 - lr: 2.5000e-05\n",
      "Epoch 31/100\n",
      "46/46 [==============================] - ETA: 0s - loss: 0.5790 - accuracy: 0.6984\n",
      "Epoch 31: val_accuracy improved from 0.74809 to 0.75573, saving model to best_model_fold3_tcn_res_enhanced.h5\n",
      "46/46 [==============================] - 124s 3s/step - loss: 0.5790 - accuracy: 0.6984 - val_loss: 0.4753 - val_accuracy: 0.7557 - lr: 2.5000e-05\n",
      "Epoch 32/100\n"
     ]
    },
    {
     "name": "stderr",
     "output_type": "stream",
     "text": [
      "/home/huuquangdang/.local/lib/python3.10/site-packages/keras/src/engine/training.py:3079: UserWarning: You are saving your model as an HDF5 file via `model.save()`. This file format is considered legacy. We recommend using instead the native Keras format, e.g. `model.save('my_model.keras')`.\n",
      "  saving_api.save_model(\n"
     ]
    },
    {
     "name": "stdout",
     "output_type": "stream",
     "text": [
      "46/46 [==============================] - ETA: 0s - loss: 0.5831 - accuracy: 0.6984\n",
      "Epoch 32: val_accuracy improved from 0.75573 to 0.77863, saving model to best_model_fold3_tcn_res_enhanced.h5\n",
      "46/46 [==============================] - 124s 3s/step - loss: 0.5831 - accuracy: 0.6984 - val_loss: 0.4645 - val_accuracy: 0.7786 - lr: 2.5000e-05\n",
      "Epoch 33/100\n"
     ]
    },
    {
     "name": "stderr",
     "output_type": "stream",
     "text": [
      "/home/huuquangdang/.local/lib/python3.10/site-packages/keras/src/engine/training.py:3079: UserWarning: You are saving your model as an HDF5 file via `model.save()`. This file format is considered legacy. We recommend using instead the native Keras format, e.g. `model.save('my_model.keras')`.\n",
      "  saving_api.save_model(\n"
     ]
    },
    {
     "name": "stdout",
     "output_type": "stream",
     "text": [
      "46/46 [==============================] - ETA: 0s - loss: 0.5570 - accuracy: 0.6970\n",
      "Epoch 33: val_accuracy improved from 0.77863 to 0.78626, saving model to best_model_fold3_tcn_res_enhanced.h5\n",
      "46/46 [==============================] - 124s 3s/step - loss: 0.5570 - accuracy: 0.6970 - val_loss: 0.4554 - val_accuracy: 0.7863 - lr: 2.5000e-05\n",
      "Epoch 34/100\n"
     ]
    },
    {
     "name": "stderr",
     "output_type": "stream",
     "text": [
      "/home/huuquangdang/.local/lib/python3.10/site-packages/keras/src/engine/training.py:3079: UserWarning: You are saving your model as an HDF5 file via `model.save()`. This file format is considered legacy. We recommend using instead the native Keras format, e.g. `model.save('my_model.keras')`.\n",
      "  saving_api.save_model(\n"
     ]
    },
    {
     "name": "stdout",
     "output_type": "stream",
     "text": [
      "46/46 [==============================] - ETA: 0s - loss: 0.5993 - accuracy: 0.7011\n",
      "Epoch 34: val_accuracy improved from 0.78626 to 0.80153, saving model to best_model_fold3_tcn_res_enhanced.h5\n",
      "46/46 [==============================] - 125s 3s/step - loss: 0.5993 - accuracy: 0.7011 - val_loss: 0.4435 - val_accuracy: 0.8015 - lr: 2.5000e-05\n",
      "Epoch 35/100\n"
     ]
    },
    {
     "name": "stderr",
     "output_type": "stream",
     "text": [
      "/home/huuquangdang/.local/lib/python3.10/site-packages/keras/src/engine/training.py:3079: UserWarning: You are saving your model as an HDF5 file via `model.save()`. This file format is considered legacy. We recommend using instead the native Keras format, e.g. `model.save('my_model.keras')`.\n",
      "  saving_api.save_model(\n"
     ]
    },
    {
     "name": "stdout",
     "output_type": "stream",
     "text": [
      "46/46 [==============================] - ETA: 0s - loss: 0.5425 - accuracy: 0.7296\n",
      "Epoch 35: val_accuracy improved from 0.80153 to 0.84733, saving model to best_model_fold3_tcn_res_enhanced.h5\n",
      "46/46 [==============================] - 124s 3s/step - loss: 0.5425 - accuracy: 0.7296 - val_loss: 0.4275 - val_accuracy: 0.8473 - lr: 2.5000e-05\n",
      "Epoch 36/100\n"
     ]
    },
    {
     "name": "stderr",
     "output_type": "stream",
     "text": [
      "/home/huuquangdang/.local/lib/python3.10/site-packages/keras/src/engine/training.py:3079: UserWarning: You are saving your model as an HDF5 file via `model.save()`. This file format is considered legacy. We recommend using instead the native Keras format, e.g. `model.save('my_model.keras')`.\n",
      "  saving_api.save_model(\n"
     ]
    },
    {
     "name": "stdout",
     "output_type": "stream",
     "text": [
      "46/46 [==============================] - ETA: 0s - loss: 0.5400 - accuracy: 0.7337\n",
      "Epoch 36: val_accuracy did not improve from 0.84733\n",
      "46/46 [==============================] - 124s 3s/step - loss: 0.5400 - accuracy: 0.7337 - val_loss: 0.4214 - val_accuracy: 0.8397 - lr: 2.5000e-05\n",
      "Epoch 37/100\n",
      "46/46 [==============================] - ETA: 0s - loss: 0.5450 - accuracy: 0.7473\n",
      "Epoch 37: val_accuracy did not improve from 0.84733\n",
      "46/46 [==============================] - 124s 3s/step - loss: 0.5450 - accuracy: 0.7473 - val_loss: 0.4184 - val_accuracy: 0.8473 - lr: 2.5000e-05\n",
      "Epoch 38/100\n",
      "46/46 [==============================] - ETA: 0s - loss: 0.5299 - accuracy: 0.7337\n",
      "Epoch 38: val_accuracy did not improve from 0.84733\n",
      "46/46 [==============================] - 124s 3s/step - loss: 0.5299 - accuracy: 0.7337 - val_loss: 0.4145 - val_accuracy: 0.8397 - lr: 2.5000e-05\n",
      "Epoch 39/100\n",
      "46/46 [==============================] - ETA: 0s - loss: 0.5455 - accuracy: 0.7269\n",
      "Epoch 39: val_accuracy improved from 0.84733 to 0.85496, saving model to best_model_fold3_tcn_res_enhanced.h5\n",
      "46/46 [==============================] - 125s 3s/step - loss: 0.5455 - accuracy: 0.7269 - val_loss: 0.4086 - val_accuracy: 0.8550 - lr: 2.5000e-05\n",
      "Epoch 40/100\n"
     ]
    },
    {
     "name": "stderr",
     "output_type": "stream",
     "text": [
      "/home/huuquangdang/.local/lib/python3.10/site-packages/keras/src/engine/training.py:3079: UserWarning: You are saving your model as an HDF5 file via `model.save()`. This file format is considered legacy. We recommend using instead the native Keras format, e.g. `model.save('my_model.keras')`.\n",
      "  saving_api.save_model(\n"
     ]
    },
    {
     "name": "stdout",
     "output_type": "stream",
     "text": [
      "46/46 [==============================] - ETA: 0s - loss: 0.5250 - accuracy: 0.7527\n",
      "Epoch 40: val_accuracy improved from 0.85496 to 0.86260, saving model to best_model_fold3_tcn_res_enhanced.h5\n",
      "46/46 [==============================] - 124s 3s/step - loss: 0.5250 - accuracy: 0.7527 - val_loss: 0.4038 - val_accuracy: 0.8626 - lr: 2.5000e-05\n",
      "Epoch 41/100\n"
     ]
    },
    {
     "name": "stderr",
     "output_type": "stream",
     "text": [
      "/home/huuquangdang/.local/lib/python3.10/site-packages/keras/src/engine/training.py:3079: UserWarning: You are saving your model as an HDF5 file via `model.save()`. This file format is considered legacy. We recommend using instead the native Keras format, e.g. `model.save('my_model.keras')`.\n",
      "  saving_api.save_model(\n"
     ]
    },
    {
     "name": "stdout",
     "output_type": "stream",
     "text": [
      "46/46 [==============================] - ETA: 0s - loss: 0.5040 - accuracy: 0.7541\n",
      "Epoch 41: val_accuracy did not improve from 0.86260\n",
      "46/46 [==============================] - 124s 3s/step - loss: 0.5040 - accuracy: 0.7541 - val_loss: 0.4022 - val_accuracy: 0.8626 - lr: 2.5000e-05\n",
      "Epoch 42/100\n",
      "46/46 [==============================] - ETA: 0s - loss: 0.4737 - accuracy: 0.7840\n",
      "Epoch 42: val_accuracy improved from 0.86260 to 0.87023, saving model to best_model_fold3_tcn_res_enhanced.h5\n",
      "46/46 [==============================] - 124s 3s/step - loss: 0.4737 - accuracy: 0.7840 - val_loss: 0.3999 - val_accuracy: 0.8702 - lr: 2.5000e-05\n",
      "Epoch 43/100\n"
     ]
    },
    {
     "name": "stderr",
     "output_type": "stream",
     "text": [
      "/home/huuquangdang/.local/lib/python3.10/site-packages/keras/src/engine/training.py:3079: UserWarning: You are saving your model as an HDF5 file via `model.save()`. This file format is considered legacy. We recommend using instead the native Keras format, e.g. `model.save('my_model.keras')`.\n",
      "  saving_api.save_model(\n"
     ]
    },
    {
     "name": "stdout",
     "output_type": "stream",
     "text": [
      "46/46 [==============================] - ETA: 0s - loss: 0.4941 - accuracy: 0.7649\n",
      "Epoch 43: val_accuracy did not improve from 0.87023\n",
      "46/46 [==============================] - 124s 3s/step - loss: 0.4941 - accuracy: 0.7649 - val_loss: 0.3939 - val_accuracy: 0.8702 - lr: 2.5000e-05\n",
      "Epoch 44/100\n",
      "46/46 [==============================] - ETA: 0s - loss: 0.4595 - accuracy: 0.7731\n",
      "Epoch 44: val_accuracy did not improve from 0.87023\n",
      "46/46 [==============================] - 124s 3s/step - loss: 0.4595 - accuracy: 0.7731 - val_loss: 0.3913 - val_accuracy: 0.8702 - lr: 2.5000e-05\n",
      "Epoch 45/100\n",
      "46/46 [==============================] - ETA: 0s - loss: 0.4836 - accuracy: 0.7731\n",
      "Epoch 45: val_accuracy did not improve from 0.87023\n",
      "46/46 [==============================] - 124s 3s/step - loss: 0.4836 - accuracy: 0.7731 - val_loss: 0.3862 - val_accuracy: 0.8702 - lr: 2.5000e-05\n",
      "Epoch 46/100\n",
      "46/46 [==============================] - ETA: 0s - loss: 0.4261 - accuracy: 0.8030\n",
      "Epoch 46: val_accuracy improved from 0.87023 to 0.87786, saving model to best_model_fold3_tcn_res_enhanced.h5\n",
      "46/46 [==============================] - 125s 3s/step - loss: 0.4261 - accuracy: 0.8030 - val_loss: 0.3815 - val_accuracy: 0.8779 - lr: 2.5000e-05\n",
      "Epoch 47/100\n"
     ]
    },
    {
     "name": "stderr",
     "output_type": "stream",
     "text": [
      "/home/huuquangdang/.local/lib/python3.10/site-packages/keras/src/engine/training.py:3079: UserWarning: You are saving your model as an HDF5 file via `model.save()`. This file format is considered legacy. We recommend using instead the native Keras format, e.g. `model.save('my_model.keras')`.\n",
      "  saving_api.save_model(\n"
     ]
    },
    {
     "name": "stdout",
     "output_type": "stream",
     "text": [
      "46/46 [==============================] - ETA: 0s - loss: 0.4435 - accuracy: 0.7840\n",
      "Epoch 47: val_accuracy did not improve from 0.87786\n",
      "46/46 [==============================] - 124s 3s/step - loss: 0.4435 - accuracy: 0.7840 - val_loss: 0.3837 - val_accuracy: 0.8779 - lr: 2.5000e-05\n",
      "Epoch 48/100\n",
      "46/46 [==============================] - ETA: 0s - loss: 0.4232 - accuracy: 0.8003\n",
      "Epoch 48: val_accuracy improved from 0.87786 to 0.88550, saving model to best_model_fold3_tcn_res_enhanced.h5\n",
      "46/46 [==============================] - 124s 3s/step - loss: 0.4232 - accuracy: 0.8003 - val_loss: 0.3765 - val_accuracy: 0.8855 - lr: 2.5000e-05\n",
      "Epoch 49/100\n"
     ]
    },
    {
     "name": "stderr",
     "output_type": "stream",
     "text": [
      "/home/huuquangdang/.local/lib/python3.10/site-packages/keras/src/engine/training.py:3079: UserWarning: You are saving your model as an HDF5 file via `model.save()`. This file format is considered legacy. We recommend using instead the native Keras format, e.g. `model.save('my_model.keras')`.\n",
      "  saving_api.save_model(\n"
     ]
    },
    {
     "name": "stdout",
     "output_type": "stream",
     "text": [
      "46/46 [==============================] - ETA: 0s - loss: 0.4689 - accuracy: 0.7867\n",
      "Epoch 49: val_accuracy did not improve from 0.88550\n",
      "46/46 [==============================] - 124s 3s/step - loss: 0.4689 - accuracy: 0.7867 - val_loss: 0.3724 - val_accuracy: 0.8855 - lr: 2.5000e-05\n",
      "Epoch 50/100\n",
      "46/46 [==============================] - ETA: 0s - loss: 0.4074 - accuracy: 0.8016\n",
      "Epoch 50: val_accuracy did not improve from 0.88550\n",
      "46/46 [==============================] - 125s 3s/step - loss: 0.4074 - accuracy: 0.8016 - val_loss: 0.3755 - val_accuracy: 0.8855 - lr: 2.5000e-05\n",
      "Epoch 51/100\n",
      "46/46 [==============================] - ETA: 0s - loss: 0.4050 - accuracy: 0.8179\n",
      "Epoch 51: val_accuracy did not improve from 0.88550\n",
      "46/46 [==============================] - 124s 3s/step - loss: 0.4050 - accuracy: 0.8179 - val_loss: 0.3679 - val_accuracy: 0.8779 - lr: 2.5000e-05\n",
      "Epoch 52/100\n",
      "46/46 [==============================] - ETA: 0s - loss: 0.4234 - accuracy: 0.7894\n",
      "Epoch 52: val_accuracy did not improve from 0.88550\n",
      "46/46 [==============================] - 124s 3s/step - loss: 0.4234 - accuracy: 0.7894 - val_loss: 0.3713 - val_accuracy: 0.8779 - lr: 2.5000e-05\n",
      "Epoch 53/100\n",
      "46/46 [==============================] - ETA: 0s - loss: 0.3918 - accuracy: 0.8274\n",
      "Epoch 53: val_accuracy did not improve from 0.88550\n",
      "46/46 [==============================] - 124s 3s/step - loss: 0.3918 - accuracy: 0.8274 - val_loss: 0.3622 - val_accuracy: 0.8779 - lr: 2.5000e-05\n",
      "Epoch 54/100\n",
      "46/46 [==============================] - ETA: 0s - loss: 0.3814 - accuracy: 0.8247\n",
      "Epoch 54: val_accuracy did not improve from 0.88550\n",
      "46/46 [==============================] - 124s 3s/step - loss: 0.3814 - accuracy: 0.8247 - val_loss: 0.3645 - val_accuracy: 0.8855 - lr: 2.5000e-05\n",
      "Epoch 55/100\n",
      "46/46 [==============================] - ETA: 0s - loss: 0.4043 - accuracy: 0.8152\n",
      "Epoch 55: val_accuracy did not improve from 0.88550\n",
      "46/46 [==============================] - 124s 3s/step - loss: 0.4043 - accuracy: 0.8152 - val_loss: 0.3518 - val_accuracy: 0.8855 - lr: 2.5000e-05\n",
      "Epoch 56/100\n",
      "46/46 [==============================] - ETA: 0s - loss: 0.3640 - accuracy: 0.8356\n",
      "Epoch 56: val_accuracy did not improve from 0.88550\n",
      "46/46 [==============================] - 124s 3s/step - loss: 0.3640 - accuracy: 0.8356 - val_loss: 0.3525 - val_accuracy: 0.8855 - lr: 2.5000e-05\n",
      "Epoch 57/100\n",
      "46/46 [==============================] - ETA: 0s - loss: 0.3943 - accuracy: 0.8234\n",
      "Epoch 57: val_accuracy did not improve from 0.88550\n",
      "46/46 [==============================] - 125s 3s/step - loss: 0.3943 - accuracy: 0.8234 - val_loss: 0.3505 - val_accuracy: 0.8855 - lr: 2.5000e-05\n",
      "Epoch 58/100\n",
      "46/46 [==============================] - ETA: 0s - loss: 0.3545 - accuracy: 0.8492\n",
      "Epoch 58: val_accuracy improved from 0.88550 to 0.90076, saving model to best_model_fold3_tcn_res_enhanced.h5\n",
      "46/46 [==============================] - 124s 3s/step - loss: 0.3545 - accuracy: 0.8492 - val_loss: 0.3562 - val_accuracy: 0.9008 - lr: 2.5000e-05\n",
      "Epoch 59/100\n"
     ]
    },
    {
     "name": "stderr",
     "output_type": "stream",
     "text": [
      "/home/huuquangdang/.local/lib/python3.10/site-packages/keras/src/engine/training.py:3079: UserWarning: You are saving your model as an HDF5 file via `model.save()`. This file format is considered legacy. We recommend using instead the native Keras format, e.g. `model.save('my_model.keras')`.\n",
      "  saving_api.save_model(\n"
     ]
    },
    {
     "name": "stdout",
     "output_type": "stream",
     "text": [
      "46/46 [==============================] - ETA: 0s - loss: 0.3531 - accuracy: 0.8533\n",
      "Epoch 59: val_accuracy did not improve from 0.90076\n",
      "46/46 [==============================] - 137s 3s/step - loss: 0.3531 - accuracy: 0.8533 - val_loss: 0.3482 - val_accuracy: 0.9008 - lr: 2.5000e-05\n",
      "Epoch 60/100\n",
      "46/46 [==============================] - ETA: 0s - loss: 0.3502 - accuracy: 0.8302\n",
      "Epoch 60: val_accuracy did not improve from 0.90076\n",
      "46/46 [==============================] - 138s 3s/step - loss: 0.3502 - accuracy: 0.8302 - val_loss: 0.3423 - val_accuracy: 0.8931 - lr: 2.5000e-05\n",
      "Epoch 61/100\n",
      "46/46 [==============================] - ETA: 0s - loss: 0.3177 - accuracy: 0.8668\n",
      "Epoch 61: val_accuracy did not improve from 0.90076\n",
      "46/46 [==============================] - 155s 3s/step - loss: 0.3177 - accuracy: 0.8668 - val_loss: 0.3437 - val_accuracy: 0.8931 - lr: 2.5000e-05\n",
      "Epoch 62/100\n",
      "46/46 [==============================] - ETA: 0s - loss: 0.3234 - accuracy: 0.8614\n",
      "Epoch 62: val_accuracy did not improve from 0.90076\n",
      "46/46 [==============================] - 173s 4s/step - loss: 0.3234 - accuracy: 0.8614 - val_loss: 0.3458 - val_accuracy: 0.8931 - lr: 2.5000e-05\n",
      "Epoch 63/100\n",
      "46/46 [==============================] - ETA: 0s - loss: 0.3480 - accuracy: 0.8573\n",
      "Epoch 63: val_accuracy did not improve from 0.90076\n",
      "46/46 [==============================] - 194s 4s/step - loss: 0.3480 - accuracy: 0.8573 - val_loss: 0.3483 - val_accuracy: 0.8931 - lr: 2.5000e-05\n",
      "Epoch 64/100\n",
      "46/46 [==============================] - ETA: 0s - loss: 0.3310 - accuracy: 0.8668\n",
      "Epoch 64: val_accuracy did not improve from 0.90076\n",
      "46/46 [==============================] - 189s 4s/step - loss: 0.3310 - accuracy: 0.8668 - val_loss: 0.3520 - val_accuracy: 0.8931 - lr: 2.5000e-05\n",
      "Epoch 65/100\n",
      "46/46 [==============================] - ETA: 0s - loss: 0.3242 - accuracy: 0.8573\n",
      "Epoch 65: val_accuracy did not improve from 0.90076\n",
      "\n",
      "Epoch 65: ReduceLROnPlateau reducing learning rate to 1.249999968422344e-05.\n",
      "46/46 [==============================] - 195s 4s/step - loss: 0.3242 - accuracy: 0.8573 - val_loss: 0.3499 - val_accuracy: 0.8931 - lr: 2.5000e-05\n",
      "Epoch 66/100\n",
      "46/46 [==============================] - ETA: 0s - loss: 0.3084 - accuracy: 0.8750\n",
      "Epoch 66: val_accuracy did not improve from 0.90076\n",
      "46/46 [==============================] - 181s 4s/step - loss: 0.3084 - accuracy: 0.8750 - val_loss: 0.3641 - val_accuracy: 0.8931 - lr: 1.2500e-05\n",
      "Epoch 67/100\n",
      "46/46 [==============================] - ETA: 0s - loss: 0.2937 - accuracy: 0.8818\n",
      "Epoch 67: val_accuracy did not improve from 0.90076\n",
      "46/46 [==============================] - 153s 3s/step - loss: 0.2937 - accuracy: 0.8818 - val_loss: 0.3591 - val_accuracy: 0.8931 - lr: 1.2500e-05\n",
      "Epoch 68/100\n",
      "46/46 [==============================] - ETA: 0s - loss: 0.2888 - accuracy: 0.8709\n",
      "Epoch 68: val_accuracy did not improve from 0.90076\n",
      "Restoring model weights from the end of the best epoch: 58.\n",
      "46/46 [==============================] - 217s 5s/step - loss: 0.2888 - accuracy: 0.8709 - val_loss: 0.3550 - val_accuracy: 0.8931 - lr: 1.2500e-05\n",
      "Epoch 68: early stopping\n",
      "14/14 [==============================] - 25s 2s/step\n",
      "\n",
      "✅ Fold 3 Results (Enhanced TCN_Residual):\n",
      "   Accuracy:  0.8802\n",
      "   Precision: 0.8739\n",
      "   Recall:    0.8899\n",
      "   F1 Score:  0.8818\n",
      "   AUC:       0.9215\n",
      "\n",
      "============================================================\n",
      "📊 Fold 4/5 - Enhanced TCN_Residual\n",
      "============================================================\n",
      "\n",
      "📈 Enhanced Model Architecture:\n",
      "   - Model: TCN (6 blocks, 256+256+256+256+128+128 filters)\n",
      "   - Total params: 5,955,145\n",
      "   - Trainable params: 5,219,269\n",
      "   - Sequence length: 15\n",
      "   - Batch size: 16\n",
      "   - Initial learning rate: 0.0001\n",
      "Epoch 1/100\n",
      "46/46 [==============================] - ETA: 0s - loss: 0.8627 - accuracy: 0.5326\n",
      "Epoch 1: val_accuracy improved from -inf to 0.54198, saving model to best_model_fold4_tcn_res_enhanced.h5\n"
     ]
    },
    {
     "name": "stderr",
     "output_type": "stream",
     "text": [
      "/home/huuquangdang/.local/lib/python3.10/site-packages/keras/src/engine/training.py:3079: UserWarning: You are saving your model as an HDF5 file via `model.save()`. This file format is considered legacy. We recommend using instead the native Keras format, e.g. `model.save('my_model.keras')`.\n",
      "  saving_api.save_model(\n"
     ]
    },
    {
     "name": "stdout",
     "output_type": "stream",
     "text": [
      "46/46 [==============================] - 201s 4s/step - loss: 0.8627 - accuracy: 0.5326 - val_loss: 0.7080 - val_accuracy: 0.5420 - lr: 1.0000e-04\n",
      "Epoch 2/100\n",
      "46/46 [==============================] - ETA: 0s - loss: 0.8972 - accuracy: 0.5082\n",
      "Epoch 2: val_accuracy did not improve from 0.54198\n",
      "46/46 [==============================] - 203s 4s/step - loss: 0.8972 - accuracy: 0.5082 - val_loss: 0.6862 - val_accuracy: 0.5420 - lr: 1.0000e-04\n",
      "Epoch 3/100\n",
      "46/46 [==============================] - ETA: 0s - loss: 0.8513 - accuracy: 0.5285\n",
      "Epoch 3: val_accuracy did not improve from 0.54198\n",
      "46/46 [==============================] - 155s 3s/step - loss: 0.8513 - accuracy: 0.5285 - val_loss: 0.7469 - val_accuracy: 0.5191 - lr: 1.0000e-04\n",
      "Epoch 4/100\n",
      "46/46 [==============================] - ETA: 0s - loss: 0.8703 - accuracy: 0.5231\n",
      "Epoch 4: val_accuracy did not improve from 0.54198\n",
      "46/46 [==============================] - 226s 5s/step - loss: 0.8703 - accuracy: 0.5231 - val_loss: 0.7554 - val_accuracy: 0.5115 - lr: 1.0000e-04\n",
      "Epoch 5/100\n",
      "46/46 [==============================] - ETA: 0s - loss: 0.8785 - accuracy: 0.5204\n",
      "Epoch 5: val_accuracy did not improve from 0.54198\n",
      "46/46 [==============================] - 231s 5s/step - loss: 0.8785 - accuracy: 0.5204 - val_loss: 0.7304 - val_accuracy: 0.4809 - lr: 1.0000e-04\n",
      "Epoch 6/100\n",
      "46/46 [==============================] - ETA: 0s - loss: 0.8501 - accuracy: 0.5231\n",
      "Epoch 6: val_accuracy did not improve from 0.54198\n",
      "46/46 [==============================] - 212s 5s/step - loss: 0.8501 - accuracy: 0.5231 - val_loss: 0.7195 - val_accuracy: 0.4885 - lr: 1.0000e-04\n",
      "Epoch 7/100\n",
      "46/46 [==============================] - ETA: 0s - loss: 0.8401 - accuracy: 0.5543\n",
      "Epoch 7: val_accuracy did not improve from 0.54198\n",
      "\n",
      "Epoch 7: ReduceLROnPlateau reducing learning rate to 4.999999873689376e-05.\n",
      "46/46 [==============================] - 343s 7s/step - loss: 0.8401 - accuracy: 0.5543 - val_loss: 0.7072 - val_accuracy: 0.4962 - lr: 1.0000e-04\n",
      "Epoch 8/100\n",
      "46/46 [==============================] - ETA: 0s - loss: 0.8152 - accuracy: 0.5571\n",
      "Epoch 8: val_accuracy did not improve from 0.54198\n",
      "46/46 [==============================] - 243s 5s/step - loss: 0.8152 - accuracy: 0.5571 - val_loss: 0.7547 - val_accuracy: 0.5038 - lr: 5.0000e-05\n",
      "Epoch 9/100\n",
      "46/46 [==============================] - ETA: 0s - loss: 0.7765 - accuracy: 0.5883\n",
      "Epoch 9: val_accuracy did not improve from 0.54198\n",
      "46/46 [==============================] - 133s 3s/step - loss: 0.7765 - accuracy: 0.5883 - val_loss: 0.7413 - val_accuracy: 0.5115 - lr: 5.0000e-05\n",
      "Epoch 10/100\n",
      "46/46 [==============================] - ETA: 0s - loss: 0.7632 - accuracy: 0.5924\n",
      "Epoch 10: val_accuracy did not improve from 0.54198\n",
      "46/46 [==============================] - 133s 3s/step - loss: 0.7632 - accuracy: 0.5924 - val_loss: 0.7642 - val_accuracy: 0.5191 - lr: 5.0000e-05\n",
      "Epoch 11/100\n",
      "46/46 [==============================] - ETA: 0s - loss: 0.7812 - accuracy: 0.5666\n",
      "Epoch 11: val_accuracy did not improve from 0.54198\n",
      "Restoring model weights from the end of the best epoch: 1.\n",
      "46/46 [==============================] - 133s 3s/step - loss: 0.7812 - accuracy: 0.5666 - val_loss: 0.7923 - val_accuracy: 0.5267 - lr: 5.0000e-05\n",
      "Epoch 11: early stopping\n",
      "14/14 [==============================] - 14s 957ms/step\n",
      "\n",
      "✅ Fold 4 Results (Enhanced TCN_Residual):\n",
      "   Accuracy:  0.5023\n",
      "   Precision: 0.5045\n",
      "   Recall:    0.5138\n",
      "   F1 Score:  0.5091\n",
      "   AUC:       0.5347\n",
      "\n",
      "============================================================\n",
      "📊 Fold 5/5 - Enhanced TCN_Residual\n",
      "============================================================\n",
      "\n",
      "📈 Enhanced Model Architecture:\n",
      "   - Model: TCN (6 blocks, 256+256+256+256+128+128 filters)\n",
      "   - Total params: 5,955,145\n",
      "   - Trainable params: 5,219,269\n",
      "   - Sequence length: 15\n",
      "   - Batch size: 16\n",
      "   - Initial learning rate: 0.0001\n",
      "Epoch 1/100\n",
      "47/47 [==============================] - ETA: 0s - loss: 0.9238 - accuracy: 0.5170\n",
      "Epoch 1: val_accuracy improved from -inf to 0.48855, saving model to best_model_fold5_tcn_res_enhanced.h5\n",
      "47/47 [==============================] - 139s 3s/step - loss: 0.9238 - accuracy: 0.5170 - val_loss: 0.7610 - val_accuracy: 0.4885 - lr: 1.0000e-04\n",
      "Epoch 2/100\n"
     ]
    },
    {
     "name": "stderr",
     "output_type": "stream",
     "text": [
      "/home/huuquangdang/.local/lib/python3.10/site-packages/keras/src/engine/training.py:3079: UserWarning: You are saving your model as an HDF5 file via `model.save()`. This file format is considered legacy. We recommend using instead the native Keras format, e.g. `model.save('my_model.keras')`.\n",
      "  saving_api.save_model(\n"
     ]
    },
    {
     "name": "stdout",
     "output_type": "stream",
     "text": [
      "47/47 [==============================] - ETA: 0s - loss: 0.9329 - accuracy: 0.4885\n",
      "Epoch 2: val_accuracy did not improve from 0.48855\n",
      "47/47 [==============================] - 135s 3s/step - loss: 0.9329 - accuracy: 0.4885 - val_loss: 0.7257 - val_accuracy: 0.4733 - lr: 1.0000e-04\n",
      "Epoch 3/100\n",
      "47/47 [==============================] - ETA: 0s - loss: 0.8769 - accuracy: 0.5305\n",
      "Epoch 3: val_accuracy did not improve from 0.48855\n",
      "47/47 [==============================] - 300s 6s/step - loss: 0.8769 - accuracy: 0.5305 - val_loss: 0.6984 - val_accuracy: 0.4809 - lr: 1.0000e-04\n",
      "Epoch 4/100\n",
      "47/47 [==============================] - ETA: 0s - loss: 0.8271 - accuracy: 0.5332\n",
      "Epoch 4: val_accuracy improved from 0.48855 to 0.52672, saving model to best_model_fold5_tcn_res_enhanced.h5\n"
     ]
    },
    {
     "name": "stderr",
     "output_type": "stream",
     "text": [
      "/home/huuquangdang/.local/lib/python3.10/site-packages/keras/src/engine/training.py:3079: UserWarning: You are saving your model as an HDF5 file via `model.save()`. This file format is considered legacy. We recommend using instead the native Keras format, e.g. `model.save('my_model.keras')`.\n",
      "  saving_api.save_model(\n"
     ]
    },
    {
     "name": "stdout",
     "output_type": "stream",
     "text": [
      "47/47 [==============================] - 336s 7s/step - loss: 0.8271 - accuracy: 0.5332 - val_loss: 0.7086 - val_accuracy: 0.5267 - lr: 1.0000e-04\n",
      "Epoch 5/100\n",
      "47/47 [==============================] - ETA: 0s - loss: 0.8705 - accuracy: 0.5468\n",
      "Epoch 5: val_accuracy did not improve from 0.52672\n",
      "47/47 [==============================] - 339s 7s/step - loss: 0.8705 - accuracy: 0.5468 - val_loss: 0.7056 - val_accuracy: 0.5191 - lr: 1.0000e-04\n",
      "Epoch 6/100\n",
      "47/47 [==============================] - ETA: 0s - loss: 0.7982 - accuracy: 0.5726  \n",
      "Epoch 6: val_accuracy improved from 0.52672 to 0.55725, saving model to best_model_fold5_tcn_res_enhanced.h5\n",
      "47/47 [==============================] - 9546s 207s/step - loss: 0.7982 - accuracy: 0.5726 - val_loss: 0.7050 - val_accuracy: 0.5573 - lr: 1.0000e-04\n",
      "Epoch 7/100\n"
     ]
    },
    {
     "name": "stderr",
     "output_type": "stream",
     "text": [
      "/home/huuquangdang/.local/lib/python3.10/site-packages/keras/src/engine/training.py:3079: UserWarning: You are saving your model as an HDF5 file via `model.save()`. This file format is considered legacy. We recommend using instead the native Keras format, e.g. `model.save('my_model.keras')`.\n",
      "  saving_api.save_model(\n"
     ]
    },
    {
     "name": "stdout",
     "output_type": "stream",
     "text": [
      "47/47 [==============================] - ETA: 0s - loss: 0.7915 - accuracy: 0.5780\n",
      "Epoch 7: val_accuracy improved from 0.55725 to 0.59542, saving model to best_model_fold5_tcn_res_enhanced.h5\n",
      "47/47 [==============================] - 136s 3s/step - loss: 0.7915 - accuracy: 0.5780 - val_loss: 0.6699 - val_accuracy: 0.5954 - lr: 1.0000e-04\n",
      "Epoch 8/100\n"
     ]
    },
    {
     "name": "stderr",
     "output_type": "stream",
     "text": [
      "/home/huuquangdang/.local/lib/python3.10/site-packages/keras/src/engine/training.py:3079: UserWarning: You are saving your model as an HDF5 file via `model.save()`. This file format is considered legacy. We recommend using instead the native Keras format, e.g. `model.save('my_model.keras')`.\n",
      "  saving_api.save_model(\n"
     ]
    },
    {
     "name": "stdout",
     "output_type": "stream",
     "text": [
      "47/47 [==============================] - ETA: 0s - loss: 0.7666 - accuracy: 0.6174\n",
      "Epoch 8: val_accuracy did not improve from 0.59542\n",
      "47/47 [==============================] - 135s 3s/step - loss: 0.7666 - accuracy: 0.6174 - val_loss: 0.8062 - val_accuracy: 0.5496 - lr: 1.0000e-04\n",
      "Epoch 9/100\n",
      "47/47 [==============================] - ETA: 0s - loss: 0.7109 - accuracy: 0.6459\n",
      "Epoch 9: val_accuracy did not improve from 0.59542\n",
      "47/47 [==============================] - 134s 3s/step - loss: 0.7109 - accuracy: 0.6459 - val_loss: 0.8362 - val_accuracy: 0.5573 - lr: 1.0000e-04\n",
      "Epoch 10/100\n",
      "47/47 [==============================] - ETA: 0s - loss: 0.7037 - accuracy: 0.6486\n",
      "Epoch 10: val_accuracy did not improve from 0.59542\n",
      "47/47 [==============================] - 133s 3s/step - loss: 0.7037 - accuracy: 0.6486 - val_loss: 0.8491 - val_accuracy: 0.5802 - lr: 1.0000e-04\n",
      "Epoch 11/100\n",
      "47/47 [==============================] - ETA: 0s - loss: 0.6832 - accuracy: 0.6445\n",
      "Epoch 11: val_accuracy did not improve from 0.59542\n",
      "47/47 [==============================] - 133s 3s/step - loss: 0.6832 - accuracy: 0.6445 - val_loss: 0.9219 - val_accuracy: 0.5649 - lr: 1.0000e-04\n",
      "Epoch 12/100\n",
      "47/47 [==============================] - ETA: 0s - loss: 0.6384 - accuracy: 0.6662\n",
      "Epoch 12: val_accuracy did not improve from 0.59542\n",
      "\n",
      "Epoch 12: ReduceLROnPlateau reducing learning rate to 4.999999873689376e-05.\n",
      "47/47 [==============================] - 133s 3s/step - loss: 0.6384 - accuracy: 0.6662 - val_loss: 0.9441 - val_accuracy: 0.5802 - lr: 1.0000e-04\n",
      "Epoch 13/100\n",
      "47/47 [==============================] - ETA: 0s - loss: 0.6427 - accuracy: 0.6581\n",
      "Epoch 13: val_accuracy did not improve from 0.59542\n",
      "47/47 [==============================] - 133s 3s/step - loss: 0.6427 - accuracy: 0.6581 - val_loss: 0.8650 - val_accuracy: 0.5878 - lr: 5.0000e-05\n",
      "Epoch 14/100\n",
      "47/47 [==============================] - ETA: 0s - loss: 0.5738 - accuracy: 0.7123\n",
      "Epoch 14: val_accuracy improved from 0.59542 to 0.61069, saving model to best_model_fold5_tcn_res_enhanced.h5\n",
      "47/47 [==============================] - 134s 3s/step - loss: 0.5738 - accuracy: 0.7123 - val_loss: 0.8295 - val_accuracy: 0.6107 - lr: 5.0000e-05\n",
      "Epoch 15/100\n"
     ]
    },
    {
     "name": "stderr",
     "output_type": "stream",
     "text": [
      "/home/huuquangdang/.local/lib/python3.10/site-packages/keras/src/engine/training.py:3079: UserWarning: You are saving your model as an HDF5 file via `model.save()`. This file format is considered legacy. We recommend using instead the native Keras format, e.g. `model.save('my_model.keras')`.\n",
      "  saving_api.save_model(\n"
     ]
    },
    {
     "name": "stdout",
     "output_type": "stream",
     "text": [
      "47/47 [==============================] - ETA: 0s - loss: 0.5521 - accuracy: 0.7300\n",
      "Epoch 15: val_accuracy improved from 0.61069 to 0.64885, saving model to best_model_fold5_tcn_res_enhanced.h5\n",
      "47/47 [==============================] - 133s 3s/step - loss: 0.5521 - accuracy: 0.7300 - val_loss: 0.7500 - val_accuracy: 0.6489 - lr: 5.0000e-05\n",
      "Epoch 16/100\n"
     ]
    },
    {
     "name": "stderr",
     "output_type": "stream",
     "text": [
      "/home/huuquangdang/.local/lib/python3.10/site-packages/keras/src/engine/training.py:3079: UserWarning: You are saving your model as an HDF5 file via `model.save()`. This file format is considered legacy. We recommend using instead the native Keras format, e.g. `model.save('my_model.keras')`.\n",
      "  saving_api.save_model(\n"
     ]
    },
    {
     "name": "stdout",
     "output_type": "stream",
     "text": [
      "47/47 [==============================] - ETA: 0s - loss: 0.5022 - accuracy: 0.7531\n",
      "Epoch 16: val_accuracy improved from 0.64885 to 0.69466, saving model to best_model_fold5_tcn_res_enhanced.h5\n",
      "47/47 [==============================] - 125s 3s/step - loss: 0.5022 - accuracy: 0.7531 - val_loss: 0.6901 - val_accuracy: 0.6947 - lr: 5.0000e-05\n",
      "Epoch 17/100\n"
     ]
    },
    {
     "name": "stderr",
     "output_type": "stream",
     "text": [
      "/home/huuquangdang/.local/lib/python3.10/site-packages/keras/src/engine/training.py:3079: UserWarning: You are saving your model as an HDF5 file via `model.save()`. This file format is considered legacy. We recommend using instead the native Keras format, e.g. `model.save('my_model.keras')`.\n",
      "  saving_api.save_model(\n"
     ]
    },
    {
     "name": "stdout",
     "output_type": "stream",
     "text": [
      "47/47 [==============================] - ETA: 0s - loss: 0.5668 - accuracy: 0.7042\n",
      "Epoch 17: val_accuracy improved from 0.69466 to 0.70992, saving model to best_model_fold5_tcn_res_enhanced.h5\n",
      "\n",
      "Epoch 17: ReduceLROnPlateau reducing learning rate to 2.499999936844688e-05.\n",
      "47/47 [==============================] - 126s 3s/step - loss: 0.5668 - accuracy: 0.7042 - val_loss: 0.6890 - val_accuracy: 0.7099 - lr: 5.0000e-05\n",
      "Epoch 18/100\n"
     ]
    },
    {
     "name": "stderr",
     "output_type": "stream",
     "text": [
      "/home/huuquangdang/.local/lib/python3.10/site-packages/keras/src/engine/training.py:3079: UserWarning: You are saving your model as an HDF5 file via `model.save()`. This file format is considered legacy. We recommend using instead the native Keras format, e.g. `model.save('my_model.keras')`.\n",
      "  saving_api.save_model(\n"
     ]
    },
    {
     "name": "stdout",
     "output_type": "stream",
     "text": [
      "47/47 [==============================] - ETA: 0s - loss: 0.5472 - accuracy: 0.7246\n",
      "Epoch 18: val_accuracy improved from 0.70992 to 0.72519, saving model to best_model_fold5_tcn_res_enhanced.h5\n",
      "47/47 [==============================] - 125s 3s/step - loss: 0.5472 - accuracy: 0.7246 - val_loss: 0.6329 - val_accuracy: 0.7252 - lr: 2.5000e-05\n",
      "Epoch 19/100\n"
     ]
    },
    {
     "name": "stderr",
     "output_type": "stream",
     "text": [
      "/home/huuquangdang/.local/lib/python3.10/site-packages/keras/src/engine/training.py:3079: UserWarning: You are saving your model as an HDF5 file via `model.save()`. This file format is considered legacy. We recommend using instead the native Keras format, e.g. `model.save('my_model.keras')`.\n",
      "  saving_api.save_model(\n"
     ]
    },
    {
     "name": "stdout",
     "output_type": "stream",
     "text": [
      "47/47 [==============================] - ETA: 0s - loss: 0.5167 - accuracy: 0.7476\n",
      "Epoch 19: val_accuracy improved from 0.72519 to 0.75573, saving model to best_model_fold5_tcn_res_enhanced.h5\n",
      "47/47 [==============================] - 125s 3s/step - loss: 0.5167 - accuracy: 0.7476 - val_loss: 0.5716 - val_accuracy: 0.7557 - lr: 2.5000e-05\n",
      "Epoch 20/100\n"
     ]
    },
    {
     "name": "stderr",
     "output_type": "stream",
     "text": [
      "/home/huuquangdang/.local/lib/python3.10/site-packages/keras/src/engine/training.py:3079: UserWarning: You are saving your model as an HDF5 file via `model.save()`. This file format is considered legacy. We recommend using instead the native Keras format, e.g. `model.save('my_model.keras')`.\n",
      "  saving_api.save_model(\n"
     ]
    },
    {
     "name": "stdout",
     "output_type": "stream",
     "text": [
      "47/47 [==============================] - ETA: 0s - loss: 0.4835 - accuracy: 0.7653\n",
      "Epoch 20: val_accuracy improved from 0.75573 to 0.76336, saving model to best_model_fold5_tcn_res_enhanced.h5\n",
      "47/47 [==============================] - 130s 3s/step - loss: 0.4835 - accuracy: 0.7653 - val_loss: 0.5410 - val_accuracy: 0.7634 - lr: 2.5000e-05\n",
      "Epoch 21/100\n"
     ]
    },
    {
     "name": "stderr",
     "output_type": "stream",
     "text": [
      "/home/huuquangdang/.local/lib/python3.10/site-packages/keras/src/engine/training.py:3079: UserWarning: You are saving your model as an HDF5 file via `model.save()`. This file format is considered legacy. We recommend using instead the native Keras format, e.g. `model.save('my_model.keras')`.\n",
      "  saving_api.save_model(\n"
     ]
    },
    {
     "name": "stdout",
     "output_type": "stream",
     "text": [
      "47/47 [==============================] - ETA: 0s - loss: 0.5190 - accuracy: 0.7408\n",
      "Epoch 21: val_accuracy improved from 0.76336 to 0.79389, saving model to best_model_fold5_tcn_res_enhanced.h5\n",
      "47/47 [==============================] - 126s 3s/step - loss: 0.5190 - accuracy: 0.7408 - val_loss: 0.5226 - val_accuracy: 0.7939 - lr: 2.5000e-05\n",
      "Epoch 22/100\n"
     ]
    },
    {
     "name": "stderr",
     "output_type": "stream",
     "text": [
      "/home/huuquangdang/.local/lib/python3.10/site-packages/keras/src/engine/training.py:3079: UserWarning: You are saving your model as an HDF5 file via `model.save()`. This file format is considered legacy. We recommend using instead the native Keras format, e.g. `model.save('my_model.keras')`.\n",
      "  saving_api.save_model(\n"
     ]
    },
    {
     "name": "stdout",
     "output_type": "stream",
     "text": [
      "47/47 [==============================] - ETA: 0s - loss: 0.4767 - accuracy: 0.7734\n",
      "Epoch 22: val_accuracy improved from 0.79389 to 0.82443, saving model to best_model_fold5_tcn_res_enhanced.h5\n",
      "47/47 [==============================] - 125s 3s/step - loss: 0.4767 - accuracy: 0.7734 - val_loss: 0.4980 - val_accuracy: 0.8244 - lr: 2.5000e-05\n",
      "Epoch 23/100\n"
     ]
    },
    {
     "name": "stderr",
     "output_type": "stream",
     "text": [
      "/home/huuquangdang/.local/lib/python3.10/site-packages/keras/src/engine/training.py:3079: UserWarning: You are saving your model as an HDF5 file via `model.save()`. This file format is considered legacy. We recommend using instead the native Keras format, e.g. `model.save('my_model.keras')`.\n",
      "  saving_api.save_model(\n"
     ]
    },
    {
     "name": "stdout",
     "output_type": "stream",
     "text": [
      "47/47 [==============================] - ETA: 0s - loss: 0.5134 - accuracy: 0.7653\n",
      "Epoch 23: val_accuracy improved from 0.82443 to 0.83969, saving model to best_model_fold5_tcn_res_enhanced.h5\n",
      "47/47 [==============================] - 127s 3s/step - loss: 0.5134 - accuracy: 0.7653 - val_loss: 0.4747 - val_accuracy: 0.8397 - lr: 2.5000e-05\n",
      "Epoch 24/100\n"
     ]
    },
    {
     "name": "stderr",
     "output_type": "stream",
     "text": [
      "/home/huuquangdang/.local/lib/python3.10/site-packages/keras/src/engine/training.py:3079: UserWarning: You are saving your model as an HDF5 file via `model.save()`. This file format is considered legacy. We recommend using instead the native Keras format, e.g. `model.save('my_model.keras')`.\n",
      "  saving_api.save_model(\n"
     ]
    },
    {
     "name": "stdout",
     "output_type": "stream",
     "text": [
      "47/47 [==============================] - ETA: 0s - loss: 0.4674 - accuracy: 0.7870\n",
      "Epoch 24: val_accuracy improved from 0.83969 to 0.84733, saving model to best_model_fold5_tcn_res_enhanced.h5\n",
      "47/47 [==============================] - 125s 3s/step - loss: 0.4674 - accuracy: 0.7870 - val_loss: 0.4604 - val_accuracy: 0.8473 - lr: 2.5000e-05\n",
      "Epoch 25/100\n"
     ]
    },
    {
     "name": "stderr",
     "output_type": "stream",
     "text": [
      "/home/huuquangdang/.local/lib/python3.10/site-packages/keras/src/engine/training.py:3079: UserWarning: You are saving your model as an HDF5 file via `model.save()`. This file format is considered legacy. We recommend using instead the native Keras format, e.g. `model.save('my_model.keras')`.\n",
      "  saving_api.save_model(\n"
     ]
    },
    {
     "name": "stdout",
     "output_type": "stream",
     "text": [
      "47/47 [==============================] - ETA: 0s - loss: 0.4394 - accuracy: 0.7924\n",
      "Epoch 25: val_accuracy did not improve from 0.84733\n",
      "47/47 [==============================] - 125s 3s/step - loss: 0.4394 - accuracy: 0.7924 - val_loss: 0.4463 - val_accuracy: 0.8473 - lr: 2.5000e-05\n",
      "Epoch 26/100\n",
      "47/47 [==============================] - ETA: 0s - loss: 0.4441 - accuracy: 0.7951\n",
      "Epoch 26: val_accuracy improved from 0.84733 to 0.86260, saving model to best_model_fold5_tcn_res_enhanced.h5\n",
      "47/47 [==============================] - 125s 3s/step - loss: 0.4441 - accuracy: 0.7951 - val_loss: 0.4274 - val_accuracy: 0.8626 - lr: 2.5000e-05\n",
      "Epoch 27/100\n"
     ]
    },
    {
     "name": "stderr",
     "output_type": "stream",
     "text": [
      "/home/huuquangdang/.local/lib/python3.10/site-packages/keras/src/engine/training.py:3079: UserWarning: You are saving your model as an HDF5 file via `model.save()`. This file format is considered legacy. We recommend using instead the native Keras format, e.g. `model.save('my_model.keras')`.\n",
      "  saving_api.save_model(\n"
     ]
    },
    {
     "name": "stdout",
     "output_type": "stream",
     "text": [
      "47/47 [==============================] - ETA: 0s - loss: 0.4754 - accuracy: 0.7992\n",
      "Epoch 27: val_accuracy did not improve from 0.86260\n",
      "47/47 [==============================] - 125s 3s/step - loss: 0.4754 - accuracy: 0.7992 - val_loss: 0.4158 - val_accuracy: 0.8626 - lr: 2.5000e-05\n",
      "Epoch 28/100\n",
      "47/47 [==============================] - ETA: 0s - loss: 0.4499 - accuracy: 0.7720\n",
      "Epoch 28: val_accuracy improved from 0.86260 to 0.87786, saving model to best_model_fold5_tcn_res_enhanced.h5\n",
      "47/47 [==============================] - 125s 3s/step - loss: 0.4499 - accuracy: 0.7720 - val_loss: 0.4039 - val_accuracy: 0.8779 - lr: 2.5000e-05\n",
      "Epoch 29/100\n"
     ]
    },
    {
     "name": "stderr",
     "output_type": "stream",
     "text": [
      "/home/huuquangdang/.local/lib/python3.10/site-packages/keras/src/engine/training.py:3079: UserWarning: You are saving your model as an HDF5 file via `model.save()`. This file format is considered legacy. We recommend using instead the native Keras format, e.g. `model.save('my_model.keras')`.\n",
      "  saving_api.save_model(\n"
     ]
    },
    {
     "name": "stdout",
     "output_type": "stream",
     "text": [
      "47/47 [==============================] - ETA: 0s - loss: 0.4413 - accuracy: 0.7883\n",
      "Epoch 29: val_accuracy did not improve from 0.87786\n",
      "47/47 [==============================] - 125s 3s/step - loss: 0.4413 - accuracy: 0.7883 - val_loss: 0.3957 - val_accuracy: 0.8626 - lr: 2.5000e-05\n",
      "Epoch 30/100\n",
      "47/47 [==============================] - ETA: 0s - loss: 0.4067 - accuracy: 0.8060\n",
      "Epoch 30: val_accuracy did not improve from 0.87786\n",
      "47/47 [==============================] - 125s 3s/step - loss: 0.4067 - accuracy: 0.8060 - val_loss: 0.3943 - val_accuracy: 0.8626 - lr: 2.5000e-05\n",
      "Epoch 31/100\n",
      "47/47 [==============================] - ETA: 0s - loss: 0.4344 - accuracy: 0.8019\n",
      "Epoch 31: val_accuracy did not improve from 0.87786\n",
      "47/47 [==============================] - 124s 3s/step - loss: 0.4344 - accuracy: 0.8019 - val_loss: 0.3855 - val_accuracy: 0.8626 - lr: 2.5000e-05\n",
      "Epoch 32/100\n",
      "47/47 [==============================] - ETA: 0s - loss: 0.4151 - accuracy: 0.8155\n",
      "Epoch 32: val_accuracy did not improve from 0.87786\n",
      "47/47 [==============================] - 125s 3s/step - loss: 0.4151 - accuracy: 0.8155 - val_loss: 0.3768 - val_accuracy: 0.8626 - lr: 2.5000e-05\n",
      "Epoch 33/100\n",
      "47/47 [==============================] - ETA: 0s - loss: 0.4059 - accuracy: 0.8223\n",
      "Epoch 33: val_accuracy did not improve from 0.87786\n",
      "47/47 [==============================] - 125s 3s/step - loss: 0.4059 - accuracy: 0.8223 - val_loss: 0.3733 - val_accuracy: 0.8473 - lr: 2.5000e-05\n",
      "Epoch 34/100\n",
      "47/47 [==============================] - ETA: 0s - loss: 0.4001 - accuracy: 0.8046\n",
      "Epoch 34: val_accuracy did not improve from 0.87786\n",
      "47/47 [==============================] - 126s 3s/step - loss: 0.4001 - accuracy: 0.8046 - val_loss: 0.3717 - val_accuracy: 0.8244 - lr: 2.5000e-05\n",
      "Epoch 35/100\n",
      "47/47 [==============================] - ETA: 0s - loss: 0.4231 - accuracy: 0.8209\n",
      "Epoch 35: val_accuracy did not improve from 0.87786\n",
      "47/47 [==============================] - 125s 3s/step - loss: 0.4231 - accuracy: 0.8209 - val_loss: 0.3626 - val_accuracy: 0.8626 - lr: 2.5000e-05\n",
      "Epoch 36/100\n",
      "47/47 [==============================] - ETA: 0s - loss: 0.4016 - accuracy: 0.8195\n",
      "Epoch 36: val_accuracy did not improve from 0.87786\n",
      "47/47 [==============================] - 129s 3s/step - loss: 0.4016 - accuracy: 0.8195 - val_loss: 0.3517 - val_accuracy: 0.8473 - lr: 2.5000e-05\n",
      "Epoch 37/100\n",
      "47/47 [==============================] - ETA: 0s - loss: 0.3885 - accuracy: 0.8250\n",
      "Epoch 37: val_accuracy did not improve from 0.87786\n",
      "47/47 [==============================] - 129s 3s/step - loss: 0.3885 - accuracy: 0.8250 - val_loss: 0.3473 - val_accuracy: 0.8626 - lr: 2.5000e-05\n",
      "Epoch 38/100\n",
      "47/47 [==============================] - ETA: 0s - loss: 0.3492 - accuracy: 0.8521\n",
      "Epoch 38: val_accuracy did not improve from 0.87786\n",
      "Restoring model weights from the end of the best epoch: 28.\n",
      "47/47 [==============================] - 129s 3s/step - loss: 0.3492 - accuracy: 0.8521 - val_loss: 0.3345 - val_accuracy: 0.8779 - lr: 2.5000e-05\n",
      "Epoch 38: early stopping\n",
      "14/14 [==============================] - 14s 953ms/step\n",
      "\n",
      "✅ Fold 5 Results (Enhanced TCN_Residual):\n",
      "   Accuracy:  0.8843\n",
      "   Precision: 0.8430\n",
      "   Recall:    0.9444\n",
      "   F1 Score:  0.8908\n",
      "   AUC:       0.9071\n",
      "\n",
      "============================================================\n",
      "📊 FINAL RESULTS - Enhanced TCN_Residual Model\n",
      "============================================================\n",
      "Fold 1: Acc=0.8848, Prec=0.8487, Rec=0.9352, F1=0.8899, AUC=0.9437\n",
      "Fold 2: Acc=0.9770, Prec=0.9558, Rec=1.0000, F1=0.9774, AUC=0.8637\n",
      "Fold 3: Acc=0.8802, Prec=0.8739, Rec=0.8899, F1=0.8818, AUC=0.9215\n",
      "Fold 4: Acc=0.5023, Prec=0.5045, Rec=0.5138, F1=0.5091, AUC=0.5347\n",
      "Fold 5: Acc=0.8843, Prec=0.8430, Rec=0.9444, F1=0.8908, AUC=0.9071\n",
      "\n",
      "📊 Average Metrics:\n",
      "fold         3.000000\n",
      "accuracy     0.825700\n",
      "precision    0.805169\n",
      "recall       0.856660\n",
      "f1           0.829796\n",
      "auc          0.834114\n",
      "dtype: float64\n",
      "\n",
      "📈 Cross-Validation Stability:\n",
      "   Mean Accuracy: 0.8257\n",
      "   Std Deviation: 0.1853\n",
      "   Range: 0.4747\n",
      "   CV%: 22.44%\n"
     ]
    }
   ],
   "source": [
    "import numpy as np\n",
    "import cv2\n",
    "import tensorflow as tf\n",
    "from tensorflow.keras.applications import MobileNetV2\n",
    "from tensorflow.keras.layers import (\n",
    "    Input, TimeDistributed, Dropout, Dense, GlobalAveragePooling2D, \n",
    "    Concatenate, BatchNormalization, Conv1D, Add, Activation, LayerNormalization, GlobalAveragePooling1D\n",
    "    )\n",
    "from tensorflow.keras.models import Model\n",
    "from tensorflow.keras.preprocessing.image import ImageDataGenerator\n",
    "from tensorflow.keras.optimizers import Adamax\n",
    "from tensorflow.keras.callbacks import ModelCheckpoint, EarlyStopping, ReduceLROnPlateau\n",
    "from sklearn.model_selection import StratifiedKFold, train_test_split\n",
    "from sklearn.metrics import accuracy_score, precision_score, recall_score, f1_score, roc_auc_score\n",
    "from hmmlearn.hmm import GaussianHMM\n",
    "from scipy.stats import mode\n",
    "from sklearn.preprocessing import StandardScaler\n",
    "\n",
    "# Configuration - Enhanced\n",
    "video_keys = list(video_dict.keys())\n",
    "video_labels = [labels[k] for k in video_keys]\n",
    "\n",
    "img_size = (224, 224)\n",
    "batch_size = 16  # Reduced for better generalization\n",
    "epochs = 100  # Increased for better convergence\n",
    "n_splits = 5\n",
    "sequence_len = 15  # Increased to capture more temporal information\n",
    "results = []\n",
    "all_histories = []\n",
    "\n",
    "# Normalize CSV features with robust scaling\n",
    "print(\"🔧 Computing CSV feature statistics for normalization...\")\n",
    "all_csv_features = []\n",
    "for key in video_keys:\n",
    "    frames = video_dict[key][:sequence_len]\n",
    "    for path in frames:\n",
    "        filename = os.path.basename(path)\n",
    "        if filename in openface_features:\n",
    "            all_csv_features.append(openface_features[filename])\n",
    "\n",
    "# Debug: Check if we have any features\n",
    "print(f\"📊 Found {len(all_csv_features)} CSV features from {len(video_keys)} videos\")\n",
    "if len(all_csv_features) == 0:\n",
    "    print(\"⚠️ WARNING: No matching CSV features found!\")\n",
    "    print(f\"   Sample video filename: {os.path.basename(list(video_dict.values())[0][0])}\")\n",
    "    print(f\"   Sample CSV key: {list(openface_features.keys())[0]}\")\n",
    "    raise ValueError(\"No CSV features found - check filename matching!\")\n",
    "\n",
    "csv_scaler = StandardScaler()\n",
    "csv_scaler.fit(np.array(all_csv_features))  # Convert to numpy array\n",
    "print(f\"✅ CSV feature normalization fitted on {len(all_csv_features)} samples\")\n",
    "\n",
    "# Enhanced Data generator with stronger augmentation\n",
    "class VideoSequence(tf.keras.utils.Sequence):\n",
    "    def __init__(self, video_keys, video_dict, labels, batch_size, img_size, sequence_len=15, augment=False):\n",
    "        self.video_keys = video_keys\n",
    "        self.video_dict = video_dict\n",
    "        self.labels = labels\n",
    "        self.batch_size = batch_size\n",
    "        self.img_size = img_size\n",
    "        self.sequence_len = sequence_len\n",
    "        self.augment = augment\n",
    "        # Enhanced augmentation for better regularization\n",
    "        self.datagen = ImageDataGenerator(\n",
    "            rescale=1./255,\n",
    "            rotation_range=20 if augment else 0,\n",
    "            width_shift_range=0.15 if augment else 0,\n",
    "            height_shift_range=0.15 if augment else 0,\n",
    "            zoom_range=0.15 if augment else 0,\n",
    "            horizontal_flip=augment,\n",
    "            brightness_range=[0.8, 1.2] if augment else None,\n",
    "            fill_mode='nearest'\n",
    "        )\n",
    "\n",
    "    def __len__(self):\n",
    "        return int(np.ceil(len(self.video_keys) / self.batch_size))\n",
    "\n",
    "    def __getitem__(self, idx):\n",
    "        batch_keys = self.video_keys[idx * self.batch_size:(idx + 1) * self.batch_size]\n",
    "        batch_X_img, batch_X_csv, batch_y = [], [], []\n",
    "\n",
    "        for key in batch_keys:\n",
    "            frames = self.video_dict[key][:self.sequence_len]\n",
    "            imgs = []\n",
    "            csv_feats = []\n",
    "            \n",
    "            for path in frames:\n",
    "                # Load and process image\n",
    "                img = cv2.imread(path)\n",
    "                img = cv2.resize(img, self.img_size)\n",
    "                img = self.datagen.random_transform(img) if self.augment else img\n",
    "                img = img.astype('float32') / 255.0\n",
    "                imgs.append(img)\n",
    "                \n",
    "                # Load CSV features and normalize (1-to-1 mapping)\n",
    "                filename = os.path.basename(path)\n",
    "                if filename in openface_features:\n",
    "                    csv_feat = openface_features[filename]\n",
    "                    csv_feat = csv_scaler.transform(csv_feat.reshape(1, -1))[0]\n",
    "                else:\n",
    "                    csv_feat = np.zeros(csv_feature_dim, dtype='float32')\n",
    "                csv_feats.append(csv_feat)\n",
    "            \n",
    "            # Pad sequences if needed\n",
    "            while len(imgs) < self.sequence_len:\n",
    "                imgs.append(np.zeros((*self.img_size, 3), dtype='float32'))\n",
    "                csv_feats.append(np.zeros(csv_feature_dim, dtype='float32'))\n",
    "            \n",
    "            batch_X_img.append(imgs)\n",
    "            batch_X_csv.append(csv_feats)\n",
    "            batch_y.append(self.labels[key])\n",
    "\n",
    "        return [np.array(batch_X_img), np.array(batch_X_csv)], np.array(batch_y)\n",
    "\n",
    "# Enhanced TCN Residual Block with more capacity\n",
    "def tcn_residual_block(x, filters, kernel_size, dilation_rate, block_num):\n",
    "    shortcut = x\n",
    "    # First convolutional layer\n",
    "    x = Conv1D(filters, kernel_size, padding='causal', dilation_rate=dilation_rate, name=f'tcn_conv_{block_num}_1')(x)\n",
    "    x = LayerNormalization(name=f'tcn_ln_{block_num}_1')(x)\n",
    "    x = Activation('relu', name=f'tcn_relu_{block_num}_1')(x)\n",
    "    x = Dropout(0.3, name=f'tcn_dropout_{block_num}_1')(x)\n",
    "    \n",
    "    # Second convolutional layer\n",
    "    x = Conv1D(filters, kernel_size, padding='causal', dilation_rate=dilation_rate, name=f'tcn_conv_{block_num}_2')(x)\n",
    "    x = LayerNormalization(name=f'tcn_ln_{block_num}_2')(x)\n",
    "    x = Activation('relu', name=f'tcn_relu_{block_num}_2')(x)\n",
    "    x = Dropout(0.3, name=f'tcn_dropout_{block_num}_2')(x)\n",
    "    \n",
    "    # Residual connection with projection if needed\n",
    "    if shortcut.shape[-1] != filters:\n",
    "        shortcut = Conv1D(filters, 1, padding='same', name=f'tcn_shortcut_{block_num}')(shortcut)\n",
    "    \n",
    "    x = Add(name=f'tcn_add_{block_num}')([x, shortcut])\n",
    "    x = Activation('relu', name=f'tcn_out_relu_{block_num}')(x)\n",
    "    return x\n",
    "\n",
    "# Enhanced TCN + Residual Blocks Model\n",
    "def build_model(sequence_len, img_size, csv_dim=674):\n",
    "    # MobileNet branch with more trainable layers\n",
    "    base_cnn = MobileNetV2(input_shape=(*img_size, 3), include_top=False, weights='imagenet')\n",
    "    base_cnn.trainable = True\n",
    "    # Fine-tune more layers for better feature extraction\n",
    "    for layer in base_cnn.layers[:-30]:\n",
    "        layer.trainable = False\n",
    "    \n",
    "    cnn_out = GlobalAveragePooling2D()(base_cnn.output)\n",
    "    cnn_model = Model(inputs=base_cnn.input, outputs=cnn_out)\n",
    "    \n",
    "    # Image sequence input\n",
    "    input_seq_img = Input(shape=(sequence_len, *img_size, 3), name='image_input')\n",
    "    x_img = TimeDistributed(cnn_model)(input_seq_img)\n",
    "    \n",
    "    # CSV features input\n",
    "    input_seq_csv = Input(shape=(sequence_len, csv_dim), name='csv_input')\n",
    "    \n",
    "    # BatchNormalization before fusion\n",
    "    x_img = BatchNormalization(name='bn_mobilenet')(x_img)\n",
    "    x_csv = BatchNormalization(name='bn_csv')(input_seq_csv)\n",
    "    \n",
    "    # Concatenate features (1-to-1 fusion)\n",
    "    x_combined = Concatenate(axis=-1, name='feature_fusion')([x_img, x_csv])\n",
    "    \n",
    "    # Enhanced TCN blocks with increased capacity (256 filters)\n",
    "    # Using dilations: 1, 2, 4, 8, 16, 32 for deeper temporal receptive field\n",
    "    x = x_combined\n",
    "    tcn_configs = [\n",
    "        (256, 3, 1),   # dilation=1\n",
    "        (256, 3, 2),   # dilation=2\n",
    "        (256, 3, 4),   # dilation=4\n",
    "        (256, 3, 8),   # dilation=8\n",
    "        (128, 3, 16),  # dilation=16, reduced filters\n",
    "        (128, 3, 32),  # dilation=32, reduced filters\n",
    "    ]\n",
    "    \n",
    "    for i, (filters, kernel_size, dilation_rate) in enumerate(tcn_configs):\n",
    "        x = tcn_residual_block(x, filters, kernel_size, dilation_rate, i+1)\n",
    "    \n",
    "    # Global average pooling over time dimension\n",
    "    x = GlobalAveragePooling1D(name='global_avg_pool')(x)\n",
    "    x = Dropout(0.3, name='dropout_global')(x)\n",
    "    \n",
    "    # Enhanced classification layers with more capacity\n",
    "    x = Dense(128, activation='relu', name='dense_1')(x)\n",
    "    x = BatchNormalization(name='bn_dense_1')(x)\n",
    "    x = Dropout(0.4, name='dropout_3')(x)\n",
    "    \n",
    "    x = Dense(64, activation='relu', name='dense_2')(x)\n",
    "    x = BatchNormalization(name='bn_dense_2')(x)\n",
    "    x = Dropout(0.3, name='dropout_4')(x)\n",
    "    \n",
    "    output = Dense(1, activation='sigmoid', name='output')(x)\n",
    "    \n",
    "    model = Model(inputs=[input_seq_img, input_seq_csv], outputs=output, name='TCN_Residual_Enhanced')\n",
    "    return model\n",
    "\n",
    "# HMM post-processing (SAME NAME, unchanged)\n",
    "def hmm_postprocess(pred_probs, y_true, n_states=2):\n",
    "    pred_probs = pred_probs.reshape(-1, 1)\n",
    "    hmm = GaussianHMM(n_components=n_states, covariance_type=\"diag\", n_iter=100)\n",
    "    hmm.fit(pred_probs)\n",
    "    hidden_states = hmm.predict(pred_probs)\n",
    "\n",
    "    mapping = {}\n",
    "    for state in np.unique(hidden_states):\n",
    "        indices = [i for i in range(len(hidden_states)) if hidden_states[i] == state]\n",
    "        state_labels = [y_true[i] for i in indices]\n",
    "        if len(state_labels) > 0:\n",
    "            mapped_label = mode(state_labels, keepdims=True).mode[0]\n",
    "        else:\n",
    "            mapped_label = 0\n",
    "        mapping[state] = mapped_label\n",
    "\n",
    "    hmm_labels = np.array([mapping[s] for s in hidden_states])\n",
    "    return hmm_labels\n",
    "\n",
    "# Training K-Fold\n",
    "print(\"\\n🚀 Starting Enhanced TCN + Residual Blocks Training:\")\n",
    "print(\"   ✅ TCN (6 blocks, dilations: 1/2/4/8/16/32)\")\n",
    "print(\"   ✅ Increased filters: 256 → 256 → 256 → 256 → 128 → 128\")\n",
    "print(\"   ✅ Layer Normalization after each conv layer\")\n",
    "print(\"   ✅ Enhanced data augmentation\")\n",
    "print(\"   ✅ Sequence length: 15 frames\")\n",
    "print(\"   ✅ MobileNet (last 30 layers trainable)\")\n",
    "print(\"   ✅ Stronger regularization (dropout 0.3-0.4)\")\n",
    "print(\"   ✅ HMM post-processing\\n\")\n",
    "\n",
    "skf = StratifiedKFold(n_splits=n_splits, shuffle=True, random_state=42)\n",
    "\n",
    "for fold, (trainval_idx, test_idx) in enumerate(skf.split(video_keys, video_labels), 1):\n",
    "    print(f\"\\n{'='*60}\")\n",
    "    print(f\"📊 Fold {fold}/{n_splits} - Enhanced TCN_Residual\")\n",
    "    print(f\"{'='*60}\")\n",
    "\n",
    "    trainval_keys = [video_keys[i] for i in trainval_idx]\n",
    "    test_keys = [video_keys[i] for i in test_idx]\n",
    "\n",
    "    y_trainval = [labels[k] for k in trainval_keys]\n",
    "    train_keys, val_keys = train_test_split(trainval_keys, test_size=0.15, stratify=y_trainval, random_state=fold)\n",
    "\n",
    "    train_gen = VideoSequence(train_keys, video_dict, labels, batch_size, img_size, sequence_len, augment=True)\n",
    "    val_gen = VideoSequence(val_keys, video_dict, labels, batch_size, img_size, sequence_len, augment=False)\n",
    "    test_gen = VideoSequence(test_keys, video_dict, labels, batch_size, img_size, sequence_len, augment=False)\n",
    "\n",
    "    model = build_model(sequence_len, img_size, csv_feature_dim)\n",
    "    \n",
    "    # Enhanced optimizer with learning rate\n",
    "    initial_lr = 1e-4\n",
    "    model.compile(\n",
    "        optimizer=Adamax(learning_rate=initial_lr),\n",
    "        loss='binary_crossentropy',\n",
    "        metrics=['accuracy']\n",
    "    )\n",
    "    \n",
    "    print(f\"\\n📈 Enhanced Model Architecture:\")\n",
    "    print(f\"   - Model: TCN (6 blocks, 256+256+256+256+128+128 filters)\")\n",
    "    print(f\"   - Total params: {model.count_params():,}\")\n",
    "    trainable_params = sum([tf.size(w).numpy() for w in model.trainable_weights])\n",
    "    print(f\"   - Trainable params: {trainable_params:,}\")\n",
    "    print(f\"   - Sequence length: {sequence_len}\")\n",
    "    print(f\"   - Batch size: {batch_size}\")\n",
    "    print(f\"   - Initial learning rate: {initial_lr}\")\n",
    "\n",
    "    model_path = f\"best_model_fold{fold}_tcn_res_enhanced.h5\"\n",
    "    checkpoint = ModelCheckpoint(model_path, monitor='val_accuracy', save_best_only=True, mode='max', verbose=1)\n",
    "    earlystop = EarlyStopping(monitor='val_accuracy', patience=10, restore_best_weights=True, verbose=1)\n",
    "    reduce_lr = ReduceLROnPlateau(monitor='val_loss', factor=0.5, patience=5, min_lr=1e-7, verbose=1)\n",
    "\n",
    "    history = model.fit(train_gen, validation_data=val_gen, epochs=epochs,\n",
    "                        callbacks=[checkpoint, earlystop, reduce_lr], verbose=1)\n",
    "    all_histories.append(history.history)\n",
    "\n",
    "    model.load_weights(model_path)\n",
    "\n",
    "    y_true = [labels[k] for k in test_keys]\n",
    "    y_pred_prob = model.predict(test_gen).ravel()\n",
    "    y_hmm_pred = hmm_postprocess(y_pred_prob, y_true)\n",
    "\n",
    "    results.append({\n",
    "        'fold': fold,\n",
    "        'accuracy': accuracy_score(y_true, y_hmm_pred),\n",
    "        'precision': precision_score(y_true, y_hmm_pred),\n",
    "        'recall': recall_score(y_true, y_hmm_pred),\n",
    "        'f1': f1_score(y_true, y_hmm_pred),\n",
    "        'auc': roc_auc_score(y_true, y_pred_prob)\n",
    "    })\n",
    "    \n",
    "    print(f\"\\n✅ Fold {fold} Results (Enhanced TCN_Residual):\")\n",
    "    print(f\"   Accuracy:  {results[-1]['accuracy']:.4f}\")\n",
    "    print(f\"   Precision: {results[-1]['precision']:.4f}\")\n",
    "    print(f\"   Recall:    {results[-1]['recall']:.4f}\")\n",
    "    print(f\"   F1 Score:  {results[-1]['f1']:.4f}\")\n",
    "    print(f\"   AUC:       {results[-1]['auc']:.4f}\")\n",
    "\n",
    "print(f\"\\n{'='*60}\")\n",
    "print(\"📊 FINAL RESULTS - Enhanced TCN_Residual Model\")\n",
    "print(f\"{'='*60}\")\n",
    "for r in results:\n",
    "    print(f\"Fold {r['fold']}: Acc={r['accuracy']:.4f}, Prec={r['precision']:.4f}, Rec={r['recall']:.4f}, F1={r['f1']:.4f}, AUC={r['auc']:.4f}\")\n",
    "\n",
    "print(f\"\\n📊 Average Metrics:\")\n",
    "results_df = pd.DataFrame(results)\n",
    "print(results_df.mean(numeric_only=True))\n",
    "\n",
    "# Calculate CV metrics\n",
    "accuracy_mean = results_df['accuracy'].mean()\n",
    "accuracy_std = results_df['accuracy'].std()\n",
    "accuracy_range = results_df['accuracy'].max() - results_df['accuracy'].min()\n",
    "accuracy_cv_percent = (accuracy_std / accuracy_mean) * 100\n",
    "\n",
    "print(f\"\\n📈 Cross-Validation Stability:\")\n",
    "print(f\"   Mean Accuracy: {accuracy_mean:.4f}\")\n",
    "print(f\"   Std Deviation: {accuracy_std:.4f}\")\n",
    "print(f\"   Range: {accuracy_range:.4f}\")\n",
    "print(f\"   CV%: {accuracy_cv_percent:.2f}%\")"
   ]
  },
  {
   "cell_type": "code",
   "execution_count": 9,
   "id": "5fdfa766",
   "metadata": {
    "ExecuteTime": {
     "end_time": "2025-06-17T01:45:10.343234Z",
     "start_time": "2025-06-17T01:45:10.278158Z"
    }
   },
   "outputs": [
    {
     "name": "stdout",
     "output_type": "stream",
     "text": [
      "📊 Kết quả trung bình:\n",
      "fold         3.000000\n",
      "accuracy     0.825700\n",
      "precision    0.805169\n",
      "recall       0.856660\n",
      "f1           0.829796\n",
      "auc          0.834114\n",
      "dtype: float64\n"
     ]
    },
    {
     "data": {
      "text/html": [
       "<div>\n",
       "<style scoped>\n",
       "    .dataframe tbody tr th:only-of-type {\n",
       "        vertical-align: middle;\n",
       "    }\n",
       "\n",
       "    .dataframe tbody tr th {\n",
       "        vertical-align: top;\n",
       "    }\n",
       "\n",
       "    .dataframe thead th {\n",
       "        text-align: right;\n",
       "    }\n",
       "</style>\n",
       "<table border=\"1\" class=\"dataframe\">\n",
       "  <thead>\n",
       "    <tr style=\"text-align: right;\">\n",
       "      <th></th>\n",
       "      <th>fold</th>\n",
       "      <th>accuracy</th>\n",
       "      <th>precision</th>\n",
       "      <th>recall</th>\n",
       "      <th>f1</th>\n",
       "      <th>auc</th>\n",
       "    </tr>\n",
       "  </thead>\n",
       "  <tbody>\n",
       "    <tr>\n",
       "      <th>0</th>\n",
       "      <td>1</td>\n",
       "      <td>0.884793</td>\n",
       "      <td>0.848739</td>\n",
       "      <td>0.935185</td>\n",
       "      <td>0.889868</td>\n",
       "      <td>0.943680</td>\n",
       "    </tr>\n",
       "    <tr>\n",
       "      <th>1</th>\n",
       "      <td>2</td>\n",
       "      <td>0.976959</td>\n",
       "      <td>0.955752</td>\n",
       "      <td>1.000000</td>\n",
       "      <td>0.977376</td>\n",
       "      <td>0.863660</td>\n",
       "    </tr>\n",
       "    <tr>\n",
       "      <th>2</th>\n",
       "      <td>3</td>\n",
       "      <td>0.880184</td>\n",
       "      <td>0.873874</td>\n",
       "      <td>0.889908</td>\n",
       "      <td>0.881818</td>\n",
       "      <td>0.921509</td>\n",
       "    </tr>\n",
       "    <tr>\n",
       "      <th>3</th>\n",
       "      <td>4</td>\n",
       "      <td>0.502304</td>\n",
       "      <td>0.504505</td>\n",
       "      <td>0.513761</td>\n",
       "      <td>0.509091</td>\n",
       "      <td>0.534659</td>\n",
       "    </tr>\n",
       "    <tr>\n",
       "      <th>4</th>\n",
       "      <td>5</td>\n",
       "      <td>0.884259</td>\n",
       "      <td>0.842975</td>\n",
       "      <td>0.944444</td>\n",
       "      <td>0.890830</td>\n",
       "      <td>0.907064</td>\n",
       "    </tr>\n",
       "  </tbody>\n",
       "</table>\n",
       "</div>"
      ],
      "text/plain": [
       "   fold  accuracy  precision    recall        f1       auc\n",
       "0     1  0.884793   0.848739  0.935185  0.889868  0.943680\n",
       "1     2  0.976959   0.955752  1.000000  0.977376  0.863660\n",
       "2     3  0.880184   0.873874  0.889908  0.881818  0.921509\n",
       "3     4  0.502304   0.504505  0.513761  0.509091  0.534659\n",
       "4     5  0.884259   0.842975  0.944444  0.890830  0.907064"
      ]
     },
     "execution_count": 9,
     "metadata": {},
     "output_type": "execute_result"
    }
   ],
   "source": [
    "results_df = pd.DataFrame(results)\n",
    "print(\"📊 Kết quả trung bình:\")\n",
    "print(results_df.mean(numeric_only=True))\n",
    "results_df\n"
   ]
  },
  {
   "cell_type": "code",
   "execution_count": 10,
   "id": "48802125",
   "metadata": {
    "ExecuteTime": {
     "end_time": "2025-06-14T07:31:56.035350Z",
     "start_time": "2025-06-14T07:31:50.121545Z"
    }
   },
   "outputs": [
    {
     "data": {
      "image/png": "[encoded data removed]",
      "text/plain": [
       "<Figure size 640x480 with 1 Axes>"
      ]
     },
     "metadata": {},
     "output_type": "display_data"
    },
    {
     "data": {
      "image/png": "[encoded data removed]",
      "text/plain": [
       "<Figure size 640x480 with 1 Axes>"
      ]
     },
     "metadata": {},
     "output_type": "display_data"
    },
    {
     "data": {
      "image/png": "[encoded data removed]",
      "text/plain": [
       "<Figure size 640x480 with 1 Axes>"
      ]
     },
     "metadata": {},
     "output_type": "display_data"
    },
    {
     "data": {
      "image/png": "[encoded data removed]",
      "text/plain": [
       "<Figure size 640x480 with 1 Axes>"
      ]
     },
     "metadata": {},
     "output_type": "display_data"
    },
    {
     "data": {
      "image/png": "[encoded data removed]",
      "text/plain": [
       "<Figure size 640x480 with 1 Axes>"
      ]
     },
     "metadata": {},
     "output_type": "display_data"
    },
    {
     "data": {
      "image/png": "[encoded data removed]",
      "text/plain": [
       "<Figure size 640x480 with 1 Axes>"
      ]
     },
     "metadata": {},
     "output_type": "display_data"
    },
    {
     "data": {
      "image/png": "[encoded data removed]",
      "text/plain": [
       "<Figure size 640x480 with 1 Axes>"
      ]
     },
     "metadata": {},
     "output_type": "display_data"
    },
    {
     "data": {
      "image/png": "[encoded data removed]",
      "text/plain": [
       "<Figure size 640x480 with 1 Axes>"
      ]
     },
     "metadata": {},
     "output_type": "display_data"
    },
    {
     "data": {
      "image/png": "[encoded data removed]",
      "text/plain": [
       "<Figure size 640x480 with 1 Axes>"
      ]
     },
     "metadata": {},
     "output_type": "display_data"
    },
    {
     "data": {
      "image/png": "[encoded data removed]",
      "text/plain": [
       "<Figure size 640x480 with 1 Axes>"
      ]
     },
     "metadata": {},
     "output_type": "display_data"
    }
   ],
   "source": [
    "for i, hist in enumerate(all_histories, 1):\n",
    "    plt.figure()\n",
    "    plt.plot(hist['accuracy'], label='Train Acc')\n",
    "    plt.plot(hist['val_accuracy'], label='Val Acc')\n",
    "    plt.title(f'Fold {i} Accuracy')\n",
    "    plt.xlabel('Epoch')\n",
    "    plt.ylabel('Accuracy')\n",
    "    plt.legend()\n",
    "    plt.grid(True)\n",
    "    plt.show()\n",
    "\n",
    "    plt.figure()\n",
    "    plt.plot(hist['loss'], label='Train Loss')\n",
    "    plt.plot(hist['val_loss'], label='Val Loss')\n",
    "    plt.title(f'Fold {i} Loss')\n",
    "    plt.xlabel('Epoch')\n",
    "    plt.ylabel('Loss')\n",
    "    plt.legend()\n",
    "    plt.grid(True)\n",
    "    plt.show()\n"
   ]
  },
  {
   "cell_type": "code",
   "execution_count": 11,
   "id": "2abc4c3f",
   "metadata": {
    "ExecuteTime": {
     "end_time": "2025-06-14T07:32:05.949380Z",
     "start_time": "2025-06-14T07:32:05.516519Z"
    }
   },
   "outputs": [
    {
     "name": "stderr",
     "output_type": "stream",
     "text": [
      "/home/huuquangdang/.local/lib/python3.10/site-packages/keras/src/engine/training.py:3079: UserWarning: You are saving your model as an HDF5 file via `model.save()`. This file format is considered legacy. We recommend using instead the native Keras format, e.g. `model.save('my_model.keras')`.\n",
      "  saving_api.save_model(\n"
     ]
    }
   ],
   "source": [
    "# Save mô hình fold cuối cùng\n",
    "model.save(\"mobilenetv2_hmm_faceplus_final.h5\")\n"
   ]
  },
  {
   "cell_type": "code",
   "execution_count": 12,
   "id": "9581629f-92c8-4d93-88f5-8c57f3197a4d",
   "metadata": {},
   "outputs": [
    {
     "name": "stdout",
     "output_type": "stream",
     "text": [
      "📊 Kết quả trung bình:\n",
      "fold         3.000000\n",
      "accuracy     0.825700\n",
      "precision    0.805169\n",
      "recall       0.856660\n",
      "f1           0.829796\n",
      "auc          0.834114\n",
      "dtype: float64\n"
     ]
    },
    {
     "data": {
      "text/html": [
       "<div>\n",
       "<style scoped>\n",
       "    .dataframe tbody tr th:only-of-type {\n",
       "        vertical-align: middle;\n",
       "    }\n",
       "\n",
       "    .dataframe tbody tr th {\n",
       "        vertical-align: top;\n",
       "    }\n",
       "\n",
       "    .dataframe thead th {\n",
       "        text-align: right;\n",
       "    }\n",
       "</style>\n",
       "<table border=\"1\" class=\"dataframe\">\n",
       "  <thead>\n",
       "    <tr style=\"text-align: right;\">\n",
       "      <th></th>\n",
       "      <th>fold</th>\n",
       "      <th>accuracy</th>\n",
       "      <th>precision</th>\n",
       "      <th>recall</th>\n",
       "      <th>f1</th>\n",
       "      <th>auc</th>\n",
       "    </tr>\n",
       "  </thead>\n",
       "  <tbody>\n",
       "    <tr>\n",
       "      <th>0</th>\n",
       "      <td>1</td>\n",
       "      <td>0.884793</td>\n",
       "      <td>0.848739</td>\n",
       "      <td>0.935185</td>\n",
       "      <td>0.889868</td>\n",
       "      <td>0.943680</td>\n",
       "    </tr>\n",
       "    <tr>\n",
       "      <th>1</th>\n",
       "      <td>2</td>\n",
       "      <td>0.976959</td>\n",
       "      <td>0.955752</td>\n",
       "      <td>1.000000</td>\n",
       "      <td>0.977376</td>\n",
       "      <td>0.863660</td>\n",
       "    </tr>\n",
       "    <tr>\n",
       "      <th>2</th>\n",
       "      <td>3</td>\n",
       "      <td>0.880184</td>\n",
       "      <td>0.873874</td>\n",
       "      <td>0.889908</td>\n",
       "      <td>0.881818</td>\n",
       "      <td>0.921509</td>\n",
       "    </tr>\n",
       "    <tr>\n",
       "      <th>3</th>\n",
       "      <td>4</td>\n",
       "      <td>0.502304</td>\n",
       "      <td>0.504505</td>\n",
       "      <td>0.513761</td>\n",
       "      <td>0.509091</td>\n",
       "      <td>0.534659</td>\n",
       "    </tr>\n",
       "    <tr>\n",
       "      <th>4</th>\n",
       "      <td>5</td>\n",
       "      <td>0.884259</td>\n",
       "      <td>0.842975</td>\n",
       "      <td>0.944444</td>\n",
       "      <td>0.890830</td>\n",
       "      <td>0.907064</td>\n",
       "    </tr>\n",
       "  </tbody>\n",
       "</table>\n",
       "</div>"
      ],
      "text/plain": [
       "   fold  accuracy  precision    recall        f1       auc\n",
       "0     1  0.884793   0.848739  0.935185  0.889868  0.943680\n",
       "1     2  0.976959   0.955752  1.000000  0.977376  0.863660\n",
       "2     3  0.880184   0.873874  0.889908  0.881818  0.921509\n",
       "3     4  0.502304   0.504505  0.513761  0.509091  0.534659\n",
       "4     5  0.884259   0.842975  0.944444  0.890830  0.907064"
      ]
     },
     "execution_count": 12,
     "metadata": {},
     "output_type": "execute_result"
    }
   ],
   "source": [
    "results_df = pd.DataFrame(results)\n",
    "print(\"📊 Kết quả trung bình:\")\n",
    "print(results_df.mean(numeric_only=True))\n",
    "results_df\n"
   ]
  },
  {
   "cell_type": "code",
   "execution_count": 13,
   "id": "3167c3f6-2212-4cde-ab07-1ae1449219bc",
   "metadata": {},
   "outputs": [
    {
     "name": "stdout",
     "output_type": "stream",
     "text": [
      "📊 Kết quả trung bình:\n",
      "fold         3.000000\n",
      "accuracy     0.825700\n",
      "precision    0.805169\n",
      "recall       0.856660\n",
      "f1           0.829796\n",
      "auc          0.834114\n",
      "dtype: float64\n",
      "\n",
      "✅ CV Accuracy (Mean Accuracy): 0.8257\n",
      "📈 Range Accuracy: 0.4747\n",
      "📉 Accuracy CV% (std/mean): 22.44%\n"
     ]
    },
    {
     "data": {
      "text/html": [
       "<div>\n",
       "<style scoped>\n",
       "    .dataframe tbody tr th:only-of-type {\n",
       "        vertical-align: middle;\n",
       "    }\n",
       "\n",
       "    .dataframe tbody tr th {\n",
       "        vertical-align: top;\n",
       "    }\n",
       "\n",
       "    .dataframe thead th {\n",
       "        text-align: right;\n",
       "    }\n",
       "</style>\n",
       "<table border=\"1\" class=\"dataframe\">\n",
       "  <thead>\n",
       "    <tr style=\"text-align: right;\">\n",
       "      <th></th>\n",
       "      <th>fold</th>\n",
       "      <th>accuracy</th>\n",
       "      <th>precision</th>\n",
       "      <th>recall</th>\n",
       "      <th>f1</th>\n",
       "      <th>auc</th>\n",
       "    </tr>\n",
       "  </thead>\n",
       "  <tbody>\n",
       "    <tr>\n",
       "      <th>0</th>\n",
       "      <td>1</td>\n",
       "      <td>0.884793</td>\n",
       "      <td>0.848739</td>\n",
       "      <td>0.935185</td>\n",
       "      <td>0.889868</td>\n",
       "      <td>0.943680</td>\n",
       "    </tr>\n",
       "    <tr>\n",
       "      <th>1</th>\n",
       "      <td>2</td>\n",
       "      <td>0.976959</td>\n",
       "      <td>0.955752</td>\n",
       "      <td>1.000000</td>\n",
       "      <td>0.977376</td>\n",
       "      <td>0.863660</td>\n",
       "    </tr>\n",
       "    <tr>\n",
       "      <th>2</th>\n",
       "      <td>3</td>\n",
       "      <td>0.880184</td>\n",
       "      <td>0.873874</td>\n",
       "      <td>0.889908</td>\n",
       "      <td>0.881818</td>\n",
       "      <td>0.921509</td>\n",
       "    </tr>\n",
       "    <tr>\n",
       "      <th>3</th>\n",
       "      <td>4</td>\n",
       "      <td>0.502304</td>\n",
       "      <td>0.504505</td>\n",
       "      <td>0.513761</td>\n",
       "      <td>0.509091</td>\n",
       "      <td>0.534659</td>\n",
       "    </tr>\n",
       "    <tr>\n",
       "      <th>4</th>\n",
       "      <td>5</td>\n",
       "      <td>0.884259</td>\n",
       "      <td>0.842975</td>\n",
       "      <td>0.944444</td>\n",
       "      <td>0.890830</td>\n",
       "      <td>0.907064</td>\n",
       "    </tr>\n",
       "  </tbody>\n",
       "</table>\n",
       "</div>"
      ],
      "text/plain": [
       "   fold  accuracy  precision    recall        f1       auc\n",
       "0     1  0.884793   0.848739  0.935185  0.889868  0.943680\n",
       "1     2  0.976959   0.955752  1.000000  0.977376  0.863660\n",
       "2     3  0.880184   0.873874  0.889908  0.881818  0.921509\n",
       "3     4  0.502304   0.504505  0.513761  0.509091  0.534659\n",
       "4     5  0.884259   0.842975  0.944444  0.890830  0.907064"
      ]
     },
     "execution_count": 13,
     "metadata": {},
     "output_type": "execute_result"
    }
   ],
   "source": [
    "import pandas as pd\n",
    "\n",
    "# Giả sử results đã có và bạn đã tạo results_df\n",
    "results_df = pd.DataFrame(results)\n",
    "\n",
    "# Tính các chỉ số\n",
    "accuracy_mean = results_df['accuracy'].mean()\n",
    "accuracy_std = results_df['accuracy'].std()  # dùng sample std (chia cho n-1)\n",
    "accuracy_range = results_df['accuracy'].max() - results_df['accuracy'].min()\n",
    "accuracy_cv_percent = (accuracy_std / accuracy_mean) * 100\n",
    "\n",
    "# In kết quả\n",
    "print(\"📊 Kết quả trung bình:\")\n",
    "print(results_df.mean(numeric_only=True))\n",
    "\n",
    "print(f\"\\n✅ CV Accuracy (Mean Accuracy): {accuracy_mean:.4f}\")\n",
    "print(f\"📈 Range Accuracy: {accuracy_range:.4f}\")\n",
    "print(f\"📉 Accuracy CV% (std/mean): {accuracy_cv_percent:.2f}%\")\n",
    "\n",
    "# Hiển thị bảng kết quả nếu cần\n",
    "results_df\n"
   ]
  },
  {
   "cell_type": "code",
   "execution_count": null,
   "id": "c5a4efdd-8ae0-4309-9f39-3a151116abb9",
   "metadata": {},
   "outputs": [],
   "source": []
  }
 ],
 "metadata": {
  "kernelspec": {
   "display_name": "Python 3",
   "language": "python",
   "name": "python3"
  },
  "language_info": {
   "codemirror_mode": {
    "name": "ipython",
    "version": 3
   },
   "file_extension": ".py",
   "mimetype": "text/x-python",
   "name": "python",
   "nbconvert_exporter": "python",
   "pygments_lexer": "ipython3",
   "version": "3.10.12"
  }
 },
 "nbformat": 4,
 "nbformat_minor": 5
}

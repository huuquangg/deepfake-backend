{
 "cells": [
  {
   "cell_type": "code",
   "execution_count": 1,
   "id": "149fd0c1",
   "metadata": {
    "ExecuteTime": {
     "start_time": "2025-08-11T05:59:50.208009Z"
    },
    "jupyter": {
     "is_executing": true
    }
   },
   "outputs": [],
   "source": [
    "# Built-in\n",
    "import os\n",
    "import cv2\n",
    "import numpy as np\n",
    "import pandas as pd\n",
    "import matplotlib.pyplot as plt\n",
    "\n",
    "# TensorFlow / Keras\n",
    "import tensorflow as tf\n",
    "from tensorflow.keras.models import Model\n",
    "from tensorflow.keras.layers import (\n",
    "    Input, TimeDistributed, GlobalAveragePooling2D, LSTM, Dense, Dropout\n",
    ")\n",
    "from tensorflow.keras.applications import MobileNetV2\n",
    "from tensorflow.keras.optimizers.legacy import SGD\n",
    "from tensorflow.keras.callbacks import EarlyStopping, ModelCheckpoint, ReduceLROnPlateau\n",
    "from tensorflow.keras.preprocessing.image import ImageDataGenerator\n",
    "\n",
    "# Scikit-learn\n",
    "from sklearn.model_selection import StratifiedKFold, train_test_split\n",
    "from sklearn.metrics import (\n",
    "    accuracy_score, precision_score, recall_score, f1_score, roc_auc_score\n",
    ")\n"
   ]
  },
  {
   "cell_type": "code",
   "execution_count": 2,
   "id": "46ecf6429cdc7d99",
   "metadata": {
    "ExecuteTime": {
     "end_time": "2025-08-10T16:22:57.809628Z",
     "start_time": "2025-08-10T16:22:57.466803Z"
    }
   },
   "outputs": [],
   "source": [
    "# Define the path to the dataset\n",
    "base_path = '/Users/admin/AIEngineer/DeepFakeProject/Dataset/celeb_df_crop'\n",
    "categories = ['fake', 'real']\n",
    "\n",
    "# Initialize a list to hold data\n",
    "data = []\n",
    "\n",
    "# Process each category\n",
    "for category in categories:\n",
    "    category_path = os.path.join(base_path, category)\n",
    "    for filename in os.listdir(category_path):\n",
    "        if filename.endswith('.jpg'):\n",
    "            try:\n",
    "                id_part, frame_part = filename.split('_frame_')\n",
    "                id_ = id_part.split('_')[0]\n",
    "                frame = frame_part.split('.')[0]\n",
    "                data.append({\n",
    "                    'filename': filename,\n",
    "                    'path': os.path.join(category_path, filename),\n",
    "                    'id': int(id_),\n",
    "                    'frame': int(frame),\n",
    "                    'label': category\n",
    "                })\n",
    "            except ValueError:\n",
    "                continue\n",
    "\n",
    "# Convert the data to a DataFrame\n",
    "df = pd.DataFrame(data)"
   ]
  },
  {
   "cell_type": "code",
   "execution_count": 3,
   "id": "fc17e5b3",
   "metadata": {
    "ExecuteTime": {
     "end_time": "2025-08-10T16:22:57.918450Z",
     "start_time": "2025-08-10T16:22:57.902365Z"
    }
   },
   "outputs": [
    {
     "data": {
      "text/html": [
       "<div>\n",
       "<style scoped>\n",
       "    .dataframe tbody tr th:only-of-type {\n",
       "        vertical-align: middle;\n",
       "    }\n",
       "\n",
       "    .dataframe tbody tr th {\n",
       "        vertical-align: top;\n",
       "    }\n",
       "\n",
       "    .dataframe thead th {\n",
       "        text-align: right;\n",
       "    }\n",
       "</style>\n",
       "<table border=\"1\" class=\"dataframe\">\n",
       "  <thead>\n",
       "    <tr style=\"text-align: right;\">\n",
       "      <th></th>\n",
       "      <th>filename</th>\n",
       "      <th>path</th>\n",
       "      <th>id</th>\n",
       "      <th>frame</th>\n",
       "      <th>label</th>\n",
       "      <th>label_id</th>\n",
       "    </tr>\n",
       "  </thead>\n",
       "  <tbody>\n",
       "    <tr>\n",
       "      <th>0</th>\n",
       "      <td>222_id32_0007_frame_0028.jpg</td>\n",
       "      <td>/Users/admin/AIEngineer/DeepFakeProject/Datase...</td>\n",
       "      <td>222</td>\n",
       "      <td>28</td>\n",
       "      <td>fake</td>\n",
       "      <td>0</td>\n",
       "    </tr>\n",
       "    <tr>\n",
       "      <th>1</th>\n",
       "      <td>522_id7_0003_frame_0027.jpg</td>\n",
       "      <td>/Users/admin/AIEngineer/DeepFakeProject/Datase...</td>\n",
       "      <td>522</td>\n",
       "      <td>27</td>\n",
       "      <td>fake</td>\n",
       "      <td>0</td>\n",
       "    </tr>\n",
       "    <tr>\n",
       "      <th>2</th>\n",
       "      <td>501_id60_0007_frame_0022.jpg</td>\n",
       "      <td>/Users/admin/AIEngineer/DeepFakeProject/Datase...</td>\n",
       "      <td>501</td>\n",
       "      <td>22</td>\n",
       "      <td>fake</td>\n",
       "      <td>0</td>\n",
       "    </tr>\n",
       "    <tr>\n",
       "      <th>3</th>\n",
       "      <td>487_id59_0008_frame_0023.jpg</td>\n",
       "      <td>/Users/admin/AIEngineer/DeepFakeProject/Datase...</td>\n",
       "      <td>487</td>\n",
       "      <td>23</td>\n",
       "      <td>fake</td>\n",
       "      <td>0</td>\n",
       "    </tr>\n",
       "    <tr>\n",
       "      <th>4</th>\n",
       "      <td>239_id34_0004_frame_0007.jpg</td>\n",
       "      <td>/Users/admin/AIEngineer/DeepFakeProject/Datase...</td>\n",
       "      <td>239</td>\n",
       "      <td>7</td>\n",
       "      <td>fake</td>\n",
       "      <td>0</td>\n",
       "    </tr>\n",
       "    <tr>\n",
       "      <th>...</th>\n",
       "      <td>...</td>\n",
       "      <td>...</td>\n",
       "      <td>...</td>\n",
       "      <td>...</td>\n",
       "      <td>...</td>\n",
       "      <td>...</td>\n",
       "    </tr>\n",
       "    <tr>\n",
       "      <th>32367</th>\n",
       "      <td>082_id1_0001_frame_0027.jpg</td>\n",
       "      <td>/Users/admin/AIEngineer/DeepFakeProject/Datase...</td>\n",
       "      <td>82</td>\n",
       "      <td>27</td>\n",
       "      <td>real</td>\n",
       "      <td>1</td>\n",
       "    </tr>\n",
       "    <tr>\n",
       "      <th>32368</th>\n",
       "      <td>186_id2_0001_frame_0007.jpg</td>\n",
       "      <td>/Users/admin/AIEngineer/DeepFakeProject/Datase...</td>\n",
       "      <td>186</td>\n",
       "      <td>7</td>\n",
       "      <td>real</td>\n",
       "      <td>1</td>\n",
       "    </tr>\n",
       "    <tr>\n",
       "      <th>32369</th>\n",
       "      <td>200_id30_0005_frame_0014.jpg</td>\n",
       "      <td>/Users/admin/AIEngineer/DeepFakeProject/Datase...</td>\n",
       "      <td>200</td>\n",
       "      <td>14</td>\n",
       "      <td>real</td>\n",
       "      <td>1</td>\n",
       "    </tr>\n",
       "    <tr>\n",
       "      <th>32370</th>\n",
       "      <td>460_id56_0007_frame_0012.jpg</td>\n",
       "      <td>/Users/admin/AIEngineer/DeepFakeProject/Datase...</td>\n",
       "      <td>460</td>\n",
       "      <td>12</td>\n",
       "      <td>real</td>\n",
       "      <td>1</td>\n",
       "    </tr>\n",
       "    <tr>\n",
       "      <th>32371</th>\n",
       "      <td>448_id55_0004_frame_0006.jpg</td>\n",
       "      <td>/Users/admin/AIEngineer/DeepFakeProject/Datase...</td>\n",
       "      <td>448</td>\n",
       "      <td>6</td>\n",
       "      <td>real</td>\n",
       "      <td>1</td>\n",
       "    </tr>\n",
       "  </tbody>\n",
       "</table>\n",
       "<p>32372 rows × 6 columns</p>\n",
       "</div>"
      ],
      "text/plain": [
       "                           filename  \\\n",
       "0      222_id32_0007_frame_0028.jpg   \n",
       "1       522_id7_0003_frame_0027.jpg   \n",
       "2      501_id60_0007_frame_0022.jpg   \n",
       "3      487_id59_0008_frame_0023.jpg   \n",
       "4      239_id34_0004_frame_0007.jpg   \n",
       "...                             ...   \n",
       "32367   082_id1_0001_frame_0027.jpg   \n",
       "32368   186_id2_0001_frame_0007.jpg   \n",
       "32369  200_id30_0005_frame_0014.jpg   \n",
       "32370  460_id56_0007_frame_0012.jpg   \n",
       "32371  448_id55_0004_frame_0006.jpg   \n",
       "\n",
       "                                                    path   id  frame label  \\\n",
       "0      /Users/admin/AIEngineer/DeepFakeProject/Datase...  222     28  fake   \n",
       "1      /Users/admin/AIEngineer/DeepFakeProject/Datase...  522     27  fake   \n",
       "2      /Users/admin/AIEngineer/DeepFakeProject/Datase...  501     22  fake   \n",
       "3      /Users/admin/AIEngineer/DeepFakeProject/Datase...  487     23  fake   \n",
       "4      /Users/admin/AIEngineer/DeepFakeProject/Datase...  239      7  fake   \n",
       "...                                                  ...  ...    ...   ...   \n",
       "32367  /Users/admin/AIEngineer/DeepFakeProject/Datase...   82     27  real   \n",
       "32368  /Users/admin/AIEngineer/DeepFakeProject/Datase...  186      7  real   \n",
       "32369  /Users/admin/AIEngineer/DeepFakeProject/Datase...  200     14  real   \n",
       "32370  /Users/admin/AIEngineer/DeepFakeProject/Datase...  460     12  real   \n",
       "32371  /Users/admin/AIEngineer/DeepFakeProject/Datase...  448      6  real   \n",
       "\n",
       "       label_id  \n",
       "0             0  \n",
       "1             0  \n",
       "2             0  \n",
       "3             0  \n",
       "4             0  \n",
       "...         ...  \n",
       "32367         1  \n",
       "32368         1  \n",
       "32369         1  \n",
       "32370         1  \n",
       "32371         1  \n",
       "\n",
       "[32372 rows x 6 columns]"
      ]
     },
     "execution_count": 3,
     "metadata": {},
     "output_type": "execute_result"
    }
   ],
   "source": [
    "# Đảm bảo đã có df_cropped.csv chứa đường dẫn ảnh đã crop\n",
    "df['label_id'] = df['label'].map({'fake': 0, 'real': 1})\n",
    "df\n"
   ]
  },
  {
   "cell_type": "code",
   "execution_count": 4,
   "id": "c24e6874-6fe8-4dff-9f0d-5c7d94337ca7",
   "metadata": {
    "ExecuteTime": {
     "end_time": "2025-08-10T16:22:59.606947Z",
     "start_time": "2025-08-10T16:22:58.045169Z"
    }
   },
   "outputs": [],
   "source": [
    "df['video_key'] = df['id'].astype(str) + \"_\" + df['label']\n",
    "\n",
    "from collections import defaultdict\n",
    "\n",
    "video_dict = defaultdict(list)\n",
    "labels = {}\n",
    "\n",
    "for _, row in df.iterrows():\n",
    "    key = row['video_key']\n",
    "    video_dict[key].append(row['path'])\n",
    "    labels[key] = row['label_id']\n"
   ]
  },
  {
   "cell_type": "code",
   "execution_count": null,
   "id": "3e96c251",
   "metadata": {
    "ExecuteTime": {
     "start_time": "2025-08-10T16:23:00.600633Z"
    },
    "jupyter": {
     "is_executing": true
    },
    "scrolled": true
   },
   "outputs": [
    {
     "name": "stdout",
     "output_type": "stream",
     "text": [
      "\n",
      "===== Fold 1 =====\n"
     ]
    },
    {
     "name": "stderr",
     "output_type": "stream",
     "text": [
      "2025-08-11 13:01:00.677695: I metal_plugin/src/device/metal_device.cc:1154] Metal device set to: Apple M4\n",
      "2025-08-11 13:01:00.677714: I metal_plugin/src/device/metal_device.cc:296] systemMemory: 16.00 GB\n",
      "2025-08-11 13:01:00.677719: I metal_plugin/src/device/metal_device.cc:313] maxCacheSize: 5.92 GB\n",
      "2025-08-11 13:01:00.677741: I tensorflow/core/common_runtime/pluggable_device/pluggable_device_factory.cc:306] Could not identify NUMA node of platform GPU ID 0, defaulting to 0. Your kernel may not have been built with NUMA support.\n",
      "2025-08-11 13:01:00.677751: I tensorflow/core/common_runtime/pluggable_device/pluggable_device_factory.cc:272] Created TensorFlow device (/job:localhost/replica:0/task:0/device:GPU:0 with 0 MB memory) -> physical PluggableDevice (device: 0, name: METAL, pci bus id: <undefined>)\n"
     ]
    },
    {
     "name": "stdout",
     "output_type": "stream",
     "text": [
      "Epoch 1/50\n"
     ]
    },
    {
     "name": "stderr",
     "output_type": "stream",
     "text": [
      "2025-08-11 13:01:03.054668: I tensorflow/core/grappler/optimizers/custom_graph_optimizer_registry.cc:117] Plugin optimizer for device_type GPU is enabled.\n"
     ]
    },
    {
     "name": "stdout",
     "output_type": "stream",
     "text": [
      "49/49 [==============================] - ETA: 0s - loss: 0.7215 - accuracy: 0.5103  \n",
      "Epoch 1: val_accuracy improved from -inf to 0.55172, saving model to best_model_fold1.h5\n"
     ]
    },
    {
     "name": "stderr",
     "output_type": "stream",
     "text": [
      "/opt/anaconda3/envs/environment_tf_216/lib/python3.9/site-packages/keras/src/engine/training.py:3103: UserWarning: You are saving your model as an HDF5 file via `model.save()`. This file format is considered legacy. We recommend using instead the native Keras format, e.g. `model.save('my_model.keras')`.\n",
      "  saving_api.save_model(\n"
     ]
    },
    {
     "name": "stdout",
     "output_type": "stream",
     "text": [
      "49/49 [==============================] - 31s 608ms/step - loss: 0.7215 - accuracy: 0.5103 - val_loss: 0.6800 - val_accuracy: 0.5517 - lr: 1.0000e-04\n",
      "Epoch 2/50\n",
      "41/49 [========================>.....] - ETA: 4s - loss: 0.7129 - accuracy: 0.5015 "
     ]
    }
   ],
   "source": [
    "# Chuẩn bị dữ liệu\n",
    "video_keys = list(video_dict.keys())\n",
    "video_labels = [labels[k] for k in video_keys]\n",
    "\n",
    "# Cấu hình\n",
    "img_size = (224, 224)\n",
    "batch_size = 16\n",
    "epochs = 50\n",
    "n_splits = 5\n",
    "sequence_len = 10\n",
    "results = []\n",
    "all_histories = []\n",
    "\n",
    "# Custom data generator để nạp chuỗi ảnh từ video_dict\n",
    "class VideoSequence(tf.keras.utils.Sequence):\n",
    "    def __init__(self, video_keys, video_dict, labels, batch_size, img_size, sequence_len=10, augment=False):\n",
    "        self.video_keys = video_keys\n",
    "        self.video_dict = video_dict\n",
    "        self.labels = labels\n",
    "        self.batch_size = batch_size\n",
    "        self.img_size = img_size\n",
    "        self.sequence_len = sequence_len\n",
    "        self.augment = augment\n",
    "        self.datagen = ImageDataGenerator(\n",
    "            rescale=1./255,\n",
    "            rotation_range=15 if augment else 0,\n",
    "            zoom_range=0.1 if augment else 0,\n",
    "            horizontal_flip=augment\n",
    "        )\n",
    "\n",
    "    def __len__(self):\n",
    "        return int(np.ceil(len(self.video_keys) / self.batch_size))\n",
    "\n",
    "    def __getitem__(self, idx):\n",
    "        batch_keys = self.video_keys[idx * self.batch_size:(idx + 1) * self.batch_size]\n",
    "        batch_X, batch_y = [], []\n",
    "\n",
    "        for key in batch_keys:\n",
    "            frames = video_dict[key][:self.sequence_len]\n",
    "            imgs = []\n",
    "            for path in frames:\n",
    "                img = cv2.imread(path)\n",
    "                img = cv2.resize(img, self.img_size)\n",
    "                img = self.datagen.random_transform(img) if self.augment else img\n",
    "                img = img.astype('float32') / 255.0\n",
    "                imgs.append(img)\n",
    "            while len(imgs) < self.sequence_len:\n",
    "                imgs.append(np.zeros((*self.img_size, 3), dtype='float32'))  # padding\n",
    "            batch_X.append(imgs)\n",
    "            batch_y.append(self.labels[key])\n",
    "\n",
    "        return np.array(batch_X), np.array(batch_y)\n",
    "\n",
    "# Hàm xây dựng mô hình\n",
    "def build_model(sequence_len, img_size):\n",
    "    base_cnn = MobileNetV2(input_shape=(*img_size, 3), include_top=False, weights='imagenet')\n",
    "\n",
    "    # Freeze toàn bộ backbone để giảm overfit\n",
    "    base_cnn.trainable = False\n",
    "\n",
    "    # CNN feature extractor\n",
    "    cnn_out = GlobalAveragePooling2D()(base_cnn.output)\n",
    "    cnn_model = Model(inputs=base_cnn.input, outputs=cnn_out)\n",
    "\n",
    "    # Sequence input\n",
    "    input_seq = Input(shape=(sequence_len, *img_size, 3))\n",
    "    x = TimeDistributed(cnn_model)(input_seq)\n",
    "\n",
    "    # LSTM đơn giản hơn\n",
    "    x = LSTM(64, return_sequences=False)(x)\n",
    "    x = Dropout(0.5)(x)\n",
    "\n",
    "    # Không dùng nhiều Dense, chỉ một đầu ra\n",
    "    output = Dense(1, activation='sigmoid')(x)\n",
    "\n",
    "    model = Model(inputs=input_seq, outputs=output)\n",
    "    return model\n",
    "\n",
    "# K-Fold huấn luyện\n",
    "skf = StratifiedKFold(n_splits=n_splits, shuffle=True, random_state=42)\n",
    "\n",
    "for fold, (trainval_idx, test_idx) in enumerate(skf.split(video_keys, video_labels), 1):\n",
    "    print(f\"\\n===== Fold {fold} =====\")\n",
    "\n",
    "    trainval_keys = [video_keys[i] for i in trainval_idx]\n",
    "    test_keys = [video_keys[i] for i in test_idx]\n",
    "\n",
    "    y_trainval = [labels[k] for k in trainval_keys]\n",
    "    train_keys, val_keys = train_test_split(trainval_keys, test_size=0.1, stratify=y_trainval, random_state=fold)\n",
    "\n",
    "    train_gen = VideoSequence(train_keys, video_dict, labels, batch_size, img_size, sequence_len, augment=True)\n",
    "    val_gen   = VideoSequence(val_keys, video_dict, labels, batch_size, img_size, sequence_len, augment=False)\n",
    "    test_gen  = VideoSequence(test_keys, video_dict, labels, batch_size, img_size, sequence_len, augment=False)\n",
    "\n",
    "    model = build_model(sequence_len, img_size)\n",
    "    model.compile(optimizer=SGD(1e-4), loss='binary_crossentropy', metrics=['accuracy'])\n",
    "\n",
    "    model_path = f\"best_model_fold{fold}.h5\"\n",
    "    checkpoint = ModelCheckpoint(model_path, monitor='val_accuracy', save_best_only=True, mode='max', verbose=1)\n",
    "    earlystop = EarlyStopping(monitor='val_accuracy', patience=4, restore_best_weights=True)\n",
    "    reduce_lr = ReduceLROnPlateau(monitor='val_loss', factor=0.5, patience=2, min_lr=1e-6)\n",
    "\n",
    "    history = model.fit(train_gen, validation_data=val_gen,\n",
    "                        epochs=epochs, callbacks=[checkpoint, earlystop, reduce_lr], verbose=1)\n",
    "\n",
    "    all_histories.append(history.history)\n",
    "\n",
    "    model.load_weights(model_path)\n",
    "\n",
    "    y_true = [labels[k] for k in test_keys]\n",
    "    y_pred_prob = model.predict(test_gen).ravel()\n",
    "    y_pred = (y_pred_prob > 0.5).astype(int)\n",
    "\n",
    "    results.append({\n",
    "        'fold': fold,\n",
    "        'accuracy': accuracy_score(y_true, y_pred),\n",
    "        'precision': precision_score(y_true, y_pred),\n",
    "        'recall': recall_score(y_true, y_pred),\n",
    "        'f1': f1_score(y_true, y_pred),\n",
    "        'auc': roc_auc_score(y_true, y_pred_prob)\n",
    "    })\n",
    "\n",
    "# Tổng kết kết quả\n",
    "print(\"\\n📊 Tổng kết kết quả các fold:\")\n",
    "for r in results:\n",
    "    print(f\"Fold {r['fold']}: Accuracy={r['accuracy']:.4f}, F1={r['f1']:.4f}, AUC={r['auc']:.4f}\")\n"
   ]
  },
  {
   "cell_type": "code",
   "execution_count": null,
   "id": "5fdfa766",
   "metadata": {
    "ExecuteTime": {
     "end_time": "2025-08-10T03:04:52.400095Z",
     "start_time": "2025-08-03T17:19:57.384110Z"
    }
   },
   "outputs": [],
   "source": [
    "results_df = pd.DataFrame(results)\n",
    "print(\"📊 Kết quả trung bình:\")\n",
    "print(results_df.mean(numeric_only=True))\n",
    "results_df\n"
   ]
  },
  {
   "cell_type": "code",
   "execution_count": null,
   "id": "48802125",
   "metadata": {
    "ExecuteTime": {
     "end_time": "2025-08-10T03:04:52.428964Z",
     "start_time": "2025-08-03T17:19:57.534157Z"
    }
   },
   "outputs": [],
   "source": [
    "for i, hist in enumerate(all_histories, 1):\n",
    "    plt.figure()\n",
    "    plt.plot(hist['accuracy'], label='Train Acc')\n",
    "    plt.plot(hist['val_accuracy'], label='Val Acc')\n",
    "    plt.title(f'Fold {i} Accuracy')\n",
    "    plt.xlabel('Epoch')\n",
    "    plt.ylabel('Accuracy')\n",
    "    plt.legend()\n",
    "    plt.grid(True)\n",
    "    plt.show()\n",
    "\n",
    "    plt.figure()\n",
    "    plt.plot(hist['loss'], label='Train Loss')\n",
    "    plt.plot(hist['val_loss'], label='Val Loss')\n",
    "    plt.title(f'Fold {i} Loss')\n",
    "    plt.xlabel('Epoch')\n",
    "    plt.ylabel('Loss')\n",
    "    plt.legend()\n",
    "    plt.grid(True)\n",
    "    plt.show()\n"
   ]
  },
  {
   "cell_type": "code",
   "execution_count": null,
   "id": "2abc4c3f",
   "metadata": {
    "ExecuteTime": {
     "end_time": "2025-08-10T03:04:52.432855Z",
     "start_time": "2025-08-03T17:19:58.322224Z"
    }
   },
   "outputs": [],
   "source": [
    "# Save mô hình fold cuối cùng\n",
    "model.save(\"ModelWeights.h5\")\n"
   ]
  },
  {
   "cell_type": "code",
   "execution_count": null,
   "id": "d0aba11141c69191",
   "metadata": {
    "ExecuteTime": {
     "end_time": "2025-08-10T03:04:52.450390Z",
     "start_time": "2025-08-03T17:19:58.507910Z"
    }
   },
   "outputs": [],
   "source": [
    "import pandas as pd\n",
    "\n",
    "# Giả sử results đã có và bạn đã tạo results_df\n",
    "results_df = pd.DataFrame(results)\n",
    "\n",
    "# Tính các chỉ số\n",
    "accuracy_mean = results_df['accuracy'].mean()\n",
    "accuracy_std = results_df['accuracy'].std()  # dùng sample std (chia cho n-1)\n",
    "accuracy_range = results_df['accuracy'].max() - results_df['accuracy'].min()\n",
    "accuracy_cv_percent = (accuracy_std / accuracy_mean) * 100\n",
    "\n",
    "# In kết quả\n",
    "print(\"📊 Kết quả trung bình:\")\n",
    "print(results_df.mean(numeric_only=True))\n",
    "\n",
    "print(f\"\\n✅ CV Accuracy (Mean Accuracy): {accuracy_mean:.4f}\")\n",
    "print(f\"📈 Range Accuracy: {accuracy_range:.4f}\")\n",
    "print(f\"📉 Accuracy CV% (std/mean): {accuracy_cv_percent:.2f}%\")\n",
    "\n",
    "# Hiển thị bảng kết quả nếu cần\n",
    "results_df\n"
   ]
  }
 ],
 "metadata": {
  "kernelspec": {
   "display_name": "Python 3 (ipykernel)",
   "language": "python",
   "name": "python3"
  },
  "language_info": {
   "codemirror_mode": {
    "name": "ipython",
    "version": 3
   },
   "file_extension": ".py",
   "mimetype": "text/x-python",
   "name": "python",
   "nbconvert_exporter": "python",
   "pygments_lexer": "ipython3",
   "version": "3.9.23"
  }
 },
 "nbformat": 4,
 "nbformat_minor": 5
}

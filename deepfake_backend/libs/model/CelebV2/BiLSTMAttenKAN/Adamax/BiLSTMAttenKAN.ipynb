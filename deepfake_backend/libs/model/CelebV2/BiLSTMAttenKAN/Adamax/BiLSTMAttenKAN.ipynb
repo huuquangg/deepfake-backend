{
 "cells": [
  {
   "cell_type": "code",
   "execution_count": 1,
   "id": "ecb6a351",
   "metadata": {},
   "outputs": [],
   "source": [
    "# %pip install -r /home/huuquangdang/huu.quang.dang/thesis/deepfake/deepfake_backend/libs/model/CelebV2/requirements.txt\n",
    "\n",
    "# # Step 1: Uninstall incompatible NumPy version\n",
    "# %pip uninstall numpy -y\n",
    "# # Step 2: Install compatible NumPy version (< 2.0.0)\n",
    "# %pip install \"numpy>=1.21.0,<2.0.0\"\n",
    "# # Step 3: Verify NumPy version\n",
    "# import numpy as np\n",
    "# print(f\"✅ NumPy version: {np.__version__}\")\n",
    "# print(f\"Expected: < 2.0.0 (you should see 1.x.x)\")"
   ]
  },
  {
   "cell_type": "code",
   "execution_count": 2,
   "id": "149fd0c1",
   "metadata": {
    "ExecuteTime": {
     "end_time": "2025-08-13T09:44:38.582738Z",
     "start_time": "2025-08-13T09:44:38.568745Z"
    }
   },
   "outputs": [
    {
     "name": "stderr",
     "output_type": "stream",
     "text": [
      "2025-10-15 23:39:29.511687: I tensorflow/core/util/port.cc:111] oneDNN custom operations are on. You may see slightly different numerical results due to floating-point round-off errors from different computation orders. To turn them off, set the environment variable `TF_ENABLE_ONEDNN_OPTS=0`.\n",
      "2025-10-15 23:39:29.580457: I tensorflow/tsl/cuda/cudart_stub.cc:28] Could not find cuda drivers on your machine, GPU will not be used.\n",
      "2025-10-15 23:39:29.955507: E tensorflow/compiler/xla/stream_executor/cuda/cuda_dnn.cc:9342] Unable to register cuDNN factory: Attempting to register factory for plugin cuDNN when one has already been registered\n",
      "2025-10-15 23:39:29.955631: E tensorflow/compiler/xla/stream_executor/cuda/cuda_fft.cc:609] Unable to register cuFFT factory: Attempting to register factory for plugin cuFFT when one has already been registered\n",
      "2025-10-15 23:39:29.958292: E tensorflow/compiler/xla/stream_executor/cuda/cuda_blas.cc:1518] Unable to register cuBLAS factory: Attempting to register factory for plugin cuBLAS when one has already been registered\n",
      "2025-10-15 23:39:30.205719: I tensorflow/tsl/cuda/cudart_stub.cc:28] Could not find cuda drivers on your machine, GPU will not be used.\n",
      "2025-10-15 23:39:30.208408: I tensorflow/core/platform/cpu_feature_guard.cc:182] This TensorFlow binary is optimized to use available CPU instructions in performance-critical operations.\n",
      "To enable the following instructions: AVX2 AVX_VNNI FMA, in other operations, rebuild TensorFlow with the appropriate compiler flags.\n",
      "2025-10-15 23:39:31.181403: W tensorflow/compiler/tf2tensorrt/utils/py_utils.cc:38] TF-TRT Warning: Could not find TensorRT\n"
     ]
    }
   ],
   "source": [
    "# Built-in\n",
    "import os\n",
    "import cv2\n",
    "import numpy as np\n",
    "import pandas as pd\n",
    "import matplotlib.pyplot as plt\n",
    "\n",
    "# TensorFlow / Keras\n",
    "import tensorflow as tf\n",
    "from tensorflow.keras.models import Model\n",
    "from tensorflow.keras.layers import (\n",
    "    Input, TimeDistributed, GlobalAveragePooling2D, LSTM, Dense, Dropout\n",
    ")\n",
    "from tensorflow.keras.applications import MobileNetV2\n",
    "from tensorflow.keras.optimizers.legacy import Adam\n",
    "from tensorflow.keras.callbacks import EarlyStopping, ModelCheckpoint, ReduceLROnPlateau\n",
    "from tensorflow.keras.preprocessing.image import ImageDataGenerator\n",
    "\n",
    "# Scikit-learn\n",
    "from sklearn.model_selection import StratifiedKFold, train_test_split\n",
    "from sklearn.metrics import (\n",
    "    accuracy_score, precision_score, recall_score, f1_score, roc_auc_score\n",
    ")"
   ]
  },
  {
   "cell_type": "code",
   "execution_count": 3,
   "id": "46ecf6429cdc7d99",
   "metadata": {
    "ExecuteTime": {
     "end_time": "2025-06-16T15:06:51.462172Z",
     "start_time": "2025-06-16T15:06:51.281795Z"
    }
   },
   "outputs": [],
   "source": [
    "# Define the path to the dataset\n",
    "base_path = '/home/huuquangdang/huu.quang.dang/thesis/Dataset/celeb_df_crop'\n",
    "categories = ['fake', 'real']\n",
    "\n",
    "# Initialize a list to hold data\n",
    "data = []\n",
    "\n",
    "# Process each category\n",
    "for category in categories:\n",
    "    category_path = os.path.join(base_path, category)\n",
    "    for filename in os.listdir(category_path):\n",
    "        if filename.endswith('.jpg'):\n",
    "            try:\n",
    "                id_part, frame_part = filename.split('_frame_')\n",
    "                id_ = id_part.split('_')[0]\n",
    "                frame = frame_part.split('.')[0]\n",
    "                data.append({\n",
    "                    'filename': filename,\n",
    "                    'path': os.path.join(category_path, filename),\n",
    "                    'id': int(id_),\n",
    "                    'frame': int(frame),\n",
    "                    'label': category\n",
    "                })\n",
    "            except ValueError:\n",
    "                continue\n",
    "\n",
    "# Convert the data to a DataFrame\n",
    "df = pd.DataFrame(data)"
   ]
  },
  {
   "cell_type": "code",
   "execution_count": 4,
   "id": "fc17e5b3",
   "metadata": {
    "ExecuteTime": {
     "end_time": "2025-06-16T15:06:53.591689Z",
     "start_time": "2025-06-16T15:06:53.575495Z"
    }
   },
   "outputs": [
    {
     "data": {
      "text/html": [
       "<div>\n",
       "<style scoped>\n",
       "    .dataframe tbody tr th:only-of-type {\n",
       "        vertical-align: middle;\n",
       "    }\n",
       "\n",
       "    .dataframe tbody tr th {\n",
       "        vertical-align: top;\n",
       "    }\n",
       "\n",
       "    .dataframe thead th {\n",
       "        text-align: right;\n",
       "    }\n",
       "</style>\n",
       "<table border=\"1\" class=\"dataframe\">\n",
       "  <thead>\n",
       "    <tr style=\"text-align: right;\">\n",
       "      <th></th>\n",
       "      <th>filename</th>\n",
       "      <th>path</th>\n",
       "      <th>id</th>\n",
       "      <th>frame</th>\n",
       "      <th>label</th>\n",
       "      <th>label_id</th>\n",
       "    </tr>\n",
       "  </thead>\n",
       "  <tbody>\n",
       "    <tr>\n",
       "      <th>0</th>\n",
       "      <td>264_id37_0009_frame_0001.jpg</td>\n",
       "      <td>/home/huuquangdang/huu.quang.dang/thesis/Datas...</td>\n",
       "      <td>264</td>\n",
       "      <td>1</td>\n",
       "      <td>fake</td>\n",
       "      <td>0</td>\n",
       "    </tr>\n",
       "    <tr>\n",
       "      <th>1</th>\n",
       "      <td>271_id38_0006_frame_0014.jpg</td>\n",
       "      <td>/home/huuquangdang/huu.quang.dang/thesis/Datas...</td>\n",
       "      <td>271</td>\n",
       "      <td>14</td>\n",
       "      <td>fake</td>\n",
       "      <td>0</td>\n",
       "    </tr>\n",
       "    <tr>\n",
       "      <th>2</th>\n",
       "      <td>015_id10_0006_frame_0027.jpg</td>\n",
       "      <td>/home/huuquangdang/huu.quang.dang/thesis/Datas...</td>\n",
       "      <td>15</td>\n",
       "      <td>27</td>\n",
       "      <td>fake</td>\n",
       "      <td>0</td>\n",
       "    </tr>\n",
       "    <tr>\n",
       "      <th>3</th>\n",
       "      <td>392_id4_0007_frame_0028.jpg</td>\n",
       "      <td>/home/huuquangdang/huu.quang.dang/thesis/Datas...</td>\n",
       "      <td>392</td>\n",
       "      <td>28</td>\n",
       "      <td>fake</td>\n",
       "      <td>0</td>\n",
       "    </tr>\n",
       "    <tr>\n",
       "      <th>4</th>\n",
       "      <td>029_id11_0010_frame_0004.jpg</td>\n",
       "      <td>/home/huuquangdang/huu.quang.dang/thesis/Datas...</td>\n",
       "      <td>29</td>\n",
       "      <td>4</td>\n",
       "      <td>fake</td>\n",
       "      <td>0</td>\n",
       "    </tr>\n",
       "    <tr>\n",
       "      <th>...</th>\n",
       "      <td>...</td>\n",
       "      <td>...</td>\n",
       "      <td>...</td>\n",
       "      <td>...</td>\n",
       "      <td>...</td>\n",
       "      <td>...</td>\n",
       "    </tr>\n",
       "    <tr>\n",
       "      <th>32367</th>\n",
       "      <td>475_id58_0004_frame_0012.jpg</td>\n",
       "      <td>/home/huuquangdang/huu.quang.dang/thesis/Datas...</td>\n",
       "      <td>475</td>\n",
       "      <td>12</td>\n",
       "      <td>real</td>\n",
       "      <td>1</td>\n",
       "    </tr>\n",
       "    <tr>\n",
       "      <th>32368</th>\n",
       "      <td>014_id10_0005_frame_0012.jpg</td>\n",
       "      <td>/home/huuquangdang/huu.quang.dang/thesis/Datas...</td>\n",
       "      <td>14</td>\n",
       "      <td>12</td>\n",
       "      <td>real</td>\n",
       "      <td>1</td>\n",
       "    </tr>\n",
       "    <tr>\n",
       "      <th>32369</th>\n",
       "      <td>365_id48_0000_frame_0023.jpg</td>\n",
       "      <td>/home/huuquangdang/huu.quang.dang/thesis/Datas...</td>\n",
       "      <td>365</td>\n",
       "      <td>23</td>\n",
       "      <td>real</td>\n",
       "      <td>1</td>\n",
       "    </tr>\n",
       "    <tr>\n",
       "      <th>32370</th>\n",
       "      <td>091_id20_0000_frame_0026.jpg</td>\n",
       "      <td>/home/huuquangdang/huu.quang.dang/thesis/Datas...</td>\n",
       "      <td>91</td>\n",
       "      <td>26</td>\n",
       "      <td>real</td>\n",
       "      <td>1</td>\n",
       "    </tr>\n",
       "    <tr>\n",
       "      <th>32371</th>\n",
       "      <td>356_id47_0001_frame_0019.jpg</td>\n",
       "      <td>/home/huuquangdang/huu.quang.dang/thesis/Datas...</td>\n",
       "      <td>356</td>\n",
       "      <td>19</td>\n",
       "      <td>real</td>\n",
       "      <td>1</td>\n",
       "    </tr>\n",
       "  </tbody>\n",
       "</table>\n",
       "<p>32372 rows × 6 columns</p>\n",
       "</div>"
      ],
      "text/plain": [
       "                           filename  \\\n",
       "0      264_id37_0009_frame_0001.jpg   \n",
       "1      271_id38_0006_frame_0014.jpg   \n",
       "2      015_id10_0006_frame_0027.jpg   \n",
       "3       392_id4_0007_frame_0028.jpg   \n",
       "4      029_id11_0010_frame_0004.jpg   \n",
       "...                             ...   \n",
       "32367  475_id58_0004_frame_0012.jpg   \n",
       "32368  014_id10_0005_frame_0012.jpg   \n",
       "32369  365_id48_0000_frame_0023.jpg   \n",
       "32370  091_id20_0000_frame_0026.jpg   \n",
       "32371  356_id47_0001_frame_0019.jpg   \n",
       "\n",
       "                                                    path   id  frame label  \\\n",
       "0      /home/huuquangdang/huu.quang.dang/thesis/Datas...  264      1  fake   \n",
       "1      /home/huuquangdang/huu.quang.dang/thesis/Datas...  271     14  fake   \n",
       "2      /home/huuquangdang/huu.quang.dang/thesis/Datas...   15     27  fake   \n",
       "3      /home/huuquangdang/huu.quang.dang/thesis/Datas...  392     28  fake   \n",
       "4      /home/huuquangdang/huu.quang.dang/thesis/Datas...   29      4  fake   \n",
       "...                                                  ...  ...    ...   ...   \n",
       "32367  /home/huuquangdang/huu.quang.dang/thesis/Datas...  475     12  real   \n",
       "32368  /home/huuquangdang/huu.quang.dang/thesis/Datas...   14     12  real   \n",
       "32369  /home/huuquangdang/huu.quang.dang/thesis/Datas...  365     23  real   \n",
       "32370  /home/huuquangdang/huu.quang.dang/thesis/Datas...   91     26  real   \n",
       "32371  /home/huuquangdang/huu.quang.dang/thesis/Datas...  356     19  real   \n",
       "\n",
       "       label_id  \n",
       "0             0  \n",
       "1             0  \n",
       "2             0  \n",
       "3             0  \n",
       "4             0  \n",
       "...         ...  \n",
       "32367         1  \n",
       "32368         1  \n",
       "32369         1  \n",
       "32370         1  \n",
       "32371         1  \n",
       "\n",
       "[32372 rows x 6 columns]"
      ]
     },
     "execution_count": 4,
     "metadata": {},
     "output_type": "execute_result"
    }
   ],
   "source": [
    "# Đảm bảo đã có df_cropped.csv chứa đường dẫn ảnh đã crop\n",
    "df['label_id'] = df['label'].map({'fake': 0, 'real': 1})\n",
    "df\n"
   ]
  },
  {
   "cell_type": "code",
   "execution_count": 5,
   "id": "c24e6874-6fe8-4dff-9f0d-5c7d94337ca7",
   "metadata": {
    "ExecuteTime": {
     "end_time": "2025-06-16T15:06:56.671685Z",
     "start_time": "2025-06-16T15:06:55.874053Z"
    }
   },
   "outputs": [],
   "source": [
    "df['video_key'] = df['id'].astype(str) + \"_\" + df['label']\n",
    "\n",
    "from collections import defaultdict\n",
    "\n",
    "video_dict = defaultdict(list)\n",
    "labels = {}\n",
    "\n",
    "for _, row in df.iterrows():\n",
    "    key = row['video_key']\n",
    "    video_dict[key].append(row['path'])\n",
    "    labels[key] = row['label_id']\n"
   ]
  },
  {
   "cell_type": "code",
   "execution_count": 6,
   "id": "fc8891d0-4a1f-4bcd-97f2-0b9577706cb5",
   "metadata": {
    "ExecuteTime": {
     "end_time": "2025-06-16T06:50:19.887250Z",
     "start_time": "2025-06-16T06:50:19.279020Z"
    }
   },
   "outputs": [],
   "source": [
    "# !pip install opencv-python"
   ]
  },
  {
   "cell_type": "code",
   "execution_count": 7,
   "id": "016d786b",
   "metadata": {},
   "outputs": [
    {
     "name": "stdout",
     "output_type": "stream",
     "text": [
      "📂 Loading pre-extracted OpenFace features from CSV files...\n",
      "✅ Loaded 16223 feature vectors\n",
      "✅ Each vector has 674 dimensions\n",
      "✅ Feature dictionary ready for 1-to-1 frame mapping\n"
     ]
    }
   ],
   "source": [
    "# Load pre-extracted CSV features for feature fusion\n",
    "print(\"📂 Loading pre-extracted OpenFace features from CSV files...\")\n",
    "csv_fake_path = '/home/huuquangdang/huu.quang.dang/thesis/deepfake/deepfake_backend/libs/tools/fake/op_vectors_fake_v1.csv'\n",
    "csv_real_path = '/home/huuquangdang/huu.quang.dang/thesis/deepfake/deepfake_backend/libs/tools/real/op_vectors_real_v1.csv'\n",
    "\n",
    "df_fake_features = pd.read_csv(csv_fake_path, header=None)\n",
    "df_real_features = pd.read_csv(csv_real_path, header=None)\n",
    "\n",
    "# Combine both dataframes\n",
    "df_all_features = pd.concat([df_fake_features, df_real_features], ignore_index=True)\n",
    "df_all_features.columns = ['filename'] + [f'feat_{i}' for i in range(df_all_features.shape[1] - 1)]\n",
    "\n",
    "# Create a dictionary for fast lookup: filename -> features\n",
    "openface_features = {}\n",
    "for _, row in df_all_features.iterrows():\n",
    "    filename = row['filename']\n",
    "    features = row.iloc[1:].values.astype('float32')\n",
    "    openface_features[filename] = features\n",
    "\n",
    "csv_feature_dim = len(features)\n",
    "print(f\"✅ Loaded {len(openface_features)} feature vectors\")\n",
    "print(f\"✅ Each vector has {csv_feature_dim} dimensions\")\n",
    "print(f\"✅ Feature dictionary ready for 1-to-1 frame mapping\")"
   ]
  },
  {
   "cell_type": "markdown",
   "id": "8dfba17a",
   "metadata": {},
   "source": [
    "# 🔬 Alternative Model: BiLSTM + Attention + KAN\n",
    "\n",
    "This cell implements **BiLSTM with Attention mechanism** instead of standard LSTM, while maintaining:\n",
    "- ✅ Same function names (`VideoSequence`, `build_model`, `hmm_postprocess`)\n",
    "- ✅ Same 1-to-1 feature fusion (MobileNet + CSV)\n",
    "- ✅ Same normalization strategy\n",
    "- ✅ Enhanced with Bidirectional LSTM and Attention layer"
   ]
  },
  {
   "cell_type": "code",
   "execution_count": 8,
   "id": "c93d1567",
   "metadata": {},
   "outputs": [
    {
     "name": "stdout",
     "output_type": "stream",
     "text": [
      "🔧 Computing CSV feature statistics for normalization...\n",
      "✅ CSV feature normalization fitted on 10840 samples\n",
      "\n",
      "🚀 Starting BiLSTM + Attention + KAN Training:\n",
      "   ✅ Bidirectional LSTM (128 + 64 units)\n",
      "   ✅ Keras Attention mechanism (robust)\n",
      "   ✅ Normalized CSV features (1-to-1 mapping)\n",
      "   ✅ MobileNet (last 20 layers trainable)\n",
      "   ✅ KAN output layer\n",
      "   ✅ HMM post-processing\n",
      "\n",
      "\n",
      "============================================================\n",
      "📊 Fold 1/5 - BiLSTM_Attention_KAN\n",
      "============================================================\n",
      "\n",
      "📈 Model Architecture:\n",
      "   - Model: BiLSTM + Attention + KAN\n",
      "   - Total params: 4,574,153\n",
      "   - Trainable params: 3,517,957\n",
      "   - BiLSTM: 128 + 64 units (bidirectional)\n",
      "   - Attention: Keras Attention layer (robust)\n",
      "   - Learning rate: 3e-4\n",
      "Epoch 1/50\n"
     ]
    },
    {
     "name": "stderr",
     "output_type": "stream",
     "text": [
      "2025-10-15 23:39:46.148763: W tensorflow/core/grappler/costs/op_level_cost_estimator.cc:693] Error in PredictCost() for the op: op: \"Softmax\" attr { key: \"T\" value { type: DT_FLOAT } } inputs { dtype: DT_FLOAT shape { unknown_rank: true } } device { type: \"CPU\" vendor: \"GenuineIntel\" model: \"106\" frequency: 2611 num_cores: 16 environment { key: \"cpu_instruction_set\" value: \"AVX SSE, SSE2, SSE3, SSSE3, SSE4.1, SSE4.2\" } environment { key: \"eigen\" value: \"3.4.90\" } l1_cache_size: 49152 l2_cache_size: 1310720 l3_cache_size: 18874368 memory_size: 268435456 } outputs { dtype: DT_FLOAT shape { unknown_rank: true } }\n"
     ]
    },
    {
     "name": "stdout",
     "output_type": "stream",
     "text": [
      "25/25 [==============================] - ETA: 0s - loss: 0.6794 - accuracy: 0.6090"
     ]
    },
    {
     "name": "stderr",
     "output_type": "stream",
     "text": [
      "2025-10-15 23:41:10.030390: W tensorflow/core/grappler/costs/op_level_cost_estimator.cc:693] Error in PredictCost() for the op: op: \"Softmax\" attr { key: \"T\" value { type: DT_FLOAT } } inputs { dtype: DT_FLOAT shape { unknown_rank: true } } device { type: \"CPU\" vendor: \"GenuineIntel\" model: \"106\" frequency: 2611 num_cores: 16 environment { key: \"cpu_instruction_set\" value: \"AVX SSE, SSE2, SSE3, SSSE3, SSE4.1, SSE4.2\" } environment { key: \"eigen\" value: \"3.4.90\" } l1_cache_size: 49152 l2_cache_size: 1310720 l3_cache_size: 18874368 memory_size: 268435456 } outputs { dtype: DT_FLOAT shape { unknown_rank: true } }\n"
     ]
    },
    {
     "name": "stdout",
     "output_type": "stream",
     "text": [
      "\n",
      "Epoch 1: val_accuracy improved from -inf to 0.49425, saving model to best_model_fold1_bilstm_attn_kan.h5\n",
      "25/25 [==============================] - 93s 3s/step - loss: 0.6794 - accuracy: 0.6090 - val_loss: 0.6994 - val_accuracy: 0.4943 - lr: 3.0000e-04\n",
      "Epoch 2/50\n"
     ]
    },
    {
     "name": "stderr",
     "output_type": "stream",
     "text": [
      "/home/huuquangdang/.local/lib/python3.10/site-packages/keras/src/engine/training.py:3079: UserWarning: You are saving your model as an HDF5 file via `model.save()`. This file format is considered legacy. We recommend using instead the native Keras format, e.g. `model.save('my_model.keras')`.\n",
      "  saving_api.save_model(\n"
     ]
    },
    {
     "name": "stdout",
     "output_type": "stream",
     "text": [
      "25/25 [==============================] - ETA: 0s - loss: 0.6163 - accuracy: 0.7705\n",
      "Epoch 2: val_accuracy did not improve from 0.49425\n",
      "25/25 [==============================] - 81s 3s/step - loss: 0.6163 - accuracy: 0.7705 - val_loss: 0.7042 - val_accuracy: 0.4943 - lr: 3.0000e-04\n",
      "Epoch 3/50\n",
      "25/25 [==============================] - ETA: 0s - loss: 0.5288 - accuracy: 0.8333\n",
      "Epoch 3: val_accuracy did not improve from 0.49425\n",
      "25/25 [==============================] - 80s 3s/step - loss: 0.5288 - accuracy: 0.8333 - val_loss: 0.7523 - val_accuracy: 0.4943 - lr: 3.0000e-04\n",
      "Epoch 4/50\n",
      "25/25 [==============================] - ETA: 0s - loss: 0.3906 - accuracy: 0.8808\n",
      "Epoch 4: val_accuracy improved from 0.49425 to 0.50575, saving model to best_model_fold1_bilstm_attn_kan.h5\n",
      "\n",
      "Epoch 4: ReduceLROnPlateau reducing learning rate to 0.0001500000071246177.\n",
      "25/25 [==============================] - 79s 3s/step - loss: 0.3906 - accuracy: 0.8808 - val_loss: 0.8869 - val_accuracy: 0.5057 - lr: 3.0000e-04\n",
      "Epoch 5/50\n"
     ]
    },
    {
     "name": "stderr",
     "output_type": "stream",
     "text": [
      "/home/huuquangdang/.local/lib/python3.10/site-packages/keras/src/engine/training.py:3079: UserWarning: You are saving your model as an HDF5 file via `model.save()`. This file format is considered legacy. We recommend using instead the native Keras format, e.g. `model.save('my_model.keras')`.\n",
      "  saving_api.save_model(\n"
     ]
    },
    {
     "name": "stdout",
     "output_type": "stream",
     "text": [
      "25/25 [==============================] - ETA: 0s - loss: 0.2809 - accuracy: 0.9295\n",
      "Epoch 5: val_accuracy did not improve from 0.50575\n",
      "25/25 [==============================] - 79s 3s/step - loss: 0.2809 - accuracy: 0.9295 - val_loss: 1.0590 - val_accuracy: 0.5057 - lr: 1.5000e-04\n",
      "Epoch 6/50\n",
      "25/25 [==============================] - ETA: 0s - loss: 0.2290 - accuracy: 0.9423\n",
      "Epoch 6: val_accuracy did not improve from 0.50575\n",
      "25/25 [==============================] - 79s 3s/step - loss: 0.2290 - accuracy: 0.9423 - val_loss: 1.1237 - val_accuracy: 0.5057 - lr: 1.5000e-04\n",
      "Epoch 7/50\n",
      "25/25 [==============================] - ETA: 0s - loss: 0.1846 - accuracy: 0.9526\n",
      "Epoch 7: val_accuracy did not improve from 0.50575\n",
      "\n",
      "Epoch 7: ReduceLROnPlateau reducing learning rate to 7.500000356230885e-05.\n",
      "25/25 [==============================] - 78s 3s/step - loss: 0.1846 - accuracy: 0.9526 - val_loss: 1.1895 - val_accuracy: 0.5057 - lr: 1.5000e-04\n",
      "Epoch 8/50\n",
      "25/25 [==============================] - ETA: 0s - loss: 0.1654 - accuracy: 0.9590\n",
      "Epoch 8: val_accuracy did not improve from 0.50575\n",
      "25/25 [==============================] - 79s 3s/step - loss: 0.1654 - accuracy: 0.9590 - val_loss: 1.1750 - val_accuracy: 0.5057 - lr: 7.5000e-05\n",
      "Epoch 9/50\n",
      "25/25 [==============================] - ETA: 0s - loss: 0.1402 - accuracy: 0.9615\n",
      "Epoch 9: val_accuracy improved from 0.50575 to 0.51724, saving model to best_model_fold1_bilstm_attn_kan.h5\n",
      "25/25 [==============================] - 81s 3s/step - loss: 0.1402 - accuracy: 0.9615 - val_loss: 1.2598 - val_accuracy: 0.5172 - lr: 7.5000e-05\n",
      "Epoch 10/50\n"
     ]
    },
    {
     "name": "stderr",
     "output_type": "stream",
     "text": [
      "/home/huuquangdang/.local/lib/python3.10/site-packages/keras/src/engine/training.py:3079: UserWarning: You are saving your model as an HDF5 file via `model.save()`. This file format is considered legacy. We recommend using instead the native Keras format, e.g. `model.save('my_model.keras')`.\n",
      "  saving_api.save_model(\n"
     ]
    },
    {
     "name": "stdout",
     "output_type": "stream",
     "text": [
      "25/25 [==============================] - ETA: 0s - loss: 0.1310 - accuracy: 0.9718\n",
      "Epoch 10: val_accuracy improved from 0.51724 to 0.52874, saving model to best_model_fold1_bilstm_attn_kan.h5\n",
      "\n",
      "Epoch 10: ReduceLROnPlateau reducing learning rate to 3.7500001781154424e-05.\n",
      "25/25 [==============================] - 80s 3s/step - loss: 0.1310 - accuracy: 0.9718 - val_loss: 1.2531 - val_accuracy: 0.5287 - lr: 7.5000e-05\n",
      "Epoch 11/50\n"
     ]
    },
    {
     "name": "stderr",
     "output_type": "stream",
     "text": [
      "/home/huuquangdang/.local/lib/python3.10/site-packages/keras/src/engine/training.py:3079: UserWarning: You are saving your model as an HDF5 file via `model.save()`. This file format is considered legacy. We recommend using instead the native Keras format, e.g. `model.save('my_model.keras')`.\n",
      "  saving_api.save_model(\n"
     ]
    },
    {
     "name": "stdout",
     "output_type": "stream",
     "text": [
      "25/25 [==============================] - ETA: 0s - loss: 0.1131 - accuracy: 0.9744\n",
      "Epoch 11: val_accuracy improved from 0.52874 to 0.54023, saving model to best_model_fold1_bilstm_attn_kan.h5\n",
      "25/25 [==============================] - 78s 3s/step - loss: 0.1131 - accuracy: 0.9744 - val_loss: 1.2587 - val_accuracy: 0.5402 - lr: 3.7500e-05\n",
      "Epoch 12/50\n"
     ]
    },
    {
     "name": "stderr",
     "output_type": "stream",
     "text": [
      "/home/huuquangdang/.local/lib/python3.10/site-packages/keras/src/engine/training.py:3079: UserWarning: You are saving your model as an HDF5 file via `model.save()`. This file format is considered legacy. We recommend using instead the native Keras format, e.g. `model.save('my_model.keras')`.\n",
      "  saving_api.save_model(\n"
     ]
    },
    {
     "name": "stdout",
     "output_type": "stream",
     "text": [
      "25/25 [==============================] - ETA: 0s - loss: 0.1211 - accuracy: 0.9692\n",
      "Epoch 12: val_accuracy did not improve from 0.54023\n",
      "25/25 [==============================] - 78s 3s/step - loss: 0.1211 - accuracy: 0.9692 - val_loss: 1.2596 - val_accuracy: 0.5402 - lr: 3.7500e-05\n",
      "Epoch 13/50\n",
      "25/25 [==============================] - ETA: 0s - loss: 0.1072 - accuracy: 0.9731\n",
      "Epoch 13: val_accuracy improved from 0.54023 to 0.56322, saving model to best_model_fold1_bilstm_attn_kan.h5\n",
      "\n",
      "Epoch 13: ReduceLROnPlateau reducing learning rate to 1.8750000890577212e-05.\n",
      "25/25 [==============================] - 78s 3s/step - loss: 0.1072 - accuracy: 0.9731 - val_loss: 1.2465 - val_accuracy: 0.5632 - lr: 3.7500e-05\n",
      "Epoch 14/50\n"
     ]
    },
    {
     "name": "stderr",
     "output_type": "stream",
     "text": [
      "/home/huuquangdang/.local/lib/python3.10/site-packages/keras/src/engine/training.py:3079: UserWarning: You are saving your model as an HDF5 file via `model.save()`. This file format is considered legacy. We recommend using instead the native Keras format, e.g. `model.save('my_model.keras')`.\n",
      "  saving_api.save_model(\n"
     ]
    },
    {
     "name": "stdout",
     "output_type": "stream",
     "text": [
      "25/25 [==============================] - ETA: 0s - loss: 0.1029 - accuracy: 0.9705\n",
      "Epoch 14: val_accuracy did not improve from 0.56322\n",
      "25/25 [==============================] - 78s 3s/step - loss: 0.1029 - accuracy: 0.9705 - val_loss: 1.2567 - val_accuracy: 0.5632 - lr: 1.8750e-05\n",
      "Epoch 15/50\n",
      "25/25 [==============================] - ETA: 0s - loss: 0.0966 - accuracy: 0.9782\n",
      "Epoch 15: val_accuracy improved from 0.56322 to 0.57471, saving model to best_model_fold1_bilstm_attn_kan.h5\n",
      "25/25 [==============================] - 78s 3s/step - loss: 0.0966 - accuracy: 0.9782 - val_loss: 1.2429 - val_accuracy: 0.5747 - lr: 1.8750e-05\n",
      "Epoch 16/50\n"
     ]
    },
    {
     "name": "stderr",
     "output_type": "stream",
     "text": [
      "/home/huuquangdang/.local/lib/python3.10/site-packages/keras/src/engine/training.py:3079: UserWarning: You are saving your model as an HDF5 file via `model.save()`. This file format is considered legacy. We recommend using instead the native Keras format, e.g. `model.save('my_model.keras')`.\n",
      "  saving_api.save_model(\n"
     ]
    },
    {
     "name": "stdout",
     "output_type": "stream",
     "text": [
      "25/25 [==============================] - ETA: 0s - loss: 0.0907 - accuracy: 0.9846\n",
      "Epoch 16: val_accuracy improved from 0.57471 to 0.58621, saving model to best_model_fold1_bilstm_attn_kan.h5\n",
      "\n",
      "Epoch 16: ReduceLROnPlateau reducing learning rate to 9.375000445288606e-06.\n",
      "25/25 [==============================] - 78s 3s/step - loss: 0.0907 - accuracy: 0.9846 - val_loss: 1.2430 - val_accuracy: 0.5862 - lr: 1.8750e-05\n",
      "Epoch 17/50\n"
     ]
    },
    {
     "name": "stderr",
     "output_type": "stream",
     "text": [
      "/home/huuquangdang/.local/lib/python3.10/site-packages/keras/src/engine/training.py:3079: UserWarning: You are saving your model as an HDF5 file via `model.save()`. This file format is considered legacy. We recommend using instead the native Keras format, e.g. `model.save('my_model.keras')`.\n",
      "  saving_api.save_model(\n"
     ]
    },
    {
     "name": "stdout",
     "output_type": "stream",
     "text": [
      "25/25 [==============================] - ETA: 0s - loss: 0.0974 - accuracy: 0.9756\n",
      "Epoch 17: val_accuracy did not improve from 0.58621\n",
      "25/25 [==============================] - 78s 3s/step - loss: 0.0974 - accuracy: 0.9756 - val_loss: 1.2287 - val_accuracy: 0.5862 - lr: 9.3750e-06\n",
      "Epoch 18/50\n",
      "25/25 [==============================] - ETA: 0s - loss: 0.0808 - accuracy: 0.9795\n",
      "Epoch 18: val_accuracy improved from 0.58621 to 0.60920, saving model to best_model_fold1_bilstm_attn_kan.h5\n",
      "25/25 [==============================] - 78s 3s/step - loss: 0.0808 - accuracy: 0.9795 - val_loss: 1.2120 - val_accuracy: 0.6092 - lr: 9.3750e-06\n",
      "Epoch 19/50\n"
     ]
    },
    {
     "name": "stderr",
     "output_type": "stream",
     "text": [
      "/home/huuquangdang/.local/lib/python3.10/site-packages/keras/src/engine/training.py:3079: UserWarning: You are saving your model as an HDF5 file via `model.save()`. This file format is considered legacy. We recommend using instead the native Keras format, e.g. `model.save('my_model.keras')`.\n",
      "  saving_api.save_model(\n"
     ]
    },
    {
     "name": "stdout",
     "output_type": "stream",
     "text": [
      "25/25 [==============================] - ETA: 0s - loss: 0.0833 - accuracy: 0.9821\n",
      "Epoch 19: val_accuracy did not improve from 0.60920\n",
      "\n",
      "Epoch 19: ReduceLROnPlateau reducing learning rate to 4.687500222644303e-06.\n",
      "25/25 [==============================] - 78s 3s/step - loss: 0.0833 - accuracy: 0.9821 - val_loss: 1.2089 - val_accuracy: 0.6092 - lr: 9.3750e-06\n",
      "Epoch 20/50\n",
      "25/25 [==============================] - ETA: 0s - loss: 0.0846 - accuracy: 0.9846\n",
      "Epoch 20: val_accuracy improved from 0.60920 to 0.63218, saving model to best_model_fold1_bilstm_attn_kan.h5\n",
      "25/25 [==============================] - 78s 3s/step - loss: 0.0846 - accuracy: 0.9846 - val_loss: 1.1848 - val_accuracy: 0.6322 - lr: 4.6875e-06\n",
      "Epoch 21/50\n"
     ]
    },
    {
     "name": "stderr",
     "output_type": "stream",
     "text": [
      "/home/huuquangdang/.local/lib/python3.10/site-packages/keras/src/engine/training.py:3079: UserWarning: You are saving your model as an HDF5 file via `model.save()`. This file format is considered legacy. We recommend using instead the native Keras format, e.g. `model.save('my_model.keras')`.\n",
      "  saving_api.save_model(\n"
     ]
    },
    {
     "name": "stdout",
     "output_type": "stream",
     "text": [
      "25/25 [==============================] - ETA: 0s - loss: 0.0904 - accuracy: 0.9769\n",
      "Epoch 21: val_accuracy did not improve from 0.63218\n",
      "25/25 [==============================] - 77s 3s/step - loss: 0.0904 - accuracy: 0.9769 - val_loss: 1.1646 - val_accuracy: 0.6322 - lr: 4.6875e-06\n",
      "Epoch 22/50\n",
      "25/25 [==============================] - ETA: 0s - loss: 0.0854 - accuracy: 0.9795\n",
      "Epoch 22: val_accuracy improved from 0.63218 to 0.64368, saving model to best_model_fold1_bilstm_attn_kan.h5\n",
      "\n",
      "Epoch 22: ReduceLROnPlateau reducing learning rate to 2.3437501113221515e-06.\n",
      "25/25 [==============================] - 78s 3s/step - loss: 0.0854 - accuracy: 0.9795 - val_loss: 1.1402 - val_accuracy: 0.6437 - lr: 4.6875e-06\n",
      "Epoch 23/50\n"
     ]
    },
    {
     "name": "stderr",
     "output_type": "stream",
     "text": [
      "/home/huuquangdang/.local/lib/python3.10/site-packages/keras/src/engine/training.py:3079: UserWarning: You are saving your model as an HDF5 file via `model.save()`. This file format is considered legacy. We recommend using instead the native Keras format, e.g. `model.save('my_model.keras')`.\n",
      "  saving_api.save_model(\n"
     ]
    },
    {
     "name": "stdout",
     "output_type": "stream",
     "text": [
      "25/25 [==============================] - ETA: 0s - loss: 0.0784 - accuracy: 0.9821\n",
      "Epoch 23: val_accuracy improved from 0.64368 to 0.66667, saving model to best_model_fold1_bilstm_attn_kan.h5\n",
      "25/25 [==============================] - 78s 3s/step - loss: 0.0784 - accuracy: 0.9821 - val_loss: 1.1166 - val_accuracy: 0.6667 - lr: 2.3438e-06\n",
      "Epoch 24/50\n"
     ]
    },
    {
     "name": "stderr",
     "output_type": "stream",
     "text": [
      "/home/huuquangdang/.local/lib/python3.10/site-packages/keras/src/engine/training.py:3079: UserWarning: You are saving your model as an HDF5 file via `model.save()`. This file format is considered legacy. We recommend using instead the native Keras format, e.g. `model.save('my_model.keras')`.\n",
      "  saving_api.save_model(\n"
     ]
    },
    {
     "name": "stdout",
     "output_type": "stream",
     "text": [
      "25/25 [==============================] - ETA: 0s - loss: 0.0830 - accuracy: 0.9846\n",
      "Epoch 24: val_accuracy did not improve from 0.66667\n",
      "25/25 [==============================] - 78s 3s/step - loss: 0.0830 - accuracy: 0.9846 - val_loss: 1.0923 - val_accuracy: 0.6667 - lr: 2.3438e-06\n",
      "Epoch 25/50\n",
      "25/25 [==============================] - ETA: 0s - loss: 0.0829 - accuracy: 0.9795\n",
      "Epoch 25: val_accuracy improved from 0.66667 to 0.67816, saving model to best_model_fold1_bilstm_attn_kan.h5\n",
      "\n",
      "Epoch 25: ReduceLROnPlateau reducing learning rate to 1.1718750556610757e-06.\n",
      "25/25 [==============================] - 79s 3s/step - loss: 0.0829 - accuracy: 0.9795 - val_loss: 1.0686 - val_accuracy: 0.6782 - lr: 2.3438e-06\n",
      "Epoch 26/50\n"
     ]
    },
    {
     "name": "stderr",
     "output_type": "stream",
     "text": [
      "/home/huuquangdang/.local/lib/python3.10/site-packages/keras/src/engine/training.py:3079: UserWarning: You are saving your model as an HDF5 file via `model.save()`. This file format is considered legacy. We recommend using instead the native Keras format, e.g. `model.save('my_model.keras')`.\n",
      "  saving_api.save_model(\n"
     ]
    },
    {
     "name": "stdout",
     "output_type": "stream",
     "text": [
      "25/25 [==============================] - ETA: 0s - loss: 0.0826 - accuracy: 0.9795\n",
      "Epoch 26: val_accuracy improved from 0.67816 to 0.70115, saving model to best_model_fold1_bilstm_attn_kan.h5\n",
      "25/25 [==============================] - 78s 3s/step - loss: 0.0826 - accuracy: 0.9795 - val_loss: 1.0474 - val_accuracy: 0.7011 - lr: 1.1719e-06\n",
      "Epoch 27/50\n"
     ]
    },
    {
     "name": "stderr",
     "output_type": "stream",
     "text": [
      "/home/huuquangdang/.local/lib/python3.10/site-packages/keras/src/engine/training.py:3079: UserWarning: You are saving your model as an HDF5 file via `model.save()`. This file format is considered legacy. We recommend using instead the native Keras format, e.g. `model.save('my_model.keras')`.\n",
      "  saving_api.save_model(\n"
     ]
    },
    {
     "name": "stdout",
     "output_type": "stream",
     "text": [
      "25/25 [==============================] - ETA: 0s - loss: 0.0854 - accuracy: 0.9808\n",
      "Epoch 27: val_accuracy did not improve from 0.70115\n",
      "25/25 [==============================] - 78s 3s/step - loss: 0.0854 - accuracy: 0.9808 - val_loss: 1.0228 - val_accuracy: 0.7011 - lr: 1.1719e-06\n",
      "Epoch 28/50\n",
      "25/25 [==============================] - ETA: 0s - loss: 0.0910 - accuracy: 0.9782\n",
      "Epoch 28: val_accuracy did not improve from 0.70115\n",
      "\n",
      "Epoch 28: ReduceLROnPlateau reducing learning rate to 1e-06.\n",
      "25/25 [==============================] - 78s 3s/step - loss: 0.0910 - accuracy: 0.9782 - val_loss: 0.9994 - val_accuracy: 0.7011 - lr: 1.1719e-06\n",
      "Epoch 29/50\n",
      "25/25 [==============================] - ETA: 0s - loss: 0.0892 - accuracy: 0.9846\n",
      "Epoch 29: val_accuracy did not improve from 0.70115\n",
      "25/25 [==============================] - 78s 3s/step - loss: 0.0892 - accuracy: 0.9846 - val_loss: 0.9782 - val_accuracy: 0.7011 - lr: 1.0000e-06\n",
      "Epoch 30/50\n",
      "25/25 [==============================] - ETA: 0s - loss: 0.0861 - accuracy: 0.9782\n",
      "Epoch 30: val_accuracy did not improve from 0.70115\n",
      "25/25 [==============================] - 78s 3s/step - loss: 0.0861 - accuracy: 0.9782 - val_loss: 0.9552 - val_accuracy: 0.7011 - lr: 1.0000e-06\n",
      "Epoch 31/50\n",
      "25/25 [==============================] - ETA: 0s - loss: 0.0803 - accuracy: 0.9846\n",
      "Epoch 31: val_accuracy improved from 0.70115 to 0.72414, saving model to best_model_fold1_bilstm_attn_kan.h5\n",
      "25/25 [==============================] - 78s 3s/step - loss: 0.0803 - accuracy: 0.9846 - val_loss: 0.9319 - val_accuracy: 0.7241 - lr: 1.0000e-06\n",
      "Epoch 32/50\n"
     ]
    },
    {
     "name": "stderr",
     "output_type": "stream",
     "text": [
      "/home/huuquangdang/.local/lib/python3.10/site-packages/keras/src/engine/training.py:3079: UserWarning: You are saving your model as an HDF5 file via `model.save()`. This file format is considered legacy. We recommend using instead the native Keras format, e.g. `model.save('my_model.keras')`.\n",
      "  saving_api.save_model(\n"
     ]
    },
    {
     "name": "stdout",
     "output_type": "stream",
     "text": [
      "25/25 [==============================] - ETA: 0s - loss: 0.0810 - accuracy: 0.9859\n",
      "Epoch 32: val_accuracy did not improve from 0.72414\n",
      "25/25 [==============================] - 78s 3s/step - loss: 0.0810 - accuracy: 0.9859 - val_loss: 0.9105 - val_accuracy: 0.7241 - lr: 1.0000e-06\n",
      "Epoch 33/50\n",
      "25/25 [==============================] - ETA: 0s - loss: 0.0834 - accuracy: 0.9859\n",
      "Epoch 33: val_accuracy improved from 0.72414 to 0.73563, saving model to best_model_fold1_bilstm_attn_kan.h5\n",
      "25/25 [==============================] - 78s 3s/step - loss: 0.0834 - accuracy: 0.9859 - val_loss: 0.8911 - val_accuracy: 0.7356 - lr: 1.0000e-06\n",
      "Epoch 34/50\n"
     ]
    },
    {
     "name": "stderr",
     "output_type": "stream",
     "text": [
      "/home/huuquangdang/.local/lib/python3.10/site-packages/keras/src/engine/training.py:3079: UserWarning: You are saving your model as an HDF5 file via `model.save()`. This file format is considered legacy. We recommend using instead the native Keras format, e.g. `model.save('my_model.keras')`.\n",
      "  saving_api.save_model(\n"
     ]
    },
    {
     "name": "stdout",
     "output_type": "stream",
     "text": [
      "25/25 [==============================] - ETA: 0s - loss: 0.0900 - accuracy: 0.9744\n",
      "Epoch 34: val_accuracy did not improve from 0.73563\n",
      "25/25 [==============================] - 78s 3s/step - loss: 0.0900 - accuracy: 0.9744 - val_loss: 0.8695 - val_accuracy: 0.7356 - lr: 1.0000e-06\n",
      "Epoch 35/50\n",
      "25/25 [==============================] - ETA: 0s - loss: 0.0826 - accuracy: 0.9859\n",
      "Epoch 35: val_accuracy improved from 0.73563 to 0.75862, saving model to best_model_fold1_bilstm_attn_kan.h5\n",
      "25/25 [==============================] - 78s 3s/step - loss: 0.0826 - accuracy: 0.9859 - val_loss: 0.8497 - val_accuracy: 0.7586 - lr: 1.0000e-06\n",
      "Epoch 36/50\n"
     ]
    },
    {
     "name": "stderr",
     "output_type": "stream",
     "text": [
      "/home/huuquangdang/.local/lib/python3.10/site-packages/keras/src/engine/training.py:3079: UserWarning: You are saving your model as an HDF5 file via `model.save()`. This file format is considered legacy. We recommend using instead the native Keras format, e.g. `model.save('my_model.keras')`.\n",
      "  saving_api.save_model(\n"
     ]
    },
    {
     "name": "stdout",
     "output_type": "stream",
     "text": [
      "25/25 [==============================] - ETA: 0s - loss: 0.0893 - accuracy: 0.9795\n",
      "Epoch 36: val_accuracy did not improve from 0.75862\n",
      "25/25 [==============================] - 78s 3s/step - loss: 0.0893 - accuracy: 0.9795 - val_loss: 0.8303 - val_accuracy: 0.7586 - lr: 1.0000e-06\n",
      "Epoch 37/50\n",
      "25/25 [==============================] - ETA: 0s - loss: 0.0868 - accuracy: 0.9846\n",
      "Epoch 37: val_accuracy did not improve from 0.75862\n",
      "25/25 [==============================] - 78s 3s/step - loss: 0.0868 - accuracy: 0.9846 - val_loss: 0.8126 - val_accuracy: 0.7586 - lr: 1.0000e-06\n",
      "Epoch 38/50\n",
      "25/25 [==============================] - ETA: 0s - loss: 0.0828 - accuracy: 0.9808\n",
      "Epoch 38: val_accuracy improved from 0.75862 to 0.77011, saving model to best_model_fold1_bilstm_attn_kan.h5\n",
      "25/25 [==============================] - 78s 3s/step - loss: 0.0828 - accuracy: 0.9808 - val_loss: 0.7979 - val_accuracy: 0.7701 - lr: 1.0000e-06\n",
      "Epoch 39/50\n"
     ]
    },
    {
     "name": "stderr",
     "output_type": "stream",
     "text": [
      "/home/huuquangdang/.local/lib/python3.10/site-packages/keras/src/engine/training.py:3079: UserWarning: You are saving your model as an HDF5 file via `model.save()`. This file format is considered legacy. We recommend using instead the native Keras format, e.g. `model.save('my_model.keras')`.\n",
      "  saving_api.save_model(\n"
     ]
    },
    {
     "name": "stdout",
     "output_type": "stream",
     "text": [
      "25/25 [==============================] - ETA: 0s - loss: 0.0851 - accuracy: 0.9808\n",
      "Epoch 39: val_accuracy did not improve from 0.77011\n",
      "25/25 [==============================] - 78s 3s/step - loss: 0.0851 - accuracy: 0.9808 - val_loss: 0.7828 - val_accuracy: 0.7701 - lr: 1.0000e-06\n",
      "Epoch 40/50\n",
      "25/25 [==============================] - ETA: 0s - loss: 0.0798 - accuracy: 0.9846\n",
      "Epoch 40: val_accuracy did not improve from 0.77011\n",
      "25/25 [==============================] - 78s 3s/step - loss: 0.0798 - accuracy: 0.9846 - val_loss: 0.7667 - val_accuracy: 0.7701 - lr: 1.0000e-06\n",
      "Epoch 41/50\n",
      "25/25 [==============================] - ETA: 0s - loss: 0.0763 - accuracy: 0.9821\n",
      "Epoch 41: val_accuracy did not improve from 0.77011\n",
      "25/25 [==============================] - 77s 3s/step - loss: 0.0763 - accuracy: 0.9821 - val_loss: 0.7528 - val_accuracy: 0.7701 - lr: 1.0000e-06\n",
      "Epoch 42/50\n",
      "25/25 [==============================] - ETA: 0s - loss: 0.0869 - accuracy: 0.9795\n",
      "Epoch 42: val_accuracy did not improve from 0.77011\n",
      "25/25 [==============================] - 78s 3s/step - loss: 0.0869 - accuracy: 0.9795 - val_loss: 0.7396 - val_accuracy: 0.7701 - lr: 1.0000e-06\n",
      "Epoch 43/50\n",
      "25/25 [==============================] - ETA: 0s - loss: 0.0819 - accuracy: 0.9782\n",
      "Epoch 43: val_accuracy improved from 0.77011 to 0.78161, saving model to best_model_fold1_bilstm_attn_kan.h5\n",
      "25/25 [==============================] - 77s 3s/step - loss: 0.0819 - accuracy: 0.9782 - val_loss: 0.7288 - val_accuracy: 0.7816 - lr: 1.0000e-06\n",
      "Epoch 44/50\n"
     ]
    },
    {
     "name": "stderr",
     "output_type": "stream",
     "text": [
      "/home/huuquangdang/.local/lib/python3.10/site-packages/keras/src/engine/training.py:3079: UserWarning: You are saving your model as an HDF5 file via `model.save()`. This file format is considered legacy. We recommend using instead the native Keras format, e.g. `model.save('my_model.keras')`.\n",
      "  saving_api.save_model(\n"
     ]
    },
    {
     "name": "stdout",
     "output_type": "stream",
     "text": [
      "25/25 [==============================] - ETA: 0s - loss: 0.0809 - accuracy: 0.9859\n",
      "Epoch 44: val_accuracy did not improve from 0.78161\n",
      "25/25 [==============================] - 78s 3s/step - loss: 0.0809 - accuracy: 0.9859 - val_loss: 0.7184 - val_accuracy: 0.7816 - lr: 1.0000e-06\n",
      "Epoch 45/50\n",
      "25/25 [==============================] - ETA: 0s - loss: 0.0779 - accuracy: 0.9821\n",
      "Epoch 45: val_accuracy improved from 0.78161 to 0.79310, saving model to best_model_fold1_bilstm_attn_kan.h5\n",
      "25/25 [==============================] - 78s 3s/step - loss: 0.0779 - accuracy: 0.9821 - val_loss: 0.7076 - val_accuracy: 0.7931 - lr: 1.0000e-06\n",
      "Epoch 46/50\n"
     ]
    },
    {
     "name": "stderr",
     "output_type": "stream",
     "text": [
      "/home/huuquangdang/.local/lib/python3.10/site-packages/keras/src/engine/training.py:3079: UserWarning: You are saving your model as an HDF5 file via `model.save()`. This file format is considered legacy. We recommend using instead the native Keras format, e.g. `model.save('my_model.keras')`.\n",
      "  saving_api.save_model(\n"
     ]
    },
    {
     "name": "stdout",
     "output_type": "stream",
     "text": [
      "25/25 [==============================] - ETA: 0s - loss: 0.0817 - accuracy: 0.9859\n",
      "Epoch 46: val_accuracy did not improve from 0.79310\n",
      "25/25 [==============================] - 78s 3s/step - loss: 0.0817 - accuracy: 0.9859 - val_loss: 0.6992 - val_accuracy: 0.7931 - lr: 1.0000e-06\n",
      "Epoch 47/50\n",
      "25/25 [==============================] - ETA: 0s - loss: 0.0871 - accuracy: 0.9833\n",
      "Epoch 47: val_accuracy did not improve from 0.79310\n",
      "25/25 [==============================] - 78s 3s/step - loss: 0.0871 - accuracy: 0.9833 - val_loss: 0.6895 - val_accuracy: 0.7931 - lr: 1.0000e-06\n",
      "Epoch 48/50\n",
      "25/25 [==============================] - ETA: 0s - loss: 0.0792 - accuracy: 0.9821\n",
      "Epoch 48: val_accuracy did not improve from 0.79310\n",
      "25/25 [==============================] - 78s 3s/step - loss: 0.0792 - accuracy: 0.9821 - val_loss: 0.6808 - val_accuracy: 0.7931 - lr: 1.0000e-06\n",
      "Epoch 49/50\n",
      "25/25 [==============================] - ETA: 0s - loss: 0.0797 - accuracy: 0.9859\n",
      "Epoch 49: val_accuracy did not improve from 0.79310\n",
      "25/25 [==============================] - 78s 3s/step - loss: 0.0797 - accuracy: 0.9859 - val_loss: 0.6704 - val_accuracy: 0.7931 - lr: 1.0000e-06\n",
      "Epoch 50/50\n",
      "25/25 [==============================] - ETA: 0s - loss: 0.0822 - accuracy: 0.9833\n",
      "Epoch 50: val_accuracy did not improve from 0.79310\n",
      "25/25 [==============================] - 78s 3s/step - loss: 0.0822 - accuracy: 0.9833 - val_loss: 0.6614 - val_accuracy: 0.7931 - lr: 1.0000e-06\n"
     ]
    },
    {
     "name": "stderr",
     "output_type": "stream",
     "text": [
      "2025-10-16 00:45:02.440446: W tensorflow/core/grappler/costs/op_level_cost_estimator.cc:693] Error in PredictCost() for the op: op: \"Softmax\" attr { key: \"T\" value { type: DT_FLOAT } } inputs { dtype: DT_FLOAT shape { unknown_rank: true } } device { type: \"CPU\" vendor: \"GenuineIntel\" model: \"106\" frequency: 2611 num_cores: 16 environment { key: \"cpu_instruction_set\" value: \"AVX SSE, SSE2, SSE3, SSSE3, SSE4.1, SSE4.2\" } environment { key: \"eigen\" value: \"3.4.90\" } l1_cache_size: 49152 l2_cache_size: 1310720 l3_cache_size: 18874368 memory_size: 268435456 } outputs { dtype: DT_FLOAT shape { unknown_rank: true } }\n"
     ]
    },
    {
     "name": "stdout",
     "output_type": "stream",
     "text": [
      "7/7 [==============================] - 10s 1s/step\n",
      "\n",
      "✅ Fold 1 Results (BiLSTM_Attention_KAN):\n",
      "   Accuracy:  0.8618\n",
      "   Precision: 0.8824\n",
      "   Recall:    0.8333\n",
      "   F1 Score:  0.8571\n",
      "   AUC:       0.9399\n",
      "\n",
      "============================================================\n",
      "📊 Fold 2/5 - BiLSTM_Attention_KAN\n",
      "============================================================\n",
      "\n",
      "📈 Model Architecture:\n",
      "   - Model: BiLSTM + Attention + KAN\n",
      "   - Total params: 4,574,153\n",
      "   - Trainable params: 3,517,957\n",
      "   - BiLSTM: 128 + 64 units (bidirectional)\n",
      "   - Attention: Keras Attention layer (robust)\n",
      "   - Learning rate: 3e-4\n",
      "Epoch 1/50\n"
     ]
    },
    {
     "name": "stderr",
     "output_type": "stream",
     "text": [
      "2025-10-16 00:45:17.520783: W tensorflow/core/grappler/costs/op_level_cost_estimator.cc:693] Error in PredictCost() for the op: op: \"Softmax\" attr { key: \"T\" value { type: DT_FLOAT } } inputs { dtype: DT_FLOAT shape { unknown_rank: true } } device { type: \"CPU\" vendor: \"GenuineIntel\" model: \"106\" frequency: 2611 num_cores: 16 environment { key: \"cpu_instruction_set\" value: \"AVX SSE, SSE2, SSE3, SSSE3, SSE4.1, SSE4.2\" } environment { key: \"eigen\" value: \"3.4.90\" } l1_cache_size: 49152 l2_cache_size: 1310720 l3_cache_size: 18874368 memory_size: 268435456 } outputs { dtype: DT_FLOAT shape { unknown_rank: true } }\n"
     ]
    },
    {
     "name": "stdout",
     "output_type": "stream",
     "text": [
      "25/25 [==============================] - ETA: 0s - loss: 0.6749 - accuracy: 0.5885"
     ]
    },
    {
     "name": "stderr",
     "output_type": "stream",
     "text": [
      "2025-10-16 00:46:34.248550: W tensorflow/core/grappler/costs/op_level_cost_estimator.cc:693] Error in PredictCost() for the op: op: \"Softmax\" attr { key: \"T\" value { type: DT_FLOAT } } inputs { dtype: DT_FLOAT shape { unknown_rank: true } } device { type: \"CPU\" vendor: \"GenuineIntel\" model: \"106\" frequency: 2611 num_cores: 16 environment { key: \"cpu_instruction_set\" value: \"AVX SSE, SSE2, SSE3, SSSE3, SSE4.1, SSE4.2\" } environment { key: \"eigen\" value: \"3.4.90\" } l1_cache_size: 49152 l2_cache_size: 1310720 l3_cache_size: 18874368 memory_size: 268435456 } outputs { dtype: DT_FLOAT shape { unknown_rank: true } }\n"
     ]
    },
    {
     "name": "stdout",
     "output_type": "stream",
     "text": [
      "\n",
      "Epoch 1: val_accuracy improved from -inf to 0.49425, saving model to best_model_fold2_bilstm_attn_kan.h5\n",
      "25/25 [==============================] - 84s 3s/step - loss: 0.6749 - accuracy: 0.5885 - val_loss: 0.7080 - val_accuracy: 0.4943 - lr: 3.0000e-04\n",
      "Epoch 2/50\n"
     ]
    },
    {
     "name": "stderr",
     "output_type": "stream",
     "text": [
      "/home/huuquangdang/.local/lib/python3.10/site-packages/keras/src/engine/training.py:3079: UserWarning: You are saving your model as an HDF5 file via `model.save()`. This file format is considered legacy. We recommend using instead the native Keras format, e.g. `model.save('my_model.keras')`.\n",
      "  saving_api.save_model(\n"
     ]
    },
    {
     "name": "stdout",
     "output_type": "stream",
     "text": [
      "25/25 [==============================] - ETA: 0s - loss: 0.5977 - accuracy: 0.7526\n",
      "Epoch 2: val_accuracy did not improve from 0.49425\n",
      "25/25 [==============================] - 78s 3s/step - loss: 0.5977 - accuracy: 0.7526 - val_loss: 0.7827 - val_accuracy: 0.4943 - lr: 3.0000e-04\n",
      "Epoch 3/50\n",
      "25/25 [==============================] - ETA: 0s - loss: 0.4770 - accuracy: 0.8474\n",
      "Epoch 3: val_accuracy improved from 0.49425 to 0.51724, saving model to best_model_fold2_bilstm_attn_kan.h5\n",
      "25/25 [==============================] - 78s 3s/step - loss: 0.4770 - accuracy: 0.8474 - val_loss: 0.9184 - val_accuracy: 0.5172 - lr: 3.0000e-04\n",
      "Epoch 4/50\n"
     ]
    },
    {
     "name": "stderr",
     "output_type": "stream",
     "text": [
      "/home/huuquangdang/.local/lib/python3.10/site-packages/keras/src/engine/training.py:3079: UserWarning: You are saving your model as an HDF5 file via `model.save()`. This file format is considered legacy. We recommend using instead the native Keras format, e.g. `model.save('my_model.keras')`.\n",
      "  saving_api.save_model(\n"
     ]
    },
    {
     "name": "stdout",
     "output_type": "stream",
     "text": [
      "25/25 [==============================] - ETA: 0s - loss: 0.3356 - accuracy: 0.8910\n",
      "Epoch 4: val_accuracy did not improve from 0.51724\n",
      "\n",
      "Epoch 4: ReduceLROnPlateau reducing learning rate to 0.0001500000071246177.\n",
      "25/25 [==============================] - 78s 3s/step - loss: 0.3356 - accuracy: 0.8910 - val_loss: 1.1796 - val_accuracy: 0.5172 - lr: 3.0000e-04\n",
      "Epoch 5/50\n",
      "25/25 [==============================] - ETA: 0s - loss: 0.2486 - accuracy: 0.9308\n",
      "Epoch 5: val_accuracy improved from 0.51724 to 0.52874, saving model to best_model_fold2_bilstm_attn_kan.h5\n",
      "25/25 [==============================] - 78s 3s/step - loss: 0.2486 - accuracy: 0.9308 - val_loss: 1.2392 - val_accuracy: 0.5287 - lr: 1.5000e-04\n",
      "Epoch 6/50\n"
     ]
    },
    {
     "name": "stderr",
     "output_type": "stream",
     "text": [
      "/home/huuquangdang/.local/lib/python3.10/site-packages/keras/src/engine/training.py:3079: UserWarning: You are saving your model as an HDF5 file via `model.save()`. This file format is considered legacy. We recommend using instead the native Keras format, e.g. `model.save('my_model.keras')`.\n",
      "  saving_api.save_model(\n"
     ]
    },
    {
     "name": "stdout",
     "output_type": "stream",
     "text": [
      "25/25 [==============================] - ETA: 0s - loss: 0.1985 - accuracy: 0.9436\n",
      "Epoch 6: val_accuracy improved from 0.52874 to 0.56322, saving model to best_model_fold2_bilstm_attn_kan.h5\n",
      "25/25 [==============================] - 78s 3s/step - loss: 0.1985 - accuracy: 0.9436 - val_loss: 1.1538 - val_accuracy: 0.5632 - lr: 1.5000e-04\n",
      "Epoch 7/50\n"
     ]
    },
    {
     "name": "stderr",
     "output_type": "stream",
     "text": [
      "/home/huuquangdang/.local/lib/python3.10/site-packages/keras/src/engine/training.py:3079: UserWarning: You are saving your model as an HDF5 file via `model.save()`. This file format is considered legacy. We recommend using instead the native Keras format, e.g. `model.save('my_model.keras')`.\n",
      "  saving_api.save_model(\n"
     ]
    },
    {
     "name": "stdout",
     "output_type": "stream",
     "text": [
      "25/25 [==============================] - ETA: 0s - loss: 0.1617 - accuracy: 0.9538\n",
      "Epoch 7: val_accuracy improved from 0.56322 to 0.58621, saving model to best_model_fold2_bilstm_attn_kan.h5\n",
      "\n",
      "Epoch 7: ReduceLROnPlateau reducing learning rate to 7.500000356230885e-05.\n",
      "25/25 [==============================] - 78s 3s/step - loss: 0.1617 - accuracy: 0.9538 - val_loss: 1.1685 - val_accuracy: 0.5862 - lr: 1.5000e-04\n",
      "Epoch 8/50\n"
     ]
    },
    {
     "name": "stderr",
     "output_type": "stream",
     "text": [
      "/home/huuquangdang/.local/lib/python3.10/site-packages/keras/src/engine/training.py:3079: UserWarning: You are saving your model as an HDF5 file via `model.save()`. This file format is considered legacy. We recommend using instead the native Keras format, e.g. `model.save('my_model.keras')`.\n",
      "  saving_api.save_model(\n"
     ]
    },
    {
     "name": "stdout",
     "output_type": "stream",
     "text": [
      "25/25 [==============================] - ETA: 0s - loss: 0.1403 - accuracy: 0.9615\n",
      "Epoch 8: val_accuracy improved from 0.58621 to 0.59770, saving model to best_model_fold2_bilstm_attn_kan.h5\n",
      "25/25 [==============================] - 79s 3s/step - loss: 0.1403 - accuracy: 0.9615 - val_loss: 1.1404 - val_accuracy: 0.5977 - lr: 7.5000e-05\n",
      "Epoch 9/50\n"
     ]
    },
    {
     "name": "stderr",
     "output_type": "stream",
     "text": [
      "/home/huuquangdang/.local/lib/python3.10/site-packages/keras/src/engine/training.py:3079: UserWarning: You are saving your model as an HDF5 file via `model.save()`. This file format is considered legacy. We recommend using instead the native Keras format, e.g. `model.save('my_model.keras')`.\n",
      "  saving_api.save_model(\n"
     ]
    },
    {
     "name": "stdout",
     "output_type": "stream",
     "text": [
      "25/25 [==============================] - ETA: 0s - loss: 0.1183 - accuracy: 0.9705\n",
      "Epoch 9: val_accuracy did not improve from 0.59770\n",
      "25/25 [==============================] - 78s 3s/step - loss: 0.1183 - accuracy: 0.9705 - val_loss: 1.2202 - val_accuracy: 0.5977 - lr: 7.5000e-05\n",
      "Epoch 10/50\n",
      "25/25 [==============================] - ETA: 0s - loss: 0.1160 - accuracy: 0.9705\n",
      "Epoch 10: val_accuracy improved from 0.59770 to 0.60920, saving model to best_model_fold2_bilstm_attn_kan.h5\n",
      "\n",
      "Epoch 10: ReduceLROnPlateau reducing learning rate to 3.7500001781154424e-05.\n",
      "25/25 [==============================] - 78s 3s/step - loss: 0.1160 - accuracy: 0.9705 - val_loss: 1.2527 - val_accuracy: 0.6092 - lr: 7.5000e-05\n",
      "Epoch 11/50\n"
     ]
    },
    {
     "name": "stderr",
     "output_type": "stream",
     "text": [
      "/home/huuquangdang/.local/lib/python3.10/site-packages/keras/src/engine/training.py:3079: UserWarning: You are saving your model as an HDF5 file via `model.save()`. This file format is considered legacy. We recommend using instead the native Keras format, e.g. `model.save('my_model.keras')`.\n",
      "  saving_api.save_model(\n"
     ]
    },
    {
     "name": "stdout",
     "output_type": "stream",
     "text": [
      "25/25 [==============================] - ETA: 0s - loss: 0.0941 - accuracy: 0.9821\n",
      "Epoch 11: val_accuracy improved from 0.60920 to 0.63218, saving model to best_model_fold2_bilstm_attn_kan.h5\n",
      "25/25 [==============================] - 78s 3s/step - loss: 0.0941 - accuracy: 0.9821 - val_loss: 1.2469 - val_accuracy: 0.6322 - lr: 3.7500e-05\n",
      "Epoch 12/50\n"
     ]
    },
    {
     "name": "stderr",
     "output_type": "stream",
     "text": [
      "/home/huuquangdang/.local/lib/python3.10/site-packages/keras/src/engine/training.py:3079: UserWarning: You are saving your model as an HDF5 file via `model.save()`. This file format is considered legacy. We recommend using instead the native Keras format, e.g. `model.save('my_model.keras')`.\n",
      "  saving_api.save_model(\n"
     ]
    },
    {
     "name": "stdout",
     "output_type": "stream",
     "text": [
      "25/25 [==============================] - ETA: 0s - loss: 0.0827 - accuracy: 0.9821\n",
      "Epoch 12: val_accuracy improved from 0.63218 to 0.66667, saving model to best_model_fold2_bilstm_attn_kan.h5\n",
      "25/25 [==============================] - 78s 3s/step - loss: 0.0827 - accuracy: 0.9821 - val_loss: 1.2264 - val_accuracy: 0.6667 - lr: 3.7500e-05\n",
      "Epoch 13/50\n"
     ]
    },
    {
     "name": "stderr",
     "output_type": "stream",
     "text": [
      "/home/huuquangdang/.local/lib/python3.10/site-packages/keras/src/engine/training.py:3079: UserWarning: You are saving your model as an HDF5 file via `model.save()`. This file format is considered legacy. We recommend using instead the native Keras format, e.g. `model.save('my_model.keras')`.\n",
      "  saving_api.save_model(\n"
     ]
    },
    {
     "name": "stdout",
     "output_type": "stream",
     "text": [
      "25/25 [==============================] - ETA: 0s - loss: 0.0874 - accuracy: 0.9769\n",
      "Epoch 13: val_accuracy improved from 0.66667 to 0.67816, saving model to best_model_fold2_bilstm_attn_kan.h5\n",
      "\n",
      "Epoch 13: ReduceLROnPlateau reducing learning rate to 1.8750000890577212e-05.\n",
      "25/25 [==============================] - 78s 3s/step - loss: 0.0874 - accuracy: 0.9769 - val_loss: 1.1529 - val_accuracy: 0.6782 - lr: 3.7500e-05\n",
      "Epoch 14/50\n"
     ]
    },
    {
     "name": "stderr",
     "output_type": "stream",
     "text": [
      "/home/huuquangdang/.local/lib/python3.10/site-packages/keras/src/engine/training.py:3079: UserWarning: You are saving your model as an HDF5 file via `model.save()`. This file format is considered legacy. We recommend using instead the native Keras format, e.g. `model.save('my_model.keras')`.\n",
      "  saving_api.save_model(\n"
     ]
    },
    {
     "name": "stdout",
     "output_type": "stream",
     "text": [
      "25/25 [==============================] - ETA: 0s - loss: 0.0779 - accuracy: 0.9885\n",
      "Epoch 14: val_accuracy did not improve from 0.67816\n",
      "25/25 [==============================] - 77s 3s/step - loss: 0.0779 - accuracy: 0.9885 - val_loss: 1.1476 - val_accuracy: 0.6782 - lr: 1.8750e-05\n",
      "Epoch 15/50\n",
      "25/25 [==============================] - ETA: 0s - loss: 0.0810 - accuracy: 0.9872\n",
      "Epoch 15: val_accuracy did not improve from 0.67816\n",
      "25/25 [==============================] - 78s 3s/step - loss: 0.0810 - accuracy: 0.9872 - val_loss: 1.1089 - val_accuracy: 0.6782 - lr: 1.8750e-05\n",
      "Epoch 16/50\n",
      "25/25 [==============================] - ETA: 0s - loss: 0.0748 - accuracy: 0.9897\n",
      "Epoch 16: val_accuracy did not improve from 0.67816\n",
      "\n",
      "Epoch 16: ReduceLROnPlateau reducing learning rate to 9.375000445288606e-06.\n",
      "25/25 [==============================] - 78s 3s/step - loss: 0.0748 - accuracy: 0.9897 - val_loss: 1.0667 - val_accuracy: 0.6782 - lr: 1.8750e-05\n",
      "Epoch 17/50\n",
      "25/25 [==============================] - ETA: 0s - loss: 0.0776 - accuracy: 0.9910\n",
      "Epoch 17: val_accuracy improved from 0.67816 to 0.70115, saving model to best_model_fold2_bilstm_attn_kan.h5\n",
      "25/25 [==============================] - 78s 3s/step - loss: 0.0776 - accuracy: 0.9910 - val_loss: 1.0654 - val_accuracy: 0.7011 - lr: 9.3750e-06\n",
      "Epoch 18/50\n"
     ]
    },
    {
     "name": "stderr",
     "output_type": "stream",
     "text": [
      "/home/huuquangdang/.local/lib/python3.10/site-packages/keras/src/engine/training.py:3079: UserWarning: You are saving your model as an HDF5 file via `model.save()`. This file format is considered legacy. We recommend using instead the native Keras format, e.g. `model.save('my_model.keras')`.\n",
      "  saving_api.save_model(\n"
     ]
    },
    {
     "name": "stdout",
     "output_type": "stream",
     "text": [
      "25/25 [==============================] - ETA: 0s - loss: 0.0696 - accuracy: 0.9833\n",
      "Epoch 18: val_accuracy did not improve from 0.70115\n",
      "25/25 [==============================] - 79s 3s/step - loss: 0.0696 - accuracy: 0.9833 - val_loss: 1.0619 - val_accuracy: 0.7011 - lr: 9.3750e-06\n",
      "Epoch 19/50\n",
      "25/25 [==============================] - ETA: 0s - loss: 0.0738 - accuracy: 0.9872\n",
      "Epoch 19: val_accuracy did not improve from 0.70115\n",
      "\n",
      "Epoch 19: ReduceLROnPlateau reducing learning rate to 4.687500222644303e-06.\n",
      "25/25 [==============================] - 79s 3s/step - loss: 0.0738 - accuracy: 0.9872 - val_loss: 1.0470 - val_accuracy: 0.7011 - lr: 9.3750e-06\n",
      "Epoch 20/50\n",
      "25/25 [==============================] - ETA: 0s - loss: 0.0714 - accuracy: 0.9936\n",
      "Epoch 20: val_accuracy improved from 0.70115 to 0.71264, saving model to best_model_fold2_bilstm_attn_kan.h5\n",
      "25/25 [==============================] - 80s 3s/step - loss: 0.0714 - accuracy: 0.9936 - val_loss: 1.0264 - val_accuracy: 0.7126 - lr: 4.6875e-06\n",
      "Epoch 21/50\n"
     ]
    },
    {
     "name": "stderr",
     "output_type": "stream",
     "text": [
      "/home/huuquangdang/.local/lib/python3.10/site-packages/keras/src/engine/training.py:3079: UserWarning: You are saving your model as an HDF5 file via `model.save()`. This file format is considered legacy. We recommend using instead the native Keras format, e.g. `model.save('my_model.keras')`.\n",
      "  saving_api.save_model(\n"
     ]
    },
    {
     "name": "stdout",
     "output_type": "stream",
     "text": [
      "25/25 [==============================] - ETA: 0s - loss: 0.0759 - accuracy: 0.9846\n",
      "Epoch 21: val_accuracy did not improve from 0.71264\n",
      "25/25 [==============================] - 80s 3s/step - loss: 0.0759 - accuracy: 0.9846 - val_loss: 1.0053 - val_accuracy: 0.7126 - lr: 4.6875e-06\n",
      "Epoch 22/50\n",
      "25/25 [==============================] - ETA: 0s - loss: 0.0738 - accuracy: 0.9885\n",
      "Epoch 22: val_accuracy did not improve from 0.71264\n",
      "\n",
      "Epoch 22: ReduceLROnPlateau reducing learning rate to 2.3437501113221515e-06.\n",
      "25/25 [==============================] - 79s 3s/step - loss: 0.0738 - accuracy: 0.9885 - val_loss: 0.9907 - val_accuracy: 0.7126 - lr: 4.6875e-06\n",
      "Epoch 23/50\n",
      "25/25 [==============================] - ETA: 0s - loss: 0.0732 - accuracy: 0.9859\n",
      "Epoch 23: val_accuracy did not improve from 0.71264\n",
      "25/25 [==============================] - 79s 3s/step - loss: 0.0732 - accuracy: 0.9859 - val_loss: 0.9710 - val_accuracy: 0.7126 - lr: 2.3438e-06\n",
      "Epoch 24/50\n",
      "25/25 [==============================] - ETA: 0s - loss: 0.0654 - accuracy: 0.9859\n",
      "Epoch 24: val_accuracy did not improve from 0.71264\n",
      "25/25 [==============================] - 80s 3s/step - loss: 0.0654 - accuracy: 0.9859 - val_loss: 0.9532 - val_accuracy: 0.7126 - lr: 2.3438e-06\n",
      "Epoch 25/50\n",
      "25/25 [==============================] - ETA: 0s - loss: 0.0704 - accuracy: 0.9872\n",
      "Epoch 25: val_accuracy did not improve from 0.71264\n",
      "\n",
      "Epoch 25: ReduceLROnPlateau reducing learning rate to 1.1718750556610757e-06.\n",
      "25/25 [==============================] - 79s 3s/step - loss: 0.0704 - accuracy: 0.9872 - val_loss: 0.9377 - val_accuracy: 0.7126 - lr: 2.3438e-06\n"
     ]
    },
    {
     "name": "stderr",
     "output_type": "stream",
     "text": [
      "2025-10-16 01:18:01.252914: W tensorflow/core/grappler/costs/op_level_cost_estimator.cc:693] Error in PredictCost() for the op: op: \"Softmax\" attr { key: \"T\" value { type: DT_FLOAT } } inputs { dtype: DT_FLOAT shape { unknown_rank: true } } device { type: \"CPU\" vendor: \"GenuineIntel\" model: \"106\" frequency: 2611 num_cores: 16 environment { key: \"cpu_instruction_set\" value: \"AVX SSE, SSE2, SSE3, SSSE3, SSE4.1, SSE4.2\" } environment { key: \"eigen\" value: \"3.4.90\" } l1_cache_size: 49152 l2_cache_size: 1310720 l3_cache_size: 18874368 memory_size: 268435456 } outputs { dtype: DT_FLOAT shape { unknown_rank: true } }\n"
     ]
    },
    {
     "name": "stdout",
     "output_type": "stream",
     "text": [
      "7/7 [==============================] - 10s 1s/step\n",
      "\n",
      "✅ Fold 2 Results (BiLSTM_Attention_KAN):\n",
      "   Accuracy:  0.8710\n",
      "   Precision: 0.9082\n",
      "   Recall:    0.8241\n",
      "   F1 Score:  0.8641\n",
      "   AUC:       0.9320\n",
      "\n",
      "============================================================\n",
      "📊 Fold 3/5 - BiLSTM_Attention_KAN\n",
      "============================================================\n",
      "\n",
      "📈 Model Architecture:\n",
      "   - Model: BiLSTM + Attention + KAN\n",
      "   - Total params: 4,574,153\n",
      "   - Trainable params: 3,517,957\n",
      "   - BiLSTM: 128 + 64 units (bidirectional)\n",
      "   - Attention: Keras Attention layer (robust)\n",
      "   - Learning rate: 3e-4\n",
      "Epoch 1/50\n"
     ]
    },
    {
     "name": "stderr",
     "output_type": "stream",
     "text": [
      "2025-10-16 01:18:16.566751: W tensorflow/core/grappler/costs/op_level_cost_estimator.cc:693] Error in PredictCost() for the op: op: \"Softmax\" attr { key: \"T\" value { type: DT_FLOAT } } inputs { dtype: DT_FLOAT shape { unknown_rank: true } } device { type: \"CPU\" vendor: \"GenuineIntel\" model: \"106\" frequency: 2611 num_cores: 16 environment { key: \"cpu_instruction_set\" value: \"AVX SSE, SSE2, SSE3, SSSE3, SSE4.1, SSE4.2\" } environment { key: \"eigen\" value: \"3.4.90\" } l1_cache_size: 49152 l2_cache_size: 1310720 l3_cache_size: 18874368 memory_size: 268435456 } outputs { dtype: DT_FLOAT shape { unknown_rank: true } }\n"
     ]
    },
    {
     "name": "stdout",
     "output_type": "stream",
     "text": [
      "25/25 [==============================] - ETA: 0s - loss: 0.6859 - accuracy: 0.5577"
     ]
    },
    {
     "name": "stderr",
     "output_type": "stream",
     "text": [
      "2025-10-16 01:19:34.570970: W tensorflow/core/grappler/costs/op_level_cost_estimator.cc:693] Error in PredictCost() for the op: op: \"Softmax\" attr { key: \"T\" value { type: DT_FLOAT } } inputs { dtype: DT_FLOAT shape { unknown_rank: true } } device { type: \"CPU\" vendor: \"GenuineIntel\" model: \"106\" frequency: 2611 num_cores: 16 environment { key: \"cpu_instruction_set\" value: \"AVX SSE, SSE2, SSE3, SSSE3, SSE4.1, SSE4.2\" } environment { key: \"eigen\" value: \"3.4.90\" } l1_cache_size: 49152 l2_cache_size: 1310720 l3_cache_size: 18874368 memory_size: 268435456 } outputs { dtype: DT_FLOAT shape { unknown_rank: true } }\n"
     ]
    },
    {
     "name": "stdout",
     "output_type": "stream",
     "text": [
      "\n",
      "Epoch 1: val_accuracy improved from -inf to 0.51724, saving model to best_model_fold3_bilstm_attn_kan.h5\n",
      "25/25 [==============================] - 86s 3s/step - loss: 0.6859 - accuracy: 0.5577 - val_loss: 0.6931 - val_accuracy: 0.5172 - lr: 3.0000e-04\n",
      "Epoch 2/50\n"
     ]
    },
    {
     "name": "stderr",
     "output_type": "stream",
     "text": [
      "/home/huuquangdang/.local/lib/python3.10/site-packages/keras/src/engine/training.py:3079: UserWarning: You are saving your model as an HDF5 file via `model.save()`. This file format is considered legacy. We recommend using instead the native Keras format, e.g. `model.save('my_model.keras')`.\n",
      "  saving_api.save_model(\n"
     ]
    },
    {
     "name": "stdout",
     "output_type": "stream",
     "text": [
      "25/25 [==============================] - ETA: 0s - loss: 0.6265 - accuracy: 0.7333\n",
      "Epoch 2: val_accuracy did not improve from 0.51724\n",
      "25/25 [==============================] - 79s 3s/step - loss: 0.6265 - accuracy: 0.7333 - val_loss: 0.6899 - val_accuracy: 0.5057 - lr: 3.0000e-04\n",
      "Epoch 3/50\n",
      "25/25 [==============================] - ETA: 0s - loss: 0.5329 - accuracy: 0.7987\n",
      "Epoch 3: val_accuracy improved from 0.51724 to 0.52874, saving model to best_model_fold3_bilstm_attn_kan.h5\n",
      "25/25 [==============================] - 79s 3s/step - loss: 0.5329 - accuracy: 0.7987 - val_loss: 0.6770 - val_accuracy: 0.5287 - lr: 3.0000e-04\n",
      "Epoch 4/50\n"
     ]
    },
    {
     "name": "stderr",
     "output_type": "stream",
     "text": [
      "/home/huuquangdang/.local/lib/python3.10/site-packages/keras/src/engine/training.py:3079: UserWarning: You are saving your model as an HDF5 file via `model.save()`. This file format is considered legacy. We recommend using instead the native Keras format, e.g. `model.save('my_model.keras')`.\n",
      "  saving_api.save_model(\n"
     ]
    },
    {
     "name": "stdout",
     "output_type": "stream",
     "text": [
      "25/25 [==============================] - ETA: 0s - loss: 0.3975 - accuracy: 0.8808\n",
      "Epoch 4: val_accuracy improved from 0.52874 to 0.56322, saving model to best_model_fold3_bilstm_attn_kan.h5\n",
      "25/25 [==============================] - 78s 3s/step - loss: 0.3975 - accuracy: 0.8808 - val_loss: 0.6573 - val_accuracy: 0.5632 - lr: 3.0000e-04\n",
      "Epoch 5/50\n"
     ]
    },
    {
     "name": "stderr",
     "output_type": "stream",
     "text": [
      "/home/huuquangdang/.local/lib/python3.10/site-packages/keras/src/engine/training.py:3079: UserWarning: You are saving your model as an HDF5 file via `model.save()`. This file format is considered legacy. We recommend using instead the native Keras format, e.g. `model.save('my_model.keras')`.\n",
      "  saving_api.save_model(\n"
     ]
    },
    {
     "name": "stdout",
     "output_type": "stream",
     "text": [
      "25/25 [==============================] - ETA: 0s - loss: 0.2643 - accuracy: 0.9154\n",
      "Epoch 5: val_accuracy did not improve from 0.56322\n",
      "25/25 [==============================] - 78s 3s/step - loss: 0.2643 - accuracy: 0.9154 - val_loss: 1.0218 - val_accuracy: 0.5172 - lr: 3.0000e-04\n",
      "Epoch 6/50\n",
      "25/25 [==============================] - ETA: 0s - loss: 0.2067 - accuracy: 0.9410\n",
      "Epoch 6: val_accuracy did not improve from 0.56322\n",
      "25/25 [==============================] - 78s 3s/step - loss: 0.2067 - accuracy: 0.9410 - val_loss: 1.0473 - val_accuracy: 0.5287 - lr: 3.0000e-04\n",
      "Epoch 7/50\n",
      "25/25 [==============================] - ETA: 0s - loss: 0.1457 - accuracy: 0.9577\n",
      "Epoch 7: val_accuracy did not improve from 0.56322\n",
      "\n",
      "Epoch 7: ReduceLROnPlateau reducing learning rate to 0.0001500000071246177.\n",
      "25/25 [==============================] - 78s 3s/step - loss: 0.1457 - accuracy: 0.9577 - val_loss: 1.2145 - val_accuracy: 0.5287 - lr: 3.0000e-04\n",
      "Epoch 8/50\n",
      "25/25 [==============================] - ETA: 0s - loss: 0.1104 - accuracy: 0.9692\n",
      "Epoch 8: val_accuracy did not improve from 0.56322\n",
      "25/25 [==============================] - 78s 3s/step - loss: 0.1104 - accuracy: 0.9692 - val_loss: 1.2768 - val_accuracy: 0.5402 - lr: 1.5000e-04\n",
      "Epoch 9/50\n",
      "25/25 [==============================] - ETA: 0s - loss: 0.0838 - accuracy: 0.9808\n",
      "Epoch 9: val_accuracy did not improve from 0.56322\n",
      "25/25 [==============================] - 78s 3s/step - loss: 0.0838 - accuracy: 0.9808 - val_loss: 1.1200 - val_accuracy: 0.5517 - lr: 1.5000e-04\n"
     ]
    },
    {
     "name": "stderr",
     "output_type": "stream",
     "text": [
      "2025-10-16 01:30:05.985422: W tensorflow/core/grappler/costs/op_level_cost_estimator.cc:693] Error in PredictCost() for the op: op: \"Softmax\" attr { key: \"T\" value { type: DT_FLOAT } } inputs { dtype: DT_FLOAT shape { unknown_rank: true } } device { type: \"CPU\" vendor: \"GenuineIntel\" model: \"106\" frequency: 2611 num_cores: 16 environment { key: \"cpu_instruction_set\" value: \"AVX SSE, SSE2, SSE3, SSSE3, SSE4.1, SSE4.2\" } environment { key: \"eigen\" value: \"3.4.90\" } l1_cache_size: 49152 l2_cache_size: 1310720 l3_cache_size: 18874368 memory_size: 268435456 } outputs { dtype: DT_FLOAT shape { unknown_rank: true } }\n"
     ]
    },
    {
     "name": "stdout",
     "output_type": "stream",
     "text": [
      "7/7 [==============================] - 9s 1s/step\n",
      "\n",
      "✅ Fold 3 Results (BiLSTM_Attention_KAN):\n",
      "   Accuracy:  0.9954\n",
      "   Precision: 1.0000\n",
      "   Recall:    0.9908\n",
      "   F1 Score:  0.9954\n",
      "   AUC:       0.7853\n",
      "\n",
      "============================================================\n",
      "📊 Fold 4/5 - BiLSTM_Attention_KAN\n",
      "============================================================\n",
      "\n",
      "📈 Model Architecture:\n",
      "   - Model: BiLSTM + Attention + KAN\n",
      "   - Total params: 4,574,153\n",
      "   - Trainable params: 3,517,957\n",
      "   - BiLSTM: 128 + 64 units (bidirectional)\n",
      "   - Attention: Keras Attention layer (robust)\n",
      "   - Learning rate: 3e-4\n",
      "Epoch 1/50\n"
     ]
    },
    {
     "name": "stderr",
     "output_type": "stream",
     "text": [
      "2025-10-16 01:30:21.018828: W tensorflow/core/grappler/costs/op_level_cost_estimator.cc:693] Error in PredictCost() for the op: op: \"Softmax\" attr { key: \"T\" value { type: DT_FLOAT } } inputs { dtype: DT_FLOAT shape { unknown_rank: true } } device { type: \"CPU\" vendor: \"GenuineIntel\" model: \"106\" frequency: 2611 num_cores: 16 environment { key: \"cpu_instruction_set\" value: \"AVX SSE, SSE2, SSE3, SSSE3, SSE4.1, SSE4.2\" } environment { key: \"eigen\" value: \"3.4.90\" } l1_cache_size: 49152 l2_cache_size: 1310720 l3_cache_size: 18874368 memory_size: 268435456 } outputs { dtype: DT_FLOAT shape { unknown_rank: true } }\n"
     ]
    },
    {
     "name": "stdout",
     "output_type": "stream",
     "text": [
      "25/25 [==============================] - ETA: 0s - loss: 0.6861 - accuracy: 0.5474"
     ]
    },
    {
     "name": "stderr",
     "output_type": "stream",
     "text": [
      "2025-10-16 01:31:36.639942: W tensorflow/core/grappler/costs/op_level_cost_estimator.cc:693] Error in PredictCost() for the op: op: \"Softmax\" attr { key: \"T\" value { type: DT_FLOAT } } inputs { dtype: DT_FLOAT shape { unknown_rank: true } } device { type: \"CPU\" vendor: \"GenuineIntel\" model: \"106\" frequency: 2611 num_cores: 16 environment { key: \"cpu_instruction_set\" value: \"AVX SSE, SSE2, SSE3, SSSE3, SSE4.1, SSE4.2\" } environment { key: \"eigen\" value: \"3.4.90\" } l1_cache_size: 49152 l2_cache_size: 1310720 l3_cache_size: 18874368 memory_size: 268435456 } outputs { dtype: DT_FLOAT shape { unknown_rank: true } }\n"
     ]
    },
    {
     "name": "stdout",
     "output_type": "stream",
     "text": [
      "\n",
      "Epoch 1: val_accuracy improved from -inf to 0.50575, saving model to best_model_fold4_bilstm_attn_kan.h5\n",
      "25/25 [==============================] - 83s 3s/step - loss: 0.6861 - accuracy: 0.5474 - val_loss: 0.6938 - val_accuracy: 0.5057 - lr: 3.0000e-04\n",
      "Epoch 2/50\n"
     ]
    },
    {
     "name": "stderr",
     "output_type": "stream",
     "text": [
      "/home/huuquangdang/.local/lib/python3.10/site-packages/keras/src/engine/training.py:3079: UserWarning: You are saving your model as an HDF5 file via `model.save()`. This file format is considered legacy. We recommend using instead the native Keras format, e.g. `model.save('my_model.keras')`.\n",
      "  saving_api.save_model(\n"
     ]
    },
    {
     "name": "stdout",
     "output_type": "stream",
     "text": [
      "25/25 [==============================] - ETA: 0s - loss: 0.6254 - accuracy: 0.7103\n",
      "Epoch 2: val_accuracy did not improve from 0.50575\n",
      "25/25 [==============================] - 78s 3s/step - loss: 0.6254 - accuracy: 0.7103 - val_loss: 0.7077 - val_accuracy: 0.5057 - lr: 3.0000e-04\n",
      "Epoch 3/50\n",
      "25/25 [==============================] - ETA: 0s - loss: 0.5193 - accuracy: 0.8000\n",
      "Epoch 3: val_accuracy did not improve from 0.50575\n",
      "25/25 [==============================] - 78s 3s/step - loss: 0.5193 - accuracy: 0.8000 - val_loss: 0.7608 - val_accuracy: 0.5057 - lr: 3.0000e-04\n",
      "Epoch 4/50\n",
      "25/25 [==============================] - ETA: 0s - loss: 0.3718 - accuracy: 0.8821\n",
      "Epoch 4: val_accuracy did not improve from 0.50575\n",
      "\n",
      "Epoch 4: ReduceLROnPlateau reducing learning rate to 0.0001500000071246177.\n",
      "25/25 [==============================] - 78s 3s/step - loss: 0.3718 - accuracy: 0.8821 - val_loss: 1.0383 - val_accuracy: 0.5057 - lr: 3.0000e-04\n",
      "Epoch 5/50\n",
      "25/25 [==============================] - ETA: 0s - loss: 0.2749 - accuracy: 0.9179\n",
      "Epoch 5: val_accuracy did not improve from 0.50575\n",
      "25/25 [==============================] - 78s 3s/step - loss: 0.2749 - accuracy: 0.9179 - val_loss: 0.9598 - val_accuracy: 0.5057 - lr: 1.5000e-04\n",
      "Epoch 6/50\n",
      "25/25 [==============================] - ETA: 0s - loss: 0.2185 - accuracy: 0.9308\n",
      "Epoch 6: val_accuracy did not improve from 0.50575\n",
      "25/25 [==============================] - 78s 3s/step - loss: 0.2185 - accuracy: 0.9308 - val_loss: 1.0857 - val_accuracy: 0.5057 - lr: 1.5000e-04\n"
     ]
    },
    {
     "name": "stderr",
     "output_type": "stream",
     "text": [
      "2025-10-16 01:38:10.806539: W tensorflow/core/grappler/costs/op_level_cost_estimator.cc:693] Error in PredictCost() for the op: op: \"Softmax\" attr { key: \"T\" value { type: DT_FLOAT } } inputs { dtype: DT_FLOAT shape { unknown_rank: true } } device { type: \"CPU\" vendor: \"GenuineIntel\" model: \"106\" frequency: 2611 num_cores: 16 environment { key: \"cpu_instruction_set\" value: \"AVX SSE, SSE2, SSE3, SSSE3, SSE4.1, SSE4.2\" } environment { key: \"eigen\" value: \"3.4.90\" } l1_cache_size: 49152 l2_cache_size: 1310720 l3_cache_size: 18874368 memory_size: 268435456 } outputs { dtype: DT_FLOAT shape { unknown_rank: true } }\n"
     ]
    },
    {
     "name": "stdout",
     "output_type": "stream",
     "text": [
      "7/7 [==============================] - 9s 1s/step\n"
     ]
    },
    {
     "name": "stderr",
     "output_type": "stream",
     "text": [
      "Model is not converging.  Current: 521.579410125192 is not greater than 521.6292190704894. Delta is -0.04980894529739999\n"
     ]
    },
    {
     "name": "stdout",
     "output_type": "stream",
     "text": [
      "\n",
      "✅ Fold 4 Results (BiLSTM_Attention_KAN):\n",
      "   Accuracy:  0.5023\n",
      "   Precision: 0.5023\n",
      "   Recall:    1.0000\n",
      "   F1 Score:  0.6687\n",
      "   AUC:       0.5662\n",
      "\n",
      "============================================================\n",
      "📊 Fold 5/5 - BiLSTM_Attention_KAN\n",
      "============================================================\n",
      "\n",
      "📈 Model Architecture:\n",
      "   - Model: BiLSTM + Attention + KAN\n",
      "   - Total params: 4,574,153\n",
      "   - Trainable params: 3,517,957\n",
      "   - BiLSTM: 128 + 64 units (bidirectional)\n",
      "   - Attention: Keras Attention layer (robust)\n",
      "   - Learning rate: 3e-4\n",
      "Epoch 1/50\n"
     ]
    },
    {
     "name": "stderr",
     "output_type": "stream",
     "text": [
      "2025-10-16 01:38:25.468414: W tensorflow/core/grappler/costs/op_level_cost_estimator.cc:693] Error in PredictCost() for the op: op: \"Softmax\" attr { key: \"T\" value { type: DT_FLOAT } } inputs { dtype: DT_FLOAT shape { unknown_rank: true } } device { type: \"CPU\" vendor: \"GenuineIntel\" model: \"106\" frequency: 2611 num_cores: 16 environment { key: \"cpu_instruction_set\" value: \"AVX SSE, SSE2, SSE3, SSSE3, SSE4.1, SSE4.2\" } environment { key: \"eigen\" value: \"3.4.90\" } l1_cache_size: 49152 l2_cache_size: 1310720 l3_cache_size: 18874368 memory_size: 268435456 } outputs { dtype: DT_FLOAT shape { unknown_rank: true } }\n"
     ]
    },
    {
     "name": "stdout",
     "output_type": "stream",
     "text": [
      "25/25 [==============================] - ETA: 0s - loss: 0.6780 - accuracy: 0.5583"
     ]
    },
    {
     "name": "stderr",
     "output_type": "stream",
     "text": [
      "2025-10-16 01:39:41.308360: W tensorflow/core/grappler/costs/op_level_cost_estimator.cc:693] Error in PredictCost() for the op: op: \"Softmax\" attr { key: \"T\" value { type: DT_FLOAT } } inputs { dtype: DT_FLOAT shape { unknown_rank: true } } device { type: \"CPU\" vendor: \"GenuineIntel\" model: \"106\" frequency: 2611 num_cores: 16 environment { key: \"cpu_instruction_set\" value: \"AVX SSE, SSE2, SSE3, SSSE3, SSE4.1, SSE4.2\" } environment { key: \"eigen\" value: \"3.4.90\" } l1_cache_size: 49152 l2_cache_size: 1310720 l3_cache_size: 18874368 memory_size: 268435456 } outputs { dtype: DT_FLOAT shape { unknown_rank: true } }\n"
     ]
    },
    {
     "name": "stdout",
     "output_type": "stream",
     "text": [
      "\n",
      "Epoch 1: val_accuracy improved from -inf to 0.49425, saving model to best_model_fold5_bilstm_attn_kan.h5\n",
      "25/25 [==============================] - 83s 3s/step - loss: 0.6780 - accuracy: 0.5583 - val_loss: 0.7241 - val_accuracy: 0.4943 - lr: 3.0000e-04\n",
      "Epoch 2/50\n"
     ]
    },
    {
     "name": "stderr",
     "output_type": "stream",
     "text": [
      "/home/huuquangdang/.local/lib/python3.10/site-packages/keras/src/engine/training.py:3079: UserWarning: You are saving your model as an HDF5 file via `model.save()`. This file format is considered legacy. We recommend using instead the native Keras format, e.g. `model.save('my_model.keras')`.\n",
      "  saving_api.save_model(\n"
     ]
    },
    {
     "name": "stdout",
     "output_type": "stream",
     "text": [
      "25/25 [==============================] - ETA: 0s - loss: 0.5984 - accuracy: 0.7119\n",
      "Epoch 2: val_accuracy did not improve from 0.49425\n",
      "25/25 [==============================] - 78s 3s/step - loss: 0.5984 - accuracy: 0.7119 - val_loss: 0.8332 - val_accuracy: 0.4943 - lr: 3.0000e-04\n",
      "Epoch 3/50\n",
      "25/25 [==============================] - ETA: 0s - loss: 0.4851 - accuracy: 0.8335\n",
      "Epoch 3: val_accuracy did not improve from 0.49425\n",
      "25/25 [==============================] - 78s 3s/step - loss: 0.4851 - accuracy: 0.8335 - val_loss: 0.9545 - val_accuracy: 0.4943 - lr: 3.0000e-04\n",
      "Epoch 4/50\n",
      "25/25 [==============================] - ETA: 0s - loss: 0.3690 - accuracy: 0.8886\n",
      "Epoch 4: val_accuracy did not improve from 0.49425\n",
      "\n",
      "Epoch 4: ReduceLROnPlateau reducing learning rate to 0.0001500000071246177.\n",
      "25/25 [==============================] - 79s 3s/step - loss: 0.3690 - accuracy: 0.8886 - val_loss: 1.2926 - val_accuracy: 0.4943 - lr: 3.0000e-04\n",
      "Epoch 5/50\n",
      "25/25 [==============================] - ETA: 0s - loss: 0.2700 - accuracy: 0.9283\n",
      "Epoch 5: val_accuracy did not improve from 0.49425\n",
      "25/25 [==============================] - 79s 3s/step - loss: 0.2700 - accuracy: 0.9283 - val_loss: 1.3238 - val_accuracy: 0.4943 - lr: 1.5000e-04\n",
      "Epoch 6/50\n",
      "25/25 [==============================] - ETA: 0s - loss: 0.2117 - accuracy: 0.9501\n",
      "Epoch 6: val_accuracy did not improve from 0.49425\n",
      "25/25 [==============================] - 78s 3s/step - loss: 0.2117 - accuracy: 0.9501 - val_loss: 1.5401 - val_accuracy: 0.4943 - lr: 1.5000e-04\n"
     ]
    },
    {
     "name": "stderr",
     "output_type": "stream",
     "text": [
      "2025-10-16 01:46:17.573701: W tensorflow/core/grappler/costs/op_level_cost_estimator.cc:693] Error in PredictCost() for the op: op: \"Softmax\" attr { key: \"T\" value { type: DT_FLOAT } } inputs { dtype: DT_FLOAT shape { unknown_rank: true } } device { type: \"CPU\" vendor: \"GenuineIntel\" model: \"106\" frequency: 2611 num_cores: 16 environment { key: \"cpu_instruction_set\" value: \"AVX SSE, SSE2, SSE3, SSSE3, SSE4.1, SSE4.2\" } environment { key: \"eigen\" value: \"3.4.90\" } l1_cache_size: 49152 l2_cache_size: 1310720 l3_cache_size: 18874368 memory_size: 268435456 } outputs { dtype: DT_FLOAT shape { unknown_rank: true } }\n"
     ]
    },
    {
     "name": "stdout",
     "output_type": "stream",
     "text": [
      "7/7 [==============================] - 9s 1s/step\n",
      "\n",
      "✅ Fold 5 Results (BiLSTM_Attention_KAN):\n",
      "   Accuracy:  0.9954\n",
      "   Precision: 0.9908\n",
      "   Recall:    1.0000\n",
      "   F1 Score:  0.9954\n",
      "   AUC:       0.6777\n",
      "\n",
      "============================================================\n",
      "📊 FINAL RESULTS - BiLSTM_Attention_KAN Model\n",
      "============================================================\n",
      "Fold 1: Acc=0.8618, Prec=0.8824, Rec=0.8333, F1=0.8571, AUC=0.9399\n",
      "Fold 2: Acc=0.8710, Prec=0.9082, Rec=0.8241, F1=0.8641, AUC=0.9320\n",
      "Fold 3: Acc=0.9954, Prec=1.0000, Rec=0.9908, F1=0.9954, AUC=0.7853\n",
      "Fold 4: Acc=0.5023, Prec=0.5023, Rec=1.0000, F1=0.6687, AUC=0.5662\n",
      "Fold 5: Acc=0.9954, Prec=0.9908, Rec=1.0000, F1=0.9954, AUC=0.6777\n",
      "\n",
      "📊 Average Metrics:\n",
      "fold         3.000000\n",
      "accuracy     0.845157\n",
      "precision    0.856729\n",
      "recall       0.929647\n",
      "f1           0.876143\n",
      "auc          0.780211\n",
      "dtype: float64\n"
     ]
    }
   ],
   "source": [
    "import numpy as np\n",
    "import cv2\n",
    "import tensorflow as tf\n",
    "from tensorflow.keras.applications import MobileNetV2\n",
    "from tensorflow.keras.layers import (\n",
    "    Input, TimeDistributed, LSTM, Dropout, Dense, GlobalAveragePooling2D, \n",
    "    Concatenate, BatchNormalization, Bidirectional, Attention, Flatten\n",
    ")\n",
    "from tensorflow.keras.models import Model\n",
    "from tensorflow.keras.preprocessing.image import ImageDataGenerator\n",
    "from tensorflow.keras.optimizers import Adamax\n",
    "from tensorflow.keras.callbacks import ModelCheckpoint, EarlyStopping, ReduceLROnPlateau\n",
    "from sklearn.model_selection import StratifiedKFold, train_test_split\n",
    "from sklearn.metrics import accuracy_score, precision_score, recall_score, f1_score, roc_auc_score\n",
    "from hmmlearn.hmm import GaussianHMM\n",
    "from tfkan.layers import Conv2DKAN, DenseKAN\n",
    "from scipy.stats import mode\n",
    "from sklearn.preprocessing import StandardScaler\n",
    "\n",
    "# Configuration (same as before)\n",
    "video_keys = list(video_dict.keys())\n",
    "video_labels = [labels[k] for k in video_keys]\n",
    "\n",
    "img_size = (224, 224)\n",
    "batch_size = 32\n",
    "epochs = 50\n",
    "n_splits = 5\n",
    "sequence_len = 10\n",
    "results = []\n",
    "all_histories = []\n",
    "\n",
    "# Normalize CSV features (same normalization strategy)\n",
    "print(\"🔧 Computing CSV feature statistics for normalization...\")\n",
    "all_csv_features = []\n",
    "for key in video_keys:\n",
    "    frames = video_dict[key][:sequence_len]\n",
    "    for path in frames:\n",
    "        filename = os.path.basename(path)\n",
    "        if filename in openface_features:\n",
    "            all_csv_features.append(openface_features[filename])\n",
    "\n",
    "csv_scaler = StandardScaler()\n",
    "csv_scaler.fit(all_csv_features)\n",
    "print(f\"✅ CSV feature normalization fitted on {len(all_csv_features)} samples\")\n",
    "\n",
    "# Data generator (SAME NAME, same functionality)\n",
    "class VideoSequence(tf.keras.utils.Sequence):\n",
    "    def __init__(self, video_keys, video_dict, labels, batch_size, img_size, sequence_len=10, augment=False):\n",
    "        self.video_keys = video_keys\n",
    "        self.video_dict = video_dict\n",
    "        self.labels = labels\n",
    "        self.batch_size = batch_size\n",
    "        self.img_size = img_size\n",
    "        self.sequence_len = sequence_len\n",
    "        self.augment = augment\n",
    "        self.datagen = ImageDataGenerator(\n",
    "            rescale=1./255,\n",
    "            rotation_range=15 if augment else 0,\n",
    "            zoom_range=0.1 if augment else 0,\n",
    "            horizontal_flip=augment\n",
    "        )\n",
    "\n",
    "    def __len__(self):\n",
    "        return int(np.ceil(len(self.video_keys) / self.batch_size))\n",
    "\n",
    "    def __getitem__(self, idx):\n",
    "        batch_keys = self.video_keys[idx * self.batch_size:(idx + 1) * self.batch_size]\n",
    "        batch_X_img, batch_X_csv, batch_y = [], [], []\n",
    "\n",
    "        for key in batch_keys:\n",
    "            frames = self.video_dict[key][:self.sequence_len]\n",
    "            imgs = []\n",
    "            csv_feats = []\n",
    "            \n",
    "            for path in frames:\n",
    "                # Load and process image\n",
    "                img = cv2.imread(path)\n",
    "                img = cv2.resize(img, self.img_size)\n",
    "                img = self.datagen.random_transform(img) if self.augment else img\n",
    "                img = img.astype('float32') / 255.0\n",
    "                imgs.append(img)\n",
    "                \n",
    "                # Load CSV features and normalize (1-to-1 mapping)\n",
    "                filename = os.path.basename(path)\n",
    "                if filename in openface_features:\n",
    "                    csv_feat = openface_features[filename]\n",
    "                    csv_feat = csv_scaler.transform([csv_feat])[0]\n",
    "                else:\n",
    "                    csv_feat = np.zeros(csv_feature_dim, dtype='float32')\n",
    "                csv_feats.append(csv_feat)\n",
    "            \n",
    "            # Pad sequences if needed\n",
    "            while len(imgs) < self.sequence_len:\n",
    "                imgs.append(np.zeros((*self.img_size, 3), dtype='float32'))\n",
    "                csv_feats.append(np.zeros(csv_feature_dim, dtype='float32'))\n",
    "            \n",
    "            batch_X_img.append(imgs)\n",
    "            batch_X_csv.append(csv_feats)\n",
    "            batch_y.append(self.labels[key])\n",
    "\n",
    "        return [np.array(batch_X_img), np.array(batch_X_csv)], np.array(batch_y)\n",
    "\n",
    "# BiLSTM + Attention + KAN Model\n",
    "def build_model(sequence_len, img_size, csv_dim=674):\n",
    "    # MobileNet branch\n",
    "    base_cnn = MobileNetV2(input_shape=(*img_size, 3), include_top=False, weights='imagenet')\n",
    "    base_cnn.trainable = True\n",
    "    for layer in base_cnn.layers[:-20]:\n",
    "        layer.trainable = False\n",
    "    \n",
    "    cnn_out = GlobalAveragePooling2D()(base_cnn.output)\n",
    "    cnn_model = Model(inputs=base_cnn.input, outputs=cnn_out)\n",
    "    \n",
    "    # Image sequence input\n",
    "    input_seq_img = Input(shape=(sequence_len, *img_size, 3), name='image_input')\n",
    "    x_img = TimeDistributed(cnn_model)(input_seq_img)\n",
    "    \n",
    "    # CSV features input\n",
    "    input_seq_csv = Input(shape=(sequence_len, csv_dim), name='csv_input')\n",
    "    \n",
    "    # BatchNormalization before fusion\n",
    "    x_img = BatchNormalization(name='bn_mobilenet')(x_img)\n",
    "    x_csv = BatchNormalization(name='bn_csv')(input_seq_csv)\n",
    "    \n",
    "    # Concatenate features (1-to-1 fusion)\n",
    "    x_combined = Concatenate(axis=-1, name='feature_fusion')([x_img, x_csv])\n",
    "    \n",
    "    # 🆕 BiLSTM layers (Bidirectional LSTM)\n",
    "    x = Bidirectional(LSTM(128, return_sequences=True, name='bilstm_1'))(x_combined)\n",
    "    x = Dropout(0.3, name='dropout_1')(x)\n",
    "    x = Bidirectional(LSTM(64, return_sequences=True, name='bilstm_2'))(x)\n",
    "    x = Dropout(0.3, name='dropout_2')(x)\n",
    "    \n",
    "    # 🆕 Attention mechanism using tf.keras.layers.Attention\n",
    "    attn_output = Attention(name='attention')([x, x])\n",
    "    # Global average pooling over time dimension to get fixed-size output\n",
    "    x = tf.keras.layers.GlobalAveragePooling1D(name='global_avg_pool')(attn_output)\n",
    "    x = Dropout(0.2, name='dropout_attention')(x)\n",
    "    \n",
    "    # Classification layers\n",
    "    x = Dense(64, activation='relu', name='dense_1')(x)\n",
    "    x = Dropout(0.2, name='dropout_3')(x)\n",
    "    x = Dense(32, activation='relu', name='dense_2')(x)\n",
    "    x = Dropout(0.2, name='dropout_4')(x)\n",
    "    \n",
    "    # KAN output layer\n",
    "    x = DenseKAN(1, name='kan_output')(x)\n",
    "    output = tf.keras.activations.sigmoid(x)\n",
    "    \n",
    "    model = Model(inputs=[input_seq_img, input_seq_csv], outputs=output, name='BiLSTM_Attention_KAN')\n",
    "    return model\n",
    "\n",
    "# HMM post-processing (SAME NAME, unchanged)\n",
    "def hmm_postprocess(pred_probs, y_true, n_states=2):\n",
    "    pred_probs = pred_probs.reshape(-1, 1)\n",
    "    hmm = GaussianHMM(n_components=n_states, covariance_type=\"diag\", n_iter=100)\n",
    "    hmm.fit(pred_probs)\n",
    "    hidden_states = hmm.predict(pred_probs)\n",
    "\n",
    "    mapping = {}\n",
    "    for state in np.unique(hidden_states):\n",
    "        indices = [i for i in range(len(hidden_states)) if hidden_states[i] == state]\n",
    "        state_labels = [y_true[i] for i in indices]\n",
    "        if len(state_labels) > 0:\n",
    "            mapped_label = mode(state_labels, keepdims=True).mode[0]\n",
    "        else:\n",
    "            mapped_label = 0\n",
    "        mapping[state] = mapped_label\n",
    "\n",
    "    hmm_labels = np.array([mapping[s] for s in hidden_states])\n",
    "    return hmm_labels\n",
    "\n",
    "# Training K-Fold\n",
    "print(\"\\n🚀 Starting BiLSTM + Attention + KAN Training:\")\n",
    "print(\"   ✅ Bidirectional LSTM (128 + 64 units)\")\n",
    "print(\"   ✅ Keras Attention mechanism (robust)\")\n",
    "print(\"   ✅ Normalized CSV features (1-to-1 mapping)\")\n",
    "print(\"   ✅ MobileNet (last 20 layers trainable)\")\n",
    "print(\"   ✅ KAN output layer\")\n",
    "print(\"   ✅ HMM post-processing\\n\")\n",
    "\n",
    "skf = StratifiedKFold(n_splits=n_splits, shuffle=True, random_state=42)\n",
    "\n",
    "for fold, (trainval_idx, test_idx) in enumerate(skf.split(video_keys, video_labels), 1):\n",
    "    print(f\"\\n{'='*60}\")\n",
    "    print(f\"📊 Fold {fold}/{n_splits} - BiLSTM_Attention_KAN\")\n",
    "    print(f\"{'='*60}\")\n",
    "\n",
    "    trainval_keys = [video_keys[i] for i in trainval_idx]\n",
    "    test_keys = [video_keys[i] for i in test_idx]\n",
    "\n",
    "    y_trainval = [labels[k] for k in trainval_keys]\n",
    "    train_keys, val_keys = train_test_split(trainval_keys, test_size=0.1, stratify=y_trainval, random_state=fold)\n",
    "\n",
    "    train_gen = VideoSequence(train_keys, video_dict, labels, batch_size, img_size, sequence_len, augment=True)\n",
    "    val_gen = VideoSequence(val_keys, video_dict, labels, batch_size, img_size, sequence_len, augment=False)\n",
    "    test_gen = VideoSequence(test_keys, video_dict, labels, batch_size, img_size, sequence_len, augment=False)\n",
    "\n",
    "    model = build_model(sequence_len, img_size, csv_feature_dim)\n",
    "    model.compile(optimizer=Adamax(3e-4), loss='binary_crossentropy', metrics=['accuracy'])\n",
    "    \n",
    "    print(f\"\\n📈 Model Architecture:\")\n",
    "    print(f\"   - Model: BiLSTM + Attention + KAN\")\n",
    "    print(f\"   - Total params: {model.count_params():,}\")\n",
    "    trainable_params = sum([tf.size(w).numpy() for w in model.trainable_weights])\n",
    "    print(f\"   - Trainable params: {trainable_params:,}\")\n",
    "    print(f\"   - BiLSTM: 128 + 64 units (bidirectional)\")\n",
    "    print(f\"   - Attention: Keras Attention layer (robust)\")\n",
    "    print(f\"   - Learning rate: 3e-4\")\n",
    "\n",
    "    model_path = f\"best_model_fold{fold}_bilstm_attn_kan.h5\"\n",
    "    checkpoint = ModelCheckpoint(model_path, monitor='val_accuracy', save_best_only=True, mode='max', verbose=1)\n",
    "    earlystop = EarlyStopping(monitor='val_accuracy', patience=5, restore_best_weights=True)\n",
    "    reduce_lr = ReduceLROnPlateau(monitor='val_loss', factor=0.5, patience=3, min_lr=1e-6, verbose=1)\n",
    "\n",
    "    history = model.fit(train_gen, validation_data=val_gen, epochs=epochs,\n",
    "                        callbacks=[checkpoint, earlystop, reduce_lr], verbose=1)\n",
    "    all_histories.append(history.history)\n",
    "\n",
    "    model.load_weights(model_path)\n",
    "\n",
    "    y_true = [labels[k] for k in test_keys]\n",
    "    y_pred_prob = model.predict(test_gen).ravel()\n",
    "    y_hmm_pred = hmm_postprocess(y_pred_prob, y_true)\n",
    "\n",
    "    results.append({\n",
    "        'fold': fold,\n",
    "        'accuracy': accuracy_score(y_true, y_hmm_pred),\n",
    "        'precision': precision_score(y_true, y_hmm_pred),\n",
    "        'recall': recall_score(y_true, y_hmm_pred),\n",
    "        'f1': f1_score(y_true, y_hmm_pred),\n",
    "        'auc': roc_auc_score(y_true, y_pred_prob)\n",
    "    })\n",
    "    \n",
    "    print(f\"\\n✅ Fold {fold} Results (BiLSTM_Attention_KAN):\")\n",
    "    print(f\"   Accuracy:  {results[-1]['accuracy']:.4f}\")\n",
    "    print(f\"   Precision: {results[-1]['precision']:.4f}\")\n",
    "    print(f\"   Recall:    {results[-1]['recall']:.4f}\")\n",
    "    print(f\"   F1 Score:  {results[-1]['f1']:.4f}\")\n",
    "    print(f\"   AUC:       {results[-1]['auc']:.4f}\")\n",
    "\n",
    "print(f\"\\n{'='*60}\")\n",
    "print(\"📊 FINAL RESULTS - BiLSTM_Attention_KAN Model\")\n",
    "print(f\"{'='*60}\")\n",
    "for r in results:\n",
    "    print(f\"Fold {r['fold']}: Acc={r['accuracy']:.4f}, Prec={r['precision']:.4f}, Rec={r['recall']:.4f}, F1={r['f1']:.4f}, AUC={r['auc']:.4f}\")\n",
    "\n",
    "print(f\"\\n📊 Average Metrics:\")\n",
    "results_df = pd.DataFrame(results)\n",
    "print(results_df.mean(numeric_only=True))"
   ]
  },
  {
   "cell_type": "code",
   "execution_count": 9,
   "id": "5fdfa766",
   "metadata": {
    "ExecuteTime": {
     "end_time": "2025-06-17T01:45:10.343234Z",
     "start_time": "2025-06-17T01:45:10.278158Z"
    }
   },
   "outputs": [
    {
     "name": "stdout",
     "output_type": "stream",
     "text": [
      "📊 Kết quả trung bình:\n",
      "fold         3.000000\n",
      "accuracy     0.845157\n",
      "precision    0.856729\n",
      "recall       0.929647\n",
      "f1           0.876143\n",
      "auc          0.780211\n",
      "dtype: float64\n"
     ]
    },
    {
     "data": {
      "text/html": [
       "<div>\n",
       "<style scoped>\n",
       "    .dataframe tbody tr th:only-of-type {\n",
       "        vertical-align: middle;\n",
       "    }\n",
       "\n",
       "    .dataframe tbody tr th {\n",
       "        vertical-align: top;\n",
       "    }\n",
       "\n",
       "    .dataframe thead th {\n",
       "        text-align: right;\n",
       "    }\n",
       "</style>\n",
       "<table border=\"1\" class=\"dataframe\">\n",
       "  <thead>\n",
       "    <tr style=\"text-align: right;\">\n",
       "      <th></th>\n",
       "      <th>fold</th>\n",
       "      <th>accuracy</th>\n",
       "      <th>precision</th>\n",
       "      <th>recall</th>\n",
       "      <th>f1</th>\n",
       "      <th>auc</th>\n",
       "    </tr>\n",
       "  </thead>\n",
       "  <tbody>\n",
       "    <tr>\n",
       "      <th>0</th>\n",
       "      <td>1</td>\n",
       "      <td>0.861751</td>\n",
       "      <td>0.882353</td>\n",
       "      <td>0.833333</td>\n",
       "      <td>0.857143</td>\n",
       "      <td>0.939942</td>\n",
       "    </tr>\n",
       "    <tr>\n",
       "      <th>1</th>\n",
       "      <td>2</td>\n",
       "      <td>0.870968</td>\n",
       "      <td>0.908163</td>\n",
       "      <td>0.824074</td>\n",
       "      <td>0.864078</td>\n",
       "      <td>0.931957</td>\n",
       "    </tr>\n",
       "    <tr>\n",
       "      <th>2</th>\n",
       "      <td>3</td>\n",
       "      <td>0.995392</td>\n",
       "      <td>1.000000</td>\n",
       "      <td>0.990826</td>\n",
       "      <td>0.995392</td>\n",
       "      <td>0.785253</td>\n",
       "    </tr>\n",
       "    <tr>\n",
       "      <th>3</th>\n",
       "      <td>4</td>\n",
       "      <td>0.502304</td>\n",
       "      <td>0.502304</td>\n",
       "      <td>1.000000</td>\n",
       "      <td>0.668712</td>\n",
       "      <td>0.566174</td>\n",
       "    </tr>\n",
       "    <tr>\n",
       "      <th>4</th>\n",
       "      <td>5</td>\n",
       "      <td>0.995370</td>\n",
       "      <td>0.990826</td>\n",
       "      <td>1.000000</td>\n",
       "      <td>0.995392</td>\n",
       "      <td>0.677726</td>\n",
       "    </tr>\n",
       "  </tbody>\n",
       "</table>\n",
       "</div>"
      ],
      "text/plain": [
       "   fold  accuracy  precision    recall        f1       auc\n",
       "0     1  0.861751   0.882353  0.833333  0.857143  0.939942\n",
       "1     2  0.870968   0.908163  0.824074  0.864078  0.931957\n",
       "2     3  0.995392   1.000000  0.990826  0.995392  0.785253\n",
       "3     4  0.502304   0.502304  1.000000  0.668712  0.566174\n",
       "4     5  0.995370   0.990826  1.000000  0.995392  0.677726"
      ]
     },
     "execution_count": 9,
     "metadata": {},
     "output_type": "execute_result"
    }
   ],
   "source": [
    "results_df = pd.DataFrame(results)\n",
    "print(\"📊 Kết quả trung bình:\")\n",
    "print(results_df.mean(numeric_only=True))\n",
    "results_df\n"
   ]
  },
  {
   "cell_type": "code",
   "execution_count": 10,
   "id": "48802125",
   "metadata": {
    "ExecuteTime": {
     "end_time": "2025-06-14T07:31:56.035350Z",
     "start_time": "2025-06-14T07:31:50.121545Z"
    }
   },
   "outputs": [
    {
     "data": {
      "image/png": "[encoded data removed]",
      "text/plain": [
       "<Figure size 640x480 with 1 Axes>"
      ]
     },
     "metadata": {},
     "output_type": "display_data"
    },
    {
     "data": {
      "image/png": "[encoded data removed]",
      "text/plain": [
       "<Figure size 640x480 with 1 Axes>"
      ]
     },
     "metadata": {},
     "output_type": "display_data"
    },
    {
     "data": {
      "image/png": "[encoded data removed]",
      "text/plain": [
       "<Figure size 640x480 with 1 Axes>"
      ]
     },
     "metadata": {},
     "output_type": "display_data"
    },
    {
     "data": {
      "image/png": "[encoded data removed]",
      "text/plain": [
       "<Figure size 640x480 with 1 Axes>"
      ]
     },
     "metadata": {},
     "output_type": "display_data"
    },
    {
     "data": {
      "image/png": "[encoded data removed]",
      "text/plain": [
       "<Figure size 640x480 with 1 Axes>"
      ]
     },
     "metadata": {},
     "output_type": "display_data"
    },
    {
     "data": {
      "image/png": "[encoded data removed]",
      "text/plain": [
       "<Figure size 640x480 with 1 Axes>"
      ]
     },
     "metadata": {},
     "output_type": "display_data"
    },
    {
     "data": {
      "image/png": "[encoded data removed]",
      "text/plain": [
       "<Figure size 640x480 with 1 Axes>"
      ]
     },
     "metadata": {},
     "output_type": "display_data"
    },
    {
     "data": {
      "image/png": "[encoded data removed]",
      "text/plain": [
       "<Figure size 640x480 with 1 Axes>"
      ]
     },
     "metadata": {},
     "output_type": "display_data"
    },
    {
     "data": {
      "image/png": "[encoded data removed]",
      "text/plain": [
       "<Figure size 640x480 with 1 Axes>"
      ]
     },
     "metadata": {},
     "output_type": "display_data"
    },
    {
     "data": {
      "image/png": "[encoded data removed]",
      "text/plain": [
       "<Figure size 640x480 with 1 Axes>"
      ]
     },
     "metadata": {},
     "output_type": "display_data"
    }
   ],
   "source": [
    "for i, hist in enumerate(all_histories, 1):\n",
    "    plt.figure()\n",
    "    plt.plot(hist['accuracy'], label='Train Acc')\n",
    "    plt.plot(hist['val_accuracy'], label='Val Acc')\n",
    "    plt.title(f'Fold {i} Accuracy')\n",
    "    plt.xlabel('Epoch')\n",
    "    plt.ylabel('Accuracy')\n",
    "    plt.legend()\n",
    "    plt.grid(True)\n",
    "    plt.show()\n",
    "\n",
    "    plt.figure()\n",
    "    plt.plot(hist['loss'], label='Train Loss')\n",
    "    plt.plot(hist['val_loss'], label='Val Loss')\n",
    "    plt.title(f'Fold {i} Loss')\n",
    "    plt.xlabel('Epoch')\n",
    "    plt.ylabel('Loss')\n",
    "    plt.legend()\n",
    "    plt.grid(True)\n",
    "    plt.show()\n"
   ]
  },
  {
   "cell_type": "code",
   "execution_count": 11,
   "id": "2abc4c3f",
   "metadata": {
    "ExecuteTime": {
     "end_time": "2025-06-14T07:32:05.949380Z",
     "start_time": "2025-06-14T07:32:05.516519Z"
    }
   },
   "outputs": [
    {
     "name": "stderr",
     "output_type": "stream",
     "text": [
      "/home/huuquangdang/.local/lib/python3.10/site-packages/keras/src/engine/training.py:3079: UserWarning: You are saving your model as an HDF5 file via `model.save()`. This file format is considered legacy. We recommend using instead the native Keras format, e.g. `model.save('my_model.keras')`.\n",
      "  saving_api.save_model(\n"
     ]
    }
   ],
   "source": [
    "# Save mô hình fold cuối cùng\n",
    "model.save(\"mobilenetv2_hmm_faceplus_final.h5\")\n"
   ]
  },
  {
   "cell_type": "code",
   "execution_count": 12,
   "id": "9581629f-92c8-4d93-88f5-8c57f3197a4d",
   "metadata": {},
   "outputs": [
    {
     "name": "stdout",
     "output_type": "stream",
     "text": [
      "📊 Kết quả trung bình:\n",
      "fold         3.000000\n",
      "accuracy     0.845157\n",
      "precision    0.856729\n",
      "recall       0.929647\n",
      "f1           0.876143\n",
      "auc          0.780211\n",
      "dtype: float64\n"
     ]
    },
    {
     "data": {
      "text/html": [
       "<div>\n",
       "<style scoped>\n",
       "    .dataframe tbody tr th:only-of-type {\n",
       "        vertical-align: middle;\n",
       "    }\n",
       "\n",
       "    .dataframe tbody tr th {\n",
       "        vertical-align: top;\n",
       "    }\n",
       "\n",
       "    .dataframe thead th {\n",
       "        text-align: right;\n",
       "    }\n",
       "</style>\n",
       "<table border=\"1\" class=\"dataframe\">\n",
       "  <thead>\n",
       "    <tr style=\"text-align: right;\">\n",
       "      <th></th>\n",
       "      <th>fold</th>\n",
       "      <th>accuracy</th>\n",
       "      <th>precision</th>\n",
       "      <th>recall</th>\n",
       "      <th>f1</th>\n",
       "      <th>auc</th>\n",
       "    </tr>\n",
       "  </thead>\n",
       "  <tbody>\n",
       "    <tr>\n",
       "      <th>0</th>\n",
       "      <td>1</td>\n",
       "      <td>0.861751</td>\n",
       "      <td>0.882353</td>\n",
       "      <td>0.833333</td>\n",
       "      <td>0.857143</td>\n",
       "      <td>0.939942</td>\n",
       "    </tr>\n",
       "    <tr>\n",
       "      <th>1</th>\n",
       "      <td>2</td>\n",
       "      <td>0.870968</td>\n",
       "      <td>0.908163</td>\n",
       "      <td>0.824074</td>\n",
       "      <td>0.864078</td>\n",
       "      <td>0.931957</td>\n",
       "    </tr>\n",
       "    <tr>\n",
       "      <th>2</th>\n",
       "      <td>3</td>\n",
       "      <td>0.995392</td>\n",
       "      <td>1.000000</td>\n",
       "      <td>0.990826</td>\n",
       "      <td>0.995392</td>\n",
       "      <td>0.785253</td>\n",
       "    </tr>\n",
       "    <tr>\n",
       "      <th>3</th>\n",
       "      <td>4</td>\n",
       "      <td>0.502304</td>\n",
       "      <td>0.502304</td>\n",
       "      <td>1.000000</td>\n",
       "      <td>0.668712</td>\n",
       "      <td>0.566174</td>\n",
       "    </tr>\n",
       "    <tr>\n",
       "      <th>4</th>\n",
       "      <td>5</td>\n",
       "      <td>0.995370</td>\n",
       "      <td>0.990826</td>\n",
       "      <td>1.000000</td>\n",
       "      <td>0.995392</td>\n",
       "      <td>0.677726</td>\n",
       "    </tr>\n",
       "  </tbody>\n",
       "</table>\n",
       "</div>"
      ],
      "text/plain": [
       "   fold  accuracy  precision    recall        f1       auc\n",
       "0     1  0.861751   0.882353  0.833333  0.857143  0.939942\n",
       "1     2  0.870968   0.908163  0.824074  0.864078  0.931957\n",
       "2     3  0.995392   1.000000  0.990826  0.995392  0.785253\n",
       "3     4  0.502304   0.502304  1.000000  0.668712  0.566174\n",
       "4     5  0.995370   0.990826  1.000000  0.995392  0.677726"
      ]
     },
     "execution_count": 12,
     "metadata": {},
     "output_type": "execute_result"
    }
   ],
   "source": [
    "results_df = pd.DataFrame(results)\n",
    "print(\"📊 Kết quả trung bình:\")\n",
    "print(results_df.mean(numeric_only=True))\n",
    "results_df\n"
   ]
  },
  {
   "cell_type": "code",
   "execution_count": 13,
   "id": "3167c3f6-2212-4cde-ab07-1ae1449219bc",
   "metadata": {},
   "outputs": [
    {
     "name": "stdout",
     "output_type": "stream",
     "text": [
      "📊 Kết quả trung bình:\n",
      "fold         3.000000\n",
      "accuracy     0.845157\n",
      "precision    0.856729\n",
      "recall       0.929647\n",
      "f1           0.876143\n",
      "auc          0.780211\n",
      "dtype: float64\n",
      "\n",
      "✅ CV Accuracy (Mean Accuracy): 0.8452\n",
      "📈 Range Accuracy: 0.4931\n",
      "📉 Accuracy CV% (std/mean): 23.93%\n"
     ]
    },
    {
     "data": {
      "text/html": [
       "<div>\n",
       "<style scoped>\n",
       "    .dataframe tbody tr th:only-of-type {\n",
       "        vertical-align: middle;\n",
       "    }\n",
       "\n",
       "    .dataframe tbody tr th {\n",
       "        vertical-align: top;\n",
       "    }\n",
       "\n",
       "    .dataframe thead th {\n",
       "        text-align: right;\n",
       "    }\n",
       "</style>\n",
       "<table border=\"1\" class=\"dataframe\">\n",
       "  <thead>\n",
       "    <tr style=\"text-align: right;\">\n",
       "      <th></th>\n",
       "      <th>fold</th>\n",
       "      <th>accuracy</th>\n",
       "      <th>precision</th>\n",
       "      <th>recall</th>\n",
       "      <th>f1</th>\n",
       "      <th>auc</th>\n",
       "    </tr>\n",
       "  </thead>\n",
       "  <tbody>\n",
       "    <tr>\n",
       "      <th>0</th>\n",
       "      <td>1</td>\n",
       "      <td>0.861751</td>\n",
       "      <td>0.882353</td>\n",
       "      <td>0.833333</td>\n",
       "      <td>0.857143</td>\n",
       "      <td>0.939942</td>\n",
       "    </tr>\n",
       "    <tr>\n",
       "      <th>1</th>\n",
       "      <td>2</td>\n",
       "      <td>0.870968</td>\n",
       "      <td>0.908163</td>\n",
       "      <td>0.824074</td>\n",
       "      <td>0.864078</td>\n",
       "      <td>0.931957</td>\n",
       "    </tr>\n",
       "    <tr>\n",
       "      <th>2</th>\n",
       "      <td>3</td>\n",
       "      <td>0.995392</td>\n",
       "      <td>1.000000</td>\n",
       "      <td>0.990826</td>\n",
       "      <td>0.995392</td>\n",
       "      <td>0.785253</td>\n",
       "    </tr>\n",
       "    <tr>\n",
       "      <th>3</th>\n",
       "      <td>4</td>\n",
       "      <td>0.502304</td>\n",
       "      <td>0.502304</td>\n",
       "      <td>1.000000</td>\n",
       "      <td>0.668712</td>\n",
       "      <td>0.566174</td>\n",
       "    </tr>\n",
       "    <tr>\n",
       "      <th>4</th>\n",
       "      <td>5</td>\n",
       "      <td>0.995370</td>\n",
       "      <td>0.990826</td>\n",
       "      <td>1.000000</td>\n",
       "      <td>0.995392</td>\n",
       "      <td>0.677726</td>\n",
       "    </tr>\n",
       "  </tbody>\n",
       "</table>\n",
       "</div>"
      ],
      "text/plain": [
       "   fold  accuracy  precision    recall        f1       auc\n",
       "0     1  0.861751   0.882353  0.833333  0.857143  0.939942\n",
       "1     2  0.870968   0.908163  0.824074  0.864078  0.931957\n",
       "2     3  0.995392   1.000000  0.990826  0.995392  0.785253\n",
       "3     4  0.502304   0.502304  1.000000  0.668712  0.566174\n",
       "4     5  0.995370   0.990826  1.000000  0.995392  0.677726"
      ]
     },
     "execution_count": 13,
     "metadata": {},
     "output_type": "execute_result"
    }
   ],
   "source": [
    "import pandas as pd\n",
    "\n",
    "# Giả sử results đã có và bạn đã tạo results_df\n",
    "results_df = pd.DataFrame(results)\n",
    "\n",
    "# Tính các chỉ số\n",
    "accuracy_mean = results_df['accuracy'].mean()\n",
    "accuracy_std = results_df['accuracy'].std()  # dùng sample std (chia cho n-1)\n",
    "accuracy_range = results_df['accuracy'].max() - results_df['accuracy'].min()\n",
    "accuracy_cv_percent = (accuracy_std / accuracy_mean) * 100\n",
    "\n",
    "# In kết quả\n",
    "print(\"📊 Kết quả trung bình:\")\n",
    "print(results_df.mean(numeric_only=True))\n",
    "\n",
    "print(f\"\\n✅ CV Accuracy (Mean Accuracy): {accuracy_mean:.4f}\")\n",
    "print(f\"📈 Range Accuracy: {accuracy_range:.4f}\")\n",
    "print(f\"📉 Accuracy CV% (std/mean): {accuracy_cv_percent:.2f}%\")\n",
    "\n",
    "# Hiển thị bảng kết quả nếu cần\n",
    "results_df\n"
   ]
  },
  {
   "cell_type": "code",
   "execution_count": null,
   "id": "c5a4efdd-8ae0-4309-9f39-3a151116abb9",
   "metadata": {},
   "outputs": [],
   "source": []
  },
  {
   "cell_type": "markdown",
   "id": "4dec37b6",
   "metadata": {},
   "source": [
    "# BiLSTM + Attention + KAN Model (BiLSTM_Attn_KAN)\n",
    "This notebook now uses only the BiLSTM_Attn_KAN architecture for deepfake detection. All model definition, training, and results cells are updated to reflect this."
   ]
  }
 ],
 "metadata": {
  "kernelspec": {
   "display_name": "Python 3",
   "language": "python",
   "name": "python3"
  },
  "language_info": {
   "codemirror_mode": {
    "name": "ipython",
    "version": 3
   },
   "file_extension": ".py",
   "mimetype": "text/x-python",
   "name": "python",
   "nbconvert_exporter": "python",
   "pygments_lexer": "ipython3",
   "version": "3.10.12"
  }
 },
 "nbformat": 4,
 "nbformat_minor": 5
}
